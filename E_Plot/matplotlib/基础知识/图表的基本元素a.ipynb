{
 "cells": [
  {
   "cell_type": "markdown",
   "source": [
    "1. Axes.set_title\n",
    "2. Axes.set_xlabel\n",
    "3. plt.subtitle"
   ],
   "metadata": {
    "pycharm": {
     "metadata": false
    }
   }
  },
  {
   "cell_type": "code",
   "execution_count": 4,
   "outputs": [
    {
     "data": {
      "text/plain": "Text(0.5, 0.98, '图标题')"
     },
     "metadata": {},
     "output_type": "execute_result",
     "execution_count": 4
    },
    {
     "data": {
      "text/plain": "<Figure size 432x288 with 1 Axes>",
      "image/png": "[encoded data removed]"
     },
     "metadata": {
      "needs_background": "light"
     },
     "output_type": "display_data"
    }
   ],
   "source": [
    "%matplotlib inline \n",
    "# 内嵌方式,无需执行plt.show()\n",
    "\n",
    "# %matplotlib qt5\n",
    "# 交互方式,用户能对图像进行操作\n",
    "import numpy as np\n",
    "import  matplotlib.pyplot as plt\n",
    "import matplotlib\n",
    "\n",
    "# 设置中文字体和负号正常显示\n",
    "matplotlib.rcParams['font.sans-serif'] = ['SimHei']\n",
    "matplotlib.rcParams['axes.unicode_minus'] = False\n",
    "t = np.arange(0.0, 1.0 + 0.01, 0.01)\n",
    "s = np.cos(2 * 2*np.pi * t)\n",
    "t[41:60] = np.nan\n",
    "fig = plt.figure()\n",
    "\n",
    "ax1 = plt.subplot(111)\n",
    "ax1.plot(t, s, '-', lw=2)\n",
    "ax1.set_xlabel('time (s)', labelpad=10,  fontsize='10', \n",
    "               color='blue', alpha=0.7, rotation='30')\n",
    "'''\n",
    "Axes.set_xlabel(xlabel, fontdict=None, labelpad=None, **kwargs)\n",
    "Set the label for the x-axis.\n",
    "    Parameters:\n",
    "    xlabel : str\n",
    "        The label text.\n",
    "\n",
    "    labelpad : scalar, optional, default: None\n",
    "        Spacing in points between the label and the x-axis.\n",
    "    \n",
    "    rotation: {angle in degrees, 'vertical', 'horizontal'}\n",
    "        Set the rotation of the text.\n",
    "\n",
    "    color:Set the foreground color of the text\n",
    "    alpha:alpha:透明度(0-1)\n",
    "\n",
    "    fontsize:fontsize : {size in points, 'xx-small', 'x-small', 'small', 'medium', 'large', 'x-large', 'xx-large'}  \n",
    "        Set the font size. May be either a size string, relative to the default font size, or an absolute font size in points.\n",
    "'''\n",
    "ax1.set_title(\"picture\", loc='left', fontsize='30', \n",
    "               color='blue', alpha=1.0, rotation='30')\n",
    "'''\n",
    "Axes.set_title(label, fontdict=None, loc='center', pad=None, **kwargs)\n",
    "    Set a title for the axes.\n",
    "\n",
    "    Parameters:\n",
    "        label : str\n",
    "            Text to use for the title\n",
    "        \n",
    "        loc : {'center', 'left', 'right'}, str, optional\n",
    "            Which title to set, defaults to 'center'\n",
    "    \n",
    "        rotation: {angle in degrees, 'vertical', 'horizontal'}\n",
    "        Set the rotation of the text.\n",
    "\n",
    "        color:Set the foreground color of the text\n",
    "        alpha:alpha:透明度(0-1)\n",
    "\n",
    "        fontsize:fontsize : {size in points, 'xx-small', 'x-small', 'small', 'medium', 'large', 'x-large', 'xx-large'}  \n",
    "            Set the font size. May be either a size string, relative to the default font size, or an absolute font size in points.\n",
    "'''\n",
    "\n",
    "plt.suptitle('图标题', size=20, color='r') # 整张figure的标题"
   ],
   "metadata": {
    "pycharm": {
     "metadata": false,
     "name": "#%%\n",
     "is_executing": false
    }
   }
  },
  {
   "cell_type": "code",
   "execution_count": null,
   "outputs": [],
   "source": [
    "\n",
    "\n"
   ],
   "metadata": {
    "collapsed": false,
    "pycharm": {
     "name": "#%%\n"
    }
   }
  }
 ],
 "metadata": {
  "language_info": {
   "codemirror_mode": {
    "name": "ipython",
    "version": 2
   },
   "file_extension": ".py",
   "mimetype": "text/x-python",
   "name": "python",
   "nbconvert_exporter": "python",
   "pygments_lexer": "ipython2",
   "version": "2.7.6"
  },
  "kernelspec": {
   "name": "python3",
   "language": "python",
   "display_name": "Python 3"
  },
  "stem_cell": {
   "cell_type": "raw",
   "source": "",
   "metadata": {
    "pycharm": {
     "metadata": false
    }
   }
  },
  "pycharm": {
   "stem_cell": {
    "cell_type": "raw",
    "source": [],
    "metadata": {
     "collapsed": false
    }
   }
  }
 },
 "nbformat": 4,
 "nbformat_minor": 0
}