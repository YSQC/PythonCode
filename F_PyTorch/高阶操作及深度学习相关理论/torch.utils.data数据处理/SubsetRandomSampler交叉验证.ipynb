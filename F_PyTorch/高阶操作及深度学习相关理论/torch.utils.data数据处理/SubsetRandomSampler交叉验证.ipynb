{
 "cells": [
  {
   "cell_type": "code",
   "execution_count": 39,
   "metadata": {
    "collapsed": true
   },
   "outputs": [],
   "source": [
    "import torch\n",
    "import torch.utils.data as Data\n",
    "\n",
    "BATCH_SIZE = 4\n",
    "\n",
    "x = torch.linspace(0.01, 0.1, 100)\n",
    "y = torch.linspace(1, 10, 100)\n",
    "\n",
    "torch_dataset = Data.TensorDataset(x, y) # 包装数据集\n",
    "\n",
    "n_train = len(x)\n",
    "split = n_train // 3\n",
    "indices = torch.randperm(n_train) #  Returns a random permutation of integers from 0 to n - 1."
   ]
  },
  {
   "cell_type": "code",
   "execution_count": 40,
   "outputs": [],
   "source": [
    "# Samples elements randomly from a given list of indices, without replacement(不重复)\n",
    "'''\n",
    "SubsetRandomSampler类实现过程:\n",
    "class SubsetRandomSampler(Sampler):\n",
    "    def __init__(self, indices):\n",
    "        self.indices = indices\n",
    "\n",
    "    def __iter__(self):\n",
    "        return (self.indices[i] for i in torch.randperm(len(self.indices)))\n",
    "\n",
    "    def __len__(self):\n",
    "        return len(self.indices)\n",
    "'''\n",
    "train_sampler = torch.utils.data.sampler.SubsetRandomSampler(indices[split:]) # 训练数据集(2/3)的索引(可根据需求灵活设置indices)\n",
    "test_sampler = torch.utils.data.sampler.SubsetRandomSampler(indices[:split]) # 测试数据集(1/3)的索引"
   ],
   "metadata": {
    "collapsed": false,
    "pycharm": {
     "name": "#%%\n"
    }
   }
  },
  {
   "cell_type": "code",
   "execution_count": 41,
   "outputs": [
    {
     "data": {
      "text/plain": "[tensor(82),\n tensor(55),\n tensor(4),\n tensor(39),\n tensor(20),\n tensor(94),\n tensor(45),\n tensor(69),\n tensor(65),\n tensor(23),\n tensor(5),\n tensor(8),\n tensor(56),\n tensor(97),\n tensor(35),\n tensor(86),\n tensor(95),\n tensor(34),\n tensor(66),\n tensor(14),\n tensor(2),\n tensor(64),\n tensor(44),\n tensor(51),\n tensor(92),\n tensor(3),\n tensor(0),\n tensor(7),\n tensor(96),\n tensor(13),\n tensor(76),\n tensor(12),\n tensor(49)]"
     },
     "execution_count": 41,
     "metadata": {},
     "output_type": "execute_result"
    }
   ],
   "source": [
    "list(test_sampler)"
   ],
   "metadata": {
    "collapsed": false,
    "pycharm": {
     "name": "#%%\n"
    }
   }
  },
  {
   "cell_type": "code",
   "execution_count": 42,
   "outputs": [],
   "source": [
    "train_loader = Data.DataLoader(dataset=torch_dataset, batch_size=BATCH_SIZE,\n",
    "                               sampler=train_sampler) # sampler (Sampler, optional) – defines the strategy to draw samples from the dataset. If specified, shuffle must be False.\n",
    "\n",
    "\n",
    "test_loader = Data.DataLoader(dataset=torch_dataset, batch_size=BATCH_SIZE,\n",
    "                               sampler=test_sampler)\n",
    "def show_batch(dataset):\n",
    "    for epoch in range(3):\n",
    "        for step, batch_data in enumerate(dataset):\n",
    "            print(\"batch:{}, batch_data:{}\".format(step, batch_data)) # tensor长度为batch_size\n",
    "        print()"
   ],
   "metadata": {
    "collapsed": false,
    "pycharm": {
     "name": "#%%\n"
    }
   }
  },
  {
   "cell_type": "code",
   "execution_count": 43,
   "outputs": [
    {
     "name": "stdout",
     "output_type": "stream",
     "text": [
      "batch:0, batch_data:[tensor([0.0800, 0.0318, 0.0618, 0.0709]), tensor([8.0000, 3.1818, 6.1818, 7.0909])]\n",
      "batch:1, batch_data:[tensor([0.0473, 0.0555, 0.0182, 0.0191]), tensor([4.7273, 5.5455, 1.8182, 1.9091])]\n",
      "batch:2, batch_data:[tensor([0.0464, 0.0436, 0.0836, 0.0782]), tensor([4.6364, 4.3636, 8.3636, 7.8182])]\n",
      "batch:3, batch_data:[tensor([0.0809, 0.0355, 0.0864, 0.0873]), tensor([8.0909, 3.5455, 8.6364, 8.7273])]\n",
      "batch:4, batch_data:[tensor([0.0327, 0.0245, 0.0382, 0.0855]), tensor([3.2727, 2.4545, 3.8182, 8.5455])]\n",
      "batch:5, batch_data:[tensor([0.0482, 0.0573, 0.0745, 0.0818]), tensor([4.8182, 5.7273, 7.4545, 8.1818])]\n",
      "batch:6, batch_data:[tensor([0.1000, 0.0291, 0.0891, 0.0945]), tensor([10.0000,  2.9091,  8.9091,  9.4545])]\n",
      "batch:7, batch_data:[tensor([0.0400, 0.0536, 0.0627, 0.0255]), tensor([4.0000, 5.3636, 6.2727, 2.5455])]\n",
      "batch:8, batch_data:[tensor([0.0900, 0.0773, 0.0345, 0.0264]), tensor([9.0000, 7.7273, 3.4545, 2.6364])]\n",
      "batch:9, batch_data:[tensor([0.0764, 0.0645, 0.0236, 0.0336]), tensor([7.6364, 6.4545, 2.3636, 3.3636])]\n",
      "batch:10, batch_data:[tensor([0.0827, 0.0273, 0.0718, 0.0636]), tensor([8.2727, 2.7273, 7.1818, 6.3636])]\n",
      "batch:11, batch_data:[tensor([0.0518, 0.0300, 0.0427, 0.0491]), tensor([5.1818, 3.0000, 4.2727, 4.9091])]\n",
      "batch:12, batch_data:[tensor([0.0655, 0.0673, 0.0991, 0.0109]), tensor([6.5455, 6.7273, 9.9091, 1.0909])]\n",
      "batch:13, batch_data:[tensor([0.0155, 0.0664, 0.0200, 0.0918]), tensor([1.5455, 6.6364, 2.0000, 9.1818])]\n",
      "batch:14, batch_data:[tensor([0.0373, 0.0927, 0.0736, 0.0527]), tensor([3.7273, 9.2727, 7.3636, 5.2727])]\n",
      "batch:15, batch_data:[tensor([0.0364, 0.0909, 0.0755, 0.0582]), tensor([3.6364, 9.0909, 7.5455, 5.8182])]\n",
      "batch:16, batch_data:[tensor([0.0591, 0.0391, 0.0445]), tensor([5.9091, 3.9091, 4.4545])]\n",
      "\n",
      "batch:0, batch_data:[tensor([0.0264, 0.0109, 0.0891, 0.0764]), tensor([2.6364, 1.0909, 8.9091, 7.6364])]\n",
      "batch:1, batch_data:[tensor([0.0645, 0.0464, 0.0336, 0.0391]), tensor([6.4545, 4.6364, 3.3636, 3.9091])]\n",
      "batch:2, batch_data:[tensor([0.0327, 0.0718, 0.0355, 0.0991]), tensor([3.2727, 7.1818, 3.5455, 9.9091])]\n",
      "batch:3, batch_data:[tensor([0.0736, 0.0618, 0.0491, 0.0555]), tensor([7.3636, 6.1818, 4.9091, 5.5455])]\n",
      "batch:4, batch_data:[tensor([0.0364, 0.0582, 0.0945, 0.0709]), tensor([3.6364, 5.8182, 9.4545, 7.0909])]\n",
      "batch:5, batch_data:[tensor([0.0300, 0.0291, 0.0182, 0.0573]), tensor([3.0000, 2.9091, 1.8182, 5.7273])]\n",
      "batch:6, batch_data:[tensor([0.0827, 0.0191, 0.0255, 0.0809]), tensor([8.2727, 1.9091, 2.5455, 8.0909])]\n",
      "batch:7, batch_data:[tensor([0.0482, 0.0345, 0.0445, 0.0245]), tensor([4.8182, 3.4545, 4.4545, 2.4545])]\n",
      "batch:8, batch_data:[tensor([0.0873, 0.0773, 0.0664, 0.0536]), tensor([8.7273, 7.7273, 6.6364, 5.3636])]\n",
      "batch:9, batch_data:[tensor([0.0900, 0.0800, 0.0818, 0.0236]), tensor([9.0000, 8.0000, 8.1818, 2.3636])]\n",
      "batch:10, batch_data:[tensor([0.0918, 0.0518, 0.0782, 0.0318]), tensor([9.1818, 5.1818, 7.8182, 3.1818])]\n",
      "batch:11, batch_data:[tensor([0.0473, 0.0155, 0.0673, 0.0627]), tensor([4.7273, 1.5455, 6.7273, 6.2727])]\n",
      "batch:12, batch_data:[tensor([0.0755, 0.0655, 0.0527, 0.0836]), tensor([7.5455, 6.5455, 5.2727, 8.3636])]\n",
      "batch:13, batch_data:[tensor([0.0436, 0.0855, 0.1000, 0.0382]), tensor([ 4.3636,  8.5455, 10.0000,  3.8182])]\n",
      "batch:14, batch_data:[tensor([0.0909, 0.0273, 0.0427, 0.0400]), tensor([9.0909, 2.7273, 4.2727, 4.0000])]\n",
      "batch:15, batch_data:[tensor([0.0864, 0.0745, 0.0200, 0.0591]), tensor([8.6364, 7.4545, 2.0000, 5.9091])]\n",
      "batch:16, batch_data:[tensor([0.0927, 0.0636, 0.0373]), tensor([9.2727, 6.3636, 3.7273])]\n",
      "\n",
      "batch:0, batch_data:[tensor([0.0191, 0.0945, 0.0655, 0.0618]), tensor([1.9091, 9.4545, 6.5455, 6.1818])]\n",
      "batch:1, batch_data:[tensor([0.0755, 0.0336, 0.0827, 0.0745]), tensor([7.5455, 3.3636, 8.2727, 7.4545])]\n",
      "batch:2, batch_data:[tensor([0.1000, 0.0800, 0.0182, 0.0909]), tensor([10.0000,  8.0000,  1.8182,  9.0909])]\n",
      "batch:3, batch_data:[tensor([0.0818, 0.0536, 0.0900, 0.0891]), tensor([8.1818, 5.3636, 9.0000, 8.9091])]\n",
      "batch:4, batch_data:[tensor([0.0464, 0.0927, 0.0864, 0.0236]), tensor([4.6364, 9.2727, 8.6364, 2.3636])]\n",
      "batch:5, batch_data:[tensor([0.0245, 0.0155, 0.0427, 0.0364]), tensor([2.4545, 1.5455, 4.2727, 3.6364])]\n",
      "batch:6, batch_data:[tensor([0.0673, 0.0991, 0.0345, 0.0473]), tensor([6.7273, 9.9091, 3.4545, 4.7273])]\n",
      "batch:7, batch_data:[tensor([0.0264, 0.0764, 0.0200, 0.0782]), tensor([2.6364, 7.6364, 2.0000, 7.8182])]\n",
      "batch:8, batch_data:[tensor([0.0327, 0.0918, 0.0300, 0.0645]), tensor([3.2727, 9.1818, 3.0000, 6.4545])]\n",
      "batch:9, batch_data:[tensor([0.0373, 0.0627, 0.0555, 0.0273]), tensor([3.7273, 6.2727, 5.5455, 2.7273])]\n",
      "batch:10, batch_data:[tensor([0.0736, 0.0573, 0.0873, 0.0109]), tensor([7.3636, 5.7273, 8.7273, 1.0909])]\n",
      "batch:11, batch_data:[tensor([0.0582, 0.0664, 0.0773, 0.0718]), tensor([5.8182, 6.6364, 7.7273, 7.1818])]\n",
      "batch:12, batch_data:[tensor([0.0391, 0.0836, 0.0445, 0.0709]), tensor([3.9091, 8.3636, 4.4545, 7.0909])]\n",
      "batch:13, batch_data:[tensor([0.0382, 0.0491, 0.0591, 0.0436]), tensor([3.8182, 4.9091, 5.9091, 4.3636])]\n",
      "batch:14, batch_data:[tensor([0.0855, 0.0255, 0.0636, 0.0482]), tensor([8.5455, 2.5455, 6.3636, 4.8182])]\n",
      "batch:15, batch_data:[tensor([0.0400, 0.0291, 0.0318, 0.0527]), tensor([4.0000, 2.9091, 3.1818, 5.2727])]\n",
      "batch:16, batch_data:[tensor([0.0518, 0.0809, 0.0355]), tensor([5.1818, 8.0909, 3.5455])]\n",
      "\n"
     ]
    }
   ],
   "source": [
    "show_batch(train_loader)"
   ],
   "metadata": {
    "collapsed": false,
    "pycharm": {
     "name": "#%%\n"
    }
   }
  },
  {
   "cell_type": "code",
   "execution_count": 44,
   "outputs": [
    {
     "name": "stdout",
     "output_type": "stream",
     "text": [
      "batch:0, batch_data:[tensor([0.0964, 0.0136, 0.0700, 0.0509]), tensor([9.6364, 1.3636, 7.0000, 5.0909])]\n",
      "batch:1, batch_data:[tensor([0.0309, 0.0218, 0.0600, 0.0100]), tensor([3.0909, 2.1818, 6.0000, 1.0000])]\n",
      "batch:2, batch_data:[tensor([0.0564, 0.0145, 0.0936, 0.0409]), tensor([5.6364, 1.4545, 9.3636, 4.0909])]\n",
      "batch:3, batch_data:[tensor([0.0455, 0.0545, 0.0173, 0.0500]), tensor([4.5455, 5.4545, 1.7273, 5.0000])]\n",
      "batch:4, batch_data:[tensor([0.0791, 0.0882, 0.0727, 0.0282]), tensor([7.9091, 8.8182, 7.2727, 2.8182])]\n",
      "batch:5, batch_data:[tensor([0.0955, 0.0691, 0.0118, 0.0164]), tensor([9.5455, 6.9091, 1.1818, 1.6364])]\n",
      "batch:6, batch_data:[tensor([0.0682, 0.0227, 0.0845, 0.0127]), tensor([6.8182, 2.2727, 8.4545, 1.2727])]\n",
      "batch:7, batch_data:[tensor([0.0973, 0.0609, 0.0982, 0.0418]), tensor([9.7273, 6.0909, 9.8182, 4.1818])]\n",
      "batch:8, batch_data:[tensor([0.0209]), tensor([2.0909])]\n",
      "\n",
      "batch:0, batch_data:[tensor([0.0127, 0.0791, 0.0418, 0.0409]), tensor([1.2727, 7.9091, 4.1818, 4.0909])]\n",
      "batch:1, batch_data:[tensor([0.0136, 0.0700, 0.0227, 0.0609]), tensor([1.3636, 7.0000, 2.2727, 6.0909])]\n",
      "batch:2, batch_data:[tensor([0.0218, 0.0545, 0.0727, 0.0691]), tensor([2.1818, 5.4545, 7.2727, 6.9091])]\n",
      "batch:3, batch_data:[tensor([0.0882, 0.0455, 0.0209, 0.0936]), tensor([8.8182, 4.5455, 2.0909, 9.3636])]\n",
      "batch:4, batch_data:[tensor([0.0145, 0.0682, 0.0600, 0.0173]), tensor([1.4545, 6.8182, 6.0000, 1.7273])]\n",
      "batch:5, batch_data:[tensor([0.0955, 0.0964, 0.0509, 0.0564]), tensor([9.5455, 9.6364, 5.0909, 5.6364])]\n",
      "batch:6, batch_data:[tensor([0.0845, 0.0282, 0.0973, 0.0982]), tensor([8.4545, 2.8182, 9.7273, 9.8182])]\n",
      "batch:7, batch_data:[tensor([0.0100, 0.0118, 0.0309, 0.0500]), tensor([1.0000, 1.1818, 3.0909, 5.0000])]\n",
      "batch:8, batch_data:[tensor([0.0164]), tensor([1.6364])]\n",
      "\n",
      "batch:0, batch_data:[tensor([0.0982, 0.0418, 0.0455, 0.0309]), tensor([9.8182, 4.1818, 4.5455, 3.0909])]\n",
      "batch:1, batch_data:[tensor([0.0173, 0.0227, 0.0136, 0.0600]), tensor([1.7273, 2.2727, 1.3636, 6.0000])]\n",
      "batch:2, batch_data:[tensor([0.0509, 0.0727, 0.0145, 0.0791]), tensor([5.0909, 7.2727, 1.4545, 7.9091])]\n",
      "batch:3, batch_data:[tensor([0.0691, 0.0936, 0.0209, 0.0700]), tensor([6.9091, 9.3636, 2.0909, 7.0000])]\n",
      "batch:4, batch_data:[tensor([0.0682, 0.0973, 0.0218, 0.0118]), tensor([6.8182, 9.7273, 2.1818, 1.1818])]\n",
      "batch:5, batch_data:[tensor([0.0564, 0.0409, 0.0545, 0.0609]), tensor([5.6364, 4.0909, 5.4545, 6.0909])]\n",
      "batch:6, batch_data:[tensor([0.0882, 0.0282, 0.0164, 0.0500]), tensor([8.8182, 2.8182, 1.6364, 5.0000])]\n",
      "batch:7, batch_data:[tensor([0.0955, 0.0845, 0.0127, 0.0100]), tensor([9.5455, 8.4545, 1.2727, 1.0000])]\n",
      "batch:8, batch_data:[tensor([0.0964]), tensor([9.6364])]\n",
      "\n"
     ]
    }
   ],
   "source": [
    "show_batch(test_loader)\n"
   ],
   "metadata": {
    "collapsed": false,
    "pycharm": {
     "name": "#%%\n"
    }
   }
  }
 ],
 "metadata": {
  "kernelspec": {
   "display_name": "Python 3",
   "language": "python",
   "name": "python3"
  },
  "language_info": {
   "codemirror_mode": {
    "name": "ipython",
    "version": 2
   },
   "file_extension": ".py",
   "mimetype": "text/x-python",
   "name": "python",
   "nbconvert_exporter": "python",
   "pygments_lexer": "ipython2",
   "version": "2.7.6"
  }
 },
 "nbformat": 4,
 "nbformat_minor": 0
}