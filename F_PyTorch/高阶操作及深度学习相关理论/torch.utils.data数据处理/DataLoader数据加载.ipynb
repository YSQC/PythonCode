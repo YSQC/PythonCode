{
 "cells": [
  {
   "cell_type": "code",
   "execution_count": 2,
   "metadata": {
    "collapsed": true,
    "pycharm": {
     "name": "#%%\n"
    }
   },
   "outputs": [
    {
     "name": "stdout",
     "output_type": "stream",
     "text": [
      "batch:0, batch_data:[tensor([0.0325, 0.0100, 0.0288, 0.0438]), tensor([3.2500, 1.0000, 2.8750, 4.3750])]\n",
      "batch:1, batch_data:[tensor([0.0775, 0.0700, 0.1000, 0.0925]), tensor([ 7.7500,  7.0000, 10.0000,  9.2500])]\n",
      "batch:2, batch_data:[tensor([0.0363, 0.0850, 0.0400, 0.0513]), tensor([3.6250, 8.5000, 4.0000, 5.1250])]\n",
      "batch:3, batch_data:[tensor([0.0175, 0.0813, 0.0663, 0.0250]), tensor([1.7500, 8.1250, 6.6250, 2.5000])]\n",
      "batch:4, batch_data:[tensor([0.0737, 0.0213, 0.0625, 0.0475]), tensor([7.3750, 2.1250, 6.2500, 4.7500])]\n",
      "batch:5, batch_data:[tensor([0.0963, 0.0550, 0.0887, 0.0588]), tensor([9.6250, 5.5000, 8.8750, 5.8750])]\n",
      "batch:6, batch_data:[tensor([0.0137]), tensor([1.3750])]\n",
      "\n",
      "batch:0, batch_data:[tensor([0.0363, 0.0588, 0.1000, 0.0737]), tensor([ 3.6250,  5.8750, 10.0000,  7.3750])]\n",
      "batch:1, batch_data:[tensor([0.0250, 0.0887, 0.0850, 0.0550]), tensor([2.5000, 8.8750, 8.5000, 5.5000])]\n",
      "batch:2, batch_data:[tensor([0.0213, 0.0438, 0.0925, 0.0663]), tensor([2.1250, 4.3750, 9.2500, 6.6250])]\n",
      "batch:3, batch_data:[tensor([0.0400, 0.0963, 0.0513, 0.0137]), tensor([4.0000, 9.6250, 5.1250, 1.3750])]\n",
      "batch:4, batch_data:[tensor([0.0288, 0.0775, 0.0813, 0.0700]), tensor([2.8750, 7.7500, 8.1250, 7.0000])]\n",
      "batch:5, batch_data:[tensor([0.0625, 0.0100, 0.0475, 0.0325]), tensor([6.2500, 1.0000, 4.7500, 3.2500])]\n",
      "batch:6, batch_data:[tensor([0.0175]), tensor([1.7500])]\n",
      "\n",
      "batch:0, batch_data:[tensor([0.0288, 0.0887, 0.0588, 0.0213]), tensor([2.8750, 8.8750, 5.8750, 2.1250])]\n",
      "batch:1, batch_data:[tensor([0.0963, 0.0850, 0.0100, 0.0663]), tensor([9.6250, 8.5000, 1.0000, 6.6250])]\n",
      "batch:2, batch_data:[tensor([0.0250, 0.0325, 0.0775, 0.0438]), tensor([2.5000, 3.2500, 7.7500, 4.3750])]\n",
      "batch:3, batch_data:[tensor([0.0625, 0.0363, 0.0175, 0.0550]), tensor([6.2500, 3.6250, 1.7500, 5.5000])]\n",
      "batch:4, batch_data:[tensor([0.0737, 0.0137, 0.1000, 0.0513]), tensor([ 7.3750,  1.3750, 10.0000,  5.1250])]\n",
      "batch:5, batch_data:[tensor([0.0813, 0.0925, 0.0400, 0.0700]), tensor([8.1250, 9.2500, 4.0000, 7.0000])]\n",
      "batch:6, batch_data:[tensor([0.0475]), tensor([4.7500])]\n",
      "\n"
     ]
    }
   ],
   "source": [
    "import torch\n",
    "import torch.utils.data as Data\n",
    "\n",
    "BATCH_SIZE = 4\n",
    "\n",
    "x = torch.linspace(0.01, 0.1, 25)\n",
    "y = torch.linspace(1, 10, 25)\n",
    "\n",
    "torch_dataset = Data.TensorDataset(x, y) # 包装数据集\n",
    "\n",
    "loader = Data.DataLoader(\n",
    "    dataset=torch_dataset, # dataset from which to load the data\n",
    "    batch_size=BATCH_SIZE, # how many samples per batch to load (default: 1)\n",
    "    shuffle=True, #  set to True to have the data reshuffled at every epoch (default: False).\n",
    "    # how many subprocesses to use for data loading. 0 means that the data will be loaded in the main process. (default: 0)\n",
    "    num_workers=2, # .py文件多进程需要在if __name__ == '__main__':代码块中运行\n",
    "    drop_last=False # 数据集大小不能被batch_size大小整除时,是否舍弃最后一批数据(default:False)\n",
    ")\n",
    "\n",
    "def show_batch():\n",
    "    for epoch in range(3):\n",
    "        for step, batch_data in enumerate(loader):\n",
    "            print(\"batch:{}, batch_data:{}\".format(step, batch_data)) # tensor长度为batch_size\n",
    "        print() # 换行\n",
    "\n",
    "show_batch()\n"
   ]
  }
 ],
 "metadata": {
  "kernelspec": {
   "display_name": "Python 3",
   "language": "python",
   "name": "python3"
  },
  "language_info": {
   "codemirror_mode": {
    "name": "ipython",
    "version": 2
   },
   "file_extension": ".py",
   "mimetype": "text/x-python",
   "name": "python",
   "nbconvert_exporter": "python",
   "pygments_lexer": "ipython2",
   "version": "2.7.6"
  }
 },
 "nbformat": 4,
 "nbformat_minor": 0
}