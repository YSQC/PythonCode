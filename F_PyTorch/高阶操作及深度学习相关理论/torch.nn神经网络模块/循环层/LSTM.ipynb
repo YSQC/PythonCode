{
 "cells": [
  {
   "cell_type": "code",
   "execution_count": 16,
   "metadata": {
    "collapsed": true
   },
   "outputs": [
    {
     "name": "stdout",
     "output_type": "stream",
     "text": [
      "torch.Size([20, 3, 30]) torch.Size([4, 3, 15]) torch.Size([4, 3, 15])\n"
     ]
    }
   ],
   "source": [
    "import torch\n",
    "import torch.nn as nn\n",
    "\n",
    "# 参数含义完全类似RNN\n",
    "lstm = nn.LSTM(input_size=100,\n",
    "               hidden_size=15,\n",
    "               dropout=0.5,\n",
    "               bias=True,\n",
    "               batch_first=False,\n",
    "               num_layers=2,\n",
    "               bidirectional=True)\n",
    "\n",
    "x = torch.randn(20, 3, 100) # 输入的默认形状为(T,N,C),其中T为序列的长度,N为min-batch的大小,C为输入的特征数目\n",
    "\n",
    "# (L*D, H, N),其中L为循环神经网络层数,D为1(单向)或2(双向)\n",
    "h_0 = torch.ones((4, 3, 15))\n",
    "c_0 = torch.ones((4, 3, 15))\n",
    "\n",
    "out, (h, c) = lstm(x, hx=(h_0, c_0)) # 自定h_0,c_0,默认h_0,c_0为全0张量\n",
    "# out为每个序列最后一层的输出(双向则2维度*2);h,c为最后一个序列每层的输出(双向则0维度*2)\n",
    "print(out.shape, h.shape, c.shape)"
   ]
  },
  {
   "cell_type": "code",
   "execution_count": 17,
   "metadata": {
    "pycharm": {
     "name": "#%%\n"
    }
   },
   "outputs": [
    {
     "name": "stdout",
     "output_type": "stream",
     "text": [
      "weight_ih_l0   shape= torch.Size([60, 100])\n",
      "weight_hh_l0   shape= torch.Size([60, 15])\n",
      "bias_ih_l0   shape= torch.Size([60])\n",
      "bias_hh_l0   shape= torch.Size([60])\n",
      "weight_ih_l0_reverse   shape= torch.Size([60, 100])\n",
      "weight_hh_l0_reverse   shape= torch.Size([60, 15])\n",
      "bias_ih_l0_reverse   shape= torch.Size([60])\n",
      "bias_hh_l0_reverse   shape= torch.Size([60])\n",
      "weight_ih_l1   shape= torch.Size([60, 30])\n",
      "weight_hh_l1   shape= torch.Size([60, 15])\n",
      "bias_ih_l1   shape= torch.Size([60])\n",
      "bias_hh_l1   shape= torch.Size([60])\n",
      "weight_ih_l1_reverse   shape= torch.Size([60, 30])\n",
      "weight_hh_l1_reverse   shape= torch.Size([60, 15])\n",
      "bias_ih_l1_reverse   shape= torch.Size([60])\n",
      "bias_hh_l1_reverse   shape= torch.Size([60])\n"
     ]
    }
   ],
   "source": [
    "for name, param in lstm.named_parameters():\n",
    "    print(name, '  shape=', param.shape)"
   ]
  },
  {
   "cell_type": "code",
   "execution_count": 18,
   "metadata": {
    "pycharm": {
     "name": "#%%\n"
    }
   },
   "outputs": [
    {
     "data": {
      "text/plain": "Parameter containing:\ntensor([[-0.0107,  0.0899,  0.0748,  ...,  0.2452, -0.2299, -0.2118],\n        [-0.1790, -0.1048,  0.0236,  ...,  0.1861,  0.2303,  0.1323],\n        [-0.1710, -0.1258,  0.2405,  ...,  0.0943,  0.0025, -0.1834],\n        ...,\n        [ 0.1467,  0.1591,  0.0254,  ...,  0.1308,  0.2579, -0.0563],\n        [-0.1705, -0.1785, -0.1732,  ...,  0.1456, -0.1216, -0.1272],\n        [-0.1495,  0.1240,  0.2537,  ..., -0.0556,  0.0682,  0.0230]],\n       requires_grad=True)"
     },
     "execution_count": 18,
     "metadata": {},
     "output_type": "execute_result"
    }
   ],
   "source": [
    "lstm.weight_ih_l0 # all the weights and biases are initialized from U(-\\sqrt{k}, \\sqrt{k}), where k=1/hidden_size"
   ]
  },
  {
   "cell_type": "code",
   "execution_count": 18,
   "outputs": [],
   "source": [
    "\n"
   ],
   "metadata": {
    "collapsed": false,
    "pycharm": {
     "name": "#%%\n"
    }
   }
  }
 ],
 "metadata": {
  "kernelspec": {
   "display_name": "Python 3",
   "language": "python",
   "name": "python3"
  },
  "language_info": {
   "codemirror_mode": {
    "name": "ipython",
    "version": 3
   },
   "file_extension": ".py",
   "mimetype": "text/x-python",
   "name": "python",
   "nbconvert_exporter": "python",
   "pygments_lexer": "ipython3",
   "version": "3.7.7"
  },
  "toc": {
   "base_numbering": 1,
   "nav_menu": {},
   "number_sections": true,
   "sideBar": true,
   "skip_h1_title": false,
   "title_cell": "Table of Contents",
   "title_sidebar": "Contents",
   "toc_cell": false,
   "toc_position": {},
   "toc_section_display": true,
   "toc_window_display": false
  }
 },
 "nbformat": 4,
 "nbformat_minor": 1
}