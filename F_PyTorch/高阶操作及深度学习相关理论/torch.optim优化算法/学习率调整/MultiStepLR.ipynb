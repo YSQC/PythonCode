{
 "cells": [
  {
   "cell_type": "code",
   "execution_count": 1,
   "metadata": {
    "collapsed": true
   },
   "outputs": [],
   "source": [
    "import torch\n",
    "import torch.optim as optim\n",
    "import matplotlib.pyplot as plt\n",
    "torch.manual_seed(1)\n",
    "\n",
    "LR = 1 # 学习率\n",
    "iteration = 10\n",
    "max_epoch = 200\n",
    "milestones = [10, 65, 160]\n",
    "\n",
    "weights = torch.tensor(1, requires_grad=True, dtype=torch.float32)\n",
    "target = torch.zeros(1)\n",
    "# Decays the learning rate of each parameter group by gamma once the number of epoch reaches one of the milestones\n",
    "optimizer = optim.SGD([weights], lr=LR, momentum=0.9)\n",
    "scheduler_lr = optim.lr_scheduler.MultiStepLR(optimizer, # 调节的是优化器lr参数\n",
    "                                              milestones=milestones, # milestones (list) – List of epoch indices. Must be increasing.\n",
    "                                              gamma=0.1) # gamma (float) – Multiplicative factor of learning rate decay. Default: 0.1."
   ]
  },
  {
   "cell_type": "code",
   "execution_count": 2,
   "outputs": [
    {
     "data": {
      "text/plain": "<Figure size 432x288 with 1 Axes>",
      "image/png": "[encoded data removed]"
     },
     "metadata": {},
     "output_type": "display_data"
    }
   ],
   "source": [
    "lr_list, epoch_list = list(), list()\n",
    "for epoch in range(max_epoch):\n",
    "    lr_list.append(optimizer.param_groups[0]['lr'])\n",
    "    epoch_list.append(epoch)\n",
    "    for i in range(iteration):\n",
    "        loss = torch.pow((weights - target), 2)\n",
    "        optimizer.zero_grad()\n",
    "        loss.backward()\n",
    "        optimizer.step() # 位于内层循环\n",
    "\n",
    "    scheduler_lr.step() # 位于外层循环\n",
    "\n",
    "plt.plot(epoch_list, lr_list, label=\"Step LR Scheduler\", color='red')\n",
    "plt.xticks(milestones, color='y', size=15)\n",
    "plt.xlabel(\"Epoch\")\n",
    "plt.ylabel(\"Learning rate\")\n",
    "plt.legend()\n",
    "plt.show()"
   ],
   "metadata": {
    "collapsed": false,
    "pycharm": {
     "name": "#%%\n"
    }
   }
  },
  {
   "cell_type": "code",
   "execution_count": 2,
   "outputs": [],
   "source": [],
   "metadata": {
    "collapsed": false,
    "pycharm": {
     "name": "#%%\n"
    }
   }
  }
 ],
 "metadata": {
  "kernelspec": {
   "display_name": "Python 3",
   "language": "python",
   "name": "python3"
  },
  "language_info": {
   "codemirror_mode": {
    "name": "ipython",
    "version": 2
   },
   "file_extension": ".py",
   "mimetype": "text/x-python",
   "name": "python",
   "nbconvert_exporter": "python",
   "pygments_lexer": "ipython2",
   "version": "2.7.6"
  }
 },
 "nbformat": 4,
 "nbformat_minor": 0
}