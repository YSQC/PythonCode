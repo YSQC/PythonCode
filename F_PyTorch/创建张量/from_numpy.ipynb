{
 "cells": [
  {
   "cell_type": "code",
   "execution_count": 4,
   "metadata": {
    "collapsed": true,
    "pycharm": {
     "is_executing": false
    }
   },
   "outputs": [
    {
     "data": {
      "text/plain": "tensor([[1.2000, 2.0000, 3.0000],\n        [2.0000, 3.0000, 4.0000]], dtype=torch.float64)"
     },
     "metadata": {},
     "output_type": "execute_result",
     "execution_count": 4
    }
   ],
   "source": [
    "import numpy as np\n",
    "import torch\n",
    "\n",
    "# 从numpy创建tensor方法一:\n",
    "a = np.array([[1.2, 2, 3],\n",
    "              [2, 3, 4]])\n",
    "x = torch.tensor(a)\n",
    "x"
   ]
  },
  {
   "cell_type": "code",
   "execution_count": 5,
   "outputs": [
    {
     "name": "stdout",
     "text": [
      "tensor([[1000.,    2.,    3.],\n",
      "        [   2.,    3.,    4.]], dtype=torch.float64)\n",
      "[[1.2 2.  3. ]\n",
      " [2.  3.  4. ]]\n"
     ],
     "output_type": "stream"
    }
   ],
   "source": [
    "x[0][0] = 1000\n",
    "print(x)\n",
    "print(a) # x,a不共享内存"
   ],
   "metadata": {
    "collapsed": false,
    "pycharm": {
     "name": "#%%\n",
     "is_executing": false
    }
   }
  },
  {
   "cell_type": "code",
   "execution_count": 6,
   "outputs": [
    {
     "name": "stdout",
     "text": [
      "tensor([[999.,   2.,   3.],\n",
      "        [  2.,   3.,   4.]], dtype=torch.float64)\n",
      "[[999.   2.   3.]\n",
      " [  2.   3.   4.]]\n"
     ],
     "output_type": "stream"
    }
   ],
   "source": [
    "# 从numpy创建tensor方法二:\n",
    "y = torch.from_numpy(a) # 与上等价\n",
    "y[0][0] = 999\n",
    "print(y)\n",
    "print(a) # y,a共享内存\n"
   ],
   "metadata": {
    "collapsed": false,
    "pycharm": {
     "name": "#%%\n",
     "is_executing": false
    }
   }
  }
 ],
 "metadata": {
  "kernelspec": {
   "display_name": "Python 3",
   "language": "python",
   "name": "python3"
  },
  "language_info": {
   "codemirror_mode": {
    "name": "ipython",
    "version": 2
   },
   "file_extension": ".py",
   "mimetype": "text/x-python",
   "name": "python",
   "nbconvert_exporter": "python",
   "pygments_lexer": "ipython2",
   "version": "2.7.6"
  }
 },
 "nbformat": 4,
 "nbformat_minor": 0
}