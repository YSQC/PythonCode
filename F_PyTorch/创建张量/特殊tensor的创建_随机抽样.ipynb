{
 "cells": [
  {
   "cell_type": "code",
   "execution_count": 64,
   "metadata": {
    "collapsed": true
   },
   "outputs": [],
   "source": [
    "import torch"
   ]
  },
  {
   "cell_type": "markdown",
   "metadata": {
    "pycharm": {
     "is_executing": false,
     "name": "#%% md\n"
    }
   },
   "source": [
    "### 标准正态分布抽样 randn/randn_like\n",
    "1. 完全类似numpy.random.randn\n",
    "### 正态分布抽样:normal\n",
    "1. 类似numpy.random.normal"
   ]
  },
  {
   "cell_type": "code",
   "execution_count": 65,
   "metadata": {
    "pycharm": {
     "name": "#%%\n"
    }
   },
   "outputs": [
    {
     "data": {
      "text/plain": "tensor([[ 0.8900,  0.3583,  0.3789],\n        [-0.5869, -0.1590, -0.8985]])"
     },
     "execution_count": 65,
     "metadata": {},
     "output_type": "execute_result"
    }
   ],
   "source": [
    "torch.randn(2, 3) # 标准正态分布抽样"
   ]
  },
  {
   "cell_type": "code",
   "execution_count": 66,
   "outputs": [
    {
     "data": {
      "text/plain": "tensor([ 1.1578, -0.7134,  0.6829, -1.2970,  0.7290, -0.1136, -0.1732,  0.5193,\n         0.2010,  0.4383,  0.3521, -1.1380,  1.1511, -1.3558, -0.8770,  0.5336,\n         2.4130,  1.0105,  2.0250,  0.1205, -0.9091,  0.0080, -0.2084,  1.0108,\n         0.9238, -0.3258, -0.6549, -0.4065, -0.7920,  0.8124, -1.1882,  0.6420,\n         0.2789,  1.7786,  1.4456, -0.2850,  0.0542, -0.9156,  1.2007, -0.6980,\n        -0.5927,  2.5519, -1.3021, -1.1764, -0.2708,  0.9985, -0.3412, -1.1341,\n         0.8463,  1.3633])"
     },
     "execution_count": 66,
     "metadata": {},
     "output_type": "execute_result"
    }
   ],
   "source": [
    "torch.randn(50)"
   ],
   "metadata": {
    "collapsed": false,
    "pycharm": {
     "name": "#%%\n"
    }
   }
  },
  {
   "cell_type": "code",
   "execution_count": 67,
   "metadata": {
    "pycharm": {
     "name": "#%%\n"
    }
   },
   "outputs": [
    {
     "data": {
      "text/plain": "tensor([[-0.2861, -2.7954,  1.1863,  3.8967],\n        [-0.4861,  6.0800,  1.4761,  1.2795]])"
     },
     "execution_count": 67,
     "metadata": {},
     "output_type": "execute_result"
    }
   ],
   "source": [
    "torch.normal(mean=2, std=3, size=(2, 4)) # 从均值为2,标准差为3的正态分布抽样"
   ]
  },
  {
   "cell_type": "code",
   "execution_count": 68,
   "metadata": {
    "pycharm": {
     "name": "#%%\n"
    }
   },
   "outputs": [
    {
     "data": {
      "text/plain": "tensor([[2.5042, 1.4883, 3.1115, 3.9319, 5.0564],\n        [6.2253, 6.6115, 7.8672, 8.8449, 9.9773]])"
     },
     "execution_count": 68,
     "metadata": {},
     "output_type": "execute_result"
    }
   ],
   "source": [
    "torch.normal(mean=torch.arange(1., 11.).reshape(2, 5), # 每个元素的均值\n",
    "             std=torch.arange(1, 0, -0.1).reshape(2, 5)) # 每个元素的标准差"
   ]
  },
  {
   "cell_type": "code",
   "execution_count": 69,
   "metadata": {
    "pycharm": {
     "name": "#%%\n"
    }
   },
   "outputs": [
    {
     "data": {
      "text/plain": "tensor([ -1.4696,  -0.7905,   1.9935,   2.7152,  10.9756,  -0.3563,  -2.4708,\n          0.6566,  -1.4803,   2.9646,   2.0078,  11.4402,  16.8313, -18.6547,\n        -17.7579, -19.6733,  -2.4860, -15.1800, -16.3625,  10.1626,  -6.7304,\n         22.0257, -12.5364, -39.6581])"
     },
     "execution_count": 69,
     "metadata": {},
     "output_type": "execute_result"
    }
   ],
   "source": [
    "torch.normal(mean=0.5, std=torch.arange(1., 25.)) # 所有元素均值相同(不同标准差)"
   ]
  },
  {
   "cell_type": "code",
   "execution_count": 70,
   "metadata": {
    "pycharm": {
     "name": "#%%\n"
    }
   },
   "outputs": [
    {
     "data": {
      "text/plain": "tensor([[ 0.6563, -0.2725,  3.7685,  2.1485,  5.9560,  5.6508],\n        [ 6.4754,  7.4837,  9.8371, 10.7820, 11.6896, 12.3169],\n        [12.8481, 14.6675, 15.0931, 15.1788, 17.7299, 18.0257],\n        [18.6300, 20.2294, 21.4968, 20.1696, 23.1347, 24.0763]])"
     },
     "execution_count": 70,
     "metadata": {},
     "output_type": "execute_result"
    }
   ],
   "source": [
    "torch.normal(mean=torch.arange(1., 25.).reshape(4, 6), std=1) # 所有元素标准差相同(不同均值)"
   ]
  },
  {
   "cell_type": "markdown",
   "metadata": {
    "pycharm": {
     "name": "#%% md\n"
    }
   },
   "source": [
    "### [0,1]均匀分布抽样:rand\n",
    "1. 完全类似numpy.rand"
   ]
  },
  {
   "cell_type": "code",
   "execution_count": 71,
   "metadata": {
    "pycharm": {
     "name": "#%%\n"
    }
   },
   "outputs": [
    {
     "data": {
      "text/plain": "tensor([0.5145, 0.9235, 0.8030])"
     },
     "execution_count": 71,
     "metadata": {},
     "output_type": "execute_result"
    }
   ],
   "source": [
    "torch.rand(3)"
   ]
  },
  {
   "cell_type": "code",
   "execution_count": 72,
   "metadata": {
    "pycharm": {
     "name": "#%%\n"
    }
   },
   "outputs": [
    {
     "data": {
      "text/plain": "tensor([[0.6696, 0.5091, 0.9063],\n        [0.8189, 0.5752, 0.4607]])"
     },
     "execution_count": 72,
     "metadata": {},
     "output_type": "execute_result"
    }
   ],
   "source": [
    "torch.rand(2, 3)"
   ]
  },
  {
   "cell_type": "markdown",
   "metadata": {
    "pycharm": {
     "name": "#%% md\n"
    }
   },
   "source": [
    "### 随机整数抽样:randint;randperm\n",
    "1. 类似random.randint"
   ]
  },
  {
   "cell_type": "code",
   "execution_count": 73,
   "metadata": {
    "pycharm": {
     "name": "#%%\n"
    }
   },
   "outputs": [
    {
     "data": {
      "text/plain": "tensor([[5, 6, 7, 6],\n        [6, 4, 4, 7],\n        [6, 6, 3, 7]])"
     },
     "execution_count": 73,
     "metadata": {},
     "output_type": "execute_result"
    }
   ],
   "source": [
    "torch.randint(3, 8, size=(3, 4)) # 不包括末尾元素"
   ]
  },
  {
   "cell_type": "code",
   "metadata": {
    "pycharm": {
     "name": "#%%\n"
    }
   },
   "source": [
    "idx = torch.randperm(3) # Returns a random permutation of integers from 0 to n - 1.\n",
    "idx"
   ],
   "execution_count": 74,
   "outputs": [
    {
     "data": {
      "text/plain": "tensor([0, 2, 1])"
     },
     "execution_count": 74,
     "metadata": {},
     "output_type": "execute_result"
    }
   ]
  },
  {
   "cell_type": "code",
   "execution_count": 75,
   "outputs": [
    {
     "name": "stdout",
     "output_type": "stream",
     "text": [
      "tensor([[1, 1, 1],\n",
      "        [3, 3, 3],\n",
      "        [2, 2, 2]])\n",
      "tensor([[1., 1., 1.],\n",
      "        [3., 3., 3.],\n",
      "        [2., 2., 2.]])\n"
     ]
    }
   ],
   "source": [
    "x1 = torch.tensor([[1, 1, 1], [2, 2, 2], [3, 3, 3]])\n",
    "x2 = torch.tensor([[1.0, 1.0, 1.0], [2.0, 2.0, 2.0], [3.0, 3.0, 3.0]])\n",
    "print(x1[idx])\n",
    "print(x2[idx]) # 实现了sklearn.utils.shuffle函数的功能"
   ],
   "metadata": {
    "collapsed": false,
    "pycharm": {
     "name": "#%%\n"
    }
   }
  },
  {
   "cell_type": "code",
   "execution_count": 76,
   "outputs": [],
   "source": [
    "### 其他分布抽样"
   ],
   "metadata": {
    "collapsed": false,
    "pycharm": {
     "name": "#%%\n"
    }
   }
  },
  {
   "cell_type": "code",
   "execution_count": 77,
   "metadata": {
    "pycharm": {
     "name": "#%%\n"
    }
   },
   "outputs": [
    {
     "data": {
      "text/plain": "tensor([[0.2252, 0.3433, 0.3096, 0.4310, 0.5996],\n        [0.8422, 0.3712, 0.4905, 0.3500, 0.3514]], dtype=torch.float64)"
     },
     "execution_count": 77,
     "metadata": {},
     "output_type": "execute_result"
    }
   ],
   "source": [
    "from scipy.stats import beta # 贝塔分布\n",
    "torch.tensor(beta.rvs(a=2, b=2, size=10).reshape(2, 5)) # 先从scipy生成随机样本\n"
   ]
  }
 ],
 "metadata": {
  "kernelspec": {
   "display_name": "Python 3",
   "language": "python",
   "name": "python3"
  },
  "language_info": {
   "codemirror_mode": {
    "name": "ipython",
    "version": 3
   },
   "file_extension": ".py",
   "mimetype": "text/x-python",
   "name": "python",
   "nbconvert_exporter": "python",
   "pygments_lexer": "ipython3",
   "version": "3.7.7"
  },
  "toc": {
   "base_numbering": 1,
   "nav_menu": {},
   "number_sections": true,
   "sideBar": true,
   "skip_h1_title": false,
   "title_cell": "Table of Contents",
   "title_sidebar": "Contents",
   "toc_cell": false,
   "toc_position": {},
   "toc_section_display": true,
   "toc_window_display": true
  }
 },
 "nbformat": 4,
 "nbformat_minor": 1
}