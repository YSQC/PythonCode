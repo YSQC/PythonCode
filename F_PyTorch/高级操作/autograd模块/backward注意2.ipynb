{
 "cells": [
  {
   "cell_type": "code",
   "execution_count": 5,
   "metadata": {
    "collapsed": true
   },
   "outputs": [],
   "source": [
    "import torch"
   ]
  },
  {
   "cell_type": "code",
   "execution_count": 6,
   "outputs": [
    {
     "name": "stdout",
     "output_type": "stream",
     "text": [
      "tensor([10.,  5.,  2.,  3.], requires_grad=True) True\n",
      "2832305579096\n",
      "tensor([14.,  8.,  4.,  4.], grad_fn=<AddBackward0>) False\n",
      "2832305580856\n",
      "tensor(73., grad_fn=<MeanBackward0>)\n",
      "None\n"
     ]
    }
   ],
   "source": [
    "a = torch.tensor([10., 5., 2., 3.], requires_grad=True)\n",
    "print(a, a.is_leaf)\n",
    "print(id(a))\n",
    "\n",
    "a = a + torch.tensor([4., 3., 2., 1.]) # 修改a\n",
    "print(a, a.is_leaf) # ★★★★★a不再为叶tensor\n",
    "print(id(a)) # a内存地址改变\n",
    "\n",
    "loss = (a*a).mean()\n",
    "print(loss)\n",
    "loss.backward()\n",
    "print(a.grad) # 输出None"
   ],
   "metadata": {
    "collapsed": false,
    "pycharm": {
     "name": "#%%\n"
    }
   }
  },
  {
   "cell_type": "markdown",
   "source": [
    "## 解决:torch.no_grad()"
   ],
   "metadata": {
    "collapsed": false,
    "pycharm": {
     "name": "#%% md\n"
    }
   }
  },
  {
   "cell_type": "code",
   "execution_count": 7,
   "outputs": [
    {
     "name": "stdout",
     "output_type": "stream",
     "text": [
      "tensor([10.,  5.,  2.,  3.], requires_grad=True) True\n",
      "2832305608648\n",
      "tensor([4., 3., 2., 1.], requires_grad=True) True\n",
      "2832305608648\n",
      "tensor([2.0000, 1.5000, 1.0000, 0.5000])\n"
     ]
    }
   ],
   "source": [
    "a = torch.tensor([10., 5., 2., 3.], requires_grad=True)\n",
    "print(a, a.is_leaf)\n",
    "print(id(a))\n",
    "\n",
    "with torch.no_grad():\n",
    "    \"\"\"Context-manager that disabled gradient calculation\"\"\"\n",
    "    a[:] = torch.tensor([4., 3., 2., 1.]) # ★★★★★不能改变a内存地址(若a内存地址被改变,则a.grad=None)\n",
    "print(a, a.is_leaf)\n",
    "print(id(a))\n",
    "\n",
    "loss = (a*a).mean()\n",
    "loss.backward()\n",
    "print(a.grad)"
   ],
   "metadata": {
    "collapsed": false,
    "pycharm": {
     "name": "#%%\n"
    }
   }
  },
  {
   "cell_type": "markdown",
   "source": [
    "## 解决:tor.data"
   ],
   "metadata": {
    "collapsed": false
   }
  },
  {
   "cell_type": "code",
   "execution_count": 8,
   "outputs": [
    {
     "name": "stdout",
     "output_type": "stream",
     "text": [
      "tensor([10.,  5.,  2.,  3.], requires_grad=True) True\n",
      "2832305579576\n",
      "tensor([4., 3., 2., 1.], requires_grad=True) True\n",
      "2832305579576\n",
      "tensor([2.0000, 1.5000, 1.0000, 0.5000])\n"
     ]
    }
   ],
   "source": [
    "a = torch.tensor([10., 5., 2., 3.], requires_grad=True)\n",
    "print(a, a.is_leaf)\n",
    "print(id(a))\n",
    "\n",
    "a.data = torch.tensor([4., 3., 2., 1.]) # 只是修改a的值\n",
    "print(a, a.is_leaf)\n",
    "print(id(a)) # a内存地址不变\n",
    "\n",
    "loss = (a*a).mean()\n",
    "loss.backward()\n",
    "print(a.grad)"
   ],
   "metadata": {
    "collapsed": false,
    "pycharm": {
     "name": "#%%\n"
    }
   }
  }
 ],
 "metadata": {
  "kernelspec": {
   "display_name": "Python 3",
   "language": "python",
   "name": "python3"
  },
  "language_info": {
   "codemirror_mode": {
    "name": "ipython",
    "version": 2
   },
   "file_extension": ".py",
   "mimetype": "text/x-python",
   "name": "python",
   "nbconvert_exporter": "python",
   "pygments_lexer": "ipython2",
   "version": "2.7.6"
  }
 },
 "nbformat": 4,
 "nbformat_minor": 0
}