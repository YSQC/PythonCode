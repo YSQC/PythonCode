{
 "cells": [
  {
   "cell_type": "code",
   "execution_count": 1,
   "metadata": {
    "collapsed": true
   },
   "outputs": [],
   "source": [
    "import torch"
   ]
  },
  {
   "cell_type": "code",
   "execution_count": 2,
   "outputs": [
    {
     "name": "stdout",
     "output_type": "stream",
     "text": [
      "tensor([10.,  5.,  2.,  3.], requires_grad=True) True\n",
      "2389004125912\n",
      "tensor([[10.],\n",
      "        [ 5.],\n",
      "        [ 2.],\n",
      "        [ 3.]], grad_fn=<ViewBackward>) False\n",
      "2389004126872\n",
      "tensor(34.5000, grad_fn=<MeanBackward0>)\n",
      "None\n"
     ]
    }
   ],
   "source": [
    "a = torch.tensor([10., 5., 2., 3.], requires_grad=True)\n",
    "print(a, a.is_leaf)\n",
    "print(id(a))\n",
    "\n",
    "a = a.reshape(-1, 1) # 修改a\n",
    "print(a, a.is_leaf) # ★★★★★a不再为叶tensor\n",
    "print(id(a)) # a内存地址改变\n",
    "\n",
    "loss = (a*a).mean()\n",
    "print(loss)\n",
    "loss.backward()\n",
    "print(a.grad) # 输出none"
   ],
   "metadata": {
    "collapsed": false,
    "pycharm": {
     "name": "#%%\n"
    }
   }
  },
  {
   "cell_type": "markdown",
   "source": [
    "## 解决tor.data"
   ],
   "metadata": {
    "collapsed": false,
    "pycharm": {
     "name": "#%% md\n"
    }
   }
  },
  {
   "cell_type": "code",
   "execution_count": 3,
   "outputs": [
    {
     "name": "stdout",
     "output_type": "stream",
     "text": [
      "tensor([10.,  5.,  2.,  3.], requires_grad=True) True\n",
      "2389004125352\n",
      "tensor([[10.],\n",
      "        [ 5.],\n",
      "        [ 2.],\n",
      "        [ 3.]], requires_grad=True) True\n",
      "2389004125352\n",
      "tensor([[5.0000],\n",
      "        [2.5000],\n",
      "        [1.0000],\n",
      "        [1.5000]])\n"
     ]
    }
   ],
   "source": [
    "a = torch.tensor([10., 5., 2., 3.], requires_grad=True)\n",
    "print(a, a.is_leaf)\n",
    "print(id(a))\n",
    "\n",
    "with torch.no_grad():\n",
    "    \"\"\"Context-manager that disabled gradient calculation\"\"\"\n",
    "    a.data = a.data.reshape(-1, 1) # ★★★★★不能改变a内存地址(若a内存地址被改变,则a.grad=None)\n",
    "print(a, a.is_leaf)\n",
    "print(id(a))\n",
    "\n",
    "loss = (a*a).mean()\n",
    "loss.backward()\n",
    "print(a.grad)"
   ],
   "metadata": {
    "collapsed": false,
    "pycharm": {
     "name": "#%%\n"
    }
   }
  },
  {
   "cell_type": "markdown",
   "source": [
    "## 间接解决:tor.requires_grad_(True)"
   ],
   "metadata": {
    "collapsed": false,
    "pycharm": {
     "name": "#%% md\n"
    }
   }
  },
  {
   "cell_type": "code",
   "execution_count": 4,
   "outputs": [
    {
     "name": "stdout",
     "output_type": "stream",
     "text": [
      "tensor(34.5000, grad_fn=<MeanBackward0>)\n",
      "tensor([[5.0000],\n",
      "        [2.5000],\n",
      "        [1.0000],\n",
      "        [1.5000]])\n"
     ]
    }
   ],
   "source": [
    "a = torch.tensor([10., 5., 2., 3.])\n",
    "a = a.reshape(-1, 1)\n",
    "a.requires_grad_(True)\n",
    "\n",
    "loss = (a*a).mean()\n",
    "print(loss)\n",
    "loss.backward()\n",
    "print(a.grad) # 输出none\n"
   ],
   "metadata": {
    "collapsed": false,
    "pycharm": {
     "name": "#%%\n"
    }
   }
  }
 ],
 "metadata": {
  "kernelspec": {
   "display_name": "Python 3",
   "language": "python",
   "name": "python3"
  },
  "language_info": {
   "codemirror_mode": {
    "name": "ipython",
    "version": 2
   },
   "file_extension": ".py",
   "mimetype": "text/x-python",
   "name": "python",
   "nbconvert_exporter": "python",
   "pygments_lexer": "ipython2",
   "version": "2.7.6"
  }
 },
 "nbformat": 4,
 "nbformat_minor": 0
}