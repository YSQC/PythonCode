{
 "cells": [
  {
   "cell_type": "code",
   "execution_count": 91,
   "metadata": {
    "collapsed": true
   },
   "outputs": [
    {
     "name": "stdout",
     "output_type": "stream",
     "text": [
      "1500540031048 True True\n",
      "1500540031048 True True\n",
      "1500540031048 True True\n"
     ]
    }
   ],
   "source": [
    "import torch\n",
    "\n",
    "x = torch.tensor([1., 2., 3., 4.], requires_grad=True)\n",
    "print(id(x), x.is_leaf, x.requires_grad)\n",
    "\n",
    "# 计算图确定前,可以通过此方式修改x的初始值,从而影响x.grad\n",
    "x.data = x.reshape(2, 2)\n",
    "# x = x + 39 # 报错,x不是叶tensor\n",
    "print(id(x), x.is_leaf, x.requires_grad)\n",
    "\n",
    "y = x**2 # 计算图确定后,x.grad已经被确定\n",
    "x.data = torch.tensor([10., 20., 30., 40.]) # 不能影响x.grad\n",
    "print(id(x), x.is_leaf, x.requires_grad)"
   ]
  },
  {
   "cell_type": "code",
   "execution_count": 92,
   "outputs": [
    {
     "name": "stdout",
     "output_type": "stream",
     "text": [
      "tensor([[2., 4.],\n",
      "        [6., 8.]])\n"
     ]
    }
   ],
   "source": [
    "y.backward(torch.ones_like(y, dtype=torch.float32))\n",
    "print(x.grad)\n"
   ],
   "metadata": {
    "collapsed": false,
    "pycharm": {
     "name": "#%%\n"
    }
   }
  }
 ],
 "metadata": {
  "kernelspec": {
   "display_name": "Python 3",
   "language": "python",
   "name": "python3"
  },
  "language_info": {
   "codemirror_mode": {
    "name": "ipython",
    "version": 2
   },
   "file_extension": ".py",
   "mimetype": "text/x-python",
   "name": "python",
   "nbconvert_exporter": "python",
   "pygments_lexer": "ipython2",
   "version": "2.7.6"
  }
 },
 "nbformat": 4,
 "nbformat_minor": 0
}