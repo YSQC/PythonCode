{
 "cells": [
  {
   "cell_type": "code",
   "execution_count": 1,
   "metadata": {
    "collapsed": true
   },
   "outputs": [
    {
     "name": "stdout",
     "output_type": "stream",
     "text": [
      "tensor(0.0100) tensor(1.)\n",
      "tensor(0.0200) tensor(2.)\n",
      "tensor(0.0300) tensor(3.)\n",
      "tensor(0.0400) tensor(4.)\n",
      "tensor(0.0500) tensor(5.)\n",
      "tensor(0.0600) tensor(6.)\n",
      "tensor(0.0700) tensor(7.)\n",
      "tensor(0.0800) tensor(8.)\n",
      "tensor(0.0900) tensor(9.)\n",
      "tensor(0.1000) tensor(10.)\n"
     ]
    }
   ],
   "source": [
    "import torch\n",
    "import torch.utils.data as Data\n",
    "\n",
    "BATCH_SIZE = 5\n",
    "\n",
    "x = torch.linspace(0.01, 0.1, 10)\n",
    "y = torch.linspace(1, 10, 10)\n",
    "\n",
    "torch_dataset = Data.TensorDataset(x, y) # 包装数据集\n",
    "for i, j in torch_dataset:\n",
    "   print(i, j)\n"
   ]
  },
  {
   "cell_type": "code",
   "execution_count": 2,
   "outputs": [
    {
     "name": "stdout",
     "output_type": "stream",
     "text": [
      "steop:0, batch_x:tensor([0.0800, 0.0300, 0.0600, 0.0100, 0.0400]), batch_y:tensor([8., 3., 6., 1., 4.])\n",
      "steop:1, batch_x:tensor([0.1000, 0.0200, 0.0900, 0.0500, 0.0700]), batch_y:tensor([10.,  2.,  9.,  5.,  7.])\n",
      "\n",
      "steop:0, batch_x:tensor([0.1000, 0.0400, 0.0700, 0.0300, 0.0900]), batch_y:tensor([10.,  4.,  7.,  3.,  9.])\n",
      "steop:1, batch_x:tensor([0.0800, 0.0600, 0.0100, 0.0200, 0.0500]), batch_y:tensor([8., 6., 1., 2., 5.])\n",
      "\n",
      "steop:0, batch_x:tensor([0.0700, 0.0400, 0.0200, 0.0300, 0.0900]), batch_y:tensor([7., 4., 2., 3., 9.])\n",
      "steop:1, batch_x:tensor([0.0600, 0.0100, 0.0800, 0.1000, 0.0500]), batch_y:tensor([ 6.,  1.,  8., 10.,  5.])\n",
      "\n"
     ]
    }
   ],
   "source": [
    "loader = Data.DataLoader(\n",
    "    dataset=torch_dataset, # dataset from which to load the data\n",
    "    batch_size=BATCH_SIZE, # how many samples per batch to load (default: 1)\n",
    "    shuffle=True, #  set to True to have the data reshuffled at every epoch (default: False).\n",
    "    num_workers=2 # how many subprocesses to use for data loading. 0 means that the data will be loaded in the main process. (default: 0)\n",
    ")\n",
    "\n",
    "\n",
    "def show_batch():\n",
    "    for epoch in range(3):\n",
    "        for step, (batch_x, batch_y) in enumerate(loader):\n",
    "            print(\"steop:{}, batch_x:{}, batch_y:{}\".format(step, batch_x, batch_y))\n",
    "        print()\n",
    "\n",
    "show_batch()\n"
   ],
   "metadata": {
    "collapsed": false,
    "pycharm": {
     "name": "#%%\n"
    }
   }
  }
 ],
 "metadata": {
  "kernelspec": {
   "display_name": "Python 3",
   "language": "python",
   "name": "python3"
  },
  "language_info": {
   "codemirror_mode": {
    "name": "ipython",
    "version": 2
   },
   "file_extension": ".py",
   "mimetype": "text/x-python",
   "name": "python",
   "nbconvert_exporter": "python",
   "pygments_lexer": "ipython2",
   "version": "2.7.6"
  }
 },
 "nbformat": 4,
 "nbformat_minor": 0
}