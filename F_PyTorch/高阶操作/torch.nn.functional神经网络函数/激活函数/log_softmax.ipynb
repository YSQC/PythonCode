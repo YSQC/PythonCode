{
 "cells": [
  {
   "cell_type": "markdown",
   "metadata": {
    "collapsed": true,
    "pycharm": {
     "name": "#%% md\n"
    }
   },
   "source": [
    "$$ \\operatorname{LogSoftmax}\\left(x_{i}\\right)= \\log \\left(  \\frac{\\exp \\left(x_{i}\\right)}{\\sum_{j} \\exp \\left(x_{j}\\right)} \\right) = x_i - \\log \\left(  \\sum_j \\exp \\left(x_{j}\\right) \\right) $$"
   ]
  },
  {
   "cell_type": "code",
   "execution_count": 8,
   "outputs": [
    {
     "data": {
      "text/plain": "[<matplotlib.lines.Line2D at 0x18fa41ce4c8>]"
     },
     "execution_count": 8,
     "metadata": {},
     "output_type": "execute_result"
    },
    {
     "data": {
      "text/plain": "<Figure size 432x288 with 1 Axes>",
      "image/png": "[encoded data removed]"
     },
     "metadata": {
      "needs_background": "light"
     },
     "output_type": "display_data"
    }
   ],
   "source": [
    "import torch\n",
    "import torch.nn.functional as F\n",
    "import matplotlib.pyplot as plt\n",
    "\n",
    "x = torch.linspace(-5, 5, 200)\n",
    "log_softmax_x = F.log_softmax(x, dim=0)\n",
    "\n",
    "plt.plot(x, log_softmax_x)"
   ],
   "metadata": {
    "collapsed": false,
    "pycharm": {
     "name": "#%%\n"
    }
   }
  },
  {
   "cell_type": "code",
   "execution_count": 9,
   "outputs": [
    {
     "data": {
      "text/plain": "tensor([-8.0157, -8.0157, -8.0157, -8.0157, -8.0157, -8.0157, -8.0157, -8.0157,\n        -8.0157, -8.0157, -8.0157, -8.0157, -8.0157, -8.0157, -8.0157, -8.0157,\n        -8.0157, -8.0157, -8.0157, -8.0157, -8.0157, -8.0157, -8.0157, -8.0157,\n        -8.0157, -8.0157, -8.0157, -8.0157, -8.0157, -8.0157, -8.0157, -8.0157,\n        -8.0157, -8.0157, -8.0157, -8.0157, -8.0157, -8.0157, -8.0157, -8.0157,\n        -8.0157, -8.0157, -8.0157, -8.0157, -8.0157, -8.0157, -8.0157, -8.0157,\n        -8.0157, -8.0157, -8.0157, -8.0157, -8.0157, -8.0157, -8.0157, -8.0157,\n        -8.0157, -8.0157, -8.0157, -8.0157, -8.0157, -8.0157, -8.0157, -8.0157,\n        -8.0157, -8.0157, -8.0157, -8.0157, -8.0157, -8.0157, -8.0157, -8.0157,\n        -8.0157, -8.0157, -8.0157, -8.0157, -8.0157, -8.0157, -8.0157, -8.0157,\n        -8.0157, -8.0157, -8.0157, -8.0157, -8.0157, -8.0157, -8.0157, -8.0157,\n        -8.0157, -8.0157, -8.0157, -8.0157, -8.0157, -8.0157, -8.0157, -8.0157,\n        -8.0157, -8.0157, -8.0157, -8.0157, -8.0157, -8.0157, -8.0157, -8.0157,\n        -8.0157, -8.0157, -8.0157, -8.0157, -8.0157, -8.0157, -8.0157, -8.0157,\n        -8.0157, -8.0157, -8.0157, -8.0157, -8.0157, -8.0157, -8.0157, -8.0157,\n        -8.0157, -8.0157, -8.0157, -8.0157, -8.0157, -8.0157, -8.0157, -8.0157,\n        -8.0157, -8.0157, -8.0157, -8.0157, -8.0157, -8.0157, -8.0157, -8.0157,\n        -8.0157, -8.0157, -8.0157, -8.0157, -8.0157, -8.0157, -8.0157, -8.0157,\n        -8.0157, -8.0157, -8.0157, -8.0157, -8.0157, -8.0157, -8.0157, -8.0157,\n        -8.0157, -8.0157, -8.0157, -8.0157, -8.0157, -8.0157, -8.0157, -8.0157,\n        -8.0157, -8.0157, -8.0157, -8.0157, -8.0157, -8.0157, -8.0157, -8.0157,\n        -8.0157, -8.0157, -8.0157, -8.0157, -8.0157, -8.0157, -8.0157, -8.0157,\n        -8.0157, -8.0157, -8.0157, -8.0157, -8.0157, -8.0157, -8.0157, -8.0157,\n        -8.0157, -8.0157, -8.0157, -8.0157, -8.0157, -8.0157, -8.0157, -8.0157,\n        -8.0157, -8.0157, -8.0157, -8.0157, -8.0157, -8.0157, -8.0157, -8.0157])"
     },
     "execution_count": 9,
     "metadata": {},
     "output_type": "execute_result"
    }
   ],
   "source": [
    "log_softmax_x - x"
   ],
   "metadata": {
    "collapsed": false,
    "pycharm": {
     "name": "#%%\n"
    }
   }
  }
 ],
 "metadata": {
  "kernelspec": {
   "display_name": "Python 3",
   "language": "python",
   "name": "python3"
  },
  "language_info": {
   "codemirror_mode": {
    "name": "ipython",
    "version": 2
   },
   "file_extension": ".py",
   "mimetype": "text/x-python",
   "name": "python",
   "nbconvert_exporter": "python",
   "pygments_lexer": "ipython2",
   "version": "2.7.6"
  }
 },
 "nbformat": 4,
 "nbformat_minor": 0
}