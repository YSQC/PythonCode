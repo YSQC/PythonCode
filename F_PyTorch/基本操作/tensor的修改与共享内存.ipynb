{
 "cells": [
  {
   "cell_type": "code",
   "execution_count": 35,
   "outputs": [],
   "source": [
    "import torch\n",
    "import numpy as np"
   ],
   "metadata": {
    "collapsed": false,
    "pycharm": {
     "name": "#%%\n"
    }
   }
  },
  {
   "cell_type": "code",
   "execution_count": 36,
   "outputs": [
    {
     "name": "stdout",
     "output_type": "stream",
     "text": [
      "2202216288808\n",
      "True\n",
      "2202216288808\n",
      "tensor([  1,   2,   3,   4, 105,   6,   7,   8])\n"
     ]
    }
   ],
   "source": [
    "# 参考ndarray的储存结构.ipynb\n",
    "tor = torch.tensor([1, 2, 3, 4, 5, 6, 7, 8])\n",
    "print(id(tor))\n",
    "\n",
    "a = tor[4] # 注意:a为标量tensor,故a为可变数据类型\n",
    "print(np.shares_memory(a, tor)) # a与arr不共享内存(注:此处共享的是值的内存地址,而不是变量的内存地址)\n",
    "\n",
    "a += 100 # 可变的类型的追加操作\n",
    "\n",
    "print(id(tor)) # arr地址不变\n",
    "print(tor) # 由于共享内存,故arr指向内存的值相应的改变"
   ],
   "metadata": {
    "collapsed": false,
    "pycharm": {
     "name": "#%%\n"
    }
   }
  },
  {
   "cell_type": "code",
   "execution_count": 37,
   "outputs": [
    {
     "name": "stdout",
     "output_type": "stream",
     "text": [
      "tensor([ 0,  1,  2,  3,  4,  5,  6,  7,  8,  9, 10, 11, 12, 13, 14, 15, 16, 17,\n",
      "        18, 19, 20, 21, 22, 23, 24, 25, 26, 27, 28, 29])\n",
      "tensor([[ 0,  1,  2,  3,  4,  5],\n",
      "        [ 6,  7,  8,  9, 10, 11],\n",
      "        [12, 13, 14, 15, 16, 17],\n",
      "        [18, 19, 20, 21, 22, 23],\n",
      "        [24, 25, 26, 27, 28, 29]])\n",
      "\n",
      "2202216829240\n",
      "2202219921640\n",
      "\n",
      "True\n",
      "\n",
      "2202216829240\n",
      "tensor([1000000,       1,       2,       3,       4,       5,       6,       7,\n",
      "              8,       9,      10,      11,      12,      13,      14,      15,\n",
      "             16,      17,      18,      19,      20,      21,      22,      23,\n",
      "             24,      25,      26,      27,      28,      29])\n",
      "tensor([[1000000,       1,       2,       3,       4,       5],\n",
      "        [      6,       7,       8,       9,      10,      11],\n",
      "        [     12,      13,      14,      15,      16,      17],\n",
      "        [     18,      19,      20,      21,      22,      23],\n",
      "        [     24,      25,      26,      27,      28,      29]])\n",
      "\n",
      "2202216829240\n",
      "tensor([ 1000000,        1,        2,        3,        4,        5,        6,\n",
      "               7,        8,        9,       10,       11,       12,       13,\n",
      "              14,       15,       16,       17,       18,       19,       20,\n",
      "              21,       22,       23,       24,       25,       26,       27,\n",
      "              28, 99999999])\n",
      "tensor([[ 1000000,        1,        2,        3,        4,        5],\n",
      "        [       6,        7,        8,        9,       10,       11],\n",
      "        [      12,       13,       14,       15,       16,       17],\n",
      "        [      18,       19,       20,       21,       22,       23],\n",
      "        [      24,       25,       26,       27,       28, 99999999]])\n",
      "\n"
     ]
    }
   ],
   "source": [
    "a = torch.arange(30)\n",
    "b = a.reshape(5, 6)\n",
    "\n",
    "print(a)\n",
    "print(b, end='\\n\\n')\n",
    "\n",
    "print(id(a))\n",
    "print(id(b), end='\\n\\n') # a,b内存地址不同\n",
    "\n",
    "# ★★★★★★★★★★★★★★★shape操作共享内存\n",
    "print(np.shares_memory(a, b), end='\\n\\n') # b与a共享内存\n",
    "\n",
    "a[0] = 1000000 # 修改a\n",
    "print(id(a))\n",
    "print(a) # a的内存不变\n",
    "print(b, end='\\n\\n') # 由于共享内存,故b指向内存的值相应的改变\n",
    "\n",
    "b[-1][-1] = 99999999 # 修改b\n",
    "print(id(a)) # a的内存地址不变\n",
    "print(a)\n",
    "print(b, end='\\n\\n') # 由于共享内存,故a指向内存呢的值相应的改变"
   ],
   "metadata": {
    "collapsed": false,
    "pycharm": {
     "name": "#%%\n"
    }
   }
  },
  {
   "cell_type": "code",
   "execution_count": 38,
   "outputs": [
    {
     "data": {
      "text/plain": "True"
     },
     "execution_count": 38,
     "metadata": {},
     "output_type": "execute_result"
    }
   ],
   "source": [
    "c = a.detach()\n",
    "\n",
    "# ★★★★★★★★★★★★★★★detach操作共享内存\n",
    "np.shares_memory(b, c)"
   ],
   "metadata": {
    "collapsed": false,
    "pycharm": {
     "name": "#%%\n"
    }
   }
  },
  {
   "cell_type": "code",
   "execution_count": 39,
   "outputs": [
    {
     "data": {
      "text/plain": "False"
     },
     "execution_count": 39,
     "metadata": {},
     "output_type": "execute_result"
    }
   ],
   "source": [
    "d = a.clone()\n",
    "\n",
    "# ★★★★★★★★★★★★★★★clone操作不共享内存★★★★\n",
    "np.shares_memory(b, d)"
   ],
   "metadata": {
    "collapsed": false,
    "pycharm": {
     "name": "#%%\n"
    }
   }
  },
  {
   "cell_type": "code",
   "execution_count": 40,
   "outputs": [
    {
     "data": {
      "text/plain": "True"
     },
     "execution_count": 40,
     "metadata": {},
     "output_type": "execute_result"
    }
   ],
   "source": [
    "e = a.flatten()\n",
    "\n",
    "# ★★★★★★★★★★★★★★★flatten操作共享内存\n",
    "np.shares_memory(b, e)"
   ],
   "metadata": {
    "collapsed": false,
    "pycharm": {
     "name": "#%%\n"
    }
   }
  },
  {
   "cell_type": "code",
   "execution_count": 41,
   "outputs": [
    {
     "data": {
      "text/plain": "True"
     },
     "execution_count": 41,
     "metadata": {},
     "output_type": "execute_result"
    }
   ],
   "source": [
    "f = b.transpose(0, 1)\n",
    "\n",
    "# ★★★★★★★★★★★★★★★transpose操作共享内存\n",
    "np.shares_memory(b, f)"
   ],
   "metadata": {
    "collapsed": false,
    "pycharm": {
     "name": "#%%\n"
    }
   }
  },
  {
   "cell_type": "code",
   "execution_count": 42,
   "outputs": [
    {
     "data": {
      "text/plain": "True"
     },
     "execution_count": 42,
     "metadata": {},
     "output_type": "execute_result"
    }
   ],
   "source": [
    "g = b.permute(1, 0) # b.T同理\n",
    "\n",
    "# ★★★★★★★★★★★★★★★permute操作共享内存\n",
    "np.shares_memory(b, g)"
   ],
   "metadata": {
    "collapsed": false,
    "pycharm": {
     "name": "#%%\n"
    }
   }
  },
  {
   "cell_type": "code",
   "execution_count": 43,
   "outputs": [
    {
     "data": {
      "text/plain": "True"
     },
     "execution_count": 43,
     "metadata": {},
     "output_type": "execute_result"
    }
   ],
   "source": [
    "h = torch.unsqueeze(b, 0)\n",
    "\n",
    "# ★★★★★★★★★★★★★★★unsqueeze操作共享内存\n",
    "np.shares_memory(b, h)"
   ],
   "metadata": {
    "collapsed": false,
    "pycharm": {
     "name": "#%%\n"
    }
   }
  },
  {
   "cell_type": "code",
   "execution_count": 44,
   "outputs": [
    {
     "data": {
      "text/plain": "True"
     },
     "execution_count": 44,
     "metadata": {},
     "output_type": "execute_result"
    }
   ],
   "source": [
    "j = torch.squeeze(h)\n",
    "\n",
    "# ★★★★★★★★★★★★★★★squeeze操作共享内存\n",
    "np.shares_memory(h, j)\n",
    "\n",
    "\n"
   ],
   "metadata": {
    "collapsed": false,
    "pycharm": {
     "name": "#%%\n"
    }
   }
  }
 ],
 "metadata": {
  "kernelspec": {
   "display_name": "Python 3",
   "language": "python",
   "name": "python3"
  },
  "language_info": {
   "codemirror_mode": {
    "name": "ipython",
    "version": 2
   },
   "file_extension": ".py",
   "mimetype": "text/x-python",
   "name": "python",
   "nbconvert_exporter": "python",
   "pygments_lexer": "ipython2",
   "version": "2.7.6"
  }
 },
 "nbformat": 4,
 "nbformat_minor": 0
}