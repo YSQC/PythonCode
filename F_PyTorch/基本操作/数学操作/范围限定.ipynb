{
 "cells": [
  {
   "cell_type": "markdown",
   "metadata": {
    "collapsed": true,
    "pycharm": {
     "name": "#%% md\n"
    }
   },
   "source": [
    "Clamp all elements in input into the range [ min, max ] and return a resulting tensor:\n",
    "\n",
    "\\begin{equation}\n",
    "y_i=\\begin{cases}\n",
    "\t    \\min, & \\text{if} \\quad  x < \\min \\\\\n",
    "        x_i, & \\text{if} \\quad  \\min< x < \\max \\\\\n",
    "        \\max, & \\text{if} \\quad x> \\max\n",
    "     \\end{cases}\n",
    "\\end{equation}"
   ]
  },
  {
   "cell_type": "code",
   "execution_count": 34,
   "outputs": [
    {
     "name": "stdout",
     "output_type": "stream",
     "text": [
      "tensor(13.5232)\n",
      "tensor(0.1868)\n"
     ]
    }
   ],
   "source": [
    "import torch\n",
    "\n",
    "grad = torch.rand(4, 4) * 15\n",
    "print(grad.max())\n",
    "print(grad.min())"
   ],
   "metadata": {
    "collapsed": false,
    "pycharm": {
     "name": "#%%\n"
    }
   }
  },
  {
   "cell_type": "code",
   "execution_count": 35,
   "outputs": [
    {
     "data": {
      "text/plain": "tensor([[ 1.8949,  0.1868, 13.5232,  8.1351],\n        [ 5.8502,  4.3816,  6.4179,  4.5749],\n        [ 1.5041,  7.5595,  3.2816,  7.1943],\n        [ 8.9029, 12.0819,  7.5199, 13.1309]])"
     },
     "execution_count": 35,
     "metadata": {},
     "output_type": "execute_result"
    }
   ],
   "source": [
    "grad"
   ],
   "metadata": {
    "collapsed": false,
    "pycharm": {
     "name": "#%%\n"
    }
   }
  },
  {
   "cell_type": "code",
   "execution_count": 36,
   "outputs": [
    {
     "data": {
      "text/plain": "tensor([[ 6.0000,  6.0000, 13.5232,  8.1351],\n        [ 6.0000,  6.0000,  6.4179,  6.0000],\n        [ 6.0000,  7.5595,  6.0000,  7.1943],\n        [ 8.9029, 12.0819,  7.5199, 13.1309]])"
     },
     "execution_count": 36,
     "metadata": {},
     "output_type": "execute_result"
    }
   ],
   "source": [
    "grad.clamp(min=6)"
   ],
   "metadata": {
    "collapsed": false,
    "pycharm": {
     "name": "#%%\n"
    }
   }
  },
  {
   "cell_type": "code",
   "execution_count": 37,
   "outputs": [
    {
     "data": {
      "text/plain": "tensor([[1.8949, 0.1868, 6.0000, 6.0000],\n        [5.8502, 4.3816, 6.0000, 4.5749],\n        [1.5041, 6.0000, 3.2816, 6.0000],\n        [6.0000, 6.0000, 6.0000, 6.0000]])"
     },
     "execution_count": 37,
     "metadata": {},
     "output_type": "execute_result"
    }
   ],
   "source": [
    "grad.clamp(max=6)"
   ],
   "metadata": {
    "collapsed": false,
    "pycharm": {
     "name": "#%%\n"
    }
   }
  },
  {
   "cell_type": "code",
   "execution_count": 38,
   "outputs": [
    {
     "data": {
      "text/plain": "tensor([[6.0000, 6.0000, 7.0000, 7.0000],\n        [6.0000, 6.0000, 6.4179, 6.0000],\n        [6.0000, 7.0000, 6.0000, 7.0000],\n        [7.0000, 7.0000, 7.0000, 7.0000]])"
     },
     "execution_count": 38,
     "metadata": {},
     "output_type": "execute_result"
    }
   ],
   "source": [
    "grad.clamp(min=6, max=7) #"
   ],
   "metadata": {
    "collapsed": false,
    "pycharm": {
     "name": "#%%\n"
    }
   }
  },
  {
   "cell_type": "code",
   "execution_count": 38,
   "outputs": [],
   "source": [
    "\n"
   ],
   "metadata": {
    "collapsed": false,
    "pycharm": {
     "name": "#%%\n"
    }
   }
  }
 ],
 "metadata": {
  "kernelspec": {
   "display_name": "Python 3",
   "language": "python",
   "name": "python3"
  },
  "language_info": {
   "codemirror_mode": {
    "name": "ipython",
    "version": 2
   },
   "file_extension": ".py",
   "mimetype": "text/x-python",
   "name": "python",
   "nbconvert_exporter": "python",
   "pygments_lexer": "ipython2",
   "version": "2.7.6"
  }
 },
 "nbformat": 4,
 "nbformat_minor": 0
}