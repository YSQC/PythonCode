{
 "cells": [
  {
   "cell_type": "markdown",
   "metadata": {
    "collapsed": true,
    "pycharm": {
     "name": "#%% md\n"
    }
   },
   "source": [
    "## 标量 $ \\times $ 标量 "
   ]
  },
  {
   "cell_type": "code",
   "execution_count": 152,
   "metadata": {
    "pycharm": {
     "name": "#%%\n"
    }
   },
   "outputs": [
    {
     "data": {
      "text/plain": "tensor(12)"
     },
     "execution_count": 152,
     "metadata": {},
     "output_type": "execute_result"
    }
   ],
   "source": [
    "import torch\n",
    "# 类似numpy 数组乘积/数据类型之间的乘积\n",
    "\n",
    "scalar1 = torch.tensor(3)\n",
    "scalar2 = torch.tensor(4)\n",
    "\n",
    "scalar1 * scalar2"
   ]
  },
  {
   "cell_type": "markdown",
   "metadata": {
    "pycharm": {
     "is_executing": false,
     "name": "#%% md\n"
    }
   },
   "source": [
    "## 标量 $ \\times $ 向量"
   ]
  },
  {
   "cell_type": "code",
   "execution_count": 153,
   "metadata": {
    "pycharm": {
     "name": "#%%\n"
    }
   },
   "outputs": [
    {
     "name": "stdout",
     "output_type": "stream",
     "text": [
      "tensor([ 3,  6,  9, 12])\n"
     ]
    }
   ],
   "source": [
    "vector1 = torch.tensor([1, 2, 3, 4])\n",
    "print(scalar1 * vector1) # 等价于3 * vector1(广播)"
   ]
  },
  {
   "cell_type": "markdown",
   "metadata": {
    "pycharm": {
     "name": "#%% md\n"
    }
   },
   "source": [
    "## 标量 $ \\times $ 矩阵"
   ]
  },
  {
   "cell_type": "code",
   "execution_count": 154,
   "metadata": {
    "pycharm": {
     "name": "#%%\n"
    }
   },
   "outputs": [
    {
     "name": "stdout",
     "output_type": "stream",
     "text": [
      "tensor([[ 3,  6,  9, 12],\n",
      "        [ 6,  9, 12, 15]])\n"
     ]
    }
   ],
   "source": [
    "martrix1 = torch.tensor([[1, 2, 3, 4],\n",
    "                         [2, 3, 4, 5]])\n",
    "print(scalar1 * martrix1) # 等价于 3 * martrix1(广播机制)"
   ]
  },
  {
   "cell_type": "markdown",
   "metadata": {
    "pycharm": {
     "name": "#%% md\n"
    }
   },
   "source": [
    "## 向量 $ \\times @ $ 向量"
   ]
  },
  {
   "cell_type": "code",
   "execution_count": 155,
   "metadata": {
    "pycharm": {
     "name": "#%%\n"
    }
   },
   "outputs": [
    {
     "data": {
      "text/plain": "tensor([ 2,  6, 12, 20])"
     },
     "execution_count": 155,
     "metadata": {},
     "output_type": "execute_result"
    }
   ],
   "source": [
    "vector1 = torch.tensor([1, 2, 3, 4])\n",
    "vector2 = torch.tensor([2, 3, 4, 5])\n",
    "vector1 * vector2 # 对应元素相乘"
   ]
  },
  {
   "cell_type": "code",
   "execution_count": 156,
   "metadata": {
    "pycharm": {
     "name": "#%%\n"
    }
   },
   "outputs": [
    {
     "data": {
      "text/plain": "tensor(40)"
     },
     "execution_count": 156,
     "metadata": {},
     "output_type": "execute_result"
    }
   ],
   "source": [
    "vector1 @ vector2 # ★★★★★向量的(典范)内积(点积,数量积)"
   ]
  },
  {
   "cell_type": "code",
   "execution_count": 157,
   "metadata": {
    "pycharm": {
     "name": "#%%\n"
    }
   },
   "outputs": [
    {
     "data": {
      "text/plain": "tensor(40)"
     },
     "execution_count": 157,
     "metadata": {},
     "output_type": "execute_result"
    }
   ],
   "source": [
    "torch.matmul(vector1, vector2) # 于上等价"
   ]
  },
  {
   "cell_type": "code",
   "execution_count": 158,
   "metadata": {
    "pycharm": {
     "name": "#%%\n"
    }
   },
   "outputs": [
    {
     "data": {
      "text/plain": "tensor([[ 2,  3,  4,  5],\n        [ 4,  6,  8, 10],\n        [ 6,  9, 12, 15],\n        [ 8, 12, 16, 20]])"
     },
     "execution_count": 158,
     "metadata": {},
     "output_type": "execute_result"
    }
   ],
   "source": [
    "vector1.reshape(4, 1) @ vector2.reshape(1, 4) # [4, 1] @ [1, 4] --> [4, 4](矩阵代数)"
   ]
  },
  {
   "cell_type": "markdown",
   "metadata": {
    "pycharm": {
     "name": "#%% md\n"
    }
   },
   "source": [
    "## 向量 $ \\times @ $ 矩阵"
   ]
  },
  {
   "cell_type": "code",
   "execution_count": 159,
   "metadata": {
    "pycharm": {
     "name": "#%%\n"
    }
   },
   "outputs": [
    {
     "name": "stdout",
     "output_type": "stream",
     "text": [
      "tensor([[ 1,  4,  9, 16],\n",
      "        [ 2,  6, 12, 20]])\n",
      "tensor([[ 1,  4,  9, 16],\n",
      "        [ 2,  6, 12, 20]])\n"
     ]
    }
   ],
   "source": [
    "martrix1 = torch.tensor([[1, 2, 3, 4],\n",
    "                         [2, 3, 4, 5]])\n",
    "print(vector1 * martrix1) # 广播机制[2, 4] broadcasting [4] --> [2, 4]\n",
    "print(martrix1 * vector1) # 可交换顺序"
   ]
  },
  {
   "cell_type": "code",
   "execution_count": 160,
   "metadata": {
    "pycharm": {
     "name": "#%%\n"
    }
   },
   "outputs": [
    {
     "data": {
      "text/plain": "tensor([ 5,  8, 11, 14])"
     },
     "execution_count": 160,
     "metadata": {},
     "output_type": "execute_result"
    }
   ],
   "source": [
    "torch.tensor([1, 2]) @ martrix1 # [2] @ [2, 4] --> [4]"
   ]
  },
  {
   "cell_type": "code",
   "execution_count": 161,
   "outputs": [
    {
     "data": {
      "text/plain": "tensor([30, 40])"
     },
     "execution_count": 161,
     "metadata": {},
     "output_type": "execute_result"
    }
   ],
   "source": [
    "martrix1 @ vector1 # [2, 4] @ [4] --> [2]"
   ],
   "metadata": {
    "collapsed": false,
    "pycharm": {
     "name": "#%%\n"
    }
   }
  },
  {
   "cell_type": "code",
   "execution_count": 162,
   "metadata": {
    "pycharm": {
     "name": "#%%\n"
    }
   },
   "outputs": [
    {
     "data": {
      "text/plain": "tensor([30, 40])"
     },
     "execution_count": 162,
     "metadata": {},
     "output_type": "execute_result"
    }
   ],
   "source": [
    "torch.matmul(martrix1, vector1) # 于上等价"
   ]
  },
  {
   "cell_type": "code",
   "execution_count": 163,
   "metadata": {
    "pycharm": {
     "name": "#%%\n"
    }
   },
   "outputs": [
    {
     "data": {
      "text/plain": "tensor([[30],\n        [40]])"
     },
     "execution_count": 163,
     "metadata": {},
     "output_type": "execute_result"
    }
   ],
   "source": [
    "martrix1 @ vector1.reshape(4, 1) # [2, 4] @ [4, 1] --> [2, 1](矩阵代数)"
   ]
  },
  {
   "cell_type": "markdown",
   "metadata": {
    "pycharm": {
     "is_executing": false,
     "name": "#%% md\n"
    }
   },
   "source": [
    "## 矩阵 $ \\times @ $ 矩阵"
   ]
  },
  {
   "cell_type": "code",
   "execution_count": 164,
   "metadata": {
    "pycharm": {
     "name": "#%%\n"
    }
   },
   "outputs": [
    {
     "data": {
      "text/plain": "tensor([[0, 0, 0, 0],\n        [2, 3, 4, 5]])"
     },
     "execution_count": 164,
     "metadata": {},
     "output_type": "execute_result"
    }
   ],
   "source": [
    "martrix1 = torch.tensor([[1, 2, 3, 4], [2, 3, 4, 5]])\n",
    "martrix2 = torch.tensor([[0, 0, 0, 0], [1, 1, 1, 1]])\n",
    "\n",
    "martrix1 * martrix2 # 对应元素相乘"
   ]
  },
  {
   "cell_type": "code",
   "execution_count": 165,
   "metadata": {
    "pycharm": {
     "name": "#%%\n"
    }
   },
   "outputs": [
    {
     "data": {
      "text/plain": "tensor([[7, 7],\n        [9, 9]])"
     },
     "execution_count": 165,
     "metadata": {},
     "output_type": "execute_result"
    }
   ],
   "source": [
    "martrix1 @ martrix2.reshape(4, 2) # 必须满足矩阵代数运算法则"
   ]
  },
  {
   "cell_type": "code",
   "execution_count": 166,
   "metadata": {
    "pycharm": {
     "name": "#%%\n"
    }
   },
   "outputs": [
    {
     "data": {
      "text/plain": "tensor([[7, 7],\n        [9, 9]])"
     },
     "execution_count": 166,
     "metadata": {},
     "output_type": "execute_result"
    }
   ],
   "source": [
    "torch.matmul(martrix1, martrix2.reshape(4, 2))"
   ]
  },
  {
   "cell_type": "code",
   "execution_count": 166,
   "outputs": [],
   "source": [],
   "metadata": {
    "collapsed": false,
    "pycharm": {
     "name": "#%%\n"
    }
   }
  },
  {
   "cell_type": "markdown",
   "source": [
    "### 高维矩阵 @ 高维矩阵"
   ],
   "metadata": {
    "collapsed": false,
    "pycharm": {
     "name": "#%% md\n"
    }
   }
  },
  {
   "cell_type": "code",
   "execution_count": 167,
   "outputs": [],
   "source": [
    "a = torch.randn(4, 3, 5, 28, 64)\n",
    "b = torch.randn(4, 3, 5, 64, 32)"
   ],
   "metadata": {
    "collapsed": false,
    "pycharm": {
     "name": "#%%\n"
    }
   }
  },
  {
   "cell_type": "code",
   "execution_count": 168,
   "outputs": [
    {
     "data": {
      "text/plain": "torch.Size([4, 3, 5, 28, 32])"
     },
     "execution_count": 168,
     "metadata": {},
     "output_type": "execute_result"
    }
   ],
   "source": [
    "out = a @ b\n",
    "# [4, 3, 5, 28, 64] @ [4, 3, 5, 64, 32] -->\n",
    "# 1. [4, 3, 5] 不变\n",
    "# 2. [28, 64] @ [64, 32] --> [28, 64]\n",
    "# 3. [4, 3, 5, 28, 64]\n",
    "out.shape"
   ],
   "metadata": {
    "collapsed": false,
    "pycharm": {
     "name": "#%%\n"
    }
   }
  },
  {
   "cell_type": "code",
   "execution_count": 169,
   "outputs": [
    {
     "data": {
      "text/plain": "torch.Size([4, 3, 5, 28, 32])"
     },
     "execution_count": 169,
     "metadata": {},
     "output_type": "execute_result"
    }
   ],
   "source": [
    "torch.matmul(a, b).shape # 与上等价"
   ],
   "metadata": {
    "collapsed": false,
    "pycharm": {
     "name": "#%%\n"
    }
   }
  },
  {
   "cell_type": "code",
   "execution_count": 170,
   "outputs": [
    {
     "data": {
      "text/plain": "torch.Size([4, 3, 5, 28, 32])"
     },
     "execution_count": 170,
     "metadata": {},
     "output_type": "execute_result"
    }
   ],
   "source": [
    "c = torch.randn(4, 1, 5, 64, 32)\n",
    "# [4, 3, 5, 28, 64] @ [4, 1, 5, 64, 32] -->\n",
    "# 1. [4, 3, 5] broadcasting [4, 1, 5] --> [4, 3, 5]\n",
    "# 2. [28, 64] @ [64, 32] --> [28, 64]\n",
    "# 3. [4, 3, 5, 28, 64]\n",
    "out1 = a @ c\n",
    "out1.shape"
   ],
   "metadata": {
    "collapsed": false,
    "pycharm": {
     "name": "#%%\n"
    }
   }
  },
  {
   "cell_type": "code",
   "execution_count": 171,
   "outputs": [
    {
     "data": {
      "text/plain": "torch.Size([4, 3, 5, 28, 32])"
     },
     "execution_count": 171,
     "metadata": {},
     "output_type": "execute_result"
    }
   ],
   "source": [
    "torch.matmul(a, c).shape # 与上等价"
   ],
   "metadata": {
    "collapsed": false,
    "pycharm": {
     "name": "#%%\n"
    }
   }
  },
  {
   "cell_type": "code",
   "execution_count": 172,
   "outputs": [
    {
     "data": {
      "text/plain": "torch.Size([4, 3, 5, 28, 32])"
     },
     "execution_count": 172,
     "metadata": {},
     "output_type": "execute_result"
    }
   ],
   "source": [
    "a1 = torch.randn(4, 1, 5, 28, 64)\n",
    "b1 = torch.randn(1, 3, 1, 64, 32)\n",
    "# [4, 1, 5, 28, 64] @ [1, 3, 1, 64, 32] -->\n",
    "# 1. [4, 1, 5] broadcasting [1, 3, 1] --> [4, 3, 5]\n",
    "# 2. [28, 64] @ [64, 32] --> [28, 64]\n",
    "# 3. [4, 3, 5, 28, 64]\n",
    "out2 = a1 @ b1\n",
    "out2.shape"
   ],
   "metadata": {
    "collapsed": false,
    "pycharm": {
     "name": "#%%\n"
    }
   }
  },
  {
   "cell_type": "code",
   "execution_count": 173,
   "outputs": [
    {
     "data": {
      "text/plain": "torch.Size([4, 3, 5, 28, 32])"
     },
     "execution_count": 173,
     "metadata": {},
     "output_type": "execute_result"
    }
   ],
   "source": [
    "torch.matmul(a1, b1).shape # 与上等价"
   ],
   "metadata": {
    "collapsed": false,
    "pycharm": {
     "name": "#%%\n"
    }
   }
  }
 ],
 "metadata": {
  "kernelspec": {
   "display_name": "Python 3",
   "language": "python",
   "name": "python3"
  },
  "language_info": {
   "codemirror_mode": {
    "name": "ipython",
    "version": 3
   },
   "file_extension": ".py",
   "mimetype": "text/x-python",
   "name": "python",
   "nbconvert_exporter": "python",
   "pygments_lexer": "ipython3",
   "version": "3.7.4"
  },
  "toc": {
   "base_numbering": "",
   "nav_menu": {},
   "number_sections": false,
   "sideBar": true,
   "skip_h1_title": false,
   "title_cell": "Table of Contents",
   "title_sidebar": "Contents",
   "toc_cell": false,
   "toc_position": {
    "height": "calc(100% - 180px)",
    "left": "10px",
    "top": "150px",
    "width": "188.667px"
   },
   "toc_section_display": true,
   "toc_window_display": true
  }
 },
 "nbformat": 4,
 "nbformat_minor": 1
}