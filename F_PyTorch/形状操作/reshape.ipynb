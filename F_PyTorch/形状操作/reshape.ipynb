{
 "cells": [
  {
   "cell_type": "code",
   "execution_count": 21,
   "metadata": {
    "collapsed": true
   },
   "outputs": [],
   "source": [
    "import  torch"
   ]
  },
  {
   "cell_type": "code",
   "execution_count": 22,
   "outputs": [
    {
     "name": "stdout",
     "output_type": "stream",
     "text": [
      "tensor([ 0,  1,  2,  3,  4,  5,  6,  7,  8,  9, 10, 11, 12, 13, 14, 15, 16, 17,\n",
      "        18, 19, 20, 21, 22, 23, 24, 25, 26, 27, 28, 29, 30, 31, 32, 33, 34, 35,\n",
      "        36, 37, 38, 39, 40, 41, 42, 43, 44, 45, 46, 47, 48, 49, 50, 51, 52, 53,\n",
      "        54, 55, 56, 57, 58, 59, 60, 61, 62, 63])\n",
      "2339433281000\n"
     ]
    }
   ],
   "source": [
    "a = torch.arange(64)\n",
    "print(a)\n",
    "print(id(a))"
   ],
   "metadata": {
    "collapsed": false,
    "pycharm": {
     "name": "#%%\n"
    }
   }
  },
  {
   "cell_type": "code",
   "execution_count": 23,
   "outputs": [
    {
     "data": {
      "text/plain": "torch.Size([64])"
     },
     "execution_count": 23,
     "metadata": {},
     "output_type": "execute_result"
    }
   ],
   "source": [
    "a.shape # ndim=1"
   ],
   "metadata": {
    "collapsed": false,
    "pycharm": {
     "name": "#%%\n"
    }
   }
  },
  {
   "cell_type": "code",
   "execution_count": 24,
   "outputs": [
    {
     "name": "stdout",
     "output_type": "stream",
     "text": [
      "tensor([[ 0,  1,  2,  3,  4,  5,  6,  7],\n",
      "        [ 8,  9, 10, 11, 12, 13, 14, 15],\n",
      "        [16, 17, 18, 19, 20, 21, 22, 23],\n",
      "        [24, 25, 26, 27, 28, 29, 30, 31],\n",
      "        [32, 33, 34, 35, 36, 37, 38, 39],\n",
      "        [40, 41, 42, 43, 44, 45, 46, 47],\n",
      "        [48, 49, 50, 51, 52, 53, 54, 55],\n",
      "        [56, 57, 58, 59, 60, 61, 62, 63]])\n",
      "2339434244840\n"
     ]
    }
   ],
   "source": [
    "# 完全类似numpy.reshpae\n",
    "b = torch.reshape(a, (8, 8))\n",
    "# b = a.reshape(8, 8) # 与上等价\n",
    "print(b)\n",
    "print(id(b)) # ★★★★★b与a不指向同一内存"
   ],
   "metadata": {
    "collapsed": false,
    "pycharm": {
     "name": "#%%\n"
    }
   }
  },
  {
   "cell_type": "code",
   "execution_count": 25,
   "outputs": [
    {
     "data": {
      "text/plain": "tensor([[ 0],\n        [ 1],\n        [ 2],\n        [ 3],\n        [ 4],\n        [ 5],\n        [ 6],\n        [ 7],\n        [ 8],\n        [ 9],\n        [10],\n        [11],\n        [12],\n        [13],\n        [14],\n        [15],\n        [16],\n        [17],\n        [18],\n        [19],\n        [20],\n        [21],\n        [22],\n        [23],\n        [24],\n        [25],\n        [26],\n        [27],\n        [28],\n        [29],\n        [30],\n        [31],\n        [32],\n        [33],\n        [34],\n        [35],\n        [36],\n        [37],\n        [38],\n        [39],\n        [40],\n        [41],\n        [42],\n        [43],\n        [44],\n        [45],\n        [46],\n        [47],\n        [48],\n        [49],\n        [50],\n        [51],\n        [52],\n        [53],\n        [54],\n        [55],\n        [56],\n        [57],\n        [58],\n        [59],\n        [60],\n        [61],\n        [62],\n        [63]])"
     },
     "execution_count": 25,
     "metadata": {},
     "output_type": "execute_result"
    }
   ],
   "source": [
    "torch.reshape(a, (-1, 1)) # 等价于b.reshape(64, 1);ndim=2"
   ],
   "metadata": {
    "collapsed": false,
    "pycharm": {
     "name": "#%%\n"
    }
   }
  },
  {
   "cell_type": "code",
   "execution_count": 26,
   "outputs": [
    {
     "data": {
      "text/plain": "tensor([ 0,  1,  2,  3,  4,  5,  6,  7,  8,  9, 10, 11, 12, 13, 14, 15, 16, 17,\n        18, 19, 20, 21, 22, 23, 24, 25, 26, 27, 28, 29, 30, 31, 32, 33, 34, 35,\n        36, 37, 38, 39, 40, 41, 42, 43, 44, 45, 46, 47, 48, 49, 50, 51, 52, 53,\n        54, 55, 56, 57, 58, 59, 60, 61, 62, 63])"
     },
     "execution_count": 26,
     "metadata": {},
     "output_type": "execute_result"
    }
   ],
   "source": [
    "b.reshape(-1, ) # 等价于b.reshape(64, );ndim=1"
   ],
   "metadata": {
    "collapsed": false,
    "pycharm": {
     "name": "#%%\n"
    }
   }
  },
  {
   "cell_type": "code",
   "execution_count": 27,
   "outputs": [
    {
     "data": {
      "text/plain": "tensor([[0, 0, 0, 0, 0, 0, 0, 0],\n        [0, 0, 0, 0, 0, 0, 0, 0],\n        [0, 0, 0, 0, 0, 0, 0, 0],\n        [0, 0, 0, 0, 0, 0, 0, 0],\n        [0, 0, 0, 0, 0, 0, 0, 0],\n        [0, 0, 0, 0, 0, 0, 0, 0],\n        [0, 0, 0, 0, 0, 0, 0, 0],\n        [0, 0, 0, 0, 0, 0, 0, 0]])"
     },
     "execution_count": 27,
     "metadata": {},
     "output_type": "execute_result"
    }
   ],
   "source": [
    "b.flatten().reshape(8, 8) - b # 不变"
   ],
   "metadata": {
    "collapsed": false,
    "pycharm": {
     "name": "#%%\n"
    }
   }
  },
  {
   "cell_type": "code",
   "execution_count": 28,
   "outputs": [
    {
     "data": {
      "text/plain": "tensor([[[ 4.5922e-01,  4.2899e-01, -3.6472e-01, -1.3895e-01,  3.0853e-01,\n          -3.4738e-01,  1.2638e+00],\n         [ 1.2103e+00,  2.8415e-01, -1.8046e-01,  2.8609e-01, -5.0689e-01,\n           1.4746e-01,  1.1846e+00],\n         [-1.6543e+00,  6.8558e-01, -8.3799e-01,  1.5020e-01, -3.8345e-02,\n           3.4807e-01,  3.6167e-01],\n         [-2.0712e+00, -5.4075e-01,  8.3323e-01,  1.5367e-03,  5.4707e-01,\n          -1.0601e+00,  1.3723e+00],\n         [ 1.8543e+00, -1.3707e+00,  1.3807e+00, -4.9419e-01,  8.1808e-01,\n           7.5326e-01,  1.0089e+00],\n         [-1.7771e+00,  6.1059e-01, -1.6210e+00, -1.2205e+00, -2.0320e+00,\n          -8.7315e-01, -1.5223e+00],\n         [-6.7364e-01,  1.2760e+00,  2.8012e+00,  1.1890e+00,  2.2973e-01,\n          -1.8871e-01, -1.4397e+00]],\n\n        [[ 1.0117e+00,  5.2873e-01, -1.0922e+00, -1.5769e-01, -1.3649e+00,\n           1.1272e+00, -1.0403e+00],\n         [-1.0553e+00,  1.2621e+00, -1.5543e+00, -1.4987e-02,  5.2599e-01,\n          -1.8058e+00, -4.5707e-01],\n         [-8.8408e-01,  3.7981e-01, -2.6694e-02, -2.2292e-01,  3.1004e-01,\n           1.5712e+00, -1.1037e-01],\n         [ 1.3043e+00,  1.0600e-01, -1.7463e-01, -1.3096e+00,  1.5768e-01,\n          -1.2520e+00,  1.2017e+00],\n         [ 2.7971e-01,  4.9389e-01, -9.0757e-02,  7.9709e-01,  9.0942e-01,\n           4.9423e-01, -2.8629e-01],\n         [ 6.2260e-01,  1.0105e+00, -1.3794e+00,  5.0233e-02, -1.1274e+00,\n           1.6191e+00, -8.9621e-01],\n         [-1.3457e+00, -9.0400e-01,  3.0794e-01, -2.4550e+00,  8.2267e-02,\n           2.6014e-01,  2.9343e-03]]])"
     },
     "execution_count": 28,
     "metadata": {},
     "output_type": "execute_result"
    }
   ],
   "source": [
    "tor = torch.randn(2, 7, 7)\n",
    "tor"
   ],
   "metadata": {
    "collapsed": false,
    "pycharm": {
     "name": "#%%\n"
    }
   }
  },
  {
   "cell_type": "code",
   "execution_count": 29,
   "outputs": [
    {
     "data": {
      "text/plain": "tensor([[ 4.5922e-01,  4.2899e-01, -3.6472e-01, -1.3895e-01,  3.0853e-01,\n         -3.4738e-01,  1.2638e+00,  1.2103e+00,  2.8415e-01, -1.8046e-01,\n          2.8609e-01, -5.0689e-01,  1.4746e-01,  1.1846e+00, -1.6543e+00,\n          6.8558e-01, -8.3799e-01,  1.5020e-01, -3.8345e-02,  3.4807e-01,\n          3.6167e-01, -2.0712e+00, -5.4075e-01,  8.3323e-01,  1.5367e-03,\n          5.4707e-01, -1.0601e+00,  1.3723e+00,  1.8543e+00, -1.3707e+00,\n          1.3807e+00, -4.9419e-01,  8.1808e-01,  7.5326e-01,  1.0089e+00,\n         -1.7771e+00,  6.1059e-01, -1.6210e+00, -1.2205e+00, -2.0320e+00,\n         -8.7315e-01, -1.5223e+00, -6.7364e-01,  1.2760e+00,  2.8012e+00,\n          1.1890e+00,  2.2973e-01, -1.8871e-01, -1.4397e+00],\n        [ 1.0117e+00,  5.2873e-01, -1.0922e+00, -1.5769e-01, -1.3649e+00,\n          1.1272e+00, -1.0403e+00, -1.0553e+00,  1.2621e+00, -1.5543e+00,\n         -1.4987e-02,  5.2599e-01, -1.8058e+00, -4.5707e-01, -8.8408e-01,\n          3.7981e-01, -2.6694e-02, -2.2292e-01,  3.1004e-01,  1.5712e+00,\n         -1.1037e-01,  1.3043e+00,  1.0600e-01, -1.7463e-01, -1.3096e+00,\n          1.5768e-01, -1.2520e+00,  1.2017e+00,  2.7971e-01,  4.9389e-01,\n         -9.0757e-02,  7.9709e-01,  9.0942e-01,  4.9423e-01, -2.8629e-01,\n          6.2260e-01,  1.0105e+00, -1.3794e+00,  5.0233e-02, -1.1274e+00,\n          1.6191e+00, -8.9621e-01, -1.3457e+00, -9.0400e-01,  3.0794e-01,\n         -2.4550e+00,  8.2267e-02,  2.6014e-01,  2.9343e-03]])"
     },
     "execution_count": 29,
     "metadata": {},
     "output_type": "execute_result"
    }
   ],
   "source": [
    "tor1 = tor.reshape(2, 7*7) # 向量化数据\n",
    "tor1"
   ],
   "metadata": {
    "collapsed": false,
    "pycharm": {
     "name": "#%%\n"
    }
   }
  },
  {
   "cell_type": "code",
   "execution_count": 30,
   "outputs": [
    {
     "data": {
      "text/plain": "tensor([[[0., 0., 0., 0., 0., 0., 0.],\n         [0., 0., 0., 0., 0., 0., 0.],\n         [0., 0., 0., 0., 0., 0., 0.],\n         [0., 0., 0., 0., 0., 0., 0.],\n         [0., 0., 0., 0., 0., 0., 0.],\n         [0., 0., 0., 0., 0., 0., 0.],\n         [0., 0., 0., 0., 0., 0., 0.]],\n\n        [[0., 0., 0., 0., 0., 0., 0.],\n         [0., 0., 0., 0., 0., 0., 0.],\n         [0., 0., 0., 0., 0., 0., 0.],\n         [0., 0., 0., 0., 0., 0., 0.],\n         [0., 0., 0., 0., 0., 0., 0.],\n         [0., 0., 0., 0., 0., 0., 0.],\n         [0., 0., 0., 0., 0., 0., 0.]]])"
     },
     "execution_count": 30,
     "metadata": {},
     "output_type": "execute_result"
    }
   ],
   "source": [
    "tor2 = tor1.reshape(2, 7, 7) # 按原顺序恢复成原shape\n",
    "tor2 - tor"
   ],
   "metadata": {
    "collapsed": false,
    "pycharm": {
     "name": "#%%\n"
    }
   }
  },
  {
   "cell_type": "code",
   "execution_count": 30,
   "outputs": [],
   "source": [
    "\n"
   ],
   "metadata": {
    "collapsed": false,
    "pycharm": {
     "name": "#%%\n"
    }
   }
  }
 ],
 "metadata": {
  "kernelspec": {
   "display_name": "Python 3",
   "language": "python",
   "name": "python3"
  },
  "language_info": {
   "codemirror_mode": {
    "name": "ipython",
    "version": 2
   },
   "file_extension": ".py",
   "mimetype": "text/x-python",
   "name": "python",
   "nbconvert_exporter": "python",
   "pygments_lexer": "ipython2",
   "version": "2.7.6"
  }
 },
 "nbformat": 4,
 "nbformat_minor": 0
}