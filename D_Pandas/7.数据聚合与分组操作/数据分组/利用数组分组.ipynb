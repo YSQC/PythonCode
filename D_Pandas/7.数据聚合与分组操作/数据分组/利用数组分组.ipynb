{
 "cells": [
  {
   "cell_type": "code",
   "execution_count": null,
   "outputs": [],
   "source": [
    "import numpy as np\n",
    "import  pandas as pd"
   ],
   "metadata": {
    "collapsed": false,
    "pycharm": {
     "name": "#%%\n"
    }
   }
  },
  {
   "cell_type": "code",
   "execution_count": 68,
   "metadata": {
    "pycharm": {
     "is_executing": false
    }
   },
   "outputs": [
    {
     "data": {
      "text/plain": "  key1 key2     data1     data2\n0    a  one  0.109636 -0.116764\n1  NaN  two  0.605950 -0.851170\n2    b  one  2.230405  0.420600\n3    b  two -0.840177  1.396532\n4    a  one  0.095336  0.329400",
      "text/html": "<div>\n<style scoped>\n    .dataframe tbody tr th:only-of-type {\n        vertical-align: middle;\n    }\n\n    .dataframe tbody tr th {\n        vertical-align: top;\n    }\n\n    .dataframe thead th {\n        text-align: right;\n    }\n</style>\n<table border=\"1\" class=\"dataframe\">\n  <thead>\n    <tr style=\"text-align: right;\">\n      <th></th>\n      <th>key1</th>\n      <th>key2</th>\n      <th>data1</th>\n      <th>data2</th>\n    </tr>\n  </thead>\n  <tbody>\n    <tr>\n      <th>0</th>\n      <td>a</td>\n      <td>one</td>\n      <td>0.109636</td>\n      <td>-0.116764</td>\n    </tr>\n    <tr>\n      <th>1</th>\n      <td>NaN</td>\n      <td>two</td>\n      <td>0.605950</td>\n      <td>-0.851170</td>\n    </tr>\n    <tr>\n      <th>2</th>\n      <td>b</td>\n      <td>one</td>\n      <td>2.230405</td>\n      <td>0.420600</td>\n    </tr>\n    <tr>\n      <th>3</th>\n      <td>b</td>\n      <td>two</td>\n      <td>-0.840177</td>\n      <td>1.396532</td>\n    </tr>\n    <tr>\n      <th>4</th>\n      <td>a</td>\n      <td>one</td>\n      <td>0.095336</td>\n      <td>0.329400</td>\n    </tr>\n  </tbody>\n</table>\n</div>"
     },
     "metadata": {},
     "output_type": "execute_result",
     "execution_count": 68
    }
   ],
   "source": [
    "df = pd.DataFrame({'key1' : ['a', np.nan, 'b', 'b', 'a'],\n",
    "                   'key2' : ['one', 'two', 'one', 'two', 'one'],\n",
    "                   'data1' : np.random.randn(5),\n",
    "                   'data2' : np.random.randn(5)})\n",
    "\n",
    "df"
   ]
  },
  {
   "cell_type": "code",
   "execution_count": 69,
   "metadata": {
    "pycharm": {
     "is_executing": false
    }
   },
   "outputs": [],
   "source": [
    "grouped = df['data1'].groupby(df['key1']) "
   ]
  },
  {
   "cell_type": "code",
   "execution_count": 70,
   "metadata": {
    "pycharm": {
     "is_executing": false
    }
   },
   "outputs": [
    {
     "data": {
      "text/plain": "<pandas.core.groupby.generic.SeriesGroupBy object at 0x000001EBCBAEB780>"
     },
     "metadata": {},
     "output_type": "execute_result",
     "execution_count": 70
    }
   ],
   "source": [
    "grouped # GroupBy对象"
   ]
  },
  {
   "cell_type": "code",
   "execution_count": 71,
   "outputs": [
    {
     "name": "stdout",
     "text": [
      "('a', 0    0.109636\n4    0.095336\nName: data1, dtype: float64)\n('b', 2    2.230405\n3   -0.840177\nName: data1, dtype: float64)\n"
     ],
     "output_type": "stream"
    }
   ],
   "source": [
    "for group in grouped:\n",
    "    print(group) # 分组中任何缺失值将被排除在结果之外"
   ],
   "metadata": {
    "pycharm": {
     "metadata": false,
     "name": "#%%\n",
     "is_executing": false
    }
   }
  },
  {
   "cell_type": "code",
   "execution_count": 72,
   "metadata": {
    "pycharm": {
     "name": "#%%\n",
     "is_executing": false
    }
   },
   "outputs": [
    {
     "data": {
      "text/plain": "key1\na    0.102486\nb    0.695114\nName: data1, dtype: float64"
     },
     "metadata": {},
     "output_type": "execute_result",
     "execution_count": 72
    }
   ],
   "source": [
    "grouped.mean() # 计算每一个分组下的均值"
   ]
  },
  {
   "cell_type": "code",
   "execution_count": 73,
   "metadata": {
    "pycharm": {
     "is_executing": false
    }
   },
   "outputs": [
    {
     "data": {
      "text/plain": "key1  key2\na     one     0.102486\nb     one     2.230405\n      two    -0.840177\nName: data1, dtype: float64"
     },
     "metadata": {},
     "output_type": "execute_result",
     "execution_count": 73
    }
   ],
   "source": [
    "means = df['data1'].groupby([df['key1'], df['key2']]).mean() # 使用多个组分组\n",
    "means # 返回一个包含唯一键对的多层索引"
   ]
  },
  {
   "cell_type": "code",
   "execution_count": 74,
   "outputs": [
    {
     "data": {
      "text/plain": "key2       one       two\nkey1                    \na     0.102486       NaN\nb     2.230405 -0.840177",
      "text/html": "<div>\n<style scoped>\n    .dataframe tbody tr th:only-of-type {\n        vertical-align: middle;\n    }\n\n    .dataframe tbody tr th {\n        vertical-align: top;\n    }\n\n    .dataframe thead th {\n        text-align: right;\n    }\n</style>\n<table border=\"1\" class=\"dataframe\">\n  <thead>\n    <tr style=\"text-align: right;\">\n      <th>key2</th>\n      <th>one</th>\n      <th>two</th>\n    </tr>\n    <tr>\n      <th>key1</th>\n      <th></th>\n      <th></th>\n    </tr>\n  </thead>\n  <tbody>\n    <tr>\n      <th>a</th>\n      <td>0.102486</td>\n      <td>NaN</td>\n    </tr>\n    <tr>\n      <th>b</th>\n      <td>2.230405</td>\n      <td>-0.840177</td>\n    </tr>\n  </tbody>\n</table>\n</div>"
     },
     "metadata": {},
     "output_type": "execute_result",
     "execution_count": 74
    }
   ],
   "source": [
    "means.unstack() # unstack:行索引转为列索引"
   ],
   "metadata": {
    "pycharm": {
     "metadata": false,
     "name": "#%%\n",
     "is_executing": false
    }
   }
  },
  {
   "cell_type": "code",
   "execution_count": 75,
   "metadata": {
    "pycharm": {
     "is_executing": false
    }
   },
   "outputs": [
    {
     "data": {
      "text/plain": "California  2005    0.605950\n            2006    2.230405\nOhio        2005   -0.365271\n            2006    0.095336\nName: data1, dtype: float64"
     },
     "metadata": {},
     "output_type": "execute_result",
     "execution_count": 75
    }
   ],
   "source": [
    "states = np.array(['Ohio', 'California', 'California', 'Ohio', 'Ohio'])\n",
    "years = np.array([2005, 2005, 2006, 2005, 2006])\n",
    "df['data1'].groupby([states, years]).mean() # If an ndarray is passed, the values are used as-is determine the groups."
   ]
  },
  {
   "cell_type": "code",
   "execution_count": 76,
   "metadata": {
    "pycharm": {
     "is_executing": false
    }
   },
   "outputs": [],
   "source": [
    "df['key1'] = states\n",
    "df['key2'] = years"
   ]
  },
  {
   "cell_type": "code",
   "execution_count": 77,
   "metadata": {
    "pycharm": {
     "is_executing": false
    }
   },
   "outputs": [
    {
     "data": {
      "text/plain": "         key1  key2     data1     data2\n0        Ohio  2005  0.109636 -0.116764\n1  California  2005  0.605950 -0.851170\n2  California  2006  2.230405  0.420600\n3        Ohio  2005 -0.840177  1.396532\n4        Ohio  2006  0.095336  0.329400",
      "text/html": "<div>\n<style scoped>\n    .dataframe tbody tr th:only-of-type {\n        vertical-align: middle;\n    }\n\n    .dataframe tbody tr th {\n        vertical-align: top;\n    }\n\n    .dataframe thead th {\n        text-align: right;\n    }\n</style>\n<table border=\"1\" class=\"dataframe\">\n  <thead>\n    <tr style=\"text-align: right;\">\n      <th></th>\n      <th>key1</th>\n      <th>key2</th>\n      <th>data1</th>\n      <th>data2</th>\n    </tr>\n  </thead>\n  <tbody>\n    <tr>\n      <th>0</th>\n      <td>Ohio</td>\n      <td>2005</td>\n      <td>0.109636</td>\n      <td>-0.116764</td>\n    </tr>\n    <tr>\n      <th>1</th>\n      <td>California</td>\n      <td>2005</td>\n      <td>0.605950</td>\n      <td>-0.851170</td>\n    </tr>\n    <tr>\n      <th>2</th>\n      <td>California</td>\n      <td>2006</td>\n      <td>2.230405</td>\n      <td>0.420600</td>\n    </tr>\n    <tr>\n      <th>3</th>\n      <td>Ohio</td>\n      <td>2005</td>\n      <td>-0.840177</td>\n      <td>1.396532</td>\n    </tr>\n    <tr>\n      <th>4</th>\n      <td>Ohio</td>\n      <td>2006</td>\n      <td>0.095336</td>\n      <td>0.329400</td>\n    </tr>\n  </tbody>\n</table>\n</div>"
     },
     "metadata": {},
     "output_type": "execute_result",
     "execution_count": 77
    }
   ],
   "source": [
    "df"
   ]
  },
  {
   "cell_type": "code",
   "execution_count": 78,
   "metadata": {
    "pycharm": {
     "is_executing": false
    }
   },
   "outputs": [],
   "source": [
    "means = df['data1'].\\\n",
    "    groupby([df['key1'], df['key2']]).mean() # 等同于:df.groupby([df['key1'], df['key2']]).mean()['data1']"
   ]
  },
  {
   "cell_type": "code",
   "execution_count": 79,
   "metadata": {
    "pycharm": {
     "is_executing": false
    }
   },
   "outputs": [
    {
     "data": {
      "text/plain": "key1        key2\nCalifornia  2005    0.605950\n            2006    2.230405\nOhio        2005   -0.365271\n            2006    0.095336\nName: data1, dtype: float64"
     },
     "metadata": {},
     "output_type": "execute_result",
     "execution_count": 79
    }
   ],
   "source": [
    "means # 于上等价"
   ]
  },
  {
   "cell_type": "code",
   "execution_count": 80,
   "metadata": {
    "pycharm": {
     "is_executing": false
    }
   },
   "outputs": [
    {
     "data": {
      "text/plain": "                   key2     data1     data2\nkey1                                       \nCalifornia  2005.500000  1.418177 -0.215285\nOhio        2005.333333 -0.211735  0.536389",
      "text/html": "<div>\n<style scoped>\n    .dataframe tbody tr th:only-of-type {\n        vertical-align: middle;\n    }\n\n    .dataframe tbody tr th {\n        vertical-align: top;\n    }\n\n    .dataframe thead th {\n        text-align: right;\n    }\n</style>\n<table border=\"1\" class=\"dataframe\">\n  <thead>\n    <tr style=\"text-align: right;\">\n      <th></th>\n      <th>key2</th>\n      <th>data1</th>\n      <th>data2</th>\n    </tr>\n    <tr>\n      <th>key1</th>\n      <th></th>\n      <th></th>\n      <th></th>\n    </tr>\n  </thead>\n  <tbody>\n    <tr>\n      <th>California</th>\n      <td>2005.500000</td>\n      <td>1.418177</td>\n      <td>-0.215285</td>\n    </tr>\n    <tr>\n      <th>Ohio</th>\n      <td>2005.333333</td>\n      <td>-0.211735</td>\n      <td>0.536389</td>\n    </tr>\n  </tbody>\n</table>\n</div>"
     },
     "metadata": {},
     "output_type": "execute_result",
     "execution_count": 80
    }
   ],
   "source": "df.groupby(df['key1']).mean() # 默认情况下,对剩下的所有列进行分组"
  },
  {
   "cell_type": "code",
   "execution_count": 81,
   "metadata": {
    "pycharm": {
     "is_executing": false
    }
   },
   "outputs": [
    {
     "data": {
      "text/plain": "                    data1     data2\nkey1       key2                    \nCalifornia 2005  0.605950 -0.851170\n           2006  2.230405  0.420600\nOhio       2005 -0.365271  0.639884\n           2006  0.095336  0.329400",
      "text/html": "<div>\n<style scoped>\n    .dataframe tbody tr th:only-of-type {\n        vertical-align: middle;\n    }\n\n    .dataframe tbody tr th {\n        vertical-align: top;\n    }\n\n    .dataframe thead th {\n        text-align: right;\n    }\n</style>\n<table border=\"1\" class=\"dataframe\">\n  <thead>\n    <tr style=\"text-align: right;\">\n      <th></th>\n      <th></th>\n      <th>data1</th>\n      <th>data2</th>\n    </tr>\n    <tr>\n      <th>key1</th>\n      <th>key2</th>\n      <th></th>\n      <th></th>\n    </tr>\n  </thead>\n  <tbody>\n    <tr>\n      <th rowspan=\"2\" valign=\"top\">California</th>\n      <th>2005</th>\n      <td>0.605950</td>\n      <td>-0.851170</td>\n    </tr>\n    <tr>\n      <th>2006</th>\n      <td>2.230405</td>\n      <td>0.420600</td>\n    </tr>\n    <tr>\n      <th rowspan=\"2\" valign=\"top\">Ohio</th>\n      <th>2005</th>\n      <td>-0.365271</td>\n      <td>0.639884</td>\n    </tr>\n    <tr>\n      <th>2006</th>\n      <td>0.095336</td>\n      <td>0.329400</td>\n    </tr>\n  </tbody>\n</table>\n</div>"
     },
     "metadata": {},
     "output_type": "execute_result",
     "execution_count": 81
    }
   ],
   "source": "df.groupby([df['key1'], df['key2']]).mean()"
  },
  {
   "cell_type": "code",
   "execution_count": 82,
   "outputs": [
    {
     "data": {
      "text/plain": "key1        key2\nCalifornia  2005    1\n            2006    1\nOhio        2005    2\n            2006    1\ndtype: int64"
     },
     "metadata": {},
     "output_type": "execute_result",
     "execution_count": 82
    }
   ],
   "source": "df.groupby([df['key1'], df['key2']]).size() # size方法返回一个包含组大小信息的Series",
   "metadata": {
    "pycharm": {
     "metadata": false,
     "name": "#%%\n",
     "is_executing": false
    }
   }
  },
  {
   "cell_type": "code",
   "execution_count": 83,
   "outputs": [
    {
     "data": {
      "text/plain": "                    data1     data2\nkey1       key2                    \nCalifornia 2005  0.605950 -0.851170\n           2006  2.230405  0.420600\nOhio       2005 -0.365271  0.639884\n           2006  0.095336  0.329400",
      "text/html": "<div>\n<style scoped>\n    .dataframe tbody tr th:only-of-type {\n        vertical-align: middle;\n    }\n\n    .dataframe tbody tr th {\n        vertical-align: top;\n    }\n\n    .dataframe thead th {\n        text-align: right;\n    }\n</style>\n<table border=\"1\" class=\"dataframe\">\n  <thead>\n    <tr style=\"text-align: right;\">\n      <th></th>\n      <th></th>\n      <th>data1</th>\n      <th>data2</th>\n    </tr>\n    <tr>\n      <th>key1</th>\n      <th>key2</th>\n      <th></th>\n      <th></th>\n    </tr>\n  </thead>\n  <tbody>\n    <tr>\n      <th rowspan=\"2\" valign=\"top\">California</th>\n      <th>2005</th>\n      <td>0.605950</td>\n      <td>-0.851170</td>\n    </tr>\n    <tr>\n      <th>2006</th>\n      <td>2.230405</td>\n      <td>0.420600</td>\n    </tr>\n    <tr>\n      <th rowspan=\"2\" valign=\"top\">Ohio</th>\n      <th>2005</th>\n      <td>-0.365271</td>\n      <td>0.639884</td>\n    </tr>\n    <tr>\n      <th>2006</th>\n      <td>0.095336</td>\n      <td>0.329400</td>\n    </tr>\n  </tbody>\n</table>\n</div>"
     },
     "metadata": {},
     "output_type": "execute_result",
     "execution_count": 83
    }
   ],
   "source": "df.groupby([df['key1'], df['key2']], as_index=True).mean() # 默认as_index=True",
   "metadata": {
    "pycharm": {
     "metadata": false,
     "name": "#%%\n",
     "is_executing": false
    }
   }
  },
  {
   "cell_type": "code",
   "execution_count": 84,
   "outputs": [
    {
     "data": {
      "text/plain": "         key1  key2     data1     data2\n0  California  2005  0.605950 -0.851170\n1  California  2006  2.230405  0.420600\n2        Ohio  2005 -0.365271  0.639884\n3        Ohio  2006  0.095336  0.329400",
      "text/html": "<div>\n<style scoped>\n    .dataframe tbody tr th:only-of-type {\n        vertical-align: middle;\n    }\n\n    .dataframe tbody tr th {\n        vertical-align: top;\n    }\n\n    .dataframe thead th {\n        text-align: right;\n    }\n</style>\n<table border=\"1\" class=\"dataframe\">\n  <thead>\n    <tr style=\"text-align: right;\">\n      <th></th>\n      <th>key1</th>\n      <th>key2</th>\n      <th>data1</th>\n      <th>data2</th>\n    </tr>\n  </thead>\n  <tbody>\n    <tr>\n      <th>0</th>\n      <td>California</td>\n      <td>2005</td>\n      <td>0.605950</td>\n      <td>-0.851170</td>\n    </tr>\n    <tr>\n      <th>1</th>\n      <td>California</td>\n      <td>2006</td>\n      <td>2.230405</td>\n      <td>0.420600</td>\n    </tr>\n    <tr>\n      <th>2</th>\n      <td>Ohio</td>\n      <td>2005</td>\n      <td>-0.365271</td>\n      <td>0.639884</td>\n    </tr>\n    <tr>\n      <th>3</th>\n      <td>Ohio</td>\n      <td>2006</td>\n      <td>0.095336</td>\n      <td>0.329400</td>\n    </tr>\n  </tbody>\n</table>\n</div>"
     },
     "metadata": {},
     "output_type": "execute_result",
     "execution_count": 84
    }
   ],
   "source": "df.groupby([df['key1'], df['key2']], as_index=False).mean()\n# 通过groupby传递as_index=False来禁用分组健作为索引的行为",
   "metadata": {
    "pycharm": {
     "metadata": false,
     "name": "#%%\n",
     "is_executing": false
    }
   }
  },
  {
   "cell_type": "code",
   "execution_count": null,
   "outputs": [],
   "source": "\n",
   "metadata": {
    "pycharm": {
     "metadata": false,
     "name": "#%%\n"
    }
   }
  }
 ],
 "metadata": {
  "kernelspec": {
   "name": "python3",
   "language": "python",
   "display_name": "Python 3"
  },
  "language_info": {
   "codemirror_mode": {
    "name": "ipython",
    "version": 2
   },
   "file_extension": ".py",
   "mimetype": "text/x-python",
   "name": "python",
   "nbconvert_exporter": "python",
   "pygments_lexer": "ipython2",
   "version": "2.7.6"
  },
  "stem_cell": {
   "cell_type": "raw",
   "source": "",
   "metadata": {
    "pycharm": {
     "metadata": false
    }
   }
  },
  "pycharm": {
   "stem_cell": {
    "cell_type": "raw",
    "source": [],
    "metadata": {
     "collapsed": false
    }
   }
  }
 },
 "nbformat": 4,
 "nbformat_minor": 0
}