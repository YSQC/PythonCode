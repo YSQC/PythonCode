{
 "cells": [
  {
   "cell_type": "code",
   "execution_count": 9,
   "outputs": [],
   "source": [
    "import  numpy as np\n",
    "import  pandas as pd"
   ],
   "metadata": {
    "collapsed": false,
    "pycharm": {
     "name": "#%%\n",
     "is_executing": false
    }
   }
  },
  {
   "cell_type": "code",
   "execution_count": 10,
   "metadata": {
    "pycharm": {
     "is_executing": false
    }
   },
   "outputs": [
    {
     "data": {
      "text/plain": "'\\n可直接使用的聚合函数如下:\\nmean()\\t        Compute mean of groups\\nsum()\\t        Compute sum of group values\\nsize()\\t        Compute group sizes\\ncount()\\t        Compute count of group\\nstd()\\t        Standard deviation of groups\\nvar()\\t        Compute variance of groups\\nsem()\\t        Standard error of the mean of groups\\ndescribe()\\t    Generates descriptive statistics\\nfirst()\\t        Compute first of group values\\nlast()\\t        Compute last of group values\\nnth()\\t        Take nth value, or a subset if n is a list\\nmin()\\t        Compute min of group values\\nmax()\\t        Compute max of group values\\n'"
     },
     "metadata": {},
     "output_type": "execute_result",
     "execution_count": 10
    }
   ],
   "source": [
    "'''\n",
    "可直接使用的聚合函数如下:\n",
    "mean()\t        Compute mean of groups\n",
    "sum()\t        Compute sum of group values\n",
    "size()\t        Compute group sizes\n",
    "count()\t        Compute count of group\n",
    "std()\t        Standard deviation of groups\n",
    "var()\t        Compute variance of groups\n",
    "sem()\t        Standard error of the mean of groups\n",
    "describe()\t    Generates descriptive statistics\n",
    "first()\t        Compute first of group values\n",
    "last()\t        Compute last of group values\n",
    "nth()\t        Take nth value, or a subset if n is a list\n",
    "min()\t        Compute min of group values\n",
    "max()\t        Compute max of group values\n",
    "'''"
   ]
  },
  {
   "cell_type": "code",
   "execution_count": 11,
   "metadata": {
    "pycharm": {
     "is_executing": false
    }
   },
   "outputs": [
    {
     "data": {
      "text/plain": "  key1 key2     data1     data2\n0    a  one  2.422018 -0.233646\n1    a  two  1.020135  0.581207\n2    b  one  0.087783  0.023423\n3    b  two  0.251696 -0.983557\n4    a  one -0.482982 -0.648607",
      "text/html": "<div>\n<style scoped>\n    .dataframe tbody tr th:only-of-type {\n        vertical-align: middle;\n    }\n\n    .dataframe tbody tr th {\n        vertical-align: top;\n    }\n\n    .dataframe thead th {\n        text-align: right;\n    }\n</style>\n<table border=\"1\" class=\"dataframe\">\n  <thead>\n    <tr style=\"text-align: right;\">\n      <th></th>\n      <th>key1</th>\n      <th>key2</th>\n      <th>data1</th>\n      <th>data2</th>\n    </tr>\n  </thead>\n  <tbody>\n    <tr>\n      <td>0</td>\n      <td>a</td>\n      <td>one</td>\n      <td>2.422018</td>\n      <td>-0.233646</td>\n    </tr>\n    <tr>\n      <td>1</td>\n      <td>a</td>\n      <td>two</td>\n      <td>1.020135</td>\n      <td>0.581207</td>\n    </tr>\n    <tr>\n      <td>2</td>\n      <td>b</td>\n      <td>one</td>\n      <td>0.087783</td>\n      <td>0.023423</td>\n    </tr>\n    <tr>\n      <td>3</td>\n      <td>b</td>\n      <td>two</td>\n      <td>0.251696</td>\n      <td>-0.983557</td>\n    </tr>\n    <tr>\n      <td>4</td>\n      <td>a</td>\n      <td>one</td>\n      <td>-0.482982</td>\n      <td>-0.648607</td>\n    </tr>\n  </tbody>\n</table>\n</div>"
     },
     "metadata": {},
     "output_type": "execute_result",
     "execution_count": 11
    }
   ],
   "source": [
    "df = pd.DataFrame({'key1' : ['a', 'a', 'b', 'b', 'a'],\n",
    "                   'key2' : ['one', 'two', 'one', 'two', 'one'],\n",
    "                   'data1' : np.random.randn(5),\n",
    "                   'data2' : np.random.randn(5)})\n",
    "df"
   ]
  },
  {
   "cell_type": "code",
   "execution_count": 12,
   "metadata": {
    "pycharm": {
     "is_executing": false
    }
   },
   "outputs": [
    {
     "name": "stdout",
     "text": [
      "  key1 key2     data1     data2\n",
      "0    a  one  2.422018 -0.233646\n",
      "1    a  two  1.020135  0.581207\n",
      "4    a  one -0.482982 -0.648607\n",
      "  key1 key2     data1     data2\n",
      "2    b  one  0.087783  0.023423\n",
      "3    b  two  0.251696 -0.983557\n"
     ],
     "output_type": "stream"
    }
   ],
   "source": [
    "group = df.groupby('key1')\n",
    "for _, j in group:\n",
    "    print(j)"
   ]
  },
  {
   "cell_type": "code",
   "execution_count": 13,
   "metadata": {
    "pycharm": {
     "is_executing": false
    }
   },
   "outputs": [
    {
     "data": {
      "text/plain": "key1\na    2.141642\nb    0.235305\nName: data1, dtype: float64"
     },
     "metadata": {},
     "output_type": "execute_result",
     "execution_count": 13
    }
   ],
   "source": [
    "group['data1'].quantile(0.9) # 计算样本从0到1间的分位数"
   ]
  },
  {
   "cell_type": "code",
   "execution_count": 14,
   "outputs": [
    {
     "data": {
      "text/plain": "key1\na    0.986390\nb    0.169739\nName: data1, dtype: float64"
     },
     "metadata": {},
     "output_type": "execute_result",
     "execution_count": 14
    }
   ],
   "source": [
    "group['data1'].mean()"
   ],
   "metadata": {
    "pycharm": {
     "metadata": false,
     "name": "#%%\n",
     "is_executing": false
    }
   }
  },
  {
   "cell_type": "code",
   "execution_count": 15,
   "outputs": [
    {
     "data": {
      "text/plain": "key1\na   -1.193345\nb    0.022095\nName: data1, dtype: float64"
     },
     "metadata": {},
     "output_type": "execute_result",
     "execution_count": 15
    }
   ],
   "source": [
    "group['data1'].prod()"
   ],
   "metadata": {
    "pycharm": {
     "metadata": false,
     "name": "#%%\n",
     "is_executing": false
    }
   }
  },
  {
   "cell_type": "code",
   "execution_count": 16,
   "metadata": {
    "pycharm": {
     "is_executing": false
    }
   },
   "outputs": [
    {
     "data": {
      "text/plain": "     data1                                                              \\\n     count      mean       std       min       25%       50%       75%   \nkey1                                                                     \na      3.0  0.986390  1.452794 -0.482982  0.268576  1.020135  1.721076   \nb      2.0  0.169739  0.115904  0.087783  0.128761  0.169739  0.210718   \n\n               data2                                                    \\\n           max count      mean       std       min       25%       50%   \nkey1                                                                     \na     2.422018   3.0 -0.100349  0.625649 -0.648607 -0.441126 -0.233646   \nb     0.251696   2.0 -0.480067  0.712042 -0.983557 -0.731812 -0.480067   \n\n                          \n           75%       max  \nkey1                      \na     0.173781  0.581207  \nb    -0.228322  0.023423  ",
      "text/html": "<div>\n<style scoped>\n    .dataframe tbody tr th:only-of-type {\n        vertical-align: middle;\n    }\n\n    .dataframe tbody tr th {\n        vertical-align: top;\n    }\n\n    .dataframe thead tr th {\n        text-align: left;\n    }\n\n    .dataframe thead tr:last-of-type th {\n        text-align: right;\n    }\n</style>\n<table border=\"1\" class=\"dataframe\">\n  <thead>\n    <tr>\n      <th></th>\n      <th colspan=\"8\" halign=\"left\">data1</th>\n      <th colspan=\"8\" halign=\"left\">data2</th>\n    </tr>\n    <tr>\n      <th></th>\n      <th>count</th>\n      <th>mean</th>\n      <th>std</th>\n      <th>min</th>\n      <th>25%</th>\n      <th>50%</th>\n      <th>75%</th>\n      <th>max</th>\n      <th>count</th>\n      <th>mean</th>\n      <th>std</th>\n      <th>min</th>\n      <th>25%</th>\n      <th>50%</th>\n      <th>75%</th>\n      <th>max</th>\n    </tr>\n    <tr>\n      <th>key1</th>\n      <th></th>\n      <th></th>\n      <th></th>\n      <th></th>\n      <th></th>\n      <th></th>\n      <th></th>\n      <th></th>\n      <th></th>\n      <th></th>\n      <th></th>\n      <th></th>\n      <th></th>\n      <th></th>\n      <th></th>\n      <th></th>\n    </tr>\n  </thead>\n  <tbody>\n    <tr>\n      <td>a</td>\n      <td>3.0</td>\n      <td>0.986390</td>\n      <td>1.452794</td>\n      <td>-0.482982</td>\n      <td>0.268576</td>\n      <td>1.020135</td>\n      <td>1.721076</td>\n      <td>2.422018</td>\n      <td>3.0</td>\n      <td>-0.100349</td>\n      <td>0.625649</td>\n      <td>-0.648607</td>\n      <td>-0.441126</td>\n      <td>-0.233646</td>\n      <td>0.173781</td>\n      <td>0.581207</td>\n    </tr>\n    <tr>\n      <td>b</td>\n      <td>2.0</td>\n      <td>0.169739</td>\n      <td>0.115904</td>\n      <td>0.087783</td>\n      <td>0.128761</td>\n      <td>0.169739</td>\n      <td>0.210718</td>\n      <td>0.251696</td>\n      <td>2.0</td>\n      <td>-0.480067</td>\n      <td>0.712042</td>\n      <td>-0.983557</td>\n      <td>-0.731812</td>\n      <td>-0.480067</td>\n      <td>-0.228322</td>\n      <td>0.023423</td>\n    </tr>\n  </tbody>\n</table>\n</div>"
     },
     "metadata": {},
     "output_type": "execute_result",
     "execution_count": 16
    }
   ],
   "source": [
    "group.describe()"
   ]
  },
  {
   "cell_type": "code",
   "execution_count": 16,
   "outputs": [],
   "source": "\n",
   "metadata": {
    "pycharm": {
     "metadata": false,
     "name": "#%%\n",
     "is_executing": false
    }
   }
  }
 ],
 "metadata": {
  "kernelspec": {
   "name": "python3",
   "language": "python",
   "display_name": "Python 3"
  },
  "language_info": {
   "codemirror_mode": {
    "name": "ipython",
    "version": 2
   },
   "file_extension": ".py",
   "mimetype": "text/x-python",
   "name": "python",
   "nbconvert_exporter": "python",
   "pygments_lexer": "ipython2",
   "version": "2.7.6"
  },
  "pycharm": {
   "stem_cell": {
    "cell_type": "raw",
    "source": [],
    "metadata": {
     "collapsed": false
    }
   }
  }
 },
 "nbformat": 4,
 "nbformat_minor": 0
}