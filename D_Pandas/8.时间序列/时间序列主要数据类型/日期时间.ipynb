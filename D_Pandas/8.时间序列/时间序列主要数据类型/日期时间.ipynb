{
 "cells": [
  {
   "cell_type": "markdown",
   "source": [
    "## 日期时间(与datetime.datetime标准库类似)\n",
    "### 标量类(Timestamp)\n",
    "### 数组类(DatetimeIndex)"
   ],
   "metadata": {
    "pycharm": {
     "metadata": false,
     "name": "#%% md\n"
    }
   }
  },
  {
   "cell_type": "code",
   "execution_count": 20,
   "outputs": [
    {
     "data": {
      "text/plain": "'\\n日期时间的主要属性:\\n属性\\t                        描述\\nyear\\t            The year of the datetime\\nmonth\\t            The month of the datetime\\nday\\t                The days of the datetime\\nhour\\t            The hour of the datetime\\nminute\\t            The minutes of the datetime\\nsecond\\t            The seconds of the datetime\\nmicrosecond\\t        The microseconds of the datetime\\nnanosecond\\t        The nanoseconds of the datetime\\ndayofyear\\t        The ordinal day of year\\nweekofyear\\t        The week ordinal of the year\\ndayofweek\\t        The number of the day of the week with Monday=0, Sunday=6\\ndays_in_month\\t    The number of days in the month of the datetime\\nquarter\\t            Quarter of the date: Jan-Mar = 1, Apr-Jun = 2, etc\\nis_month_start\\t    Logical indicating if first day of month (defined by frequency)\\nis_month_end\\t    Logical indicating if last day of month (defined by frequency)\\nis_quarter_start\\tLogical indicating if first day of quarter (defined by frequency)\\nis_quarter_end\\t    Logical indicating if last day of quarter (defined by frequency)\\nis_year_start\\t    Logical indicating if first day of year (defined by frequency)\\nis_year_end\\t        Logical indicating if last day of year (defined by frequency)\\nis_leap_year\\t    Logical indicating if the date belongs to a leap year\\n'"
     },
     "metadata": {},
     "output_type": "execute_result",
     "execution_count": 20
    }
   ],
   "source": "import  pandas as pd\nfrom datetime import  datetime\n'''\n日期时间的主要属性:\n属性\t                        描述\nyear\t            The year of the datetime\nmonth\t            The month of the datetime\nday\t                The days of the datetime\nhour\t            The hour of the datetime\nminute\t            The minutes of the datetime\nsecond\t            The seconds of the datetime\nmicrosecond\t        The microseconds of the datetime\nnanosecond\t        The nanoseconds of the datetime\ndayofyear\t        The ordinal day of year\nweekofyear\t        The week ordinal of the year\ndayofweek\t        The number of the day of the week with Monday=0, Sunday=6\ndays_in_month\t    The number of days in the month of the datetime\nquarter\t            Quarter of the date: Jan-Mar = 1, Apr-Jun = 2, etc\nis_month_start\t    Logical indicating if first day of month (defined by frequency)\nis_month_end\t    Logical indicating if last day of month (defined by frequency)\nis_quarter_start\tLogical indicating if first day of quarter (defined by frequency)\nis_quarter_end\t    Logical indicating if last day of quarter (defined by frequency)\nis_year_start\t    Logical indicating if first day of year (defined by frequency)\nis_year_end\t        Logical indicating if last day of year (defined by frequency)\nis_leap_year\t    Logical indicating if the date belongs to a leap year\n'''",
   "metadata": {
    "pycharm": {
     "metadata": false,
     "name": "#%%\n",
     "is_executing": false
    }
   }
  },
  {
   "cell_type": "code",
   "execution_count": 22,
   "metadata": {
    "collapsed": true,
    "pycharm": {
     "is_executing": false
    }
   },
   "outputs": [
    {
     "data": {
      "text/plain": "Timestamp('2011-01-03 00:00:00')"
     },
     "metadata": {},
     "output_type": "execute_result",
     "execution_count": 22
    }
   ],
   "source": "'''\narg : integer, float, string, datetime, list, tuple, 1-d array, Series\n'''\npd.to_datetime(arg=datetime(2011, 1, 3))"
  },
  {
   "cell_type": "code",
   "execution_count": 24,
   "outputs": [
    {
     "data": {
      "text/plain": "Timestamp('2011-07-06 12:00:00')"
     },
     "metadata": {},
     "output_type": "execute_result",
     "execution_count": 24
    }
   ],
   "source": "pd.to_datetime('2011-07-06 12:00:00')",
   "metadata": {
    "pycharm": {
     "metadata": false,
     "name": "#%%\n",
     "is_executing": false
    }
   }
  },
  {
   "cell_type": "code",
   "execution_count": 34,
   "outputs": [
    {
     "name": "stdout",
     "text": [
      "<class 'pandas._libs.tslibs.timestamps.Timestamp'> 2011-07-06 12:00:00\n<class 'pandas._libs.tslibs.timestamps.Timestamp'> 2011-08-06 00:00:00\n"
     ],
     "output_type": "stream"
    }
   ],
   "source": "datestrs = ['2011-07-06 12:00:00', '2011-08-06 00:00:00']\nfor i in pd.to_datetime(arg=datestrs):\n    print(type(i), i)",
   "metadata": {
    "pycharm": {
     "metadata": false,
     "name": "#%%\n",
     "is_executing": false
    }
   }
  },
  {
   "cell_type": "code",
   "execution_count": 36,
   "outputs": [
    {
     "data": {
      "text/plain": "2011-07-06 12:00:00   1970-01-01 00:00:00.000000100\n2011-08-06 00:00:00   1970-01-01 00:00:00.000000099\ndtype: datetime64[ns]"
     },
     "metadata": {},
     "output_type": "execute_result",
     "execution_count": 36
    }
   ],
   "source": "ser = pd.Series([100, 99], index=['2011-07-06 12:00:00', '2011-08-06 00:00:00'])\npd.to_datetime(ser)",
   "metadata": {
    "pycharm": {
     "metadata": false,
     "name": "#%%\n",
     "is_executing": false
    }
   }
  },
  {
   "cell_type": "code",
   "execution_count": null,
   "outputs": [],
   "source": "# to_datetime可以对那些被认为是缺失值的值(None,空字符等)进行处理\nidx = pd.to_datetime(datestrs + [None])\nprint(idx)\nprint(type(idx))",
   "metadata": {
    "pycharm": {
     "metadata": false,
     "name": "#%%\n"
    }
   }
  },
  {
   "cell_type": "code",
   "execution_count": 9,
   "outputs": [
    {
     "data": {
      "text/plain": "Timestamp('2011-07-06 12:00:00')"
     },
     "metadata": {},
     "output_type": "execute_result",
     "execution_count": 9
    }
   ],
   "source": "idx[0] # Timestamp数据类型",
   "metadata": {
    "pycharm": {
     "metadata": false,
     "name": "#%%\n",
     "is_executing": false
    }
   }
  },
  {
   "cell_type": "code",
   "execution_count": 10,
   "outputs": [
    {
     "name": "stdout",
     "text": [
      "2011\n6\n0\n187\n2\n3\n31\n"
     ],
     "output_type": "stream"
    }
   ],
   "source": "print(idx[0].year)\nprint(idx[0].day)\nprint(idx[0].second)\nprint(idx[0].dayofyear)\nprint(idx[0].dayofweek)\nprint(idx[0].quarter)\nprint(idx[0].days_in_month)",
   "metadata": {
    "pycharm": {
     "metadata": false,
     "name": "#%%\n",
     "is_executing": false
    }
   }
  },
  {
   "cell_type": "code",
   "execution_count": 11,
   "outputs": [
    {
     "data": {
      "text/plain": "NaT"
     },
     "metadata": {},
     "output_type": "execute_result",
     "execution_count": 11
    }
   ],
   "source": "idx[2] # NaT(Not a time)",
   "metadata": {
    "pycharm": {
     "metadata": false,
     "name": "#%%\n",
     "is_executing": false
    }
   }
  },
  {
   "cell_type": "code",
   "execution_count": 12,
   "outputs": [
    {
     "data": {
      "text/plain": "DatetimeIndex(['2012-04-01', '2012-04-02', '2012-04-03', '2012-04-04',\n               '2012-04-05', '2012-04-06', '2012-04-07', '2012-04-08',\n               '2012-04-09', '2012-04-10', '2012-04-11', '2012-04-12',\n               '2012-04-13', '2012-04-14', '2012-04-15', '2012-04-16',\n               '2012-04-17', '2012-04-18', '2012-04-19', '2012-04-20',\n               '2012-04-21', '2012-04-22', '2012-04-23', '2012-04-24',\n               '2012-04-25', '2012-04-26', '2012-04-27', '2012-04-28',\n               '2012-04-29', '2012-04-30', '2012-05-01', '2012-05-02',\n               '2012-05-03', '2012-05-04', '2012-05-05', '2012-05-06',\n               '2012-05-07', '2012-05-08', '2012-05-09', '2012-05-10',\n               '2012-05-11', '2012-05-12', '2012-05-13', '2012-05-14',\n               '2012-05-15', '2012-05-16', '2012-05-17', '2012-05-18',\n               '2012-05-19', '2012-05-20', '2012-05-21', '2012-05-22',\n               '2012-05-23', '2012-05-24', '2012-05-25', '2012-05-26',\n               '2012-05-27', '2012-05-28', '2012-05-29', '2012-05-30',\n               '2012-05-31', '2012-06-01'],\n              dtype='datetime64[ns]', freq='D')"
     },
     "metadata": {},
     "output_type": "execute_result",
     "execution_count": 12
    }
   ],
   "source": "index = pd.date_range('2012-04-01', '2012-06-01') # 默认freq='D'\nindex",
   "metadata": {
    "pycharm": {
     "metadata": false,
     "name": "#%%\n",
     "is_executing": false
    }
   }
  },
  {
   "cell_type": "code",
   "execution_count": 13,
   "outputs": [
    {
     "data": {
      "text/plain": "DatetimeIndex(['2012-04-01', '2012-04-02', '2012-04-03', '2012-04-04',\n               '2012-04-05', '2012-04-06', '2012-04-07', '2012-04-08',\n               '2012-04-09', '2012-04-10', '2012-04-11', '2012-04-12',\n               '2012-04-13', '2012-04-14', '2012-04-15', '2012-04-16',\n               '2012-04-17', '2012-04-18', '2012-04-19', '2012-04-20'],\n              dtype='datetime64[ns]', freq='D')"
     },
     "metadata": {},
     "output_type": "execute_result",
     "execution_count": 13
    }
   ],
   "source": "pd.date_range(start='2012-04-01', periods=20)",
   "metadata": {
    "pycharm": {
     "metadata": false,
     "name": "#%%\n",
     "is_executing": false
    }
   }
  },
  {
   "cell_type": "code",
   "execution_count": 14,
   "outputs": [
    {
     "data": {
      "text/plain": "Timestamp('2012-04-02 00:00:00', freq='D')"
     },
     "metadata": {},
     "output_type": "execute_result",
     "execution_count": 14
    }
   ],
   "source": "pd.date_range(start='2012-04-01', periods=20)[1]",
   "metadata": {
    "pycharm": {
     "metadata": false,
     "name": "#%%\n",
     "is_executing": false
    }
   }
  },
  {
   "cell_type": "code",
   "execution_count": 15,
   "outputs": [
    {
     "data": {
      "text/plain": "DatetimeIndex(['2012-05-13', '2012-05-14', '2012-05-15', '2012-05-16',\n               '2012-05-17', '2012-05-18', '2012-05-19', '2012-05-20',\n               '2012-05-21', '2012-05-22', '2012-05-23', '2012-05-24',\n               '2012-05-25', '2012-05-26', '2012-05-27', '2012-05-28',\n               '2012-05-29', '2012-05-30', '2012-05-31', '2012-06-01'],\n              dtype='datetime64[ns]', freq='D')"
     },
     "metadata": {},
     "output_type": "execute_result",
     "execution_count": 15
    }
   ],
   "source": "pd.date_range(end='2012-06-01', periods=20)\n# 只传递一个起始或结束日期,必须传递一个用于生成范围的数字",
   "metadata": {
    "pycharm": {
     "metadata": false,
     "name": "#%%\n",
     "is_executing": false
    }
   }
  },
  {
   "cell_type": "code",
   "execution_count": 16,
   "outputs": [
    {
     "data": {
      "text/plain": "DatetimeIndex(['2000-01-01', '2000-02-01', '2000-03-01', '2000-04-01',\n               '2000-05-01', '2000-06-01', '2000-07-01', '2000-08-01',\n               '2000-09-01', '2000-10-01', '2000-11-01', '2000-12-01'],\n              dtype='datetime64[ns]', freq='MS')"
     },
     "metadata": {},
     "output_type": "execute_result",
     "execution_count": 16
    }
   ],
   "source": "pd.date_range('2000-01-01', '2000-12-01', freq='MS') # freq ： str或DateOffset，默认为'D'",
   "metadata": {
    "pycharm": {
     "metadata": false,
     "name": "#%%\n",
     "is_executing": false
    }
   }
  },
  {
   "cell_type": "code",
   "execution_count": 17,
   "outputs": [
    {
     "data": {
      "text/plain": "DatetimeIndex(['2012-05-02 12:56:31', '2012-05-03 12:56:31',\n               '2012-05-04 12:56:31', '2012-05-05 12:56:31',\n               '2012-05-06 12:56:31'],\n              dtype='datetime64[ns]', freq='D')"
     },
     "metadata": {},
     "output_type": "execute_result",
     "execution_count": 17
    }
   ],
   "source": "pd.date_range('2012-05-02 12:56:31', periods=5)\n# 默认情况下,date_range保留开始或结束时间戳的时间(如果有的话)",
   "metadata": {
    "pycharm": {
     "metadata": false,
     "name": "#%%\n",
     "is_executing": false
    }
   }
  },
  {
   "cell_type": "code",
   "execution_count": 18,
   "outputs": [
    {
     "data": {
      "text/plain": "DatetimeIndex(['2012-05-02', '2012-05-03', '2012-05-04', '2012-05-05',\n               '2012-05-06'],\n              dtype='datetime64[ns]', freq='D')"
     },
     "metadata": {},
     "output_type": "execute_result",
     "execution_count": 18
    }
   ],
   "source": "pd.date_range('2012-05-02 12:56:31', periods=5, normalize=True)\n# normalize=True,生成标准化为零点的时间戳\n",
   "metadata": {
    "pycharm": {
     "metadata": false,
     "name": "#%%\n",
     "is_executing": false
    }
   }
  }
 ],
 "metadata": {
  "language_info": {
   "codemirror_mode": {
    "name": "ipython",
    "version": 2
   },
   "file_extension": ".py",
   "mimetype": "text/x-python",
   "name": "python",
   "nbconvert_exporter": "python",
   "pygments_lexer": "ipython2",
   "version": "2.7.6"
  },
  "kernelspec": {
   "name": "python3",
   "language": "python",
   "display_name": "Python 3"
  },
  "stem_cell": {
   "cell_type": "raw",
   "source": "",
   "metadata": {
    "pycharm": {
     "metadata": false
    }
   }
  },
  "pycharm": {
   "stem_cell": {
    "cell_type": "raw",
    "source": [],
    "metadata": {
     "collapsed": false
    }
   }
  }
 },
 "nbformat": 4,
 "nbformat_minor": 0
}