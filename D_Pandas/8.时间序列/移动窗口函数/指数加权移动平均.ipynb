{
 "cells": [
  {
   "cell_type": "markdown",
   "metadata": {
    "collapsed": true,
    "pycharm": {
     "name": "#%% md\n"
    }
   },
   "source": [
    "&emsp;&emsp;In general, a weighted moving average is calculated as \n",
    "$$ y_{t} = \\frac{ \\sum_{i=0}^{t} w_{i}x_{t-i} }{ \\sum_{i=0}^{t} w_{i}} $$    \n",
    "where $ x_{i} $ is the input, $ y_{i}  $ is the result and $ w_{i} $ are the wights.\n",
    "the EW functions support two variants of exponential weights. the default, adjust=True,uses the weights $ w_{i} = (1- \\alpha)^i $ which gives    \n",
    "$$ y_{t} = \\frac{ x_{t} + (1-\\alpha)x_{t-1} + (1-\\alpha)^{2}x_{t-2} +...+ (1-\\alpha)^{t}x_{0}}{ 1 + (1-\\alpha) + (1-\\alpha)^2 + ... + (1-\\alpha)^t } $$    \n",
    "\n",
    "\n",
    "&emsp;&emsp;when adjust=False is specified, moving averages are calculated as    \n",
    "\\begin{equation} \n",
    "\\begin{split}%加在equation环境中使之有公式编号\n",
    "\t\ty_{0}&=x_{0}\\\\\n",
    "\t\ty_{t}&=(1-\\alpha)y_{t-1} + \\alpha x_{t}\n",
    "\\end{split} \n",
    "\\end{equation}  \n",
    "\n",
    "\\begin{equation} \n",
    "\\begin{split}\\alpha =\n",
    " \\begin{cases}\n",
    "     \\frac{2}{s + 1},               & \\text{for span}\\ s \\geq 1\\\\\n",
    "     \\frac{1}{1 + c},               & \\text{for center of mass}\\ c \\geq 0\\\\\n",
    "     1 - \\exp^{\\frac{\\log 0.5}{h}}, & \\text{for half-life}\\ h > 0\n",
    " \\end{cases}\\end{split}\n",
    "\\end{equation}  \n",
    "\n",
    "which is equivalent to using weights  \n",
    "\\begin{equation} \n",
    "\\begin{split}w_i = \\begin{cases}\n",
    "    \\alpha (1 - \\alpha)^i & \\text{if } i < t \\\\\n",
    "    (1 - \\alpha)^i        & \\text{if } i = t.\n",
    "\\end{cases}\\end{split}\n",
    "\\end{equation}  \n",
    "\n",
    "\n",
    "&emsp;&emsp;The difference between the above two variants arises because we are dealing with series which have finite history. Consider a series of infinite history, with `adjust=True`:     \n",
    "\\begin{equation} \n",
    "y_t = \\frac{x_t + (1 - \\alpha)x_{t-1} + (1 - \\alpha)^2 x_{t-2} + ...}\n",
    "{1 + (1 - \\alpha) + (1 - \\alpha)^2 + ...}\n",
    "\\end{equation}  \n",
    "\n",
    "Noting that the denominator is a geometric series with initial term equal to 1 and a ratio of$ 1 - \\alpha$ we have   \n",
    "\\begin{equation} \n",
    "\\begin{split}y_t &= \\frac{x_t + (1 - \\alpha)x_{t-1} + (1 - \\alpha)^2 x_{t-2} + ...}\n",
    "{\\frac{1}{1 - (1 - \\alpha)}}\\\\\n",
    "&= [x_t + (1 - \\alpha)x_{t-1} + (1 - \\alpha)^2 x_{t-2} + ...] \\alpha \\\\\n",
    "&= \\alpha x_t + [(1-\\alpha)x_{t-1} + (1 - \\alpha)^2 x_{t-2} + ...]\\alpha \\\\\n",
    "&= \\alpha x_t + (1 - \\alpha)[x_{t-1} + (1 - \\alpha) x_{t-2} + ...]\\alpha\\\\\n",
    "&= \\alpha x_t + (1 - \\alpha) y_{t-1}\\end{split}\n",
    "\\end{equation}  \n",
    "\n",
    "\n",
    "&emsp;&emsp;which is the same expression as `adjust=False` above and therefore shows the equivalence of the two variants for infinite series. When `adjust=False`, we have $  y_0 = x_0$and$ y_t = \\alpha x_t + (1 - \\alpha) y_{t-1} $. Therefore, there is an assumption that $ x_{0} $ is not an ordinary value but rather an exponentially weighted moment of the infinite series up to that point.    \n",
    "\n",
    "\n",
    "&emsp;&emsp;One must have $ 0 < \\alpha \\leq 1$, and while since version 0.18.0 it has been possible to pass αα directly, it’s often easier to think about either the **span**, **center of mass (com)** or **half-life** of an EW moment:    \n",
    "\\begin{equation}\n",
    "\\begin{split}\\alpha =\n",
    " \\begin{cases}\n",
    "     \\frac{2}{s + 1},               & \\text{for span}\\ s \\geq 1\\\\\n",
    "     \\frac{1}{1 + c},               & \\text{for center of mass}\\ c \\geq 0\\\\\n",
    "     1 - \\exp^{\\frac{\\log 0.5}{h}}, & \\text{for half-life}\\ h > 0\n",
    " \\end{cases}\\end{split}\n",
    "\\end{equation}<br/>\n",
    "One must specify precisely one of **span**, **center of mass**, **half-life** and **alpha** to the EW functions:\n",
    "\n",
    "- **Span** corresponds to what is commonly called an “N-day EW moving average”.\n",
    "- **Center of mass** has a more physical interpretation and can be thought of in terms of span: $ c = (s - 1) / 2 $.\n",
    "- **Half-life** is the period of time for the exponential weight to reduce to one half.\n",
    "- **Alpha** specifies the smoothing factor directly."
   ]
  },
  {
   "cell_type": "code",
   "execution_count": 2,
   "outputs": [],
   "source": "import  pandas as pd\nimport  matplotlib.pyplot as plt",
   "metadata": {
    "pycharm": {
     "metadata": false,
     "name": "#%%\n",
     "is_executing": false
    }
   }
  },
  {
   "cell_type": "code",
   "execution_count": 3,
   "metadata": {
    "pycharm": {
     "is_executing": false
    }
   },
   "outputs": [],
   "source": "close_px_all = pd.read_csv('stock_px_2.csv',\n                           parse_dates=True, index_col=0)"
  },
  {
   "cell_type": "code",
   "execution_count": 4,
   "metadata": {
    "pycharm": {
     "is_executing": false
    }
   },
   "outputs": [],
   "source": "close_px = close_px_all[['AAPL', 'MSFT', 'XOM']]"
  },
  {
   "cell_type": "code",
   "execution_count": 5,
   "metadata": {
    "pycharm": {
     "is_executing": false
    }
   },
   "outputs": [
    {
     "data": {
      "text/plain": "2006-01-03    74.75\n2006-01-04    74.97\n2006-01-05    74.38\n2006-01-06    76.30\n2006-01-09    76.05\nName: AAPL, dtype: float64"
     },
     "metadata": {},
     "output_type": "execute_result",
     "execution_count": 5
    }
   ],
   "source": "aapl_px = close_px.AAPL['2006':'2007']\naapl_px.head()"
  },
  {
   "cell_type": "code",
   "execution_count": 6,
   "metadata": {
    "pycharm": {
     "is_executing": false
    }
   },
   "outputs": [
    {
     "data": {
      "text/plain": "                     1           2\n2006-01-03         NaN   74.750000\n2006-01-04         NaN   74.863667\n2006-01-05         NaN   74.691581\n2006-01-06         NaN   75.134759\n2006-01-09         NaN   75.342998\n...                ...         ...\n2007-12-24  180.069000  183.475732\n2007-12-26  181.575333  184.474072\n2007-12-27  182.529000  185.383487\n2007-12-28  183.653000  186.315520\n2007-12-31  184.779000  187.074518\n\n[502 rows x 2 columns]",
      "text/html": "<div>\n<style scoped>\n    .dataframe tbody tr th:only-of-type {\n        vertical-align: middle;\n    }\n\n    .dataframe tbody tr th {\n        vertical-align: top;\n    }\n\n    .dataframe thead th {\n        text-align: right;\n    }\n</style>\n<table border=\"1\" class=\"dataframe\">\n  <thead>\n    <tr style=\"text-align: right;\">\n      <th></th>\n      <th>1</th>\n      <th>2</th>\n    </tr>\n  </thead>\n  <tbody>\n    <tr>\n      <th>2006-01-03</th>\n      <td>NaN</td>\n      <td>74.750000</td>\n    </tr>\n    <tr>\n      <th>2006-01-04</th>\n      <td>NaN</td>\n      <td>74.863667</td>\n    </tr>\n    <tr>\n      <th>2006-01-05</th>\n      <td>NaN</td>\n      <td>74.691581</td>\n    </tr>\n    <tr>\n      <th>2006-01-06</th>\n      <td>NaN</td>\n      <td>75.134759</td>\n    </tr>\n    <tr>\n      <th>2006-01-09</th>\n      <td>NaN</td>\n      <td>75.342998</td>\n    </tr>\n    <tr>\n      <th>2006-01-10</th>\n      <td>NaN</td>\n      <td>76.422313</td>\n    </tr>\n    <tr>\n      <th>2006-01-11</th>\n      <td>NaN</td>\n      <td>77.715628</td>\n    </tr>\n    <tr>\n      <th>2006-01-12</th>\n      <td>NaN</td>\n      <td>78.741466</td>\n    </tr>\n    <tr>\n      <th>2006-01-13</th>\n      <td>NaN</td>\n      <td>79.720484</td>\n    </tr>\n    <tr>\n      <th>2006-01-17</th>\n      <td>NaN</td>\n      <td>80.381872</td>\n    </tr>\n    <tr>\n      <th>2006-01-18</th>\n      <td>NaN</td>\n      <td>80.643515</td>\n    </tr>\n    <tr>\n      <th>2006-01-19</th>\n      <td>NaN</td>\n      <td>80.455694</td>\n    </tr>\n    <tr>\n      <th>2006-01-20</th>\n      <td>NaN</td>\n      <td>79.969897</td>\n    </tr>\n    <tr>\n      <th>2006-01-23</th>\n      <td>NaN</td>\n      <td>79.725406</td>\n    </tr>\n    <tr>\n      <th>2006-01-24</th>\n      <td>NaN</td>\n      <td>79.349343</td>\n    </tr>\n    <tr>\n      <th>2006-01-25</th>\n      <td>NaN</td>\n      <td>78.842903</td>\n    </tr>\n    <tr>\n      <th>2006-01-26</th>\n      <td>NaN</td>\n      <td>78.223319</td>\n    </tr>\n    <tr>\n      <th>2006-01-27</th>\n      <td>NaN</td>\n      <td>77.651641</td>\n    </tr>\n    <tr>\n      <th>2006-01-30</th>\n      <td>NaN</td>\n      <td>77.413497</td>\n    </tr>\n    <tr>\n      <th>2006-01-31</th>\n      <td>77.810000</td>\n      <td>77.246761</td>\n    </tr>\n    <tr>\n      <th>2006-02-01</th>\n      <td>77.696190</td>\n      <td>77.090357</td>\n    </tr>\n    <tr>\n      <th>2006-02-02</th>\n      <td>77.441818</td>\n      <td>76.671921</td>\n    </tr>\n    <tr>\n      <th>2006-02-03</th>\n      <td>77.198696</td>\n      <td>76.275276</td>\n    </tr>\n    <tr>\n      <th>2006-02-06</th>\n      <td>76.786250</td>\n      <td>75.549852</td>\n    </tr>\n    <tr>\n      <th>2006-02-07</th>\n      <td>76.418800</td>\n      <td>74.917618</td>\n    </tr>\n    <tr>\n      <th>2006-02-08</th>\n      <td>76.126154</td>\n      <td>74.439077</td>\n    </tr>\n    <tr>\n      <th>2006-02-09</th>\n      <td>75.712222</td>\n      <td>73.705740</td>\n    </tr>\n    <tr>\n      <th>2006-02-10</th>\n      <td>75.412143</td>\n      <td>73.217693</td>\n    </tr>\n    <tr>\n      <th>2006-02-13</th>\n      <td>75.043103</td>\n      <td>72.576053</td>\n    </tr>\n    <tr>\n      <th>2006-02-14</th>\n      <td>74.796333</td>\n      <td>72.207797</td>\n    </tr>\n    <tr>\n      <th>...</th>\n      <td>...</td>\n      <td>...</td>\n    </tr>\n    <tr>\n      <th>2007-11-16</th>\n      <td>175.406000</td>\n      <td>170.937503</td>\n    </tr>\n    <tr>\n      <th>2007-11-19</th>\n      <td>175.274000</td>\n      <td>170.486696</td>\n    </tr>\n    <tr>\n      <th>2007-11-20</th>\n      <td>175.307000</td>\n      <td>170.381103</td>\n    </tr>\n    <tr>\n      <th>2007-11-21</th>\n      <td>175.362667</td>\n      <td>170.257161</td>\n    </tr>\n    <tr>\n      <th>2007-11-23</th>\n      <td>175.673000</td>\n      <td>170.339925</td>\n    </tr>\n    <tr>\n      <th>2007-11-26</th>\n      <td>175.849333</td>\n      <td>170.481865</td>\n    </tr>\n    <tr>\n      <th>2007-11-27</th>\n      <td>176.110333</td>\n      <td>170.761100</td>\n    </tr>\n    <tr>\n      <th>2007-11-28</th>\n      <td>176.465000</td>\n      <td>171.371351</td>\n    </tr>\n    <tr>\n      <th>2007-11-29</th>\n      <td>176.849667</td>\n      <td>172.204812</td>\n    </tr>\n    <tr>\n      <th>2007-11-30</th>\n      <td>177.140333</td>\n      <td>172.850954</td>\n    </tr>\n    <tr>\n      <th>2007-12-03</th>\n      <td>177.421667</td>\n      <td>173.238634</td>\n    </tr>\n    <tr>\n      <th>2007-12-04</th>\n      <td>177.603333</td>\n      <td>173.662593</td>\n    </tr>\n    <tr>\n      <th>2007-12-05</th>\n      <td>177.581333</td>\n      <td>174.426297</td>\n    </tr>\n    <tr>\n      <th>2007-12-06</th>\n      <td>177.715333</td>\n      <td>175.427826</td>\n    </tr>\n    <tr>\n      <th>2007-12-07</th>\n      <td>178.099333</td>\n      <td>176.645386</td>\n    </tr>\n    <tr>\n      <th>2007-12-10</th>\n      <td>178.416333</td>\n      <td>177.778587</td>\n    </tr>\n    <tr>\n      <th>2007-12-11</th>\n      <td>178.531333</td>\n      <td>178.472871</td>\n    </tr>\n    <tr>\n      <th>2007-12-12</th>\n      <td>178.660000</td>\n      <td>179.272041</td>\n    </tr>\n    <tr>\n      <th>2007-12-13</th>\n      <td>178.722667</td>\n      <td>180.082232</td>\n    </tr>\n    <tr>\n      <th>2007-12-14</th>\n      <td>178.821000</td>\n      <td>180.747249</td>\n    </tr>\n    <tr>\n      <th>2007-12-17</th>\n      <td>178.705333</td>\n      <td>180.982910</td>\n    </tr>\n    <tr>\n      <th>2007-12-18</th>\n      <td>178.598667</td>\n      <td>181.111755</td>\n    </tr>\n    <tr>\n      <th>2007-12-19</th>\n      <td>178.309667</td>\n      <td>181.241319</td>\n    </tr>\n    <tr>\n      <th>2007-12-20</th>\n      <td>178.340000</td>\n      <td>181.626395</td>\n    </tr>\n    <tr>\n      <th>2007-12-21</th>\n      <td>178.954667</td>\n      <td>182.418886</td>\n    </tr>\n    <tr>\n      <th>2007-12-24</th>\n      <td>180.069000</td>\n      <td>183.475732</td>\n    </tr>\n    <tr>\n      <th>2007-12-26</th>\n      <td>181.575333</td>\n      <td>184.474072</td>\n    </tr>\n    <tr>\n      <th>2007-12-27</th>\n      <td>182.529000</td>\n      <td>185.383487</td>\n    </tr>\n    <tr>\n      <th>2007-12-28</th>\n      <td>183.653000</td>\n      <td>186.315520</td>\n    </tr>\n    <tr>\n      <th>2007-12-31</th>\n      <td>184.779000</td>\n      <td>187.074518</td>\n    </tr>\n  </tbody>\n</table>\n<p>502 rows × 2 columns</p>\n</div>"
     },
     "metadata": {},
     "output_type": "execute_result",
     "execution_count": 6
    }
   ],
   "source": "ma60 = aapl_px.rolling(30, min_periods=20).mean() # 一次移动平均\newma30 = aapl_px.ewm(span=30).mean() # 指数平均平滑法(取第一期的实际值为初值)\n'''\ncom : float, optional\n    Specify decay in terms of center of mass, α=1/(1+com), for com≥0.\n\nspan : float, optional\n    Specify decay in terms of span, α=2/(span+1), for span≥1.\n\nhalflife : float, optional\n    Specify decay in terms of half-life, α=1−exp(log(0.5)/halflife),for halflife>0.\n\nalpha : float, optional\n    Specify smoothing factor α directly, 0<α≤1.\n'''\ndf_empty = pd.DataFrame() # 创建一个空的dataframe\ndf_empty[1] = ma60\ndf_empty[2] = ewma30\ndf_empty"
  },
  {
   "cell_type": "code",
   "execution_count": 7,
   "metadata": {
    "pycharm": {
     "is_executing": false
    }
   },
   "outputs": [
    {
     "data": {
      "text/plain": "<matplotlib.legend.Legend at 0x186efbbf358>"
     },
     "metadata": {},
     "output_type": "execute_result",
     "execution_count": 7
    },
    {
     "data": {
      "text/plain": "<Figure size 432x288 with 1 Axes>",
      "image/png": "[encoded data removed]"
     },
     "metadata": {
      "needs_background": "light"
     },
     "output_type": "display_data"
    }
   ],
   "source": "ewma30.plot(style='k-', label='EW MA')\nma60.plot(style='k--', label='Simple MA')\nplt.legend()"
  },
  {
   "cell_type": "code",
   "execution_count": null,
   "outputs": [],
   "source": "\n",
   "metadata": {
    "pycharm": {
     "metadata": false,
     "name": "#%%\n"
    }
   }
  }
 ],
 "metadata": {
  "kernelspec": {
   "name": "python3",
   "language": "python",
   "display_name": "Python 3"
  },
  "language_info": {
   "codemirror_mode": {
    "name": "ipython",
    "version": 2
   },
   "file_extension": ".py",
   "mimetype": "text/x-python",
   "name": "python",
   "nbconvert_exporter": "python",
   "pygments_lexer": "ipython2",
   "version": "2.7.6"
  },
  "pycharm": {
   "stem_cell": {
    "cell_type": "raw",
    "source": [],
    "metadata": {
     "collapsed": false
    }
   }
  }
 },
 "nbformat": 4,
 "nbformat_minor": 0
}