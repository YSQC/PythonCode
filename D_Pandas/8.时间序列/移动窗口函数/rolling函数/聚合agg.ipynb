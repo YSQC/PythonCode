{
 "cells": [
  {
   "cell_type": "markdown",
   "metadata": {
    "collapsed": true,
    "pycharm": {
     "name": "#%% md\n"
    }
   },
   "source": [
    "These operations are similar to the aggregating API, groupby API, and resample API."
   ]
  },
  {
   "cell_type": "code",
   "execution_count": 4,
   "outputs": [
    {
     "data": {
      "text/plain": "                   A         B         C\n2000-01-01 -0.061697 -1.383779  0.456559\n2000-01-02  0.289813 -1.720712  0.774160\n2000-01-03  0.073269 -1.391545  2.006786\n2000-01-04  1.415866 -1.547647  2.785758\n2000-01-05  1.787372 -3.084915  2.845551\n...              ...       ...       ...\n2002-09-22  3.366380 -0.599975  5.962666\n2002-09-23  2.543990 -1.758807  5.789357\n2002-09-24  4.165219 -3.390163  2.886294\n2002-09-25  4.297308 -3.827195  5.581808\n2002-09-26  2.113206 -4.799348  6.234404\n\n[1000 rows x 3 columns]",
      "text/html": "<div>\n<style scoped>\n    .dataframe tbody tr th:only-of-type {\n        vertical-align: middle;\n    }\n\n    .dataframe tbody tr th {\n        vertical-align: top;\n    }\n\n    .dataframe thead th {\n        text-align: right;\n    }\n</style>\n<table border=\"1\" class=\"dataframe\">\n  <thead>\n    <tr style=\"text-align: right;\">\n      <th></th>\n      <th>A</th>\n      <th>B</th>\n      <th>C</th>\n    </tr>\n  </thead>\n  <tbody>\n    <tr>\n      <th>2000-01-01</th>\n      <td>-0.061697</td>\n      <td>-1.383779</td>\n      <td>0.456559</td>\n    </tr>\n    <tr>\n      <th>2000-01-02</th>\n      <td>0.289813</td>\n      <td>-1.720712</td>\n      <td>0.774160</td>\n    </tr>\n    <tr>\n      <th>2000-01-03</th>\n      <td>0.073269</td>\n      <td>-1.391545</td>\n      <td>2.006786</td>\n    </tr>\n    <tr>\n      <th>2000-01-04</th>\n      <td>1.415866</td>\n      <td>-1.547647</td>\n      <td>2.785758</td>\n    </tr>\n    <tr>\n      <th>2000-01-05</th>\n      <td>1.787372</td>\n      <td>-3.084915</td>\n      <td>2.845551</td>\n    </tr>\n    <tr>\n      <th>...</th>\n      <td>...</td>\n      <td>...</td>\n      <td>...</td>\n    </tr>\n    <tr>\n      <th>2002-09-22</th>\n      <td>3.366380</td>\n      <td>-0.599975</td>\n      <td>5.962666</td>\n    </tr>\n    <tr>\n      <th>2002-09-23</th>\n      <td>2.543990</td>\n      <td>-1.758807</td>\n      <td>5.789357</td>\n    </tr>\n    <tr>\n      <th>2002-09-24</th>\n      <td>4.165219</td>\n      <td>-3.390163</td>\n      <td>2.886294</td>\n    </tr>\n    <tr>\n      <th>2002-09-25</th>\n      <td>4.297308</td>\n      <td>-3.827195</td>\n      <td>5.581808</td>\n    </tr>\n    <tr>\n      <th>2002-09-26</th>\n      <td>2.113206</td>\n      <td>-4.799348</td>\n      <td>6.234404</td>\n    </tr>\n  </tbody>\n</table>\n<p>1000 rows × 3 columns</p>\n</div>"
     },
     "metadata": {},
     "output_type": "execute_result",
     "execution_count": 4
    }
   ],
   "source": [
    "import  pandas as pd\n",
    "import numpy as np\n",
    "\n",
    "\n",
    "dfa = pd.DataFrame(np.random.randn(1000, 3),\n",
    "                    index=pd.date_range('1/1/2000', periods=1000),\n",
    "                    columns=['A', 'B', 'C'])\n",
    "r = dfa.rolling(window=60, min_periods=1)\n",
    "r.sum()"
   ],
   "metadata": {
    "pycharm": {
     "metadata": false,
     "name": "#%%\n",
     "is_executing": false
    }
   }
  },
  {
   "cell_type": "code",
   "execution_count": 2,
   "outputs": [
    {
     "data": {
      "text/plain": "                   A         B         C\n2000-01-01 -0.208611 -0.653629 -0.150966\n2000-01-02  0.851558 -0.357503 -0.196315\n2000-01-03 -0.354365 -0.436378 -1.018730\n2000-01-04  0.125172 -0.421115 -1.104078\n2000-01-05  0.913002  0.411900 -0.686950\n...              ...       ...       ...\n2002-09-22  7.988417 -1.855877  4.749733\n2002-09-23  8.994775 -3.440078  3.825041\n2002-09-24  7.374663 -4.157817  2.168155\n2002-09-25  7.909338 -4.178269  1.912223\n2002-09-26  7.890159 -5.067090  3.688127\n\n[1000 rows x 3 columns]",
      "text/html": "<div>\n<style scoped>\n    .dataframe tbody tr th:only-of-type {\n        vertical-align: middle;\n    }\n\n    .dataframe tbody tr th {\n        vertical-align: top;\n    }\n\n    .dataframe thead th {\n        text-align: right;\n    }\n</style>\n<table border=\"1\" class=\"dataframe\">\n  <thead>\n    <tr style=\"text-align: right;\">\n      <th></th>\n      <th>A</th>\n      <th>B</th>\n      <th>C</th>\n    </tr>\n  </thead>\n  <tbody>\n    <tr>\n      <th>2000-01-01</th>\n      <td>-0.208611</td>\n      <td>-0.653629</td>\n      <td>-0.150966</td>\n    </tr>\n    <tr>\n      <th>2000-01-02</th>\n      <td>0.851558</td>\n      <td>-0.357503</td>\n      <td>-0.196315</td>\n    </tr>\n    <tr>\n      <th>2000-01-03</th>\n      <td>-0.354365</td>\n      <td>-0.436378</td>\n      <td>-1.018730</td>\n    </tr>\n    <tr>\n      <th>2000-01-04</th>\n      <td>0.125172</td>\n      <td>-0.421115</td>\n      <td>-1.104078</td>\n    </tr>\n    <tr>\n      <th>2000-01-05</th>\n      <td>0.913002</td>\n      <td>0.411900</td>\n      <td>-0.686950</td>\n    </tr>\n    <tr>\n      <th>...</th>\n      <td>...</td>\n      <td>...</td>\n      <td>...</td>\n    </tr>\n    <tr>\n      <th>2002-09-22</th>\n      <td>7.988417</td>\n      <td>-1.855877</td>\n      <td>4.749733</td>\n    </tr>\n    <tr>\n      <th>2002-09-23</th>\n      <td>8.994775</td>\n      <td>-3.440078</td>\n      <td>3.825041</td>\n    </tr>\n    <tr>\n      <th>2002-09-24</th>\n      <td>7.374663</td>\n      <td>-4.157817</td>\n      <td>2.168155</td>\n    </tr>\n    <tr>\n      <th>2002-09-25</th>\n      <td>7.909338</td>\n      <td>-4.178269</td>\n      <td>1.912223</td>\n    </tr>\n    <tr>\n      <th>2002-09-26</th>\n      <td>7.890159</td>\n      <td>-5.067090</td>\n      <td>3.688127</td>\n    </tr>\n  </tbody>\n</table>\n<p>1000 rows × 3 columns</p>\n</div>"
     },
     "metadata": {},
     "output_type": "execute_result",
     "execution_count": 2
    }
   ],
   "source": [
    "r.agg('sum') # 与上等价"
   ],
   "metadata": {
    "pycharm": {
     "metadata": false,
     "name": "#%%\n",
     "is_executing": false
    }
   }
  },
  {
   "cell_type": "code",
   "execution_count": 3,
   "outputs": [
    {
     "data": {
      "text/plain": "2000-01-01   -0.208611\n2000-01-02    0.851558\n2000-01-03   -0.354365\n2000-01-04    0.125172\n2000-01-05    0.913002\n                ...   \n2002-09-22    7.988417\n2002-09-23    8.994775\n2002-09-24    7.374663\n2002-09-25    7.909338\n2002-09-26    7.890159\nFreq: D, Name: A, Length: 1000, dtype: float64"
     },
     "metadata": {},
     "output_type": "execute_result",
     "execution_count": 3
    }
   ],
   "source": [
    "r['A'].agg(np.sum)"
   ],
   "metadata": {
    "pycharm": {
     "metadata": false,
     "name": "#%%\n",
     "is_executing": false
    }
   }
  },
  {
   "cell_type": "code",
   "execution_count": 59,
   "outputs": [
    {
     "data": {
      "text/plain": "2000-01-01    -0.326871\n2000-01-02    -0.360571\n2000-01-03    -2.604854\n2000-01-04    -2.508625\n2000-01-05    -2.135215\n                ...    \n2002-09-22   -13.340931\n2002-09-23   -12.959840\n2002-09-24   -13.433057\n2002-09-25   -11.198289\n2002-09-26    -9.505224\nFreq: D, Name: A, Length: 1000, dtype: float64"
     },
     "metadata": {},
     "output_type": "execute_result",
     "execution_count": 59
    }
   ],
   "source": [
    "r.agg(np.sum)['A'] # 与上等价"
   ],
   "metadata": {
    "pycharm": {
     "metadata": false,
     "name": "#%%\n",
     "is_executing": false
    }
   }
  },
  {
   "cell_type": "code",
   "execution_count": 60,
   "outputs": [
    {
     "data": {
      "text/plain": "                  sum      mean       std\n2000-01-01  -0.326871 -0.326871       NaN\n2000-01-02  -0.360571 -0.180285  0.207303\n2000-01-03  -2.604854 -0.868285  1.200632\n2000-01-04  -2.508625 -0.627156  1.092512\n2000-01-05  -2.135215 -0.427043  1.046620\n...               ...       ...       ...\n2002-09-22 -13.340931 -0.222349  0.982547\n2002-09-23 -12.959840 -0.215997  0.979464\n2002-09-24 -13.433057 -0.223884  0.970780\n2002-09-25 -11.198289 -0.186638  0.968921\n2002-09-26  -9.505224 -0.158420  0.972884\n\n[1000 rows x 3 columns]",
      "text/html": "<div>\n<style scoped>\n    .dataframe tbody tr th:only-of-type {\n        vertical-align: middle;\n    }\n\n    .dataframe tbody tr th {\n        vertical-align: top;\n    }\n\n    .dataframe thead th {\n        text-align: right;\n    }\n</style>\n<table border=\"1\" class=\"dataframe\">\n  <thead>\n    <tr style=\"text-align: right;\">\n      <th></th>\n      <th>sum</th>\n      <th>mean</th>\n      <th>std</th>\n    </tr>\n  </thead>\n  <tbody>\n    <tr>\n      <th>2000-01-01</th>\n      <td>-0.326871</td>\n      <td>-0.326871</td>\n      <td>NaN</td>\n    </tr>\n    <tr>\n      <th>2000-01-02</th>\n      <td>-0.360571</td>\n      <td>-0.180285</td>\n      <td>0.207303</td>\n    </tr>\n    <tr>\n      <th>2000-01-03</th>\n      <td>-2.604854</td>\n      <td>-0.868285</td>\n      <td>1.200632</td>\n    </tr>\n    <tr>\n      <th>2000-01-04</th>\n      <td>-2.508625</td>\n      <td>-0.627156</td>\n      <td>1.092512</td>\n    </tr>\n    <tr>\n      <th>2000-01-05</th>\n      <td>-2.135215</td>\n      <td>-0.427043</td>\n      <td>1.046620</td>\n    </tr>\n    <tr>\n      <th>2000-01-06</th>\n      <td>-2.577854</td>\n      <td>-0.429642</td>\n      <td>0.936147</td>\n    </tr>\n    <tr>\n      <th>2000-01-07</th>\n      <td>-3.500144</td>\n      <td>-0.500021</td>\n      <td>0.874632</td>\n    </tr>\n    <tr>\n      <th>2000-01-08</th>\n      <td>-5.121130</td>\n      <td>-0.640141</td>\n      <td>0.901537</td>\n    </tr>\n    <tr>\n      <th>2000-01-09</th>\n      <td>-5.052954</td>\n      <td>-0.561439</td>\n      <td>0.875739</td>\n    </tr>\n    <tr>\n      <th>2000-01-10</th>\n      <td>-4.126680</td>\n      <td>-0.412668</td>\n      <td>0.950281</td>\n    </tr>\n    <tr>\n      <th>2000-01-11</th>\n      <td>-4.095635</td>\n      <td>-0.372330</td>\n      <td>0.911389</td>\n    </tr>\n    <tr>\n      <th>2000-01-12</th>\n      <td>-3.779885</td>\n      <td>-0.314990</td>\n      <td>0.891388</td>\n    </tr>\n    <tr>\n      <th>2000-01-13</th>\n      <td>-1.520324</td>\n      <td>-0.116948</td>\n      <td>1.112757</td>\n    </tr>\n    <tr>\n      <th>2000-01-14</th>\n      <td>-0.579361</td>\n      <td>-0.041383</td>\n      <td>1.105858</td>\n    </tr>\n    <tr>\n      <th>2000-01-15</th>\n      <td>1.138034</td>\n      <td>0.075869</td>\n      <td>1.158356</td>\n    </tr>\n    <tr>\n      <th>2000-01-16</th>\n      <td>2.853029</td>\n      <td>0.178314</td>\n      <td>1.191746</td>\n    </tr>\n    <tr>\n      <th>2000-01-17</th>\n      <td>3.701377</td>\n      <td>0.217728</td>\n      <td>1.165290</td>\n    </tr>\n    <tr>\n      <th>2000-01-18</th>\n      <td>3.590523</td>\n      <td>0.199474</td>\n      <td>1.133147</td>\n    </tr>\n    <tr>\n      <th>2000-01-19</th>\n      <td>4.572919</td>\n      <td>0.240680</td>\n      <td>1.115773</td>\n    </tr>\n    <tr>\n      <th>2000-01-20</th>\n      <td>3.317462</td>\n      <td>0.165873</td>\n      <td>1.136374</td>\n    </tr>\n    <tr>\n      <th>2000-01-21</th>\n      <td>4.479408</td>\n      <td>0.213305</td>\n      <td>1.128727</td>\n    </tr>\n    <tr>\n      <th>2000-01-22</th>\n      <td>4.338701</td>\n      <td>0.197214</td>\n      <td>1.104108</td>\n    </tr>\n    <tr>\n      <th>2000-01-23</th>\n      <td>4.943229</td>\n      <td>0.214923</td>\n      <td>1.082061</td>\n    </tr>\n    <tr>\n      <th>2000-01-24</th>\n      <td>6.252122</td>\n      <td>0.260505</td>\n      <td>1.081579</td>\n    </tr>\n    <tr>\n      <th>2000-01-25</th>\n      <td>7.036745</td>\n      <td>0.281470</td>\n      <td>1.063983</td>\n    </tr>\n    <tr>\n      <th>2000-01-26</th>\n      <td>7.605342</td>\n      <td>0.292513</td>\n      <td>1.044006</td>\n    </tr>\n    <tr>\n      <th>2000-01-27</th>\n      <td>6.743906</td>\n      <td>0.249774</td>\n      <td>1.047543</td>\n    </tr>\n    <tr>\n      <th>2000-01-28</th>\n      <td>7.631353</td>\n      <td>0.272548</td>\n      <td>1.035000</td>\n    </tr>\n    <tr>\n      <th>2000-01-29</th>\n      <td>6.840039</td>\n      <td>0.235863</td>\n      <td>1.035372</td>\n    </tr>\n    <tr>\n      <th>2000-01-30</th>\n      <td>5.855447</td>\n      <td>0.195182</td>\n      <td>1.041480</td>\n    </tr>\n    <tr>\n      <th>...</th>\n      <td>...</td>\n      <td>...</td>\n      <td>...</td>\n    </tr>\n    <tr>\n      <th>2002-08-28</th>\n      <td>-17.406394</td>\n      <td>-0.290107</td>\n      <td>0.820895</td>\n    </tr>\n    <tr>\n      <th>2002-08-29</th>\n      <td>-17.504756</td>\n      <td>-0.291746</td>\n      <td>0.817251</td>\n    </tr>\n    <tr>\n      <th>2002-08-30</th>\n      <td>-16.637865</td>\n      <td>-0.277298</td>\n      <td>0.834933</td>\n    </tr>\n    <tr>\n      <th>2002-08-31</th>\n      <td>-17.133221</td>\n      <td>-0.285554</td>\n      <td>0.838304</td>\n    </tr>\n    <tr>\n      <th>2002-09-01</th>\n      <td>-17.221239</td>\n      <td>-0.287021</td>\n      <td>0.837926</td>\n    </tr>\n    <tr>\n      <th>2002-09-02</th>\n      <td>-16.587984</td>\n      <td>-0.276466</td>\n      <td>0.847251</td>\n    </tr>\n    <tr>\n      <th>2002-09-03</th>\n      <td>-15.143197</td>\n      <td>-0.252387</td>\n      <td>0.827432</td>\n    </tr>\n    <tr>\n      <th>2002-09-04</th>\n      <td>-17.710457</td>\n      <td>-0.295174</td>\n      <td>0.885631</td>\n    </tr>\n    <tr>\n      <th>2002-09-05</th>\n      <td>-15.961246</td>\n      <td>-0.266021</td>\n      <td>0.910556</td>\n    </tr>\n    <tr>\n      <th>2002-09-06</th>\n      <td>-14.829909</td>\n      <td>-0.247165</td>\n      <td>0.903536</td>\n    </tr>\n    <tr>\n      <th>2002-09-07</th>\n      <td>-15.828367</td>\n      <td>-0.263806</td>\n      <td>0.907757</td>\n    </tr>\n    <tr>\n      <th>2002-09-08</th>\n      <td>-14.464890</td>\n      <td>-0.241082</td>\n      <td>0.940250</td>\n    </tr>\n    <tr>\n      <th>2002-09-09</th>\n      <td>-14.147318</td>\n      <td>-0.235789</td>\n      <td>0.938050</td>\n    </tr>\n    <tr>\n      <th>2002-09-10</th>\n      <td>-14.028155</td>\n      <td>-0.233803</td>\n      <td>0.938219</td>\n    </tr>\n    <tr>\n      <th>2002-09-11</th>\n      <td>-14.974078</td>\n      <td>-0.249568</td>\n      <td>0.922729</td>\n    </tr>\n    <tr>\n      <th>2002-09-12</th>\n      <td>-16.760198</td>\n      <td>-0.279337</td>\n      <td>0.900191</td>\n    </tr>\n    <tr>\n      <th>2002-09-13</th>\n      <td>-16.685038</td>\n      <td>-0.278084</td>\n      <td>0.899034</td>\n    </tr>\n    <tr>\n      <th>2002-09-14</th>\n      <td>-16.137033</td>\n      <td>-0.268951</td>\n      <td>0.899310</td>\n    </tr>\n    <tr>\n      <th>2002-09-15</th>\n      <td>-16.597469</td>\n      <td>-0.276624</td>\n      <td>0.901247</td>\n    </tr>\n    <tr>\n      <th>2002-09-16</th>\n      <td>-13.932428</td>\n      <td>-0.232207</td>\n      <td>0.933485</td>\n    </tr>\n    <tr>\n      <th>2002-09-17</th>\n      <td>-13.635213</td>\n      <td>-0.227254</td>\n      <td>0.936166</td>\n    </tr>\n    <tr>\n      <th>2002-09-18</th>\n      <td>-13.533921</td>\n      <td>-0.225565</td>\n      <td>0.935509</td>\n    </tr>\n    <tr>\n      <th>2002-09-19</th>\n      <td>-13.600349</td>\n      <td>-0.226672</td>\n      <td>0.936040</td>\n    </tr>\n    <tr>\n      <th>2002-09-20</th>\n      <td>-15.782760</td>\n      <td>-0.263046</td>\n      <td>0.946128</td>\n    </tr>\n    <tr>\n      <th>2002-09-21</th>\n      <td>-14.188624</td>\n      <td>-0.236477</td>\n      <td>0.989251</td>\n    </tr>\n    <tr>\n      <th>2002-09-22</th>\n      <td>-13.340931</td>\n      <td>-0.222349</td>\n      <td>0.982547</td>\n    </tr>\n    <tr>\n      <th>2002-09-23</th>\n      <td>-12.959840</td>\n      <td>-0.215997</td>\n      <td>0.979464</td>\n    </tr>\n    <tr>\n      <th>2002-09-24</th>\n      <td>-13.433057</td>\n      <td>-0.223884</td>\n      <td>0.970780</td>\n    </tr>\n    <tr>\n      <th>2002-09-25</th>\n      <td>-11.198289</td>\n      <td>-0.186638</td>\n      <td>0.968921</td>\n    </tr>\n    <tr>\n      <th>2002-09-26</th>\n      <td>-9.505224</td>\n      <td>-0.158420</td>\n      <td>0.972884</td>\n    </tr>\n  </tbody>\n</table>\n<p>1000 rows × 3 columns</p>\n</div>"
     },
     "metadata": {},
     "output_type": "execute_result",
     "execution_count": 60
    }
   ],
   "source": [
    "# 如果传输的是函数或函数名的列表,将得到一个列名是这些函数名的DataFrame\n",
    "r['A'].agg([np.sum, np.mean, np.std]) # Applying multiple functions"
   ],
   "metadata": {
    "pycharm": {
     "metadata": false,
     "name": "#%%\n",
     "is_executing": false
    }
   }
  },
  {
   "cell_type": "code",
   "execution_count": 61,
   "outputs": [
    {
     "data": {
      "text/plain": "                    A         B\n2000-01-01  -0.326871       NaN\n2000-01-02  -0.360571  0.643658\n2000-01-03  -2.604854  1.160876\n2000-01-04  -2.508625  1.119116\n2000-01-05  -2.135215  1.186318\n...               ...       ...\n2002-09-22 -13.340931  0.897182\n2002-09-23 -12.959840  0.914524\n2002-09-24 -13.433057  0.911818\n2002-09-25 -11.198289  0.919374\n2002-09-26  -9.505224  0.918932\n\n[1000 rows x 2 columns]",
      "text/html": "<div>\n<style scoped>\n    .dataframe tbody tr th:only-of-type {\n        vertical-align: middle;\n    }\n\n    .dataframe tbody tr th {\n        vertical-align: top;\n    }\n\n    .dataframe thead th {\n        text-align: right;\n    }\n</style>\n<table border=\"1\" class=\"dataframe\">\n  <thead>\n    <tr style=\"text-align: right;\">\n      <th></th>\n      <th>A</th>\n      <th>B</th>\n    </tr>\n  </thead>\n  <tbody>\n    <tr>\n      <th>2000-01-01</th>\n      <td>-0.326871</td>\n      <td>NaN</td>\n    </tr>\n    <tr>\n      <th>2000-01-02</th>\n      <td>-0.360571</td>\n      <td>0.643658</td>\n    </tr>\n    <tr>\n      <th>2000-01-03</th>\n      <td>-2.604854</td>\n      <td>1.160876</td>\n    </tr>\n    <tr>\n      <th>2000-01-04</th>\n      <td>-2.508625</td>\n      <td>1.119116</td>\n    </tr>\n    <tr>\n      <th>2000-01-05</th>\n      <td>-2.135215</td>\n      <td>1.186318</td>\n    </tr>\n    <tr>\n      <th>2000-01-06</th>\n      <td>-2.577854</td>\n      <td>1.080792</td>\n    </tr>\n    <tr>\n      <th>2000-01-07</th>\n      <td>-3.500144</td>\n      <td>0.988206</td>\n    </tr>\n    <tr>\n      <th>2000-01-08</th>\n      <td>-5.121130</td>\n      <td>0.989810</td>\n    </tr>\n    <tr>\n      <th>2000-01-09</th>\n      <td>-5.052954</td>\n      <td>0.972828</td>\n    </tr>\n    <tr>\n      <th>2000-01-10</th>\n      <td>-4.126680</td>\n      <td>1.185342</td>\n    </tr>\n    <tr>\n      <th>2000-01-11</th>\n      <td>-4.095635</td>\n      <td>1.134229</td>\n    </tr>\n    <tr>\n      <th>2000-01-12</th>\n      <td>-3.779885</td>\n      <td>1.088748</td>\n    </tr>\n    <tr>\n      <th>2000-01-13</th>\n      <td>-1.520324</td>\n      <td>1.044983</td>\n    </tr>\n    <tr>\n      <th>2000-01-14</th>\n      <td>-0.579361</td>\n      <td>1.078552</td>\n    </tr>\n    <tr>\n      <th>2000-01-15</th>\n      <td>1.138034</td>\n      <td>1.054889</td>\n    </tr>\n    <tr>\n      <th>2000-01-16</th>\n      <td>2.853029</td>\n      <td>1.020638</td>\n    </tr>\n    <tr>\n      <th>2000-01-17</th>\n      <td>3.701377</td>\n      <td>0.989689</td>\n    </tr>\n    <tr>\n      <th>2000-01-18</th>\n      <td>3.590523</td>\n      <td>0.987323</td>\n    </tr>\n    <tr>\n      <th>2000-01-19</th>\n      <td>4.572919</td>\n      <td>0.984236</td>\n    </tr>\n    <tr>\n      <th>2000-01-20</th>\n      <td>3.317462</td>\n      <td>0.985681</td>\n    </tr>\n    <tr>\n      <th>2000-01-21</th>\n      <td>4.479408</td>\n      <td>0.965053</td>\n    </tr>\n    <tr>\n      <th>2000-01-22</th>\n      <td>4.338701</td>\n      <td>0.961477</td>\n    </tr>\n    <tr>\n      <th>2000-01-23</th>\n      <td>4.943229</td>\n      <td>0.982989</td>\n    </tr>\n    <tr>\n      <th>2000-01-24</th>\n      <td>6.252122</td>\n      <td>0.962096</td>\n    </tr>\n    <tr>\n      <th>2000-01-25</th>\n      <td>7.036745</td>\n      <td>0.945503</td>\n    </tr>\n    <tr>\n      <th>2000-01-26</th>\n      <td>7.605342</td>\n      <td>0.932349</td>\n    </tr>\n    <tr>\n      <th>2000-01-27</th>\n      <td>6.743906</td>\n      <td>0.923522</td>\n    </tr>\n    <tr>\n      <th>2000-01-28</th>\n      <td>7.631353</td>\n      <td>0.912053</td>\n    </tr>\n    <tr>\n      <th>2000-01-29</th>\n      <td>6.840039</td>\n      <td>0.895809</td>\n    </tr>\n    <tr>\n      <th>2000-01-30</th>\n      <td>5.855447</td>\n      <td>0.893255</td>\n    </tr>\n    <tr>\n      <th>...</th>\n      <td>...</td>\n      <td>...</td>\n    </tr>\n    <tr>\n      <th>2002-08-28</th>\n      <td>-17.406394</td>\n      <td>0.937483</td>\n    </tr>\n    <tr>\n      <th>2002-08-29</th>\n      <td>-17.504756</td>\n      <td>0.932477</td>\n    </tr>\n    <tr>\n      <th>2002-08-30</th>\n      <td>-16.637865</td>\n      <td>0.945028</td>\n    </tr>\n    <tr>\n      <th>2002-08-31</th>\n      <td>-17.133221</td>\n      <td>0.950119</td>\n    </tr>\n    <tr>\n      <th>2002-09-01</th>\n      <td>-17.221239</td>\n      <td>0.959277</td>\n    </tr>\n    <tr>\n      <th>2002-09-02</th>\n      <td>-16.587984</td>\n      <td>0.956489</td>\n    </tr>\n    <tr>\n      <th>2002-09-03</th>\n      <td>-15.143197</td>\n      <td>0.926593</td>\n    </tr>\n    <tr>\n      <th>2002-09-04</th>\n      <td>-17.710457</td>\n      <td>0.935997</td>\n    </tr>\n    <tr>\n      <th>2002-09-05</th>\n      <td>-15.961246</td>\n      <td>0.939058</td>\n    </tr>\n    <tr>\n      <th>2002-09-06</th>\n      <td>-14.829909</td>\n      <td>0.936631</td>\n    </tr>\n    <tr>\n      <th>2002-09-07</th>\n      <td>-15.828367</td>\n      <td>0.932152</td>\n    </tr>\n    <tr>\n      <th>2002-09-08</th>\n      <td>-14.464890</td>\n      <td>0.961744</td>\n    </tr>\n    <tr>\n      <th>2002-09-09</th>\n      <td>-14.147318</td>\n      <td>0.926948</td>\n    </tr>\n    <tr>\n      <th>2002-09-10</th>\n      <td>-14.028155</td>\n      <td>0.931232</td>\n    </tr>\n    <tr>\n      <th>2002-09-11</th>\n      <td>-14.974078</td>\n      <td>0.931144</td>\n    </tr>\n    <tr>\n      <th>2002-09-12</th>\n      <td>-16.760198</td>\n      <td>0.916856</td>\n    </tr>\n    <tr>\n      <th>2002-09-13</th>\n      <td>-16.685038</td>\n      <td>0.867552</td>\n    </tr>\n    <tr>\n      <th>2002-09-14</th>\n      <td>-16.137033</td>\n      <td>0.867233</td>\n    </tr>\n    <tr>\n      <th>2002-09-15</th>\n      <td>-16.597469</td>\n      <td>0.862967</td>\n    </tr>\n    <tr>\n      <th>2002-09-16</th>\n      <td>-13.932428</td>\n      <td>0.861342</td>\n    </tr>\n    <tr>\n      <th>2002-09-17</th>\n      <td>-13.635213</td>\n      <td>0.870667</td>\n    </tr>\n    <tr>\n      <th>2002-09-18</th>\n      <td>-13.533921</td>\n      <td>0.869155</td>\n    </tr>\n    <tr>\n      <th>2002-09-19</th>\n      <td>-13.600349</td>\n      <td>0.887270</td>\n    </tr>\n    <tr>\n      <th>2002-09-20</th>\n      <td>-15.782760</td>\n      <td>0.881214</td>\n    </tr>\n    <tr>\n      <th>2002-09-21</th>\n      <td>-14.188624</td>\n      <td>0.874925</td>\n    </tr>\n    <tr>\n      <th>2002-09-22</th>\n      <td>-13.340931</td>\n      <td>0.897182</td>\n    </tr>\n    <tr>\n      <th>2002-09-23</th>\n      <td>-12.959840</td>\n      <td>0.914524</td>\n    </tr>\n    <tr>\n      <th>2002-09-24</th>\n      <td>-13.433057</td>\n      <td>0.911818</td>\n    </tr>\n    <tr>\n      <th>2002-09-25</th>\n      <td>-11.198289</td>\n      <td>0.919374</td>\n    </tr>\n    <tr>\n      <th>2002-09-26</th>\n      <td>-9.505224</td>\n      <td>0.918932</td>\n    </tr>\n  </tbody>\n</table>\n<p>1000 rows × 2 columns</p>\n</div>"
     },
     "metadata": {},
     "output_type": "execute_result",
     "execution_count": 61
    }
   ],
   "source": [
    "r.agg({'A': np.sum, 'B': lambda x: np.std(x, ddof=1)}) # 不同的函数应用到不同的列中"
   ],
   "metadata": {
    "pycharm": {
     "metadata": false,
     "name": "#%%\n",
     "is_executing": false
    }
   }
  },
  {
   "cell_type": "code",
   "execution_count": 62,
   "outputs": [
    {
     "data": {
      "text/plain": "                    A         B\n2000-01-01  -0.326871       NaN\n2000-01-02  -0.360571  0.643658\n2000-01-03  -2.604854  1.160876\n2000-01-04  -2.508625  1.119116\n2000-01-05  -2.135215  1.186318\n...               ...       ...\n2002-09-22 -13.340931  0.897182\n2002-09-23 -12.959840  0.914524\n2002-09-24 -13.433057  0.911818\n2002-09-25 -11.198289  0.919374\n2002-09-26  -9.505224  0.918932\n\n[1000 rows x 2 columns]",
      "text/html": "<div>\n<style scoped>\n    .dataframe tbody tr th:only-of-type {\n        vertical-align: middle;\n    }\n\n    .dataframe tbody tr th {\n        vertical-align: top;\n    }\n\n    .dataframe thead th {\n        text-align: right;\n    }\n</style>\n<table border=\"1\" class=\"dataframe\">\n  <thead>\n    <tr style=\"text-align: right;\">\n      <th></th>\n      <th>A</th>\n      <th>B</th>\n    </tr>\n  </thead>\n  <tbody>\n    <tr>\n      <th>2000-01-01</th>\n      <td>-0.326871</td>\n      <td>NaN</td>\n    </tr>\n    <tr>\n      <th>2000-01-02</th>\n      <td>-0.360571</td>\n      <td>0.643658</td>\n    </tr>\n    <tr>\n      <th>2000-01-03</th>\n      <td>-2.604854</td>\n      <td>1.160876</td>\n    </tr>\n    <tr>\n      <th>2000-01-04</th>\n      <td>-2.508625</td>\n      <td>1.119116</td>\n    </tr>\n    <tr>\n      <th>2000-01-05</th>\n      <td>-2.135215</td>\n      <td>1.186318</td>\n    </tr>\n    <tr>\n      <th>2000-01-06</th>\n      <td>-2.577854</td>\n      <td>1.080792</td>\n    </tr>\n    <tr>\n      <th>2000-01-07</th>\n      <td>-3.500144</td>\n      <td>0.988206</td>\n    </tr>\n    <tr>\n      <th>2000-01-08</th>\n      <td>-5.121130</td>\n      <td>0.989810</td>\n    </tr>\n    <tr>\n      <th>2000-01-09</th>\n      <td>-5.052954</td>\n      <td>0.972828</td>\n    </tr>\n    <tr>\n      <th>2000-01-10</th>\n      <td>-4.126680</td>\n      <td>1.185342</td>\n    </tr>\n    <tr>\n      <th>2000-01-11</th>\n      <td>-4.095635</td>\n      <td>1.134229</td>\n    </tr>\n    <tr>\n      <th>2000-01-12</th>\n      <td>-3.779885</td>\n      <td>1.088748</td>\n    </tr>\n    <tr>\n      <th>2000-01-13</th>\n      <td>-1.520324</td>\n      <td>1.044983</td>\n    </tr>\n    <tr>\n      <th>2000-01-14</th>\n      <td>-0.579361</td>\n      <td>1.078552</td>\n    </tr>\n    <tr>\n      <th>2000-01-15</th>\n      <td>1.138034</td>\n      <td>1.054889</td>\n    </tr>\n    <tr>\n      <th>2000-01-16</th>\n      <td>2.853029</td>\n      <td>1.020638</td>\n    </tr>\n    <tr>\n      <th>2000-01-17</th>\n      <td>3.701377</td>\n      <td>0.989689</td>\n    </tr>\n    <tr>\n      <th>2000-01-18</th>\n      <td>3.590523</td>\n      <td>0.987323</td>\n    </tr>\n    <tr>\n      <th>2000-01-19</th>\n      <td>4.572919</td>\n      <td>0.984236</td>\n    </tr>\n    <tr>\n      <th>2000-01-20</th>\n      <td>3.317462</td>\n      <td>0.985681</td>\n    </tr>\n    <tr>\n      <th>2000-01-21</th>\n      <td>4.479408</td>\n      <td>0.965053</td>\n    </tr>\n    <tr>\n      <th>2000-01-22</th>\n      <td>4.338701</td>\n      <td>0.961477</td>\n    </tr>\n    <tr>\n      <th>2000-01-23</th>\n      <td>4.943229</td>\n      <td>0.982989</td>\n    </tr>\n    <tr>\n      <th>2000-01-24</th>\n      <td>6.252122</td>\n      <td>0.962096</td>\n    </tr>\n    <tr>\n      <th>2000-01-25</th>\n      <td>7.036745</td>\n      <td>0.945503</td>\n    </tr>\n    <tr>\n      <th>2000-01-26</th>\n      <td>7.605342</td>\n      <td>0.932349</td>\n    </tr>\n    <tr>\n      <th>2000-01-27</th>\n      <td>6.743906</td>\n      <td>0.923522</td>\n    </tr>\n    <tr>\n      <th>2000-01-28</th>\n      <td>7.631353</td>\n      <td>0.912053</td>\n    </tr>\n    <tr>\n      <th>2000-01-29</th>\n      <td>6.840039</td>\n      <td>0.895809</td>\n    </tr>\n    <tr>\n      <th>2000-01-30</th>\n      <td>5.855447</td>\n      <td>0.893255</td>\n    </tr>\n    <tr>\n      <th>...</th>\n      <td>...</td>\n      <td>...</td>\n    </tr>\n    <tr>\n      <th>2002-08-28</th>\n      <td>-17.406394</td>\n      <td>0.937483</td>\n    </tr>\n    <tr>\n      <th>2002-08-29</th>\n      <td>-17.504756</td>\n      <td>0.932477</td>\n    </tr>\n    <tr>\n      <th>2002-08-30</th>\n      <td>-16.637865</td>\n      <td>0.945028</td>\n    </tr>\n    <tr>\n      <th>2002-08-31</th>\n      <td>-17.133221</td>\n      <td>0.950119</td>\n    </tr>\n    <tr>\n      <th>2002-09-01</th>\n      <td>-17.221239</td>\n      <td>0.959277</td>\n    </tr>\n    <tr>\n      <th>2002-09-02</th>\n      <td>-16.587984</td>\n      <td>0.956489</td>\n    </tr>\n    <tr>\n      <th>2002-09-03</th>\n      <td>-15.143197</td>\n      <td>0.926593</td>\n    </tr>\n    <tr>\n      <th>2002-09-04</th>\n      <td>-17.710457</td>\n      <td>0.935997</td>\n    </tr>\n    <tr>\n      <th>2002-09-05</th>\n      <td>-15.961246</td>\n      <td>0.939058</td>\n    </tr>\n    <tr>\n      <th>2002-09-06</th>\n      <td>-14.829909</td>\n      <td>0.936631</td>\n    </tr>\n    <tr>\n      <th>2002-09-07</th>\n      <td>-15.828367</td>\n      <td>0.932152</td>\n    </tr>\n    <tr>\n      <th>2002-09-08</th>\n      <td>-14.464890</td>\n      <td>0.961744</td>\n    </tr>\n    <tr>\n      <th>2002-09-09</th>\n      <td>-14.147318</td>\n      <td>0.926948</td>\n    </tr>\n    <tr>\n      <th>2002-09-10</th>\n      <td>-14.028155</td>\n      <td>0.931232</td>\n    </tr>\n    <tr>\n      <th>2002-09-11</th>\n      <td>-14.974078</td>\n      <td>0.931144</td>\n    </tr>\n    <tr>\n      <th>2002-09-12</th>\n      <td>-16.760198</td>\n      <td>0.916856</td>\n    </tr>\n    <tr>\n      <th>2002-09-13</th>\n      <td>-16.685038</td>\n      <td>0.867552</td>\n    </tr>\n    <tr>\n      <th>2002-09-14</th>\n      <td>-16.137033</td>\n      <td>0.867233</td>\n    </tr>\n    <tr>\n      <th>2002-09-15</th>\n      <td>-16.597469</td>\n      <td>0.862967</td>\n    </tr>\n    <tr>\n      <th>2002-09-16</th>\n      <td>-13.932428</td>\n      <td>0.861342</td>\n    </tr>\n    <tr>\n      <th>2002-09-17</th>\n      <td>-13.635213</td>\n      <td>0.870667</td>\n    </tr>\n    <tr>\n      <th>2002-09-18</th>\n      <td>-13.533921</td>\n      <td>0.869155</td>\n    </tr>\n    <tr>\n      <th>2002-09-19</th>\n      <td>-13.600349</td>\n      <td>0.887270</td>\n    </tr>\n    <tr>\n      <th>2002-09-20</th>\n      <td>-15.782760</td>\n      <td>0.881214</td>\n    </tr>\n    <tr>\n      <th>2002-09-21</th>\n      <td>-14.188624</td>\n      <td>0.874925</td>\n    </tr>\n    <tr>\n      <th>2002-09-22</th>\n      <td>-13.340931</td>\n      <td>0.897182</td>\n    </tr>\n    <tr>\n      <th>2002-09-23</th>\n      <td>-12.959840</td>\n      <td>0.914524</td>\n    </tr>\n    <tr>\n      <th>2002-09-24</th>\n      <td>-13.433057</td>\n      <td>0.911818</td>\n    </tr>\n    <tr>\n      <th>2002-09-25</th>\n      <td>-11.198289</td>\n      <td>0.919374</td>\n    </tr>\n    <tr>\n      <th>2002-09-26</th>\n      <td>-9.505224</td>\n      <td>0.918932</td>\n    </tr>\n  </tbody>\n</table>\n<p>1000 rows × 2 columns</p>\n</div>"
     },
     "metadata": {},
     "output_type": "execute_result",
     "execution_count": 62
    }
   ],
   "source": [
    "r.agg({'A': 'sum', 'B': 'std'}) # 自带的聚合函数要加上''"
   ],
   "metadata": {
    "pycharm": {
     "metadata": false,
     "name": "#%%\n",
     "is_executing": false
    }
   }
  },
  {
   "cell_type": "code",
   "execution_count": 63,
   "outputs": [
    {
     "data": {
      "text/plain": "                    A                   B          \n                  sum       std      mean       std\n2000-01-01  -0.326871       NaN -0.180369       NaN\n2000-01-02  -0.360571  0.207303 -0.635504  0.643658\n2000-01-03  -2.604854  1.200632 -0.018931  1.160876\n2000-01-04  -2.508625  1.092512 -0.316419  1.119116\n2000-01-05  -2.135215  1.046620 -0.622372  1.186318\n...               ...       ...       ...       ...\n2002-09-22 -13.340931  0.982547 -0.009260  0.897182\n2002-09-23 -12.959840  0.979464  0.017656  0.914524\n2002-09-24 -13.433057  0.970780  0.015189  0.911818\n2002-09-25 -11.198289  0.968921 -0.000933  0.919374\n2002-09-26  -9.505224  0.972884 -0.016060  0.918932\n\n[1000 rows x 4 columns]",
      "text/html": "<div>\n<style scoped>\n    .dataframe tbody tr th:only-of-type {\n        vertical-align: middle;\n    }\n\n    .dataframe tbody tr th {\n        vertical-align: top;\n    }\n\n    .dataframe thead tr th {\n        text-align: left;\n    }\n</style>\n<table border=\"1\" class=\"dataframe\">\n  <thead>\n    <tr>\n      <th></th>\n      <th colspan=\"2\" halign=\"left\">A</th>\n      <th colspan=\"2\" halign=\"left\">B</th>\n    </tr>\n    <tr>\n      <th></th>\n      <th>sum</th>\n      <th>std</th>\n      <th>mean</th>\n      <th>std</th>\n    </tr>\n  </thead>\n  <tbody>\n    <tr>\n      <th>2000-01-01</th>\n      <td>-0.326871</td>\n      <td>NaN</td>\n      <td>-0.180369</td>\n      <td>NaN</td>\n    </tr>\n    <tr>\n      <th>2000-01-02</th>\n      <td>-0.360571</td>\n      <td>0.207303</td>\n      <td>-0.635504</td>\n      <td>0.643658</td>\n    </tr>\n    <tr>\n      <th>2000-01-03</th>\n      <td>-2.604854</td>\n      <td>1.200632</td>\n      <td>-0.018931</td>\n      <td>1.160876</td>\n    </tr>\n    <tr>\n      <th>2000-01-04</th>\n      <td>-2.508625</td>\n      <td>1.092512</td>\n      <td>-0.316419</td>\n      <td>1.119116</td>\n    </tr>\n    <tr>\n      <th>2000-01-05</th>\n      <td>-2.135215</td>\n      <td>1.046620</td>\n      <td>-0.622372</td>\n      <td>1.186318</td>\n    </tr>\n    <tr>\n      <th>2000-01-06</th>\n      <td>-2.577854</td>\n      <td>0.936147</td>\n      <td>-0.538477</td>\n      <td>1.080792</td>\n    </tr>\n    <tr>\n      <th>2000-01-07</th>\n      <td>-3.500144</td>\n      <td>0.874632</td>\n      <td>-0.559605</td>\n      <td>0.988206</td>\n    </tr>\n    <tr>\n      <th>2000-01-08</th>\n      <td>-5.121130</td>\n      <td>0.901537</td>\n      <td>-0.426057</td>\n      <td>0.989810</td>\n    </tr>\n    <tr>\n      <th>2000-01-09</th>\n      <td>-5.052954</td>\n      <td>0.875739</td>\n      <td>-0.525576</td>\n      <td>0.972828</td>\n    </tr>\n    <tr>\n      <th>2000-01-10</th>\n      <td>-4.126680</td>\n      <td>0.950281</td>\n      <td>-0.288132</td>\n      <td>1.185342</td>\n    </tr>\n    <tr>\n      <th>2000-01-11</th>\n      <td>-4.095635</td>\n      <td>0.911389</td>\n      <td>-0.243469</td>\n      <td>1.134229</td>\n    </tr>\n    <tr>\n      <th>2000-01-12</th>\n      <td>-3.779885</td>\n      <td>0.891388</td>\n      <td>-0.279811</td>\n      <td>1.088748</td>\n    </tr>\n    <tr>\n      <th>2000-01-13</th>\n      <td>-1.520324</td>\n      <td>1.112757</td>\n      <td>-0.259433</td>\n      <td>1.044983</td>\n    </tr>\n    <tr>\n      <th>2000-01-14</th>\n      <td>-0.579361</td>\n      <td>1.105858</td>\n      <td>-0.154116</td>\n      <td>1.078552</td>\n    </tr>\n    <tr>\n      <th>2000-01-15</th>\n      <td>1.138034</td>\n      <td>1.158356</td>\n      <td>-0.200740</td>\n      <td>1.054889</td>\n    </tr>\n    <tr>\n      <th>2000-01-16</th>\n      <td>2.853029</td>\n      <td>1.191746</td>\n      <td>-0.186827</td>\n      <td>1.020638</td>\n    </tr>\n    <tr>\n      <th>2000-01-17</th>\n      <td>3.701377</td>\n      <td>1.165290</td>\n      <td>-0.173789</td>\n      <td>0.989689</td>\n    </tr>\n    <tr>\n      <th>2000-01-18</th>\n      <td>3.590523</td>\n      <td>1.133147</td>\n      <td>-0.119558</td>\n      <td>0.987323</td>\n    </tr>\n    <tr>\n      <th>2000-01-19</th>\n      <td>4.572919</td>\n      <td>1.115773</td>\n      <td>-0.169857</td>\n      <td>0.984236</td>\n    </tr>\n    <tr>\n      <th>2000-01-20</th>\n      <td>3.317462</td>\n      <td>1.136374</td>\n      <td>-0.117977</td>\n      <td>0.985681</td>\n    </tr>\n    <tr>\n      <th>2000-01-21</th>\n      <td>4.479408</td>\n      <td>1.128727</td>\n      <td>-0.137904</td>\n      <td>0.965053</td>\n    </tr>\n    <tr>\n      <th>2000-01-22</th>\n      <td>4.338701</td>\n      <td>1.104108</td>\n      <td>-0.096641</td>\n      <td>0.961477</td>\n    </tr>\n    <tr>\n      <th>2000-01-23</th>\n      <td>4.943229</td>\n      <td>1.082061</td>\n      <td>-0.036262</td>\n      <td>0.982989</td>\n    </tr>\n    <tr>\n      <th>2000-01-24</th>\n      <td>6.252122</td>\n      <td>1.081579</td>\n      <td>-0.043826</td>\n      <td>0.962096</td>\n    </tr>\n    <tr>\n      <th>2000-01-25</th>\n      <td>7.036745</td>\n      <td>1.063983</td>\n      <td>-0.027196</td>\n      <td>0.945503</td>\n    </tr>\n    <tr>\n      <th>2000-01-26</th>\n      <td>7.605342</td>\n      <td>1.044006</td>\n      <td>-0.047819</td>\n      <td>0.932349</td>\n    </tr>\n    <tr>\n      <th>2000-01-27</th>\n      <td>6.743906</td>\n      <td>1.047543</td>\n      <td>-0.072949</td>\n      <td>0.923522</td>\n    </tr>\n    <tr>\n      <th>2000-01-28</th>\n      <td>7.631353</td>\n      <td>1.035000</td>\n      <td>-0.092347</td>\n      <td>0.912053</td>\n    </tr>\n    <tr>\n      <th>2000-01-29</th>\n      <td>6.840039</td>\n      <td>1.035372</td>\n      <td>-0.088913</td>\n      <td>0.895809</td>\n    </tr>\n    <tr>\n      <th>2000-01-30</th>\n      <td>5.855447</td>\n      <td>1.041480</td>\n      <td>-0.116663</td>\n      <td>0.893255</td>\n    </tr>\n    <tr>\n      <th>...</th>\n      <td>...</td>\n      <td>...</td>\n      <td>...</td>\n      <td>...</td>\n    </tr>\n    <tr>\n      <th>2002-08-28</th>\n      <td>-17.406394</td>\n      <td>0.820895</td>\n      <td>0.106510</td>\n      <td>0.937483</td>\n    </tr>\n    <tr>\n      <th>2002-08-29</th>\n      <td>-17.504756</td>\n      <td>0.817251</td>\n      <td>0.119429</td>\n      <td>0.932477</td>\n    </tr>\n    <tr>\n      <th>2002-08-30</th>\n      <td>-16.637865</td>\n      <td>0.834933</td>\n      <td>0.098642</td>\n      <td>0.945028</td>\n    </tr>\n    <tr>\n      <th>2002-08-31</th>\n      <td>-17.133221</td>\n      <td>0.838304</td>\n      <td>0.087821</td>\n      <td>0.950119</td>\n    </tr>\n    <tr>\n      <th>2002-09-01</th>\n      <td>-17.221239</td>\n      <td>0.837926</td>\n      <td>0.074698</td>\n      <td>0.959277</td>\n    </tr>\n    <tr>\n      <th>2002-09-02</th>\n      <td>-16.587984</td>\n      <td>0.847251</td>\n      <td>0.070356</td>\n      <td>0.956489</td>\n    </tr>\n    <tr>\n      <th>2002-09-03</th>\n      <td>-15.143197</td>\n      <td>0.827432</td>\n      <td>0.044881</td>\n      <td>0.926593</td>\n    </tr>\n    <tr>\n      <th>2002-09-04</th>\n      <td>-17.710457</td>\n      <td>0.885631</td>\n      <td>0.033253</td>\n      <td>0.935997</td>\n    </tr>\n    <tr>\n      <th>2002-09-05</th>\n      <td>-15.961246</td>\n      <td>0.910556</td>\n      <td>0.038925</td>\n      <td>0.939058</td>\n    </tr>\n    <tr>\n      <th>2002-09-06</th>\n      <td>-14.829909</td>\n      <td>0.903536</td>\n      <td>0.041860</td>\n      <td>0.936631</td>\n    </tr>\n    <tr>\n      <th>2002-09-07</th>\n      <td>-15.828367</td>\n      <td>0.907757</td>\n      <td>0.033256</td>\n      <td>0.932152</td>\n    </tr>\n    <tr>\n      <th>2002-09-08</th>\n      <td>-14.464890</td>\n      <td>0.940250</td>\n      <td>-0.018055</td>\n      <td>0.961744</td>\n    </tr>\n    <tr>\n      <th>2002-09-09</th>\n      <td>-14.147318</td>\n      <td>0.938050</td>\n      <td>-0.058654</td>\n      <td>0.926948</td>\n    </tr>\n    <tr>\n      <th>2002-09-10</th>\n      <td>-14.028155</td>\n      <td>0.938219</td>\n      <td>-0.042046</td>\n      <td>0.931232</td>\n    </tr>\n    <tr>\n      <th>2002-09-11</th>\n      <td>-14.974078</td>\n      <td>0.922729</td>\n      <td>-0.041682</td>\n      <td>0.931144</td>\n    </tr>\n    <tr>\n      <th>2002-09-12</th>\n      <td>-16.760198</td>\n      <td>0.900191</td>\n      <td>-0.052725</td>\n      <td>0.916856</td>\n    </tr>\n    <tr>\n      <th>2002-09-13</th>\n      <td>-16.685038</td>\n      <td>0.899034</td>\n      <td>-0.107912</td>\n      <td>0.867552</td>\n    </tr>\n    <tr>\n      <th>2002-09-14</th>\n      <td>-16.137033</td>\n      <td>0.899310</td>\n      <td>-0.105900</td>\n      <td>0.867233</td>\n    </tr>\n    <tr>\n      <th>2002-09-15</th>\n      <td>-16.597469</td>\n      <td>0.901247</td>\n      <td>-0.083130</td>\n      <td>0.862967</td>\n    </tr>\n    <tr>\n      <th>2002-09-16</th>\n      <td>-13.932428</td>\n      <td>0.933485</td>\n      <td>-0.085873</td>\n      <td>0.861342</td>\n    </tr>\n    <tr>\n      <th>2002-09-17</th>\n      <td>-13.635213</td>\n      <td>0.936166</td>\n      <td>-0.105255</td>\n      <td>0.870667</td>\n    </tr>\n    <tr>\n      <th>2002-09-18</th>\n      <td>-13.533921</td>\n      <td>0.935509</td>\n      <td>-0.113947</td>\n      <td>0.869155</td>\n    </tr>\n    <tr>\n      <th>2002-09-19</th>\n      <td>-13.600349</td>\n      <td>0.936040</td>\n      <td>-0.099496</td>\n      <td>0.887270</td>\n    </tr>\n    <tr>\n      <th>2002-09-20</th>\n      <td>-15.782760</td>\n      <td>0.946128</td>\n      <td>-0.080510</td>\n      <td>0.881214</td>\n    </tr>\n    <tr>\n      <th>2002-09-21</th>\n      <td>-14.188624</td>\n      <td>0.989251</td>\n      <td>-0.034224</td>\n      <td>0.874925</td>\n    </tr>\n    <tr>\n      <th>2002-09-22</th>\n      <td>-13.340931</td>\n      <td>0.982547</td>\n      <td>-0.009260</td>\n      <td>0.897182</td>\n    </tr>\n    <tr>\n      <th>2002-09-23</th>\n      <td>-12.959840</td>\n      <td>0.979464</td>\n      <td>0.017656</td>\n      <td>0.914524</td>\n    </tr>\n    <tr>\n      <th>2002-09-24</th>\n      <td>-13.433057</td>\n      <td>0.970780</td>\n      <td>0.015189</td>\n      <td>0.911818</td>\n    </tr>\n    <tr>\n      <th>2002-09-25</th>\n      <td>-11.198289</td>\n      <td>0.968921</td>\n      <td>-0.000933</td>\n      <td>0.919374</td>\n    </tr>\n    <tr>\n      <th>2002-09-26</th>\n      <td>-9.505224</td>\n      <td>0.972884</td>\n      <td>-0.016060</td>\n      <td>0.918932</td>\n    </tr>\n  </tbody>\n</table>\n<p>1000 rows × 4 columns</p>\n</div>"
     },
     "metadata": {},
     "output_type": "execute_result",
     "execution_count": 63
    }
   ],
   "source": "r.agg({'A': ['sum', 'std'], 'B': ['mean', 'std']})\n\n",
   "metadata": {
    "pycharm": {
     "metadata": false,
     "name": "#%%\n",
     "is_executing": false
    }
   }
  }
 ],
 "metadata": {
  "language_info": {
   "codemirror_mode": {
    "name": "ipython",
    "version": 2
   },
   "file_extension": ".py",
   "mimetype": "text/x-python",
   "name": "python",
   "nbconvert_exporter": "python",
   "pygments_lexer": "ipython2",
   "version": "2.7.6"
  },
  "kernelspec": {
   "name": "python3",
   "language": "python",
   "display_name": "Python 3"
  },
  "pycharm": {
   "stem_cell": {
    "cell_type": "raw",
    "source": [],
    "metadata": {
     "collapsed": false
    }
   }
  }
 },
 "nbformat": 4,
 "nbformat_minor": 0
}