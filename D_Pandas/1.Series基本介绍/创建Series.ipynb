{
 "cells": [
  {
   "cell_type": "code",
   "execution_count": null,
   "outputs": [],
   "source": [
    "import  numpy as np\n",
    "import  pandas as pd"
   ],
   "metadata": {
    "collapsed": false,
    "pycharm": {
     "name": "#%%\n"
    }
   }
  },
  {
   "cell_type": "code",
   "execution_count": 8,
   "outputs": [
    {
     "data": {
      "text/plain": "d    4\nb    7\na   -5\nc    3\ndtype: int32"
     },
     "metadata": {},
     "output_type": "execute_result",
     "execution_count": 8
    }
   ],
   "source": [
    "# 方法一:通过数组创建\n",
    "arr = np.array([4, 7, -5, 3])\n",
    "obj1 = pd.Series(arr, index=['d', 'b', 'a', 'c'], dtype=np.int32)\n",
    "obj1"
   ],
   "metadata": {
    "pycharm": {
     "metadata": false,
     "name": "#%%\n",
     "is_executing": false
    }
   }
  },
  {
   "cell_type": "code",
   "execution_count": 9,
   "outputs": [
    {
     "name": "stdout",
     "text": [
      "0    1\n1    2\n2    3\n3    4\ndtype: int64\n\n0    1\n1    2\n2    3\n3    4\ndtype: int64\n\n0    0\n1    1\n2    2\n3    3\n4    4\n5    5\n6    6\n7    7\n8    8\n9    9\ndtype: int64\n\n0    d\n1    u\n2    a\n3    n\n4    c\n5    h\n6    a\n7    o\ndtype: object\n\n1      u\n2      a\na    NaN\n6      a\nc    NaN\nd    NaN\ne    NaN\n5      h\ndtype: object\n"
     ],
     "output_type": "stream"
    }
   ],
   "source": "# 方法二:通过list, tuple, 迭代器, 生成器, Series创建\nobj20 = pd.Series([1, 2, 3, 4], dtype=np.int64) # list\nprint(obj20, end='\\n\\n')\n\nobj21 = pd.Series((1, 2, 3, 4)) # tuple\nprint(obj21, end='\\n\\n')\n\nobj22 = pd.Series((i for i in range(10))) # 生成器\nprint(obj22, end='\\n\\n')\n\nname = 'duanchao'\niter_name = iter(name)\nobj23 = pd.Series(iter_name) # 迭代器\nprint(obj23, end='\\n\\n')\n\nobj24 = pd.Series(obj23, index=[1, 2, 'a', 6, 'c', 'd', \n                                'e', 5]) # Series(与原有Series.index进行匹配)\nprint(obj24)",
   "metadata": {
    "pycharm": {
     "metadata": false,
     "name": "#%%\n",
     "is_executing": false
    }
   }
  },
  {
   "cell_type": "code",
   "execution_count": 10,
   "outputs": [
    {
     "data": {
      "text/plain": "Ohio      35000\nTexas     71000\nOregon    16000\nUtah       5000\ndtype: int64"
     },
     "metadata": {},
     "output_type": "execute_result",
     "execution_count": 10
    }
   ],
   "source": "# 方法三:由字典创建,字典的key是index,字典的values是values\nobj2_data = {'Ohio': 35000, 'Texas': 71000, 'Oregon': 16000, 'Utah': 5000}\nobj3 = pd.Series(obj2_data)\nobj3",
   "metadata": {
    "pycharm": {
     "metadata": false,
     "name": "#%%\n",
     "is_executing": false
    }
   }
  },
  {
   "cell_type": "code",
   "execution_count": 11,
   "outputs": [],
   "source": "# 方法四:通过标量创建",
   "metadata": {
    "pycharm": {
     "metadata": false,
     "name": "#%%\n",
     "is_executing": false
    }
   }
  },
  {
   "cell_type": "code",
   "execution_count": 14,
   "outputs": [
    {
     "data": {
      "text/plain": "0    100\n1    100\n2    100\n3    100\n4    100\n5    100\n6    100\n7    100\n8    100\n9    100\ndtype: int64"
     },
     "metadata": {},
     "output_type": "execute_result",
     "execution_count": 14
    }
   ],
   "source": "obj4 = pd.Series(100, index=range(10))\nobj4",
   "metadata": {
    "pycharm": {
     "metadata": false,
     "name": "#%%\n",
     "is_executing": false
    }
   }
  },
  {
   "cell_type": "code",
   "execution_count": 15,
   "outputs": [],
   "source": "obj4['s'] = 'duan'\nobj4",
   "metadata": {
    "pycharm": {
     "metadata": false,
     "name": "#%%\n",
     "is_executing": false
    }
   }
  },
  {
   "cell_type": "code",
   "execution_count": 17,
   "outputs": [
    {
     "data": {
      "text/plain": "0     100\n1     100\n2     100\n3     100\n4     100\n5     100\n6     100\n7     100\n8     100\n9     100\ns    chao\ndtype: object"
     },
     "metadata": {},
     "output_type": "execute_result",
     "execution_count": 17
    }
   ],
   "source": "obj4['s'] = 'chao'\nobj4",
   "metadata": {
    "pycharm": {
     "metadata": false,
     "name": "#%%\n",
     "is_executing": false
    }
   }
  },
  {
   "cell_type": "code",
   "execution_count": null,
   "outputs": [],
   "source": "\n",
   "metadata": {
    "pycharm": {
     "metadata": false,
     "name": "#%%\n"
    }
   }
  }
 ],
 "metadata": {
  "language_info": {
   "codemirror_mode": {
    "name": "ipython",
    "version": 2
   },
   "file_extension": ".py",
   "mimetype": "text/x-python",
   "name": "python",
   "nbconvert_exporter": "python",
   "pygments_lexer": "ipython2",
   "version": "2.7.6"
  },
  "kernelspec": {
   "name": "python3",
   "language": "python",
   "display_name": "Python 3"
  },
  "stem_cell": {
   "cell_type": "raw",
   "source": "",
   "metadata": {
    "pycharm": {
     "metadata": false
    }
   }
  },
  "pycharm": {
   "stem_cell": {
    "cell_type": "raw",
    "source": [],
    "metadata": {
     "collapsed": false
    }
   }
  }
 },
 "nbformat": 4,
 "nbformat_minor": 0
}