{
 "cells": [
  {
   "cell_type": "markdown",
   "source": [
    "## 排序(sort_index,sort_values)\n",
    "## 排名(rank)"
   ],
   "metadata": {
    "pycharm": {
     "metadata": false,
     "name": "#%% md\n"
    }
   }
  },
  {
   "cell_type": "code",
   "execution_count": 2,
   "outputs": [
    {
     "name": "stdout",
     "text": [
      "1    c\n2    b\n3    a\n4    d\ndtype: object\n4    d\n3    a\n2    b\n1    c\ndtype: object\n\n3    a\n2    b\n1    c\n4    d\ndtype: object\n4    d\n1    c\n2    b\n3    a\ndtype: object\n"
     ],
     "output_type": "stream"
    }
   ],
   "source": "import numpy as np\nimport pandas as pd\n\ns = pd.Series(['a', 'b', 'c', 'd'], index=[3, 2, 1, 4])\nprint(s.sort_index())\nprint(s.sort_index(ascending=False), end='\\n\\n')\n'''\nascending : bool, default true\n    Sort ascending vs. descending.\n'''\nprint(s.sort_values())\nprint(s.sort_values(ascending=False))\n'''\nascending : bool, default True\n    If True, sort values in ascending order, otherwise descending.\n'''",
   "metadata": {
    "pycharm": {
     "metadata": false,
     "name": "#%%\n",
     "is_executing": false
    }
   }
  },
  {
   "cell_type": "code",
   "execution_count": 3,
   "outputs": [
    {
     "name": "stdout",
     "text": [
      "0    7\n1   -5\n2    7\n3    4\n4    2\n5    0\n6    4\ndtype: int64\n0    6.5\n1    1.0\n2    6.5\n3    4.5\n4    3.0\n5    2.0\n6    4.5\ndtype: float64\n0    6.0\n1    1.0\n2    7.0\n3    4.0\n4    3.0\n5    2.0\n6    5.0\ndtype: float64\n0    2.0\n1    7.0\n2    2.0\n3    4.0\n4    5.0\n5    6.0\n6    4.0\ndtype: float64\n"
     ],
     "output_type": "stream"
    }
   ],
   "source": "obj1 = pd.Series([7, -5, 7, 4, 2, 0, 4])\nprint(obj1)\nprint(obj1.rank()) # 默认method='average'\n'''\nmethod : {'average', 'min', 'max', 'first', 'dense'}\n    * average: average rank of group\n    * min: lowest rank in group\n    * max: highest rank in group\n    * first: ranks assigned in order they appear in the array\n    * dense: like 'min', but rank always increases by 1 between groups\n'''\nprint(obj1.rank(method='first'))\nprint(obj1.rank(ascending=False, method='max'))",
   "metadata": {
    "pycharm": {
     "metadata": false,
     "name": "#%%\n",
     "is_executing": false
    }
   }
  },
  {
   "cell_type": "code",
   "execution_count": 8,
   "outputs": [
    {
     "name": "stdout",
     "text": [
      "       d  a  b  c\none    4  5  6  7\nthree  0  1  2  3\n       a  b  c  d\nthree  1  2  3  0\none    5  6  7  4\n       d  c  b  a\nthree  0  3  2  1\none    4  7  6  5\n       d  c  b  a\nthree  0  3  2  1\none    4  7  6  5\n"
     ],
     "output_type": "stream"
    },
    {
     "data": {
      "text/plain": "'\\naxis : int, default 0\\n    Axis to direct sorting. This can only be 0 for Series.\\n\\nlevel : int, optional\\n    If not None, sort on values in specified index level(s).\\n\\nascending : bool, default true\\n    Sort ascending vs. descending.\\n\\ninplace : bool, default False\\n    If True, perform operation in-place.\\n'"
     },
     "metadata": {},
     "output_type": "execute_result",
     "execution_count": 8
    }
   ],
   "source": "frame = pd.DataFrame(np.arange(8).reshape((2, 4)),\n                     index=['three', 'one'],\n                     columns=['d', 'a', 'b', 'c'])\n\nprint(frame.sort_index())\nprint(frame.sort_index(axis=1)) # 默认axis=0\n'''\naxis : {0 or ‘index’, 1 or ‘columns’}, default 0\n    The axis along which to sort. The value 0 identifies the rows, and 1 identifies the columns.\n'''\nprint(frame.sort_index(axis=1, ascending=False)) # 降序排列\nframe.sort_index(axis=1, ascending=False, inplace=True)\n'''\nlevel : int, optional\n    If not None, sort on values in specified index level(s).\n\nascending : bool, default true\n    Sort ascending vs. descending.\n\ninplace : bool, default False\n    If True, perform operation in-place.\n'''\nprint(frame)",
   "metadata": {
    "pycharm": {
     "metadata": false,
     "name": "#%%\n",
     "is_executing": false
    }
   }
  },
  {
   "cell_type": "code",
   "execution_count": 5,
   "outputs": [
    {
     "name": "stdout",
     "text": [
      "   b  a\n0  4  0\n1  7  1\n2 -3  0\n3  2  1\n\n   b  a\n2 -3  0\n3  2  1\n0  4  0\n1  7  1\n\n   b  a\n2 -3  0\n0  4  0\n3  2  1\n1  7  1\n"
     ],
     "output_type": "stream"
    },
    {
     "data": {
      "text/plain": "'\\nby : str or list of str\\n    Name or list of names to sort by.\\n        if axis is 0 or ‘index’ then by may contain index levels and/or column labels\\n        if axis is 1 or ‘columns’ then by may contain column levels and/or index labels\\n\\naxis : {0 or ‘index’, 1 or ‘columns’}, default 0\\n    Axis to be sorted\\n\\nascending : bool or list of bool, default True\\n    Sort ascending vs. descending. Specify list for multiple sort orders. If this is a list of bools, must match the length of the by.\\n\\ninplace : bool, default False\\n    if True, perform operation in-place\\n'"
     },
     "metadata": {},
     "output_type": "execute_result",
     "execution_count": 5
    }
   ],
   "source": "frame1 = pd.DataFrame({'b': [4, 7, -3, 2], 'a': [0, 1, 0, 1]})\nprint(frame1, end='\\n\\n')\nprint(frame1.sort_values(by='b'), end='\\n\\n')  # 单列排列\nprint(frame1.sort_values(by=['a', 'b']))  # 多列排序\n'''\nby : str or list of str\n    Name or list of names to sort by.\n        if axis is 0 or ‘index’ then by may contain index levels and/or column labels\n        if axis is 1 or ‘columns’ then by may contain column levels and/or index labels\n\naxis : {0 or ‘index’, 1 or ‘columns’}, default 0\n    Axis to be sorted\n\nascending : bool or list of bool, default True\n    Sort ascending vs. descending. Specify list for multiple sort orders. If this is a list of bools, must match the length of the by.\n\ninplace : bool, default False\n    if True, perform operation in-place\n'''",
   "metadata": {
    "pycharm": {
     "metadata": false,
     "name": "#%%\n",
     "is_executing": false
    }
   }
  },
  {
   "cell_type": "code",
   "execution_count": 10,
   "outputs": [
    {
     "name": "stdout",
     "text": [
      "     b  a    c\n0  4.3  0 -2.0\n1  7.0  1  5.0\n2 -3.0  0  8.0\n3  2.0  1 -2.5\n     b    a    c\n0  3.0  1.5  2.0\n1  4.0  3.5  3.0\n2  1.0  1.5  4.0\n3  2.0  3.5  1.0\n     b    a    c\n0  3.0  2.0  1.0\n1  3.0  1.0  2.0\n2  1.0  2.0  3.0\n3  3.0  2.0  1.0\nNone\n     b    a    c\n0  3.0  2.0  1.0\n1  3.0  1.0  2.0\n2  1.0  2.0  3.0\n3  3.0  2.0  1.0\nNone\n"
     ],
     "output_type": "stream"
    },
    {
     "data": {
      "text/plain": "\"\\naxis : {0 or 'index', 1 or 'columns'}, default 0\\n    index to direct ranking\\n    \\nmethod : {'average', 'min', 'max', 'first', 'dense'}\\n    * average: average rank of group\\n    * min: lowest rank in group\\n    * max: highest rank in group\\n    * first: ranks assigned in order they appear in the array\\n    * dense: like 'min', but rank always increases by 1 between groups\\n\""
     },
     "metadata": {},
     "output_type": "execute_result",
     "execution_count": 10
    }
   ],
   "source": "frame2 = pd.DataFrame({'b': [4.3, 7, -3, 2], 'a': [0, 1, 0, 1],\n                      'c': [-2, 5, 8, -2.5]})\nprint(frame2)\nprint(frame2.rank(axis=0))\nprint(print(frame2.rank(axis=1)))\nprint(print(frame2.rank(axis=1, method='min')))",
   "metadata": {
    "pycharm": {
     "metadata": false,
     "name": "#%%\n",
     "is_executing": false
    }
   }
  },
  {
   "cell_type": "code",
   "execution_count": null,
   "outputs": [],
   "source": "\n",
   "metadata": {
    "pycharm": {
     "metadata": false,
     "name": "#%%\n"
    }
   }
  }
 ],
 "metadata": {
  "language_info": {
   "codemirror_mode": {
    "name": "ipython",
    "version": 2
   },
   "file_extension": ".py",
   "mimetype": "text/x-python",
   "name": "python",
   "nbconvert_exporter": "python",
   "pygments_lexer": "ipython2",
   "version": "2.7.6"
  },
  "kernelspec": {
   "name": "python3",
   "language": "python",
   "display_name": "Python 3"
  },
  "stem_cell": {
   "cell_type": "raw",
   "source": "",
   "metadata": {
    "pycharm": {
     "metadata": false
    }
   }
  },
  "pycharm": {
   "stem_cell": {
    "cell_type": "raw",
    "source": [],
    "metadata": {
     "collapsed": false
    }
   }
  }
 },
 "nbformat": 4,
 "nbformat_minor": 0
}