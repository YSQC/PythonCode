{
 "cells": [
  {
   "cell_type": "markdown",
   "metadata": {},
   "source": [
    "### 列表常见操作的时间复杂度分析\n",
    "\n",
    "| 操作                                 | 平均时间复杂度 |\n",
    "| ------------------------------------ | -------------- |\n",
    "| list[index]                          | O(1)           |\n",
    "| list.append(value)                          | O(1)           |\n",
    "| list.insert(value)                          | O(n)           |\n",
    "| list.pop();default last element | O(1)           |\n",
    "| list.pop(index) | O(n)           |\n",
    "| list.remove(value)                          | O(n)           \n",
    "| list.count(value)                          | O(n)           |\n",
    "| list.extend(value)                          | O(k);('k'是需要操作的元素个数)          |\n",
    "| in关键字                          | O(n)           |"
   ]
  },
  {
   "cell_type": "code",
   "execution_count": null,
   "metadata": {},
   "outputs": [],
   "source": []
  }
 ],
 "metadata": {
  "kernelspec": {
   "display_name": "Python 3",
   "language": "python",
   "name": "python3"
  },
  "language_info": {
   "codemirror_mode": {
    "name": "ipython",
    "version": 3
   },
   "file_extension": ".py",
   "mimetype": "text/x-python",
   "name": "python",
   "nbconvert_exporter": "python",
   "pygments_lexer": "ipython3",
   "version": "3.7.7"
  },
  "toc": {
   "base_numbering": 1,
   "nav_menu": {},
   "number_sections": true,
   "sideBar": true,
   "skip_h1_title": false,
   "title_cell": "Table of Contents",
   "title_sidebar": "Contents",
   "toc_cell": false,
   "toc_position": {},
   "toc_section_display": true,
   "toc_window_display": false
  }
 },
 "nbformat": 4,
 "nbformat_minor": 4
}