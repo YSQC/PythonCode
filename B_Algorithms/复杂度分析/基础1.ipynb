{
 "cells": [
  {
   "cell_type": "markdown",
   "metadata": {
    "collapsed": true
   },
   "source": [
    "1. 最好情况时间复杂度:在最理想的情况下,执行这段代码的时间复杂度\n",
    "2. 最坏情况时间复杂度:在最糟糕的情况下,执行这段代码的时间复杂度\n",
    "3. 平均时间复杂度:在平均情况下的时间复杂度"
   ]
  },
  {
   "cell_type": "code",
   "execution_count": 47,
   "metadata": {},
   "outputs": [],
   "source": [
    "# 最好时间复杂度:O(1)\n",
    "# 最坏时间复杂度:O(n)\n",
    "# 平均时间复杂度:假设在数组中与不在数组中的概率都为1/2,则有1/2n(在数组中,且只循环一次的期望) + 2/2n + 3/3n +...+n/2n(在数组中,且循环了n次的期望) + n/2(不在数组中的期望) = (3n+1)/4,故时间复杂度为O(n)\n",
    "def find(array, x):\n",
    "    pos = -1\n",
    "    n = len(array)\n",
    "    for i in range(n):\n",
    "        if array[i] == x:\n",
    "            pos = i\n",
    "            break\n",
    "    return pos"
   ]
  },
  {
   "cell_type": "code",
   "execution_count": 48,
   "metadata": {
    "pycharm": {
     "name": "#%%\n"
    }
   },
   "outputs": [],
   "source": [
    "# 均摊时间复杂度\n",
    "# 1.代码在绝大多数情况下是低量级时间复杂度,只有极少数情况是高量级时间复杂度\n",
    "# 2. 低级别和高级别复杂度出现具有时序规律.\n",
    "# 3. 均摊时间复杂度的结果一般就等于低量级时间复杂度\n",
    "data = [0]*10\n",
    "position = 0\n",
    "capacity = 10\n",
    "\n",
    "def resize(newCapacity):\n",
    "    global  data\n",
    "    global capacity\n",
    "    array = [0]*newCapacity\n",
    "    for i in range(position):\n",
    "        array[i] = data[i]\n",
    "    data = array\n",
    "    capacity = newCapacity\n",
    "    \n",
    "    \n",
    "def push_bach(value):\n",
    "    global position\n",
    "    global capacity\n",
    "    global data\n",
    "    if position == capacity:\n",
    "        resize(capacity+10) # 再进行1一次O(n)的数组扩展操作,且存在前后连贯的时序关系\n",
    "    data[position] = value\n",
    "    position += 1 # 先进行10次O(1)的赋值操作\n",
    "\n",
    "for _ in range(100):\n",
    "    push_bach(-1)"
   ]
  }
 ],
 "metadata": {
  "kernelspec": {
   "display_name": "Python 3",
   "language": "python",
   "name": "python3"
  },
  "language_info": {
   "codemirror_mode": {
    "name": "ipython",
    "version": 3
   },
   "file_extension": ".py",
   "mimetype": "text/x-python",
   "name": "python",
   "nbconvert_exporter": "python",
   "pygments_lexer": "ipython3",
   "version": "3.7.7"
  },
  "toc": {
   "base_numbering": 1,
   "nav_menu": {},
   "number_sections": true,
   "sideBar": true,
   "skip_h1_title": false,
   "title_cell": "Table of Contents",
   "title_sidebar": "Contents",
   "toc_cell": false,
   "toc_position": {},
   "toc_section_display": true,
   "toc_window_display": false
  }
 },
 "nbformat": 4,
 "nbformat_minor": 1
}