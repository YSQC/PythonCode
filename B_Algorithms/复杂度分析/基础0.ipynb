{
 "cells": [
  {
   "cell_type": "markdown",
   "metadata": {
    "collapsed": true
   },
   "source": [
    "### O记号\n",
    "\n",
    "&emsp;&emsp;对于给定一个函数$g(n)$,用$O(g(n))$来表示以下函数的集合:\n",
    "\n",
    "$ O(g(n))$  =  \\{ $f(n)$: 存在正常量$c$和$n_0$,使得对所有$n \\geq n_0$,有$0 \\leq f(n) \\leq c g(n)$\\}\n",
    "\n",
    "$O$记号给出函数的一个常量因子内的上界.把上述描述方式应用于算法的代价问题,假设存在函数$g$,使得算法处理规模为$n$的问题实例所用的时间$T(n) = O(g(n))$,则称$O(g(n))$为算法$A$的渐进时间复杂度,也就是说明最坏情况运行时间为$O(g(n))$.也可以简称为时间复杂度.算法的空间复杂度$S(n)$定义与此类似."
   ]
  },
  {
   "cell_type": "markdown",
   "metadata": {},
   "source": [
    "### 基本复杂度分析\n",
    "1. 基本操作,认为其时间复杂度为$O(1)$.如果是函数调用,应该其时间复杂度代入,参与整体时间复杂度的计算\n",
    "2. 加法规则(顺序复合).如果算法(或所考虑算法片段)是两个部分(或多个部分)的顺序组合,其复杂度是着两部分(或多部份)的复杂度之和.以两个部分为例\n",
    "$$ T(n)=T_{1}(n)+T_{2}(n)=\\mathrm{O}\\left(g(n)\\right)+\\mathrm{O}\\left(f(n))\\right)=\\mathrm{O}\\left(\\max \\left(g(n), f(n)\\right)\\right) $$\n",
    "\n",
    "其中$T_{1}(n)$和$T_{2}(n)$分别为顺序复合的两个部分的时间复杂度.由于忽略了常量因子,加法等价与求最大值,取$T_{1}(n)$和$T_{1}(n)$中复杂度较高的一个.\n",
    "3. 乘法规则(循环结构).如果算法(或所考虑算法片段)是一个循环,循环体将执行$T_1(n)$次,每次执行$T_2(n)$时间,那么\n",
    "$$T(n)=T_{1}(n) \\times T_{2}(n)=\\mathrm{O}\\left(g(n)\\right) \\times \\mathrm{O}\\left(f(n)\\right)=\\mathrm{O}\\left(g(n) \\times f(n)\\right)$$\n",
    "4. 取最大规则(分支结构).如果算法(或所考虑算法片段)是条件分支,两个分支的时间复杂度分别为$T_{1}(n)$和$T_{1}(n)$,则有\n",
    "$$ T(n) = \\mathrm{O} \\left( \\max \\left(g(n), f(n) \\right) \\right) $$\n",
    "\n",
    "***\n",
    "```python\n",
    "# 时间复杂度为O(1)\n",
    "a = 3\n",
    "b = 4\n",
    "c = a + b \n",
    "print(c)\n",
    "```\n",
    "***\n",
    "\n",
    "```python\n",
    "# 时间复杂度为O(log n)\n",
    "i = 1 \n",
    "while(i <= n):\n",
    "    i *= 2 # 共执行: 2^0,2^1,...,2^(x-1)<=n<2^x\n",
    "```\n",
    "***\n",
    "```python\n",
    "### 时间复杂度为O(n^2)\n",
    "def cal():\n",
    "    res = 0\n",
    "    for j in range(n):\n",
    "        res += sum_(j) # 共执行:1+2+...+n=((1+n)n)/2\n",
    "\n",
    "def sum_(n):\n",
    "    sum = 0\n",
    "    for i in range(n):\n",
    "        sum += i\n",
    "     return sum\n",
    "```\n",
    "***"
   ]
  },
  {
   "cell_type": "markdown",
   "metadata": {},
   "source": [
    "常见复杂度(从小到大)\n",
    "1. $O(1)$\n",
    "2. $O(log n)$\n",
    "3. $O(n)$\n",
    "4. $O(n log n)$\n",
    "5. $O(n^2),...,O(n^k)$\n",
    "6. $O(2^n)$\n",
    "7. $O(n!)$"
   ]
  },
  {
   "cell_type": "code",
   "execution_count": 2,
   "metadata": {},
   "outputs": [
    {
     "data": {
      "image/png": "[encoded data removed]",
      "text/plain": [
       "<Figure size 432x288 with 1 Axes>"
      ]
     },
     "metadata": {
      "needs_background": "light"
     },
     "output_type": "display_data"
    }
   ],
   "source": [
    "import numpy as np\n",
    "import matplotlib.pyplot as plt\n",
    "\n",
    "a = np.linspace(0.01, 5, 1000)\n",
    "logn = np.log(a)\n",
    "n = a \n",
    "nlogn = a * np.log(a)\n",
    "n2 = a**2\n",
    "_2n = 2**n\n",
    "\n",
    "plt.plot(a, logn, label='$\\log n$')\n",
    "plt.plot(a, n, label='$n$')\n",
    "plt.plot(a, nlogn, label='$n \\log n$')\n",
    "plt.plot(a, n2, label='$n^2$')\n",
    "plt.plot(a, _2n, label='$2^n$')\n",
    "plt.xlim(0, 5)\n",
    "plt.legend()\n",
    "plt.show()"
   ]
  },
  {
   "cell_type": "code",
   "execution_count": null,
   "metadata": {},
   "outputs": [],
   "source": []
  }
 ],
 "metadata": {
  "kernelspec": {
   "display_name": "Python 3",
   "language": "python",
   "name": "python3"
  },
  "language_info": {
   "codemirror_mode": {
    "name": "ipython",
    "version": 3
   },
   "file_extension": ".py",
   "mimetype": "text/x-python",
   "name": "python",
   "nbconvert_exporter": "python",
   "pygments_lexer": "ipython3",
   "version": "3.7.7"
  },
  "toc": {
   "base_numbering": 1,
   "nav_menu": {},
   "number_sections": true,
   "sideBar": true,
   "skip_h1_title": false,
   "title_cell": "Table of Contents",
   "title_sidebar": "Contents",
   "toc_cell": false,
   "toc_position": {},
   "toc_section_display": true,
   "toc_window_display": false
  }
 },
 "nbformat": 4,
 "nbformat_minor": 1
}
