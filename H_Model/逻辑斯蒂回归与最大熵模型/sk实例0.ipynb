{
 "cells": [
  {
   "cell_type": "markdown",
   "metadata": {
    "collapsed": true,
    "pycharm": {
     "is_executing": false,
     "name": "#%% md\n"
    }
   },
   "source": [
    "1. sklearn中LogisticRegression$L_1$正则化   \n",
    "$$ J(\\beta) + \\alpha L_1 \\Longrightarrow CJ(\\beta) + L_1$$    \n",
    "2. sklearn中LogisticRegression$L_2$正则化    \n",
    "$$ J(\\beta) + \\alpha L_2 \\Longrightarrow CJ(\\beta) + L_2 $$    \n",
    "\n",
    "易知:$C$为$\\alpha$的倒数,较小的值指定更强的正则化"
   ]
  },
  {
   "cell_type": "code",
   "execution_count": 1,
   "metadata": {
    "pycharm": {
     "is_executing": false,
     "name": "#%%\n"
    }
   },
   "outputs": [],
   "source": [
    "import numpy as np\n",
    "import matplotlib.pyplot as plt\n",
    "from sklearn.model_selection import train_test_split\n",
    "from sklearn.linear_model import LogisticRegression\n",
    "from sklearn.preprocessing import PolynomialFeatures\n",
    "from sklearn.pipeline import Pipeline\n",
    "from sklearn.preprocessing import StandardScaler\n",
    "\n",
    "X = np.random.normal(0, 1, size=(200, 2))\n",
    "y = np.array((X[:, 0]**2+X[:, 1])<1.5, dtype=np.int32)\n",
    "for _ in range(20):\n",
    "    y[np.random.randint(200)] = 1 # 添加一定噪音"
   ]
  },
  {
   "cell_type": "code",
   "execution_count": 2,
   "metadata": {
    "pycharm": {
     "is_executing": false,
     "name": "#%%\n"
    }
   },
   "outputs": [
    {
     "data": {
      "text/plain": "<Figure size 432x288 with 1 Axes>",
      "image/png": "[encoded data removed]"
     },
     "metadata": {
      "needs_background": "light"
     },
     "output_type": "display_data"
    }
   ],
   "source": [
    "plt.scatter(X[y==0,0], X[y==0,1])\n",
    "plt.scatter(X[y==1,0], X[y==1,1])\n",
    "plt.show()"
   ]
  },
  {
   "cell_type": "code",
   "execution_count": 3,
   "metadata": {
    "pycharm": {
     "is_executing": false,
     "name": "#%%\n"
    }
   },
   "outputs": [
    {
     "data": {
      "text/plain": "LogisticRegression(C=1.0, class_weight=None, dual=False, fit_intercept=True,\n                   intercept_scaling=1, l1_ratio=None, max_iter=100,\n                   multi_class='warn', n_jobs=-1, penalty='l2',\n                   random_state=None, solver='lbfgs', tol=0.0001, verbose=0,\n                   warm_start=False)"
     },
     "metadata": {},
     "output_type": "execute_result",
     "execution_count": 3
    }
   ],
   "source": [
    "X_train, X_test, y_train, y_test = train_test_split(X, y, random_state=666)\n",
    "\n",
    "log_reg = LogisticRegression(solver='lbfgs', n_jobs=-1) \n",
    "# default:c=1.0\n",
    "# default:penalty='l2'\n",
    "# default:solve='lbfgs'(支持L2正则化,不支持L1正则化,支持OvR,MvM).拟牛顿法的一种\n",
    "#         solve='sag'(支持L2正则化,不支持L1正则化,支持OvR,MvM).随机平均梯度下降法,适用于样本量非常大的数据集\n",
    "#         solve='saga'(支持L2正则化,不支持L1正则化,还支持elasticnet/弹性网正则化.支持OvR,MvM).An accelerated SAGA variant,线性收敛的随机优化算法的的变种,适用于样本量非常大的数据集\n",
    "#         solve='liblinear'(支持L2正则化,不支持L1正则化,支持OvR,不支持MvM).开源的liblinear库实现,内部使用了坐标轴下降法来迭代优化损失函数,适用于小数据集\n",
    "log_reg.fit(X_train, y_train) # 使用直线进行拟合"
   ]
  },
  {
   "cell_type": "code",
   "execution_count": 4,
   "metadata": {
    "pycharm": {
     "is_executing": false,
     "name": "#%%\n"
    }
   },
   "outputs": [
    {
     "data": {
      "text/plain": "0.7533333333333333"
     },
     "metadata": {},
     "output_type": "execute_result",
     "execution_count": 4
    }
   ],
   "source": [
    "log_reg.score(X_train, y_train)"
   ]
  },
  {
   "cell_type": "code",
   "execution_count": 5,
   "outputs": [
    {
     "data": {
      "text/plain": "array([[0.1180646 , 0.8819354 ],\n       [0.21643805, 0.78356195],\n       [0.20429836, 0.79570164],\n       [0.36363632, 0.63636368],\n       [0.27125523, 0.72874477],\n       [0.87215582, 0.12784418],\n       [0.31172888, 0.68827112],\n       [0.51132892, 0.48867108],\n       [0.55560138, 0.44439862],\n       [0.18311509, 0.81688491],\n       [0.1224361 , 0.8775639 ],\n       [0.43478291, 0.56521709],\n       [0.66015037, 0.33984963],\n       [0.59428599, 0.40571401],\n       [0.49904371, 0.50095629],\n       [0.20028595, 0.79971405],\n       [0.24240537, 0.75759463],\n       [0.11691302, 0.88308698],\n       [0.14996367, 0.85003633],\n       [0.16405981, 0.83594019],\n       [0.43395806, 0.56604194],\n       [0.06246353, 0.93753647],\n       [0.46709835, 0.53290165],\n       [0.14890629, 0.85109371],\n       [0.31332888, 0.68667112],\n       [0.32690064, 0.67309936],\n       [0.13285835, 0.86714165],\n       [0.29391641, 0.70608359],\n       [0.12703477, 0.87296523],\n       [0.52392957, 0.47607043],\n       [0.03064479, 0.96935521],\n       [0.10197707, 0.89802293],\n       [0.08430377, 0.91569623],\n       [0.05296355, 0.94703645],\n       [0.09593063, 0.90406937],\n       [0.40317168, 0.59682832],\n       [0.17074723, 0.82925277],\n       [0.04991594, 0.95008406],\n       [0.80427219, 0.19572781],\n       [0.53192158, 0.46807842],\n       [0.01317269, 0.98682731],\n       [0.28142606, 0.71857394],\n       [0.27482123, 0.72517877],\n       [0.24262536, 0.75737464],\n       [0.25830235, 0.74169765],\n       [0.74167983, 0.25832017],\n       [0.094534  , 0.905466  ],\n       [0.25388517, 0.74611483],\n       [0.05216098, 0.94783902],\n       [0.04507665, 0.95492335],\n       [0.18349322, 0.81650678],\n       [0.86216666, 0.13783334],\n       [0.10753964, 0.89246036],\n       [0.15842829, 0.84157171],\n       [0.0141156 , 0.9858844 ],\n       [0.77871916, 0.22128084],\n       [0.31620701, 0.68379299],\n       [0.15999095, 0.84000905],\n       [0.3434166 , 0.6565834 ],\n       [0.54840469, 0.45159531],\n       [0.48853306, 0.51146694],\n       [0.43693113, 0.56306887],\n       [0.3181785 , 0.6818215 ],\n       [0.91342968, 0.08657032],\n       [0.0836889 , 0.9163111 ],\n       [0.05876788, 0.94123212],\n       [0.35930355, 0.64069645],\n       [0.9185628 , 0.0814372 ],\n       [0.26941859, 0.73058141],\n       [0.12182144, 0.87817856],\n       [0.05553105, 0.94446895],\n       [0.60789271, 0.39210729],\n       [0.35882806, 0.64117194],\n       [0.43351414, 0.56648586],\n       [0.30289277, 0.69710723],\n       [0.77110525, 0.22889475],\n       [0.51077776, 0.48922224],\n       [0.26898697, 0.73101303],\n       [0.14990544, 0.85009456],\n       [0.93235424, 0.06764576],\n       [0.05823957, 0.94176043],\n       [0.70364019, 0.29635981],\n       [0.59230038, 0.40769962],\n       [0.28397518, 0.71602482],\n       [0.11319771, 0.88680229],\n       [0.17155404, 0.82844596],\n       [0.30700227, 0.69299773],\n       [0.21153511, 0.78846489],\n       [0.43951376, 0.56048624],\n       [0.58639156, 0.41360844],\n       [0.32527489, 0.67472511],\n       [0.4226066 , 0.5773934 ],\n       [0.48090494, 0.51909506],\n       [0.69002874, 0.30997126],\n       [0.23731905, 0.76268095],\n       [0.37378547, 0.62621453],\n       [0.12048662, 0.87951338],\n       [0.10808932, 0.89191068],\n       [0.36811448, 0.63188552],\n       [0.14263448, 0.85736552],\n       [0.55707903, 0.44292097],\n       [0.1036277 , 0.8963723 ],\n       [0.01622243, 0.98377757],\n       [0.67990981, 0.32009019],\n       [0.24402135, 0.75597865],\n       [0.265924  , 0.734076  ],\n       [0.43059954, 0.56940046],\n       [0.184921  , 0.815079  ],\n       [0.54307167, 0.45692833],\n       [0.23886627, 0.76113373],\n       [0.12316165, 0.87683835],\n       [0.48460478, 0.51539522],\n       [0.17744315, 0.82255685],\n       [0.27167484, 0.72832516],\n       [0.08679674, 0.91320326],\n       [0.40051505, 0.59948495],\n       [0.21625217, 0.78374783],\n       [0.5452729 , 0.4547271 ],\n       [0.69316855, 0.30683145],\n       [0.13619586, 0.86380414],\n       [0.08034511, 0.91965489],\n       [0.55479206, 0.44520794],\n       [0.30207516, 0.69792484],\n       [0.03264891, 0.96735109],\n       [0.24373628, 0.75626372],\n       [0.25630535, 0.74369465],\n       [0.14619702, 0.85380298],\n       [0.02040293, 0.97959707],\n       [0.09761153, 0.90238847],\n       [0.25776443, 0.74223557],\n       [0.25197766, 0.74802234],\n       [0.01072751, 0.98927249],\n       [0.30621417, 0.69378583],\n       [0.17560627, 0.82439373],\n       [0.1942656 , 0.8057344 ],\n       [0.18688042, 0.81311958],\n       [0.07042922, 0.92957078],\n       [0.22046447, 0.77953553],\n       [0.09138306, 0.90861694],\n       [0.95125076, 0.04874924],\n       [0.35484969, 0.64515031],\n       [0.95112494, 0.04887506],\n       [0.38937507, 0.61062493],\n       [0.37092905, 0.62907095],\n       [0.13950701, 0.86049299],\n       [0.47166021, 0.52833979],\n       [0.00750806, 0.99249194],\n       [0.32369609, 0.67630391],\n       [0.33954337, 0.66045663],\n       [0.02602161, 0.97397839]])"
     },
     "metadata": {},
     "output_type": "execute_result",
     "execution_count": 5
    }
   ],
   "source": [
    "log_reg.predict_proba(X_train) # 预测结果天生就可以输出为概率向量"
   ],
   "metadata": {
    "collapsed": false,
    "pycharm": {
     "name": "#%%\n",
     "is_executing": false
    }
   }
  },
  {
   "cell_type": "code",
   "execution_count": 6,
   "outputs": [
    {
     "data": {
      "text/plain": "array([1, 1, 1, 1, 1, 0, 1, 0, 0, 1, 1, 1, 0, 0, 1, 1, 1, 1, 1, 1, 1, 1,\n       1, 1, 1, 1, 1, 1, 1, 0, 1, 1, 1, 1, 1, 1, 1, 1, 0, 0, 1, 1, 1, 1,\n       1, 0, 1, 1, 1, 1, 1, 0, 1, 1, 1, 0, 1, 1, 1, 0, 1, 1, 1, 0, 1, 1,\n       1, 0, 1, 1, 1, 0, 1, 1, 1, 0, 0, 1, 1, 0, 1, 0, 0, 1, 1, 1, 1, 1,\n       1, 0, 1, 1, 1, 0, 1, 1, 1, 1, 1, 1, 0, 1, 1, 0, 1, 1, 1, 1, 0, 1,\n       1, 1, 1, 1, 1, 1, 1, 0, 0, 1, 1, 0, 1, 1, 1, 1, 1, 1, 1, 1, 1, 1,\n       1, 1, 1, 1, 1, 1, 1, 0, 1, 0, 1, 1, 1, 1, 1, 1, 1, 1])"
     },
     "metadata": {},
     "output_type": "execute_result",
     "execution_count": 6
    }
   ],
   "source": [
    "log_reg.predict(X_train) # Predict class labels for samples in X."
   ],
   "metadata": {
    "collapsed": false,
    "pycharm": {
     "name": "#%%\n",
     "is_executing": false
    }
   }
  },
  {
   "cell_type": "code",
   "execution_count": 7,
   "metadata": {
    "pycharm": {
     "is_executing": false,
     "name": "#%%\n"
    }
   },
   "outputs": [
    {
     "data": {
      "text/plain": "0.76"
     },
     "metadata": {},
     "output_type": "execute_result",
     "execution_count": 7
    }
   ],
   "source": [
    "log_reg.score(X_test, y_test) # 欠拟合"
   ]
  },
  {
   "cell_type": "code",
   "execution_count": 8,
   "metadata": {
    "pycharm": {
     "is_executing": false,
     "name": "#%%\n"
    }
   },
   "outputs": [],
   "source": [
    "def plot_decision_boundary(model, \n",
    "                           axis): # 坐标轴范围\n",
    "    \"\"\"绘制决策边界\"\"\" \n",
    "    x0, x1 = np.meshgrid(\n",
    "        np.linspace(axis[0], axis[1], int((axis[1]-axis[0])*200)).reshape(-1, 1),\n",
    "        np.linspace(axis[2], axis[3], int((axis[3]-axis[2])*200)).reshape(-1, 1),\n",
    "    )\n",
    "    X_new = np.c_[x0.ravel(), x1.ravel()]\n",
    "\n",
    "    y_predict = model.predict(X_new)\n",
    "    zz = y_predict.reshape(x0.shape)\n",
    "\n",
    "    from matplotlib.colors import ListedColormap\n",
    "    custom_cmap = ListedColormap(['yellow', 'red'])\n",
    "    \n",
    "    plt.contourf(x0, x1, zz, linewidth=5, cmap=custom_cmap)"
   ]
  },
  {
   "cell_type": "code",
   "execution_count": 9,
   "metadata": {
    "pycharm": {
     "is_executing": false,
     "name": "#%%\n"
    }
   },
   "outputs": [
    {
     "name": "stderr",
     "text": [
      "D:\\CodeProgram\\anconda3\\lib\\site-packages\\ipykernel_launcher.py:16: UserWarning: The following kwargs were not used by contour: 'linewidth'\n",
      "  app.launch_new_instance()\n"
     ],
     "output_type": "stream"
    },
    {
     "data": {
      "text/plain": "<Figure size 432x288 with 1 Axes>",
      "image/png": "[encoded data removed]"
     },
     "metadata": {
      "needs_background": "light"
     },
     "output_type": "display_data"
    }
   ],
   "source": [
    "plot_decision_boundary(log_reg, axis=[-4, 4, -4, 4])\n",
    "plt.scatter(X[y==0,0], X[y==0,1])\n",
    "plt.scatter(X[y==1,0], X[y==1,1])\n",
    "plt.show()"
   ]
  },
  {
   "cell_type": "code",
   "execution_count": 10,
   "metadata": {
    "pycharm": {
     "is_executing": false,
     "name": "#%%\n"
    }
   },
   "outputs": [],
   "source": [
    "def PolynomialLogisticRegression(degree):\n",
    "    # 管道机制实现了对全部步骤的流式化封装和管理\n",
    "    return Pipeline([\n",
    "        ('poly', PolynomialFeatures(degree=degree)),\n",
    "        ('std_scaler', StandardScaler()),\n",
    "        ('log_reg', LogisticRegression(n_jobs=-1, solver='lbfgs'))\n",
    "    ])"
   ]
  },
  {
   "cell_type": "code",
   "execution_count": 11,
   "metadata": {
    "pycharm": {
     "is_executing": false,
     "name": "#%%\n"
    }
   },
   "outputs": [
    {
     "data": {
      "text/plain": "Pipeline(memory=None,\n         steps=[('poly',\n                 PolynomialFeatures(degree=2, include_bias=True,\n                                    interaction_only=False, order='C')),\n                ('std_scaler',\n                 StandardScaler(copy=True, with_mean=True, with_std=True)),\n                ('log_reg',\n                 LogisticRegression(C=1.0, class_weight=None, dual=False,\n                                    fit_intercept=True, intercept_scaling=1,\n                                    l1_ratio=None, max_iter=100,\n                                    multi_class='warn', n_jobs=-1, penalty='l2',\n                                    random_state=None, solver='lbfgs',\n                                    tol=0.0001, verbose=0, warm_start=False))],\n         verbose=False)"
     },
     "metadata": {},
     "output_type": "execute_result",
     "execution_count": 11
    }
   ],
   "source": [
    "poly_log_reg = PolynomialLogisticRegression(degree=2) # 多项式最高项次数为2\n",
    "poly_log_reg.fit(X_train, y_train)"
   ]
  },
  {
   "cell_type": "code",
   "execution_count": 12,
   "metadata": {
    "pycharm": {
     "is_executing": false,
     "name": "#%%\n"
    }
   },
   "outputs": [
    {
     "data": {
      "text/plain": "0.9466666666666667"
     },
     "metadata": {},
     "output_type": "execute_result",
     "execution_count": 12
    }
   ],
   "source": [
    "poly_log_reg.score(X_train, y_train)"
   ]
  },
  {
   "cell_type": "code",
   "execution_count": 13,
   "metadata": {
    "pycharm": {
     "is_executing": false,
     "name": "#%%\n"
    }
   },
   "outputs": [
    {
     "data": {
      "text/plain": "0.94"
     },
     "metadata": {},
     "output_type": "execute_result",
     "execution_count": 13
    }
   ],
   "source": [
    "poly_log_reg.score(X_test, y_test) # 拟合程度较好"
   ]
  },
  {
   "cell_type": "code",
   "execution_count": 14,
   "metadata": {
    "pycharm": {
     "is_executing": false,
     "name": "#%%\n"
    }
   },
   "outputs": [
    {
     "name": "stderr",
     "text": [
      "D:\\CodeProgram\\anconda3\\lib\\site-packages\\ipykernel_launcher.py:16: UserWarning: The following kwargs were not used by contour: 'linewidth'\n",
      "  app.launch_new_instance()\n"
     ],
     "output_type": "stream"
    },
    {
     "data": {
      "text/plain": "<Figure size 432x288 with 1 Axes>",
      "image/png": "[encoded data removed]"
     },
     "metadata": {
      "needs_background": "light"
     },
     "output_type": "display_data"
    }
   ],
   "source": [
    "plot_decision_boundary(poly_log_reg, axis=[-4, 4, -4, 4])\n",
    "plt.scatter(X[y==0,0], X[y==0,1])\n",
    "plt.scatter(X[y==1,0], X[y==1,1])\n",
    "plt.show()"
   ]
  },
  {
   "cell_type": "code",
   "execution_count": 15,
   "metadata": {
    "pycharm": {
     "is_executing": false,
     "name": "#%%\n"
    }
   },
   "outputs": [
    {
     "data": {
      "text/plain": "array([[ 0.        , -0.12439165, -2.14160993, -2.66360062,  0.67185857,\n        -0.59729977]])"
     },
     "metadata": {},
     "output_type": "execute_result",
     "execution_count": 15
    }
   ],
   "source": [
    "poly_log_reg[2].coef_ # 解释变量(项)的系数"
   ]
  },
  {
   "cell_type": "code",
   "execution_count": 16,
   "metadata": {
    "pycharm": {
     "is_executing": false,
     "name": "#%%\n"
    }
   },
   "outputs": [
    {
     "data": {
      "text/plain": "array([1.37913695])"
     },
     "metadata": {},
     "output_type": "execute_result",
     "execution_count": 16
    }
   ],
   "source": [
    "poly_log_reg[2].intercept_ # 截距项"
   ]
  },
  {
   "cell_type": "code",
   "execution_count": 17,
   "metadata": {
    "pycharm": {
     "is_executing": false,
     "name": "#%%\n"
    }
   },
   "outputs": [
    {
     "data": {
      "text/plain": "['1', 'x0', 'x1', 'x0^2', 'x0 x1', 'x1^2']"
     },
     "metadata": {},
     "output_type": "execute_result",
     "execution_count": 17
    }
   ],
   "source": [
    "poly_log_reg[0].get_feature_names() # 多项式的各项"
   ]
  },
  {
   "cell_type": "code",
   "execution_count": 18,
   "metadata": {
    "pycharm": {
     "is_executing": false,
     "name": "#%%\n"
    }
   },
   "outputs": [
    {
     "data": {
      "text/plain": "Pipeline(memory=None,\n         steps=[('poly',\n                 PolynomialFeatures(degree=20, include_bias=True,\n                                    interaction_only=False, order='C')),\n                ('std_scaler',\n                 StandardScaler(copy=True, with_mean=True, with_std=True)),\n                ('log_reg',\n                 LogisticRegression(C=1.0, class_weight=None, dual=False,\n                                    fit_intercept=True, intercept_scaling=1,\n                                    l1_ratio=None, max_iter=100,\n                                    multi_class='warn', n_jobs=-1, penalty='l2',\n                                    random_state=None, solver='lbfgs',\n                                    tol=0.0001, verbose=0, warm_start=False))],\n         verbose=False)"
     },
     "metadata": {},
     "output_type": "execute_result",
     "execution_count": 18
    }
   ],
   "source": [
    "poly_log_reg2 = PolynomialLogisticRegression(degree=20) # 多项式最高项次数为20\n",
    "poly_log_reg2.fit(X_train, y_train)"
   ]
  },
  {
   "cell_type": "code",
   "execution_count": 19,
   "metadata": {
    "pycharm": {
     "is_executing": false,
     "name": "#%%\n"
    }
   },
   "outputs": [
    {
     "data": {
      "text/plain": "0.96"
     },
     "metadata": {},
     "output_type": "execute_result",
     "execution_count": 19
    }
   ],
   "source": [
    "poly_log_reg2.score(X_train, y_train)"
   ]
  },
  {
   "cell_type": "code",
   "execution_count": 20,
   "metadata": {
    "pycharm": {
     "is_executing": false,
     "name": "#%%\n"
    }
   },
   "outputs": [
    {
     "data": {
      "text/plain": "0.92"
     },
     "metadata": {},
     "output_type": "execute_result",
     "execution_count": 20
    }
   ],
   "source": [
    "poly_log_reg2.score(X_test, y_test) # score没有得到提高"
   ]
  },
  {
   "cell_type": "code",
   "execution_count": 21,
   "metadata": {
    "pycharm": {
     "is_executing": false,
     "name": "#%%\n"
    }
   },
   "outputs": [
    {
     "name": "stderr",
     "text": [
      "D:\\CodeProgram\\anconda3\\lib\\site-packages\\ipykernel_launcher.py:16: UserWarning: The following kwargs were not used by contour: 'linewidth'\n",
      "  app.launch_new_instance()\n"
     ],
     "output_type": "stream"
    },
    {
     "data": {
      "text/plain": "<Figure size 432x288 with 1 Axes>",
      "image/png": "[encoded data removed]"
     },
     "metadata": {
      "needs_background": "light"
     },
     "output_type": "display_data"
    }
   ],
   "source": [
    "plot_decision_boundary(poly_log_reg2, axis=[-4, 4, -4, 4])\n",
    "plt.scatter(X[y==0, 0], X[y==0, 1])\n",
    "plt.scatter(X[y==1, 0], X[y==1, 1])\n",
    "plt.show() # 决策边界复杂,可能出现了过拟合"
   ]
  },
  {
   "cell_type": "code",
   "execution_count": 22,
   "metadata": {
    "pycharm": {
     "is_executing": false,
     "name": "#%%\n"
    }
   },
   "outputs": [],
   "source": [
    "def PolynomialLogisticRegression(degree, C, penalty='l2'):\n",
    "    return Pipeline([\n",
    "        ('poly', PolynomialFeatures(degree=degree)),\n",
    "        ('std_scaler', StandardScaler()),\n",
    "        ('log_reg', LogisticRegression(C=C, penalty=penalty, n_jobs=-1, solver='saga', max_iter=1000))\n",
    "    ])"
   ]
  },
  {
   "cell_type": "code",
   "execution_count": 23,
   "metadata": {
    "pycharm": {
     "is_executing": false,
     "name": "#%%\n"
    }
   },
   "outputs": [
    {
     "name": "stderr",
     "text": [
      "D:\\CodeProgram\\anconda3\\lib\\site-packages\\sklearn\\linear_model\\sag.py:337: ConvergenceWarning: The max_iter was reached which means the coef_ did not converge\n",
      "  \"the coef_ did not converge\", ConvergenceWarning)\n"
     ],
     "output_type": "stream"
    },
    {
     "data": {
      "text/plain": "Pipeline(memory=None,\n         steps=[('poly',\n                 PolynomialFeatures(degree=20, include_bias=True,\n                                    interaction_only=False, order='C')),\n                ('std_scaler',\n                 StandardScaler(copy=True, with_mean=True, with_std=True)),\n                ('log_reg',\n                 LogisticRegression(C=0.1, class_weight=None, dual=False,\n                                    fit_intercept=True, intercept_scaling=1,\n                                    l1_ratio=None, max_iter=1000,\n                                    multi_class='warn', n_jobs=-1, penalty='l2',\n                                    random_state=None, solver='saga',\n                                    tol=0.0001, verbose=0, warm_start=False))],\n         verbose=False)"
     },
     "metadata": {},
     "output_type": "execute_result",
     "execution_count": 23
    }
   ],
   "source": [
    "poly_log_reg3 = PolynomialLogisticRegression(degree=20, C=0.1, penalty='l2')\n",
    "poly_log_reg3.fit(X_train, y_train)"
   ]
  },
  {
   "cell_type": "code",
   "execution_count": 24,
   "metadata": {
    "pycharm": {
     "is_executing": false,
     "name": "#%%\n"
    }
   },
   "outputs": [
    {
     "data": {
      "text/plain": "0.8933333333333333"
     },
     "metadata": {},
     "output_type": "execute_result",
     "execution_count": 24
    }
   ],
   "source": [
    "poly_log_reg3.score(X_train, y_train)"
   ]
  },
  {
   "cell_type": "code",
   "execution_count": 25,
   "metadata": {
    "pycharm": {
     "is_executing": false,
     "name": "#%%\n"
    }
   },
   "outputs": [
    {
     "data": {
      "text/plain": "0.88"
     },
     "metadata": {},
     "output_type": "execute_result",
     "execution_count": 25
    }
   ],
   "source": [
    "poly_log_reg3.score(X_test, y_test)"
   ]
  },
  {
   "cell_type": "code",
   "execution_count": 26,
   "metadata": {
    "pycharm": {
     "is_executing": false,
     "name": "#%%\n"
    }
   },
   "outputs": [
    {
     "data": {
      "text/plain": "array([[ 0.00000000e+00,  7.96535518e-02, -5.40571405e-01,\n        -9.46956277e-01,  5.39268049e-03, -2.26923115e-01,\n         3.55450501e-02, -2.73471181e-01, -8.53807069e-02,\n        -3.11068762e-01, -4.89897549e-01,  1.53888241e-02,\n        -1.61204800e-01, -3.54148734e-02, -1.17738762e-01,\n         1.04147313e-03, -8.54828343e-02, -6.76068324e-02,\n        -1.75908970e-01, -6.63576005e-02, -1.62362961e-01,\n        -2.24034483e-01,  1.99390574e-02, -4.00412264e-02,\n         5.54523501e-03, -5.12039852e-02, -3.05189045e-02,\n        -6.68538637e-02, -1.50431744e-02, -4.57458250e-02,\n        -4.47337128e-02, -6.24597216e-02, -5.57733409e-02,\n        -1.18055601e-01, -4.38662640e-02, -9.80742374e-02,\n        -1.04428112e-01,  1.59770357e-02, -7.49123167e-03,\n         1.22006094e-02,  5.78407239e-05,  3.66904496e-03,\n        -3.01165152e-02, -2.49421582e-02, -4.59476414e-02,\n        -2.02100986e-02, -3.42218250e-02, -3.37256674e-02,\n        -3.83433075e-02, -3.82197745e-02, -5.13893728e-02,\n        -5.03338366e-02, -7.27191522e-02, -2.76234120e-02,\n        -6.76433634e-02, -5.26374759e-02,  1.08256595e-02,\n        -8.42050607e-05,  9.58917881e-03,  6.38853239e-03,\n         8.48902513e-03,  1.61747063e-03, -2.45582357e-03,\n        -2.26257599e-02, -2.09036232e-02, -3.62796779e-02,\n        -2.03129209e-02, -2.85005808e-02, -2.74547151e-02,\n        -2.98973567e-02, -2.99542136e-02, -3.28850566e-02,\n        -3.43123771e-02, -4.51993558e-02, -4.29524658e-02,\n        -4.35827093e-02, -1.94310780e-02, -5.10083127e-02,\n        -2.98050279e-02,  6.37979650e-03,  2.82689487e-04,\n         5.68580334e-03,  4.62008470e-03,  5.98312585e-03,\n         5.03223524e-03,  4.59334810e-03, -2.74596670e-03,\n        -9.88685168e-03, -1.93250637e-02, -1.83516303e-02,\n        -3.08395149e-02, -1.86301552e-02, -2.45595891e-02,\n        -2.32154612e-02, -2.50335055e-02, -2.49694518e-02,\n        -2.60765845e-02, -2.68209407e-02, -2.94676311e-02,\n        -3.19335867e-02, -4.06147932e-02, -3.18326904e-02,\n        -2.93851248e-02, -1.57695745e-02, -4.08075138e-02,\n        -1.94297644e-02,  2.80780235e-03, -1.18565830e-03,\n         2.19484243e-03,  1.74745703e-03,  2.70759287e-03,\n         2.75715881e-03,  2.99433274e-03,  1.92529873e-03,\n        -3.85011954e-05, -9.00091390e-03, -1.37804687e-02,\n        -1.77183595e-02, -1.67928133e-02, -2.72582161e-02,\n        -1.66447005e-02, -2.15409146e-02, -2.01031442e-02,\n        -2.15738924e-02, -2.14614392e-02, -2.21287857e-02,\n        -2.25386193e-02, -2.34460331e-02, -2.44991098e-02,\n        -2.72478997e-02, -3.05374277e-02, -3.47285144e-02,\n        -2.25762303e-02, -2.27966018e-02, -1.42424998e-02,\n        -3.40665711e-02, -1.45880424e-02, -2.15895992e-05,\n        -2.93291472e-03, -6.29915515e-04, -8.76145494e-04,\n        -1.71589269e-04,  3.84083963e-05,  3.85039990e-04,\n         4.03468104e-04,  1.69477729e-04, -1.57868558e-03,\n        -5.57548369e-03, -1.41039544e-02, -1.44467622e-02,\n        -1.67830065e-02, -1.58485883e-02, -2.46802705e-02,\n        -1.49006559e-02, -1.91660411e-02, -1.77517503e-02,\n        -1.89632161e-02, -1.88403594e-02, -1.93322795e-02,\n        -1.95931683e-02, -2.00603565e-02, -2.05767000e-02,\n        -2.15077602e-02, -2.28760603e-02, -2.59938650e-02,\n        -2.93505763e-02, -2.67503116e-02, -1.74960672e-02,\n        -1.95158843e-02, -1.36813000e-02, -2.93947381e-02,\n        -1.22951380e-02, -2.25364023e-03, -4.50882006e-03,\n        -2.84679704e-03, -3.02012312e-03, -2.49123416e-03,\n        -2.28864746e-03, -1.96974610e-03, -1.76578611e-03,\n        -1.63157128e-03, -1.83928056e-03, -2.62516057e-03,\n        -5.54260742e-03, -1.14787788e-02, -1.55555117e-02,\n        -1.41151143e-02, -1.61531888e-02, -1.52817122e-02,\n        -2.27400183e-02, -1.35300884e-02, -1.72870611e-02,\n        -1.59623750e-02, -1.69646253e-02, -1.68437783e-02,\n        -1.72284385e-02, -1.74117237e-02, -1.77210521e-02,\n        -1.80298865e-02, -1.84620155e-02, -1.90480170e-02,\n        -2.01187250e-02, -2.19297922e-02, -2.55528531e-02,\n        -2.65449673e-02, -2.02822026e-02, -1.50685112e-02,\n        -1.77158379e-02, -1.35517373e-02, -2.60513268e-02,\n        -1.12129489e-02, -4.00959691e-03, -5.81236412e-03,\n        -4.56706620e-03, -4.70862101e-03, -4.30563509e-03,\n        -4.14185611e-03, -3.88068475e-03, -3.67434544e-03,\n        -3.47653606e-03, -3.37041437e-03, -3.42998781e-03,\n        -3.98390974e-03, -5.58868302e-03, -1.01439226e-02,\n        -1.52057639e-02, -1.49911311e-02, -1.37040176e-02,\n        -1.56943051e-02, -1.49485660e-02, -2.12466728e-02]])"
     },
     "metadata": {},
     "output_type": "execute_result",
     "execution_count": 26
    }
   ],
   "source": [
    "poly_log_reg3[2].coef_ # L2正则不能将多项式系数收缩为0"
   ]
  },
  {
   "cell_type": "code",
   "execution_count": 27,
   "metadata": {
    "pycharm": {
     "name": "#%%\n",
     "is_executing": false
    }
   },
   "outputs": [
    {
     "name": "stderr",
     "text": [
      "D:\\CodeProgram\\anconda3\\lib\\site-packages\\ipykernel_launcher.py:16: UserWarning: The following kwargs were not used by contour: 'linewidth'\n",
      "  app.launch_new_instance()\n"
     ],
     "output_type": "stream"
    },
    {
     "data": {
      "text/plain": "<Figure size 432x288 with 1 Axes>",
      "image/png": "[encoded data removed]"
     },
     "metadata": {
      "needs_background": "light"
     },
     "output_type": "display_data"
    }
   ],
   "source": [
    "plot_decision_boundary(poly_log_reg3, axis=[-4, 4, -4, 4])\n",
    "plt.scatter(X[y==0,0], X[y==0,1])\n",
    "plt.scatter(X[y==1,0], X[y==1,1])\n",
    "plt.show()"
   ]
  },
  {
   "cell_type": "code",
   "execution_count": 28,
   "metadata": {
    "pycharm": {
     "is_executing": false,
     "name": "#%%\n"
    }
   },
   "outputs": [
    {
     "name": "stderr",
     "text": [
      "D:\\CodeProgram\\anconda3\\lib\\site-packages\\sklearn\\linear_model\\sag.py:337: ConvergenceWarning: The max_iter was reached which means the coef_ did not converge\n",
      "  \"the coef_ did not converge\", ConvergenceWarning)\n"
     ],
     "output_type": "stream"
    },
    {
     "data": {
      "text/plain": "Pipeline(memory=None,\n         steps=[('poly',\n                 PolynomialFeatures(degree=20, include_bias=True,\n                                    interaction_only=False, order='C')),\n                ('std_scaler',\n                 StandardScaler(copy=True, with_mean=True, with_std=True)),\n                ('log_reg',\n                 LogisticRegression(C=0.1, class_weight=None, dual=False,\n                                    fit_intercept=True, intercept_scaling=1,\n                                    l1_ratio=None, max_iter=1000,\n                                    multi_class='warn', n_jobs=-1, penalty='l1',\n                                    random_state=None, solver='saga',\n                                    tol=0.0001, verbose=0, warm_start=False))],\n         verbose=False)"
     },
     "metadata": {},
     "output_type": "execute_result",
     "execution_count": 28
    }
   ],
   "source": [
    "poly_log_reg4 = PolynomialLogisticRegression(degree=20, C=0.1, penalty='l1')\n",
    "poly_log_reg4.fit(X_train, y_train)"
   ]
  },
  {
   "cell_type": "code",
   "execution_count": 29,
   "metadata": {
    "pycharm": {
     "is_executing": false,
     "name": "#%%\n"
    }
   },
   "outputs": [
    {
     "data": {
      "text/plain": "0.8733333333333333"
     },
     "metadata": {},
     "output_type": "execute_result",
     "execution_count": 29
    }
   ],
   "source": [
    "poly_log_reg4.score(X_train, y_train)"
   ]
  },
  {
   "cell_type": "code",
   "execution_count": 30,
   "metadata": {
    "pycharm": {
     "is_executing": false,
     "name": "#%%\n"
    }
   },
   "outputs": [
    {
     "data": {
      "text/plain": "0.88"
     },
     "metadata": {},
     "output_type": "execute_result",
     "execution_count": 30
    }
   ],
   "source": [
    "poly_log_reg4.score(X_test, y_test)"
   ]
  },
  {
   "cell_type": "code",
   "execution_count": 31,
   "metadata": {
    "pycharm": {
     "is_executing": false,
     "name": "#%%\n"
    }
   },
   "outputs": [
    {
     "name": "stderr",
     "text": [
      "D:\\CodeProgram\\anconda3\\lib\\site-packages\\ipykernel_launcher.py:16: UserWarning: The following kwargs were not used by contour: 'linewidth'\n",
      "  app.launch_new_instance()\n"
     ],
     "output_type": "stream"
    },
    {
     "data": {
      "text/plain": "<Figure size 432x288 with 1 Axes>",
      "image/png": "[encoded data removed]"
     },
     "metadata": {
      "needs_background": "light"
     },
     "output_type": "display_data"
    }
   ],
   "source": [
    "plot_decision_boundary(poly_log_reg4, axis=[-4, 4, -4, 4])\n",
    "plt.scatter(X[y==0,0], X[y==0,1])\n",
    "plt.scatter(X[y==1,0], X[y==1,1])\n",
    "plt.show()"
   ]
  },
  {
   "cell_type": "code",
   "execution_count": 32,
   "metadata": {
    "pycharm": {
     "is_executing": false,
     "name": "#%%\n"
    }
   },
   "outputs": [
    {
     "data": {
      "text/plain": "array([[ 0.        ,  0.        , -0.58605724, -0.90294741,  0.        ,\n        -0.01783834,  0.        , -0.10273577,  0.        , -0.25488123,\n        -0.05188952,  0.        ,  0.        ,  0.        ,  0.        ,\n         0.        ,  0.        ,  0.        ,  0.        ,  0.        ,\n         0.        ,  0.        ,  0.        ,  0.        ,  0.        ,\n         0.        ,  0.        ,  0.        ,  0.        ,  0.        ,\n         0.        ,  0.        ,  0.        ,  0.        ,  0.        ,\n         0.        ,  0.        ,  0.        ,  0.        ,  0.        ,\n         0.        ,  0.        ,  0.        ,  0.        ,  0.        ,\n         0.        ,  0.        ,  0.        ,  0.        ,  0.        ,\n         0.        ,  0.        ,  0.        ,  0.        ,  0.        ,\n         0.        ,  0.        ,  0.        ,  0.        ,  0.        ,\n         0.        ,  0.        ,  0.        ,  0.        ,  0.        ,\n         0.        ,  0.        ,  0.        ,  0.        ,  0.        ,\n         0.        ,  0.        ,  0.        ,  0.        ,  0.        ,\n         0.        ,  0.        ,  0.        ,  0.        ,  0.        ,\n         0.        ,  0.        ,  0.        ,  0.        ,  0.        ,\n         0.        ,  0.        ,  0.        ,  0.        ,  0.        ,\n         0.        ,  0.        ,  0.        ,  0.        ,  0.        ,\n         0.        ,  0.        ,  0.        ,  0.        ,  0.        ,\n         0.        ,  0.        ,  0.        ,  0.        ,  0.        ,\n         0.        ,  0.        ,  0.        ,  0.        ,  0.        ,\n         0.        ,  0.        ,  0.        ,  0.        ,  0.        ,\n         0.        ,  0.        ,  0.        ,  0.        ,  0.        ,\n         0.        ,  0.        ,  0.        ,  0.        ,  0.        ,\n         0.        ,  0.        ,  0.        ,  0.        ,  0.        ,\n         0.        ,  0.        ,  0.        ,  0.        ,  0.        ,\n         0.        ,  0.        ,  0.        ,  0.        ,  0.        ,\n         0.        ,  0.        ,  0.        ,  0.        ,  0.        ,\n         0.        ,  0.        ,  0.        ,  0.        ,  0.        ,\n         0.        ,  0.        ,  0.        ,  0.        ,  0.        ,\n         0.        ,  0.        ,  0.        ,  0.        ,  0.        ,\n         0.        ,  0.        ,  0.        ,  0.        ,  0.        ,\n         0.        ,  0.        ,  0.        ,  0.        ,  0.        ,\n         0.        ,  0.        ,  0.        ,  0.        ,  0.        ,\n         0.        ,  0.        ,  0.        ,  0.        ,  0.        ,\n         0.        ,  0.        ,  0.        ,  0.        ,  0.        ,\n         0.        ,  0.        ,  0.        ,  0.        ,  0.        ,\n         0.        ,  0.        ,  0.        ,  0.        ,  0.        ,\n         0.        ,  0.        ,  0.        ,  0.        ,  0.        ,\n         0.        ,  0.        ,  0.        ,  0.        ,  0.        ,\n         0.        ,  0.        ,  0.        ,  0.        ,  0.        ,\n         0.        ,  0.        ,  0.        ,  0.        ,  0.        ,\n         0.        ,  0.        ,  0.        ,  0.        ,  0.        ,\n         0.        ,  0.        ,  0.        ,  0.        ,  0.        ,\n         0.        ,  0.        ,  0.        ,  0.        ,  0.        ,\n         0.        ]])"
     },
     "metadata": {},
     "output_type": "execute_result",
     "execution_count": 32
    }
   ],
   "source": [
    "poly_log_reg4[2].coef_ # L1正则可以将某些多项式系数收缩为0,因此可以给出一个简单的可解释的模型"
   ]
  },
  {
   "cell_type": "code",
   "execution_count": 32,
   "metadata": {
    "pycharm": {
     "name": "#%%\n",
     "is_executing": false
    }
   },
   "outputs": [],
   "source": [
    "\n"
   ]
  }
 ],
 "metadata": {
  "kernelspec": {
   "display_name": "Python 3",
   "language": "python",
   "name": "python3"
  },
  "language_info": {
   "codemirror_mode": {
    "name": "ipython",
    "version": 3
   },
   "file_extension": ".py",
   "mimetype": "text/x-python",
   "name": "python",
   "nbconvert_exporter": "python",
   "pygments_lexer": "ipython3",
   "version": "3.7.4"
  },
  "pycharm": {
   "stem_cell": {
    "cell_type": "raw",
    "source": [],
    "metadata": {
     "collapsed": false
    }
   }
  },
  "toc": {
   "base_numbering": 1,
   "nav_menu": {},
   "number_sections": true,
   "sideBar": true,
   "skip_h1_title": false,
   "title_cell": "Table of Contents",
   "title_sidebar": "Contents",
   "toc_cell": false,
   "toc_position": {},
   "toc_section_display": true,
   "toc_window_display": false
  }
 },
 "nbformat": 4,
 "nbformat_minor": 1
}