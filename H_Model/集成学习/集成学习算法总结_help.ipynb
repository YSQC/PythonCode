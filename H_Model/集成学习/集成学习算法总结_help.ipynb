{
 "cells": [
  {
   "cell_type": "markdown",
   "metadata": {
    "collapsed": true,
    "pycharm": {
     "name": "#%% md\n"
    }
   },
   "source": [
    "## boosting,bagging算法流程\n",
    "\n",
    "<img src='https://github.com/duanmengmengchongya/PythonCodePicture/blob/master/boosting.png?raw=true' style=\"width:650px;height:400px\">\n",
    "\n",
    "\n",
    "<img src='https://github.com/duanmengmengchongya/PythonCodePicture/blob/master/boosting1.png?raw=true' style=\"width:550px;height:300px\">\n",
    "\n",
    "\n",
    "<img src='https://github.com/duanmengmengchongya/PythonCodePicture/blob/master/bagging.jpg?raw=true' style=\"width:850px;height:400px\">"
   ]
  }
 ],
 "metadata": {
  "kernelspec": {
   "display_name": "Python 3",
   "language": "python",
   "name": "python3"
  },
  "language_info": {
   "codemirror_mode": {
    "name": "ipython",
    "version": 2
   },
   "file_extension": ".py",
   "mimetype": "text/x-python",
   "name": "python",
   "nbconvert_exporter": "python",
   "pygments_lexer": "ipython2",
   "version": "2.7.6"
  },
  "pycharm": {
   "stem_cell": {
    "cell_type": "raw",
    "source": [],
    "metadata": {
     "collapsed": false
    }
   }
  }
 },
 "nbformat": 4,
 "nbformat_minor": 0
}