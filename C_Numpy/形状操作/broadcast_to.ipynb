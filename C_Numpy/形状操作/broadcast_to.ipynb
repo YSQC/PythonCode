{
 "cells": [
  {
   "cell_type": "code",
   "execution_count": 4,
   "metadata": {
    "collapsed": true
   },
   "outputs": [
    {
     "data": {
      "text/plain": "array([[1, 2, 3],\n       [1, 2, 3]])"
     },
     "execution_count": 4,
     "metadata": {},
     "output_type": "execute_result"
    }
   ],
   "source": [
    "import numpy as np\n",
    "\n",
    "x = np.array([1, 2, 3])\n",
    "\n",
    "\n",
    "np.broadcast_to(x, (2, 3)) # Broadcast an array to a new shape."
   ]
  },
  {
   "cell_type": "code",
   "execution_count": 5,
   "outputs": [
    {
     "data": {
      "text/plain": "array([[[1, 2, 3],\n        [1, 2, 3],\n        [1, 2, 3],\n        [1, 2, 3]],\n\n       [[1, 2, 3],\n        [1, 2, 3],\n        [1, 2, 3],\n        [1, 2, 3]],\n\n       [[1, 2, 3],\n        [1, 2, 3],\n        [1, 2, 3],\n        [1, 2, 3]],\n\n       [[1, 2, 3],\n        [1, 2, 3],\n        [1, 2, 3],\n        [1, 2, 3]],\n\n       [[1, 2, 3],\n        [1, 2, 3],\n        [1, 2, 3],\n        [1, 2, 3]]])"
     },
     "execution_count": 5,
     "metadata": {},
     "output_type": "execute_result"
    }
   ],
   "source": [
    "np.broadcast_to(x, (5, 4, 3)) # 和广播机制规则一致"
   ],
   "metadata": {
    "collapsed": false,
    "pycharm": {
     "name": "#%%\n"
    }
   }
  },
  {
   "cell_type": "code",
   "execution_count": 6,
   "outputs": [
    {
     "data": {
      "text/plain": "array([1, 2, 3])"
     },
     "execution_count": 6,
     "metadata": {},
     "output_type": "execute_result"
    }
   ],
   "source": [
    "x # x不变\n",
    "\n"
   ],
   "metadata": {
    "collapsed": false,
    "pycharm": {
     "name": "#%%\n"
    }
   }
  }
 ],
 "metadata": {
  "kernelspec": {
   "display_name": "Python 3",
   "language": "python",
   "name": "python3"
  },
  "language_info": {
   "codemirror_mode": {
    "name": "ipython",
    "version": 2
   },
   "file_extension": ".py",
   "mimetype": "text/x-python",
   "name": "python",
   "nbconvert_exporter": "python",
   "pygments_lexer": "ipython2",
   "version": "2.7.6"
  }
 },
 "nbformat": 4,
 "nbformat_minor": 0
}