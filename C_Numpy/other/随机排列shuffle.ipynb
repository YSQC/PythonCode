{
 "cells": [
  {
   "cell_type": "code",
   "execution_count": 17,
   "metadata": {
    "collapsed": true,
    "pycharm": {
     "is_executing": false
    }
   },
   "outputs": [
    {
     "data": {
      "text/plain": "'\\nfsd\\n\\n'"
     },
     "metadata": {},
     "output_type": "execute_result",
     "execution_count": 17
    }
   ],
   "source": [
    "import numpy as np\n",
    "\n",
    "arr = np.linspace(0, 1, 100)\n",
    "np.random.shuffle(arr) # 随机排列数组arr\n",
    "'''\n",
    "与sklearn.utils.shuffle的区别\n",
    "1. np.random.shuffle只能对一个数据集进行随机化,sklearn.utils.shuffle可同时对多个数据集进行一致的随机化\n",
    "2. np.random.shuffle对二维数组按行进行随机化,sklearn.utils.shuffle对二维数组按列进行随机化\n",
    "3. np.random.shuffle是对arr进行随机化,sklearn.utils.shuffle是对arr的一个副本进行随机化,arr不变\n",
    "'''"
   ]
  },
  {
   "cell_type": "code",
   "execution_count": 12,
   "outputs": [
    {
     "data": {
      "text/plain": "array([0.47474747, 0.77777778, 0.45454545, 0.87878788, 0.66666667,\n       0.08080808, 0.22222222, 0.55555556, 0.09090909, 0.85858586,\n       0.73737374, 0.83838384, 0.06060606, 0.03030303, 0.41414141,\n       0.07070707, 0.21212121, 0.49494949, 0.71717172, 0.75757576,\n       0.68686869, 0.56565657, 0.7979798 , 0.15151515, 0.43434343,\n       0.70707071, 0.46464646, 0.4040404 , 0.        , 0.94949495,\n       0.54545455, 0.62626263, 0.16161616, 0.29292929, 0.81818182,\n       0.35353535, 0.82828283, 0.6969697 , 0.14141414, 1.        ,\n       0.86868687, 0.96969697, 0.05050505, 0.65656566, 0.51515152,\n       0.24242424, 0.80808081, 0.5959596 , 0.67676768, 0.11111111,\n       0.2020202 , 0.42424242, 0.88888889, 0.02020202, 0.91919192,\n       0.3030303 , 0.26262626, 0.64646465, 0.01010101, 0.52525253,\n       0.58585859, 0.31313131, 0.18181818, 0.93939394, 0.72727273,\n       0.53535354, 0.1010101 , 0.37373737, 0.34343434, 0.38383838,\n       0.23232323, 0.39393939, 0.8989899 , 0.32323232, 0.19191919,\n       0.92929293, 0.33333333, 0.13131313, 0.25252525, 0.74747475,\n       0.28282828, 0.76767677, 0.48484848, 0.12121212, 0.27272727,\n       0.95959596, 0.04040404, 0.98989899, 0.84848485, 0.50505051,\n       0.78787879, 0.36363636, 0.97979798, 0.17171717, 0.90909091,\n       0.63636364, 0.57575758, 0.61616162, 0.60606061, 0.44444444])"
     },
     "metadata": {},
     "output_type": "execute_result",
     "execution_count": 12
    }
   ],
   "source": [
    "arr # arr改变"
   ],
   "metadata": {
    "collapsed": false,
    "pycharm": {
     "name": "#%%\n",
     "is_executing": false
    }
   }
  },
  {
   "cell_type": "code",
   "execution_count": 15,
   "outputs": [],
   "source": [
    "x2 = np.array([[1, 2, 3, 4, 5],\n",
    "               [2, 3, 4, 5, 6],\n",
    "               [3, 4, 5, 6, 7],\n",
    "               [8, 9, 10, 11, 12]])\n",
    "\n",
    "np.random.shuffle(x2) # 随机排列数组x2(按行)"
   ],
   "metadata": {
    "collapsed": false,
    "pycharm": {
     "name": "#%%\n",
     "is_executing": false
    }
   }
  },
  {
   "cell_type": "code",
   "execution_count": 16,
   "outputs": [
    {
     "data": {
      "text/plain": "array([[ 3,  4,  5,  6,  7],\n       [ 2,  3,  4,  5,  6],\n       [ 1,  2,  3,  4,  5],\n       [ 8,  9, 10, 11, 12]])"
     },
     "metadata": {},
     "output_type": "execute_result",
     "execution_count": 16
    }
   ],
   "source": [
    "x2"
   ],
   "metadata": {
    "collapsed": false,
    "pycharm": {
     "name": "#%%\n",
     "is_executing": false
    }
   }
  },
  {
   "cell_type": "code",
   "execution_count": null,
   "outputs": [],
   "source": [
    "\n"
   ],
   "metadata": {
    "collapsed": false,
    "pycharm": {
     "name": "#%%\n"
    }
   }
  }
 ],
 "metadata": {
  "kernelspec": {
   "display_name": "Python 3",
   "language": "python",
   "name": "python3"
  },
  "language_info": {
   "codemirror_mode": {
    "name": "ipython",
    "version": 2
   },
   "file_extension": ".py",
   "mimetype": "text/x-python",
   "name": "python",
   "nbconvert_exporter": "python",
   "pygments_lexer": "ipython2",
   "version": "2.7.6"
  },
  "pycharm": {
   "stem_cell": {
    "cell_type": "raw",
    "source": [],
    "metadata": {
     "collapsed": false
    }
   }
  }
 },
 "nbformat": 4,
 "nbformat_minor": 0
}