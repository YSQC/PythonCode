{
 "cells": [
  {
   "cell_type": "code",
   "execution_count": 1,
   "metadata": {
    "collapsed": true,
    "pycharm": {
     "is_executing": false
    }
   },
   "outputs": [],
   "source": [
    "import  numpy as np"
   ]
  },
  {
   "cell_type": "code",
   "execution_count": 2,
   "metadata": {
    "pycharm": {
     "is_executing": false
    }
   },
   "outputs": [
    {
     "name": "stdout",
     "text": [
      "3\n"
     ],
     "output_type": "stream"
    }
   ],
   "source": [
    "arr_scalar = np.array(3)\n",
    "print(arr_scalar)"
   ]
  },
  {
   "cell_type": "code",
   "execution_count": 3,
   "outputs": [
    {
     "name": "stdout",
     "text": [
      "[0 1 2 3 4 5 6 7 8 9]\n"
     ],
     "output_type": "stream"
    }
   ],
   "source": [
    "arr_vector = np.array(range(10), dtype=np.int32)\n",
    "'''\n",
    "object : array_like\n",
    "    An array, any object exposing the array interface, an object whose\n",
    "    __array__ method returns an array, or any (nested) sequence.\n",
    "\n",
    "dtype : data-type, optional\n",
    "    The desired data-type for the array. If not given, then the type will be determined as the minimum type required to hold the objects in the sequence. \n",
    "\n",
    "ndmin : int, optional\n",
    "    Specifies the minimum number of dimensions that the resulting\n",
    "    array should have.  Ones will be pre-pended to the shape as\n",
    "    needed to meet this requirement.   \n",
    "'''\n",
    "print(arr_vector)"
   ],
   "metadata": {
    "collapsed": false,
    "pycharm": {
     "name": "#%%\n",
     "is_executing": false
    }
   }
  },
  {
   "cell_type": "code",
   "execution_count": 4,
   "outputs": [
    {
     "name": "stdout",
     "text": [
      "1\n",
      "[1 2 3]\n",
      "[1 2 3]\n"
     ],
     "output_type": "stream"
    }
   ],
   "source": [
    "arr_lst = np.array([1, 2, 3]) \n",
    "print(arr_lst.ndim)\n",
    "print(arr_lst)\n",
    "print(arr_lst.T) # nidim=1的数组,转置不变"
   ],
   "metadata": {
    "collapsed": false,
    "pycharm": {
     "name": "#%%\n",
     "is_executing": false
    }
   }
  },
  {
   "cell_type": "code",
   "execution_count": 5,
   "outputs": [
    {
     "name": "stdout",
     "text": [
      "(2, 3)\n",
      "[[1 2 3]\n",
      " [2 3 4]]\n"
     ],
     "output_type": "stream"
    }
   ],
   "source": [
    "arr_matrix = np.array([[1, 2, 3], [2, 3, 4]])\n",
    "print(arr_matrix.shape) # 2 * 3的矩阵\n",
    "print(arr_matrix)"
   ],
   "metadata": {
    "pycharm": {
     "metadata": false,
     "name": "#%%\n",
     "is_executing": false
    }
   }
  },
  {
   "cell_type": "code",
   "execution_count": 6,
   "metadata": {
    "pycharm": {
     "is_executing": false,
     "name": "#%%\n"
    }
   },
   "outputs": [
    {
     "name": "stdout",
     "text": [
      "[list([1, 2, 3, 4]) list(['a', 'b', 'c', 'd', 'e'])]\n",
      "1\n",
      "[1, 2, 3, 4]\n"
     ],
     "output_type": "stream"
    }
   ],
   "source": [
    "a = [1, 2, 3, 4]\n",
    "b = ['a', 'b', 'c', 'd', 'e']\n",
    "arr3 = np.array([a, b])\n",
    "print(arr3)\n",
    "print(arr3.ndim) \n",
    "print(arr3[0]) # [a, b]不是方阵!a/b被视为一个整体"
   ]
  },
  {
   "cell_type": "code",
   "execution_count": 7,
   "outputs": [
    {
     "name": "stdout",
     "text": [
      "[['0' '1' '2' '3' '4']\n",
      " ['a' 'b' 'c' 'd' 'e']]\n",
      "<U11\n"
     ],
     "output_type": "stream"
    }
   ],
   "source": [
    "a1 = [0, 1, 2, 3, 4]\n",
    "b1 = ['a', 'b', 'c', 'd', 'e']\n",
    "arr4 = np.array([a1, b1])\n",
    "print(arr4)\n",
    "print(arr4.dtype) # 被综合成Unicode类型"
   ],
   "metadata": {
    "collapsed": false,
    "pycharm": {
     "name": "#%%\n",
     "is_executing": false
    }
   }
  },
  {
   "cell_type": "code",
   "execution_count": 8,
   "outputs": [
    {
     "name": "stdout",
     "text": [
      "object\n",
      "[<__main__.A object at 0x00000257827D2D48>\n",
      " <__main__.B object at 0x00000257827D2D08>]\n"
     ],
     "output_type": "stream"
    }
   ],
   "source": [
    "class A:\n",
    "    pass\n",
    "\n",
    "class B:\n",
    "    pass\n",
    "\n",
    "a = A()\n",
    "b = B()\n",
    "\n",
    "arr_op = np.array([a, b])\n",
    "print(arr_op.dtype) # Object(对象)类型\n",
    "print(arr_op) "
   ],
   "metadata": {
    "collapsed": false,
    "pycharm": {
     "name": "#%%\n",
     "is_executing": false
    }
   }
  },
  {
   "cell_type": "code",
   "execution_count": 9,
   "outputs": [
    {
     "name": "stdout",
     "text": [
      "float64\n",
      "[[1.]\n",
      " [2.]\n",
      " [3.]\n",
      " [3.]\n",
      " [5.]]\n"
     ],
     "output_type": "stream"
    }
   ],
   "source": [
    "lst = ['1', '2', '3', '3', 5]\n",
    "arr_re = np.array(lst, dtype=np.float, ndmin=2).T # 可在数组创建的时候将数字型字符串转换为float\n",
    "print(arr_re.dtype)\n",
    "print(arr_re)"
   ],
   "metadata": {
    "pycharm": {
     "metadata": false,
     "name": "#%%\n",
     "is_executing": false
    }
   }
  },
  {
   "cell_type": "code",
   "execution_count": 10,
   "outputs": [],
   "source": [
    "dic = {'a':1, 'b':2, 'c':3, 'd':4}"
   ],
   "metadata": {
    "pycharm": {
     "metadata": false,
     "name": "#%%\n",
     "is_executing": false
    }
   }
  },
  {
   "cell_type": "code",
   "execution_count": 11,
   "outputs": [
    {
     "data": {
      "text/plain": "array({'a': 1, 'b': 2, 'c': 3, 'd': 4}, dtype=object)"
     },
     "metadata": {},
     "output_type": "execute_result",
     "execution_count": 11
    }
   ],
   "source": [
    "np.array(dic) # 注意:dic被视为一个整体"
   ],
   "metadata": {
    "collapsed": false,
    "pycharm": {
     "name": "#%%\n",
     "is_executing": false
    }
   }
  },
  {
   "cell_type": "code",
   "execution_count": 12,
   "outputs": [
    {
     "data": {
      "text/plain": "array(dict_values([1, 2, 3, 4]), dtype=object)"
     },
     "metadata": {},
     "output_type": "execute_result",
     "execution_count": 12
    }
   ],
   "source": [
    "np.array(dic.values()) # 注意:dic.values被视为一个整体"
   ],
   "metadata": {
    "collapsed": false,
    "pycharm": {
     "name": "#%%\n",
     "is_executing": false
    }
   }
  },
  {
   "cell_type": "code",
   "execution_count": 13,
   "outputs": [
    {
     "data": {
      "text/plain": "array(dict_keys(['a', 'b', 'c', 'd']), dtype=object)"
     },
     "metadata": {},
     "output_type": "execute_result",
     "execution_count": 13
    }
   ],
   "source": [
    "np.array(dic.keys()) # 注意:dic.keys()被视为一个整体"
   ],
   "metadata": {
    "collapsed": false,
    "pycharm": {
     "name": "#%%\n",
     "is_executing": false
    }
   }
  },
  {
   "cell_type": "code",
   "execution_count": 14,
   "outputs": [
    {
     "data": {
      "text/plain": "array(['a', 'b', 'c', 'd'], dtype='<U1')"
     },
     "metadata": {},
     "output_type": "execute_result",
     "execution_count": 14
    }
   ],
   "source": [
    "np.array(list(dic.keys())) # 可能是你想要的结果"
   ],
   "metadata": {
    "collapsed": false,
    "pycharm": {
     "name": "#%%\n",
     "is_executing": false
    }
   }
  }
 ],
 "metadata": {
  "kernelspec": {
   "name": "python3",
   "language": "python",
   "display_name": "Python 3"
  },
  "language_info": {
   "codemirror_mode": {
    "name": "ipython",
    "version": 2
   },
   "file_extension": ".py",
   "mimetype": "text/x-python",
   "name": "python",
   "nbconvert_exporter": "python",
   "pygments_lexer": "ipython2",
   "version": "2.7.6"
  }
 },
 "nbformat": 4,
 "nbformat_minor": 0
}