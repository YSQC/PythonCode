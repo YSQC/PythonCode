{
 "cells": [
  {
   "cell_type": "code",
   "execution_count": 76,
   "outputs": [],
   "source": [
    "import numpy as np"
   ],
   "metadata": {
    "collapsed": false,
    "pycharm": {
     "name": "#%%\n"
    }
   }
  },
  {
   "cell_type": "code",
   "source": [
    "arr = np.array([1, 2, 3, 4, 5, 6, 7, 8])\n",
    "print(id(arr))\n",
    "\n",
    "arr[2:5] = np.array([0, 0, 0]) # 直接对切片进行赋值\n",
    "\n",
    "print(id(arr)) # arr地址不变\n",
    "print(arr) # arr指向内存的值相应的改变"
   ],
   "metadata": {
    "collapsed": false,
    "pycharm": {
     "name": "#%%\n"
    }
   },
   "execution_count": 77,
   "outputs": [
    {
     "name": "stdout",
     "output_type": "stream",
     "text": [
      "2409765547344\n",
      "2409765547344\n",
      "[1 2 0 0 0 6 7 8]\n"
     ]
    }
   ]
  },
  {
   "cell_type": "code",
   "execution_count": 78,
   "outputs": [
    {
     "name": "stdout",
     "output_type": "stream",
     "text": [
      "2409765585664\n",
      "2409765585664\n",
      "[  1   2 100   4   5   6   7   8]\n"
     ]
    }
   ],
   "source": [
    "arr = np.array([1, 2, 3, 4, 5, 6, 7, 8])\n",
    "print(id(arr))\n",
    "\n",
    "arr[2] = 100 # 直接对索引值进行赋值\n",
    "\n",
    "print(id(arr)) # arr地址不变\n",
    "print(arr) # arr指向内存的值相应的改变"
   ],
   "metadata": {
    "collapsed": false,
    "pycharm": {
     "name": "#%%\n"
    }
   }
  },
  {
   "cell_type": "code",
   "execution_count": 79,
   "outputs": [
    {
     "name": "stdout",
     "output_type": "stream",
     "text": [
      "2409765475952\n",
      "False\n",
      "2409765475952\n",
      "[1 2 3 4 5 6 7 8]\n"
     ]
    }
   ],
   "source": [
    "arr = np.array([1, 2, 3, 4, 5, 6, 7, 8])\n",
    "print(id(arr))\n",
    "\n",
    "a = arr[4] # a为不可变数据类型\n",
    "print(np.shares_memory(a, arr)) # a与arr不共享内存(注:此处共享的是值的内存地址,而不是变量的内存地址)\n",
    "\n",
    "a = 55\n",
    "\n",
    "print(id(arr)) # arr地址不变\n",
    "print(arr) # 修改a对arr指向内存的值无影响"
   ],
   "metadata": {
    "collapsed": false,
    "pycharm": {
     "name": "#%%\n"
    }
   }
  },
  {
   "cell_type": "code",
   "execution_count": 80,
   "outputs": [
    {
     "name": "stdout",
     "output_type": "stream",
     "text": [
      "2409765475952\n",
      "True\n",
      "2409765475952\n",
      "[48]\n",
      "[ 1  2  3  4 48  6  7  8]\n"
     ]
    }
   ],
   "source": [
    "arr = np.array([1, 2, 3, 4, 5, 6, 7, 8])\n",
    "\n",
    "a = arr[4:5] # 注意:a为可变数据类型\n",
    "print(id(a))\n",
    "\n",
    "# ★★★★★★★★★★★★★★★切片共享内存\n",
    "print(np.shares_memory(a, arr)) # a与arr共享内存(即a是arr的一个视图)\n",
    "\n",
    "a += 43 # 可变的类型的追加操作\n",
    "print(id(a)) # a内存地址不变\n",
    "print(a) # a指向的值改变\n",
    "\n",
    "print(arr) # 由于共享内存,故arr指向内存的值相应的改变"
   ],
   "metadata": {
    "collapsed": false,
    "pycharm": {
     "name": "#%%\n"
    }
   }
  },
  {
   "cell_type": "code",
   "execution_count": 81,
   "outputs": [
    {
     "name": "stdout",
     "output_type": "stream",
     "text": [
      "2409765660672\n",
      "True\n",
      "2409765661232\n",
      "[48]\n",
      "[1 2 3 4 5 6 7 8]\n"
     ]
    }
   ],
   "source": [
    "arr = np.array([1, 2, 3, 4, 5, 6, 7, 8])\n",
    "\n",
    "a = arr[4:5] # 注意:a为可变数据类型\n",
    "print(id(a))\n",
    "print(np.shares_memory(a, arr)) # a与arr共享内存\n",
    "\n",
    "a = a + 43 # 可变的类型的连接操作\n",
    "print(id(a)) # a内存地址改变,指向新的对象\n",
    "print(a) # 新的对象的值\n",
    "\n",
    "print(arr) # 共享的内存没有改变,故arr指向内存的值不变"
   ],
   "metadata": {
    "collapsed": false,
    "pycharm": {
     "name": "#%%\n"
    }
   }
  },
  {
   "cell_type": "code",
   "execution_count": 82,
   "outputs": [
    {
     "name": "stdout",
     "output_type": "stream",
     "text": [
      "2409765661872\n",
      "True\n",
      "2409765661232\n",
      "[0 0 0]\n",
      "[1 2 3 4 5 6 7 8]\n"
     ]
    }
   ],
   "source": [
    "arr = np.array([1, 2, 3, 4, 5, 6, 7, 8])\n",
    "\n",
    "a = arr[2:5]\n",
    "print(id(a))\n",
    "print(np.shares_memory(a, arr)) # a与arr共享内存\n",
    "\n",
    "a = np.array([0, 0, 0]) # 整体重新进行赋值\n",
    "print(id(a)) # a内存地址改变,指向新的对象\n",
    "print(a) # 新的对象的值\n",
    "\n",
    "print(arr) # 共享的内存没有改变,故arr指向内存的值不变"
   ],
   "metadata": {
    "collapsed": false,
    "pycharm": {
     "name": "#%%\n"
    }
   }
  },
  {
   "cell_type": "code",
   "execution_count": 83,
   "outputs": [
    {
     "name": "stdout",
     "output_type": "stream",
     "text": [
      "2409765558912\n",
      "True\n",
      "2409765558912\n",
      "[0 0 5 6]\n",
      "[1 2 0 0 5 6 7 8]\n"
     ]
    }
   ],
   "source": [
    "arr = np.array([1, 2, 3, 4, 5, 6, 7, 8])\n",
    "\n",
    "a = arr[2:6]\n",
    "print(id(a))\n",
    "print(np.shares_memory(a, arr)) # a与arr共享内存\n",
    "\n",
    "a[:2] = np.array([0, 0]) # 对a的切片进行赋值(可进行广播)\n",
    "print(id(a)) # a内存地址不变\n",
    "print(a) # a指向的值改变\n",
    "\n",
    "print(arr) # 由于共享内存,故arr指向内存的值相应的改变"
   ],
   "metadata": {
    "collapsed": false,
    "pycharm": {
     "name": "#%%\n"
    }
   }
  },
  {
   "cell_type": "code",
   "source": [
    "a = np.arange(30)\n",
    "b = a.reshape(5, 6)\n",
    "\n",
    "print(a)\n",
    "print(b, end='\\n\\n')\n",
    "\n",
    "print(id(a))\n",
    "print(id(b), end='\\n\\n') # 变量a,b内存地址不同\n",
    "\n",
    "# ★★★★★★★★★★★★★★★shape操作共享内存\n",
    "print(np.shares_memory(a, b), end='\\n\\n') # b与a共享内存\n",
    "\n",
    "a[0] = 1000000 # 修改a\n",
    "print(id(a)) # a的内存地址不变\n",
    "print(a)\n",
    "print(b, end='\\n\\n') # 由于共享内存,故b指向内存的值相应的改变\n",
    "\n",
    "b[-1][-1] = 99999999 # 修改b\n",
    "print(id(a)) # a的内存地址不变\n",
    "print(a)\n",
    "print(b, end='\\n\\n') # 由于共享内存,故a指向内存的值相应的改变"
   ],
   "metadata": {
    "collapsed": false,
    "pycharm": {
     "name": "#%%\n"
    }
   },
   "execution_count": 84,
   "outputs": [
    {
     "name": "stdout",
     "output_type": "stream",
     "text": [
      "[ 0  1  2  3  4  5  6  7  8  9 10 11 12 13 14 15 16 17 18 19 20 21 22 23\n",
      " 24 25 26 27 28 29]\n",
      "[[ 0  1  2  3  4  5]\n",
      " [ 6  7  8  9 10 11]\n",
      " [12 13 14 15 16 17]\n",
      " [18 19 20 21 22 23]\n",
      " [24 25 26 27 28 29]]\n",
      "\n",
      "2409765486960\n",
      "2409765558912\n",
      "\n",
      "True\n",
      "\n",
      "2409765486960\n",
      "[1000000       1       2       3       4       5       6       7       8\n",
      "       9      10      11      12      13      14      15      16      17\n",
      "      18      19      20      21      22      23      24      25      26\n",
      "      27      28      29]\n",
      "[[1000000       1       2       3       4       5]\n",
      " [      6       7       8       9      10      11]\n",
      " [     12      13      14      15      16      17]\n",
      " [     18      19      20      21      22      23]\n",
      " [     24      25      26      27      28      29]]\n",
      "\n",
      "2409765486960\n",
      "[ 1000000        1        2        3        4        5        6        7\n",
      "        8        9       10       11       12       13       14       15\n",
      "       16       17       18       19       20       21       22       23\n",
      "       24       25       26       27       28 99999999]\n",
      "[[ 1000000        1        2        3        4        5]\n",
      " [       6        7        8        9       10       11]\n",
      " [      12       13       14       15       16       17]\n",
      " [      18       19       20       21       22       23]\n",
      " [      24       25       26       27       28 99999999]]\n",
      "\n"
     ]
    }
   ]
  },
  {
   "cell_type": "code",
   "execution_count": 85,
   "outputs": [
    {
     "data": {
      "text/plain": "True"
     },
     "execution_count": 85,
     "metadata": {},
     "output_type": "execute_result"
    }
   ],
   "source": [
    "c = np.transpose(b)\n",
    "\n",
    "# ★★★★★★★★★★★★★★★transpose操作共享内存\n",
    "np.shares_memory(b, c)"
   ],
   "metadata": {
    "collapsed": false,
    "pycharm": {
     "name": "#%%\n"
    }
   }
  },
  {
   "cell_type": "code",
   "execution_count": 86,
   "outputs": [
    {
     "data": {
      "text/plain": "True"
     },
     "execution_count": 86,
     "metadata": {},
     "output_type": "execute_result"
    }
   ],
   "source": [
    "d = np.swapaxes(b, 0, 1) # b.T同理\n",
    "\n",
    "# ★★★★★★★★★★★★★★★swapaxes操作共享内存\n",
    "np.shares_memory(b, d)"
   ],
   "metadata": {
    "collapsed": false,
    "pycharm": {
     "name": "#%%\n"
    }
   }
  },
  {
   "cell_type": "code",
   "execution_count": 87,
   "outputs": [
    {
     "data": {
      "text/plain": "True"
     },
     "execution_count": 87,
     "metadata": {},
     "output_type": "execute_result"
    }
   ],
   "source": [
    "e = np.expand_dims(b, 0)\n",
    "\n",
    "# ★★★★★★★★★★★★★★★expand_dim操作共享内存\n",
    "np.shares_memory(b, e)"
   ],
   "metadata": {
    "collapsed": false,
    "pycharm": {
     "name": "#%%\n"
    }
   }
  },
  {
   "cell_type": "code",
   "execution_count": 88,
   "outputs": [
    {
     "data": {
      "text/plain": "True"
     },
     "execution_count": 88,
     "metadata": {},
     "output_type": "execute_result"
    }
   ],
   "source": [
    "f = np.squeeze(e)\n",
    "\n",
    "# ★★★★★★★★★★★★★★★squeeze操作共享内存\n",
    "np.shares_memory(e, f)"
   ],
   "metadata": {
    "collapsed": false,
    "pycharm": {
     "name": "#%%\n"
    }
   }
  },
  {
   "cell_type": "code",
   "execution_count": 89,
   "outputs": [
    {
     "data": {
      "text/plain": "True"
     },
     "execution_count": 89,
     "metadata": {},
     "output_type": "execute_result"
    }
   ],
   "source": [
    "g = b.ravel()\n",
    "# ★★★★★★★★★★★★★★★ravel操作共享内存★★★★\n",
    "np.shares_memory(b, g)"
   ],
   "metadata": {
    "collapsed": false,
    "pycharm": {
     "name": "#%%\n"
    }
   }
  },
  {
   "cell_type": "code",
   "execution_count": 90,
   "outputs": [
    {
     "data": {
      "text/plain": "False"
     },
     "execution_count": 90,
     "metadata": {},
     "output_type": "execute_result"
    }
   ],
   "source": [
    "h = b.flatten()\n",
    "# ★★★★★★★★★★★★★★★flatten操作不共享内存★★★★\n",
    "np.shares_memory(b, h)\n"
   ],
   "metadata": {
    "collapsed": false,
    "pycharm": {
     "name": "#%%\n"
    }
   }
  }
 ],
 "metadata": {
  "kernelspec": {
   "display_name": "Python 3",
   "language": "python",
   "name": "python3"
  },
  "language_info": {
   "codemirror_mode": {
    "name": "ipython",
    "version": 2
   },
   "file_extension": ".py",
   "mimetype": "text/x-python",
   "name": "python",
   "nbconvert_exporter": "python",
   "pygments_lexer": "ipython2",
   "version": "2.7.6"
  }
 },
 "nbformat": 4,
 "nbformat_minor": 0
}