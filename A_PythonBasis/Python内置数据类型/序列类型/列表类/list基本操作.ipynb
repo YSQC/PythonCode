{
 "cells": [
  {
   "cell_type": "code",
   "execution_count": 9,
   "outputs": [
    {
     "name": "stdout",
     "text": [
      "4 7\n",
      "[2, 3, 4, 5, 6, 7, 8]\n",
      "[1, 2, 3]\n",
      "[2, 3, 4, 5, 6]\n",
      "[2, 4, 6]\n",
      "[8, 6]\n"
     ],
     "output_type": "stream"
    }
   ],
   "source": [
    "# 列表切片索引\n",
    "list_Fragmentation = [1, 2, 3, 4, 5, 6, 7, 8]\n",
    "print(list_Fragmentation[3], list_Fragmentation[-2]) # 支持负数索引\n",
    "print(list_Fragmentation[1:])\n",
    "print(list_Fragmentation[:3]) # 不包括结尾位置元素\n",
    "print(list_Fragmentation[1:6])\n",
    "print(list_Fragmentation[1:6:2]) # 步长为2\n",
    "print(list_Fragmentation[-1:3:-2]) # 切片,步长为-2"
   ],
   "metadata": {
    "collapsed": false,
    "pycharm": {
     "name": "#%%\n",
     "is_executing": false
    }
   }
  },
  {
   "cell_type": "code",
   "execution_count": 11,
   "outputs": [
    {
     "name": "stdout",
     "text": [
      "4\n",
      "[4]\n"
     ],
     "output_type": "stream"
    }
   ],
   "source": [
    "print(list_Fragmentation[3])\n",
    "print(list_Fragmentation[3:4]) # 切片的结果为列表"
   ],
   "metadata": {
    "collapsed": false,
    "pycharm": {
     "name": "#%%\n",
     "is_executing": false
    }
   }
  },
  {
   "cell_type": "code",
   "execution_count": 2,
   "outputs": [
    {
     "name": "stdout",
     "text": [
      "[9, 6]\n",
      "[[2, 3]]\n",
      "[[9, 6], [4, 7], [8, 1]]\n"
     ],
     "output_type": "stream"
    }
   ],
   "source": [
    "data = [[2, 3], [5, 4], [9, 6], [4, 7], [8, 1], [7, 2]]\n",
    "print(data[2]) # [2, 3],[5, 4], [9, 6]...被视为一个元素\n",
    "print(data[:1])\n",
    "print(data[2: 5])"
   ],
   "metadata": {
    "collapsed": false,
    "pycharm": {
     "name": "#%%\n",
     "is_executing": false
    }
   }
  },
  {
   "cell_type": "code",
   "execution_count": 12,
   "outputs": [
    {
     "name": "stdout",
     "text": [
      "True\n",
      "[1, 2, 3, 4, 5, 6, 7, 8, '9']\n",
      "[1, 2, 3, 4, 5, 6, 7, 8, '9']\n",
      "False\n",
      "[1, 2, 3, 4, 5, 6, 7, 8, '9', 9]\n",
      "[1, 2, 3, 4, 5, 6, 7, 8, '9']\n"
     ],
     "output_type": "stream"
    }
   ],
   "source": [
    "shallow_copy = list_Fragmentation\n",
    "shallow_copy.append('9')\n",
    "print(shallow_copy is list_Fragmentation) # 输出True(list是可变类型)\n",
    "print(shallow_copy)\n",
    "print(list_Fragmentation)\n",
    "\n",
    "depp_copy = list_Fragmentation[:] \n",
    "depp_copy.append(9)\n",
    "print(depp_copy is list_Fragmentation) # 输出False\n",
    "print(depp_copy)\n",
    "print(list_Fragmentation) # 原列表不变"
   ],
   "metadata": {
    "pycharm": {
     "metadata": false,
     "name": "#%%\n",
     "is_executing": false
    }
   }
  },
  {
   "cell_type": "code",
   "execution_count": 4,
   "outputs": [
    {
     "name": "stdout",
     "text": [
      "False\n",
      "\n",
      "False\n",
      "False\n",
      "\n",
      "True\n",
      "False\n",
      "False\n"
     ],
     "output_type": "stream"
    }
   ],
   "source": [
    "# 列表的比较(元组,字符串类似)\n",
    "# 当列表中包含多个元素时,默认从列表第一个元素开始进行比较,当列表某个元素大于另一个列表对应位置元素时,就认为该列表大于另一列表\n",
    "# 字符串的比较是比较字符串对应位置(从第一个位置开始)的ASCII码大小\n",
    "list_0 = [123]\n",
    "list_1 = [234]\n",
    "print(list_0 > list_1, end='\\n\\n')\n",
    "\n",
    "list_2 = [123, 456]\n",
    "list_3 = [234, 345]\n",
    "print(list_2 > list_3)\n",
    "print(tuple(list_2) > tuple(list_3), end='\\n\\n') # 元组的比较\n",
    "\n",
    "list_str_0 = ['acd']\n",
    "list_str_1 = ['abf']\n",
    "print(list_str_1 < list_str_0)\n",
    "print('acd' < 'abf')\n",
    "print('123' > '124') "
   ],
   "metadata": {
    "pycharm": {
     "metadata": false,
     "name": "#%%\n",
     "is_executing": false
    }
   }
  },
  {
   "cell_type": "code",
   "execution_count": 5,
   "outputs": [
    {
     "name": "stdout",
     "text": [
      "['mother', 'father', 'duanemengmeng']\n"
     ],
     "output_type": "stream"
    }
   ],
   "source": [
    "# 拼接(+)在列表中的作用\n",
    "love_1 = ['mother', 'father']\n",
    "love_2 = ['duanemengmeng']\n",
    "my_love = love_1 + love_2 # 类似于字符串的拼接,也可以用extend()实现\n",
    "print(my_love)"
   ],
   "metadata": {
    "pycharm": {
     "metadata": false,
     "name": "#%%\n",
     "is_executing": false
    }
   }
  },
  {
   "cell_type": "code",
   "execution_count": 6,
   "outputs": [
    {
     "name": "stdout",
     "text": [
      "['mother', 'father', 'mother', 'father', 'mother', 'father']\n"
     ],
     "output_type": "stream"
    }
   ],
   "source": [
    "# 重复(*)在列表中的作用\n",
    "love_parent = ['mother','father']\n",
    "love_repeat = love_parent * 3 # 将love_reperat中的元素重复了3次\n",
    "print(love_repeat)"
   ],
   "metadata": {
    "pycharm": {
     "metadata": false,
     "name": "#%%\n",
     "is_executing": false
    }
   }
  },
  {
   "cell_type": "code",
   "execution_count": 7,
   "outputs": [
    {
     "data": {
      "text/plain": "['my', ['love', 'is', 'duanmengmeng'], 'i am sure']"
     },
     "metadata": {},
     "output_type": "execute_result",
     "execution_count": 7
    }
   ],
   "source": [
    "# 多层列表\n",
    "two_dimensional_list = [\"my\", [\"love\", 'is', \"duanmengmeng\"], \"i am sure\"]\n",
    "two_dimensional_list"
   ],
   "metadata": {
    "pycharm": {
     "metadata": false,
     "name": "#%%\n",
     "is_executing": false
    }
   }
  },
  {
   "cell_type": "code",
   "execution_count": 8,
   "outputs": [
    {
     "name": "stdout",
     "text": [
      "[1, 3, 4, 5]\n"
     ],
     "output_type": "stream"
    },
    {
     "traceback": [
      "\u001b[1;31m---------------------------------------------------------------------------\u001b[0m",
      "\u001b[1;31mNameError\u001b[0m                                 Traceback (most recent call last)",
      "\u001b[1;32m<ipython-input-8-2e8f16bbf739>\u001b[0m in \u001b[0;36m<module>\u001b[1;34m\u001b[0m\n\u001b[0;32m      2\u001b[0m \u001b[0mprint\u001b[0m\u001b[1;33m(\u001b[0m\u001b[0mlst\u001b[0m\u001b[1;33m)\u001b[0m\u001b[1;33m\u001b[0m\u001b[1;33m\u001b[0m\u001b[0m\n\u001b[0;32m      3\u001b[0m \u001b[1;32mdel\u001b[0m \u001b[0mlst\u001b[0m \u001b[1;31m# 删除列表(删除对象引用)\u001b[0m\u001b[1;33m\u001b[0m\u001b[1;33m\u001b[0m\u001b[0m\n\u001b[1;32m----> 4\u001b[1;33m \u001b[0mprint\u001b[0m\u001b[1;33m(\u001b[0m\u001b[0mlst\u001b[0m\u001b[1;33m)\u001b[0m\u001b[1;33m\u001b[0m\u001b[1;33m\u001b[0m\u001b[0m\n\u001b[0m\u001b[0;32m      5\u001b[0m \u001b[1;33m\u001b[0m\u001b[0m\n",
      "\u001b[1;31mNameError\u001b[0m: name 'lst' is not defined"
     ],
     "ename": "NameError",
     "evalue": "name 'lst' is not defined",
     "output_type": "error"
    }
   ],
   "source": [
    "lst = [1, 3, 4, 5]\n",
    "print(lst)\n",
    "del lst # 删除列表(删除列表对象引用)\n",
    "print(lst)"
   ],
   "metadata": {
    "collapsed": false,
    "pycharm": {
     "name": "#%%\n",
     "is_executing": false
    }
   }
  },
  {
   "cell_type": "code",
   "execution_count": null,
   "outputs": [],
   "source": [
    "\n"
   ],
   "metadata": {
    "collapsed": false,
    "pycharm": {
     "name": "#%%\n",
     "is_executing": false
    }
   }
  }
 ],
 "metadata": {
  "language_info": {
   "codemirror_mode": {
    "name": "ipython",
    "version": 2
   },
   "file_extension": ".py",
   "mimetype": "text/x-python",
   "name": "python",
   "nbconvert_exporter": "python",
   "pygments_lexer": "ipython2",
   "version": "2.7.6"
  },
  "kernelspec": {
   "name": "python3",
   "language": "python",
   "display_name": "Python 3"
  },
  "pycharm": {
   "stem_cell": {
    "cell_type": "raw",
    "source": [],
    "metadata": {
     "collapsed": false
    }
   }
  }
 },
 "nbformat": 4,
 "nbformat_minor": 0
}