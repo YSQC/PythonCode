{
 "cells": [
  {
   "cell_type": "code",
   "execution_count": null,
   "outputs": [],
   "source": [
    "'''\n",
    "|  list(iterable=(), /)\n",
    "|  \n",
    "|  Built-in mutable sequence.\n",
    "|  \n",
    "|  If no argument is given, the constructor creates a new empty list.\n",
    "|  The argument must be an iterable if specified.\n",
    "'''"
   ],
   "metadata": {
    "collapsed": false,
    "pycharm": {
     "name": "#%%\n"
    }
   }
  },
  {
   "cell_type": "code",
   "execution_count": 1,
   "outputs": [
    {
     "name": "stdout",
     "text": [
      "[]\n[]\n[1, 2, 3, 4]\n(1, 2, 3, 4)\n[1, 2, 3, 4]\n['a', 'b']\n[array([1, 2, 3]), array([4, 5, 6])]\n[1, 2, 3, 4]\n['A', 'B', 'C']\n"
     ],
     "output_type": "stream"
    }
   ],
   "source": [
    "import numpy as np\n",
    "import pandas as pd\n",
    "\n",
    "list0 = [] # 创建一个空列表\n",
    "print(list0)\n",
    "\n",
    "list1 = list()\n",
    "print(list1) # 创建一个空列表(构造函数可以接受任何迭代的类型的参数)\n",
    "\n",
    "list2 = list((1, 2, 3, 4)) # 元组转列表\n",
    "print(list2)\n",
    "\n",
    "list3 = tuple({1, 2, 3, 4}) # 集合转列表\n",
    "print(list3)\n",
    "\n",
    "print(list((x for x in range(1, 5)))) # 生成器转列表\n",
    "\n",
    "print(list({'a': 1, 'b': 2})) # 字典(键)转列表\n",
    "\n",
    "print(list(np.array([[1, 2 , 3], [4, 5, 6]]))) # 数组转列表\n",
    "\n",
    "print(list(pd.Series([1, 2, 3, 4], index=list('ABCD')))) # Series转列表\n",
    "\n",
    "print(list(pd.DataFrame(np.array([[1, 2 ,3], [4, 5, 6]]), \n",
    "                         columns=list('ABC')))) # DataFrame(columns)转列表"
   ],
   "metadata": {
    "pycharm": {
     "metadata": false,
     "name": "#%%\n",
     "is_executing": false
    }
   }
  },
  {
   "cell_type": "code",
   "execution_count": 2,
   "outputs": [
    {
     "data": {
      "text/plain": "[[1, 2, 3], [4, 5, 6]]"
     },
     "metadata": {},
     "output_type": "execute_result",
     "execution_count": 2
    }
   ],
   "source": [
    "# 数组(元素)转列表(★★★★★)\n",
    "\n",
    "arr = np.array([[1, 2, 3], [4, 5, 6]])\n",
    "arr.tolist() # Return the array as a (possibly nested) list."
   ],
   "metadata": {
    "pycharm": {
     "metadata": false,
     "name": "#%%\n",
     "is_executing": false
    }
   }
  },
  {
   "cell_type": "code",
   "execution_count": 6,
   "outputs": [
    {
     "data": {
      "text/plain": "array([list([2, 3]), list([3, 4, 5])], dtype=object)"
     },
     "metadata": {},
     "output_type": "execute_result",
     "execution_count": 6
    }
   ],
   "source": [
    "arr1 = np.array([[2, 3], [3, 4, 5]])\n",
    "arr1"
   ],
   "metadata": {
    "pycharm": {
     "metadata": false,
     "name": "#%%\n",
     "is_executing": false
    }
   }
  },
  {
   "cell_type": "code",
   "execution_count": 7,
   "outputs": [
    {
     "data": {
      "text/plain": "[[2, 3], [3, 4, 5]]"
     },
     "metadata": {},
     "output_type": "execute_result",
     "execution_count": 7
    }
   ],
   "source": [
    "arr1.tolist()"
   ],
   "metadata": {
    "collapsed": false,
    "pycharm": {
     "name": "#%%\n",
     "is_executing": false
    }
   }
  }
 ],
 "metadata": {
  "language_info": {
   "codemirror_mode": {
    "name": "ipython",
    "version": 2
   },
   "file_extension": ".py",
   "mimetype": "text/x-python",
   "name": "python",
   "nbconvert_exporter": "python",
   "pygments_lexer": "ipython2",
   "version": "2.7.6"
  },
  "kernelspec": {
   "name": "python3",
   "language": "python",
   "display_name": "Python 3"
  },
  "pycharm": {
   "stem_cell": {
    "cell_type": "raw",
    "source": [],
    "metadata": {
     "collapsed": false
    }
   }
  }
 },
 "nbformat": 4,
 "nbformat_minor": 0
}