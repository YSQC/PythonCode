{
 "cells": [
  {
   "cell_type": "code",
   "source": [
    "'''\n",
    "解析:\n",
    "1. 新建一个列表对象(假设内存地址为lst_idt,指针地址为lst_idp);新建一个变量lst,令其内存地址为lst_idp\n",
    "2. lst_idt储存对象'string'的内存地址,对象99的内存地址,可变对象[-1, -2]的指针地址\n",
    "3. 再新建一个列表对象(假设内存地址为rangel_idt,指针地址为rangel_idp)\n",
    "4. 循环append第一轮-->lst_idt再存储对象0的地址,append为列表内置方法,故lst_idp不变\n",
    "5. 循环append第一轮-->lst_idt再存储对象1的地址,append为列表内置方法,故lst_idp不变\n",
    "6. ......\n",
    "7. 最终lst_idt储存:对象'string'的内存地址,对象99的内存地址,对象[-1, -2]的指针地址,rangel_idp,...,rangel_idp\n",
    "8. 由于后5各元素储存的均为rangel_idp,故输出值相同\n",
    "'''\n",
    "lst = ['string', 99, [-1, -2]]\n",
    "rangel = list()\n",
    "\n",
    "for i in range(5):\n",
    "    rangel.append(i)\n",
    "    lst.append(rangel)\n",
    "\n",
    "for j in lst:\n",
    "    print(j)"
   ],
   "metadata": {
    "collapsed": false,
    "pycharm": {
     "name": "#%%\n"
    }
   },
   "execution_count": 91,
   "outputs": [
    {
     "name": "stdout",
     "output_type": "stream",
     "text": [
      "string\n",
      "99\n",
      "[-1, -2]\n",
      "[0, 1, 2, 3, 4]\n",
      "[0, 1, 2, 3, 4]\n",
      "[0, 1, 2, 3, 4]\n",
      "[0, 1, 2, 3, 4]\n",
      "[0, 1, 2, 3, 4]\n"
     ]
    }
   ]
  },
  {
   "cell_type": "markdown",
   "source": [
    "### list的修改(内置方法)"
   ],
   "metadata": {
    "collapsed": false,
    "pycharm": {
     "name": "#%% md\n"
    }
   }
  },
  {
   "cell_type": "code",
   "execution_count": 92,
   "outputs": [
    {
     "name": "stdout",
     "output_type": "stream",
     "text": [
      "3085026578888\n",
      "3085026578888\n",
      "[0, 1, 2, 4, 5, 6, 7, 8, 9, 10]\n",
      "3085026578888\n"
     ]
    }
   ],
   "source": [
    "lst = [1, 2, 3, 4, 5, 6, 7]\n",
    "print(id(lst))\n",
    "\n",
    "# list内置方法修改\n",
    "lst.append(8)\n",
    "lst.extend([9, 10])\n",
    "lst.insert(0, 0)\n",
    "lst.pop(3)\n",
    "\n",
    "print(id(lst)) # lst地址不变\n",
    "print(lst) # 输出改变\n",
    "print(id(lst))"
   ],
   "metadata": {
    "collapsed": false,
    "pycharm": {
     "name": "#%%\n"
    }
   }
  },
  {
   "cell_type": "markdown",
   "source": [
    "### list的修改(直接对[索引/切片进行修改])"
   ],
   "metadata": {
    "collapsed": false,
    "pycharm": {
     "name": "#%% md\n"
    }
   }
  },
  {
   "cell_type": "code",
   "execution_count": 93,
   "outputs": [
    {
     "name": "stdout",
     "output_type": "stream",
     "text": [
      "3085026578888\n",
      "[-11111111, 1, 0, 0, 0, 0, 0, 0, 6, 7, 8, 9, 10]\n"
     ]
    }
   ],
   "source": [
    "lst[0] = -11111111\n",
    "lst[2:5] = [0, 0, 0, 0, 0, 0] # 直接对lst[索引/切片]进行修改(形状必须完全相同)\n",
    "\n",
    "print(id(lst)) # lst地址不变\n",
    "print(lst) # 输出改变"
   ],
   "metadata": {
    "collapsed": false,
    "pycharm": {
     "name": "#%%\n"
    }
   }
  },
  {
   "cell_type": "code",
   "execution_count": 94,
   "outputs": [
    {
     "name": "stdout",
     "output_type": "stream",
     "text": [
      "3085026578888\n",
      "[-11111111, 1, 0, 0, 0, 0, 0, 0, 6, 7, 8, 9, 10, -1, -2, -3]\n"
     ]
    }
   ],
   "source": [
    "lst += [-1, -2, -3]\n",
    "print(id(lst)) # lst地址不变\n",
    "print(lst) # 输出改变"
   ],
   "metadata": {
    "collapsed": false,
    "pycharm": {
     "name": "#%%\n"
    }
   }
  },
  {
   "cell_type": "markdown",
   "source": [
    "### list的修改(对list内可变对象做不改变指针地址的修改)"
   ],
   "metadata": {
    "collapsed": false,
    "pycharm": {
     "name": "#%% md\n"
    }
   }
  },
  {
   "cell_type": "code",
   "execution_count": 95,
   "outputs": [
    {
     "name": "stdout",
     "output_type": "stream",
     "text": [
      "3085030535688\n",
      "3085030535688\n",
      "[1, 2, [1, 2, [1, 2, 3]]]\n"
     ]
    }
   ],
   "source": [
    "'''\n",
    "解析:\n",
    "1. 第一步\n",
    "    1. 新建一个列表对象(假设内存地址为depp_idt,指针地址为depp_idp);新建一个变量deep,令其内存地址为deep_idp\n",
    "    2. deep_idt存储对象1的内存地址,对象2的内存地址,可变对象[1, 2, [1, 2]]的指针地址deep1_idp\n",
    "    3. 可变对象[1, 2, [1, 2]]的物理地址存储对象1的内存地址,对象2的内存地址,可变对象[1, 2]的指针地址deep2_idp\n",
    "    4. 可变对象[1, 2]的物理地址存储对象1的内存地址,对象2的内存地址\n",
    "2. 第二步\n",
    "    1. 新建一个变量in2,令其内存地址deep2_idp\n",
    "3. 第三步\n",
    "    1. 可变对象[1, 2]的物理地址再存储对象3的地址,append为列表内置方法,故deep2_idp不变\n",
    "4. 输出deep\n",
    "    1. 第一层:通过deep_idp得到数据1, 2和deep1_idp\n",
    "    2. 第二次:通过deep1_idp得到数据1, 2和deep2_idp\n",
    "    3. 通过dee2_idp得到数据1, 2, 3\n",
    "'''\n",
    "deep = [1, 2, [1, 2, [1, 2]]]\n",
    "in2 = deep[2][2]\n",
    "\n",
    "print(id(in2))\n",
    "in2.append(3)\n",
    "print(id(in2))\n",
    "\n",
    "print(deep)"
   ],
   "metadata": {
    "collapsed": false,
    "pycharm": {
     "name": "#%%\n"
    }
   }
  },
  {
   "cell_type": "code",
   "execution_count": 95,
   "outputs": [],
   "source": [
    "\n"
   ],
   "metadata": {
    "collapsed": false,
    "pycharm": {
     "name": "#%%\n"
    }
   }
  }
 ],
 "metadata": {
  "kernelspec": {
   "display_name": "Python 3",
   "language": "python",
   "name": "python3"
  },
  "language_info": {
   "codemirror_mode": {
    "name": "ipython",
    "version": 2
   },
   "file_extension": ".py",
   "mimetype": "text/x-python",
   "name": "python",
   "nbconvert_exporter": "python",
   "pygments_lexer": "ipython2",
   "version": "2.7.6"
  }
 },
 "nbformat": 4,
 "nbformat_minor": 0
}