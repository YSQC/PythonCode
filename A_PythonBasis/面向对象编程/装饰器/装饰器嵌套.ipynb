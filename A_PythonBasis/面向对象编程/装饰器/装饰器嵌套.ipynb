{
 "cells": [
  {
   "cell_type": "code",
   "execution_count": null,
   "outputs": [],
   "source": [
    "# 装饰器嵌套(函数)\n",
    "def makeBold(fun):\n",
    "    print('----a----')\n",
    "    def inner():\n",
    "        print('----1----')\n",
    "        return '<b>' + fun() + '</b>'\n",
    "    \n",
    "    return inner\n",
    "\n",
    "def makeItalic(fun):\n",
    "    print('----b----')\n",
    "    def inner():\n",
    "        print('----2----')\n",
    "        return '<i>' + fun() + '</i>'\n",
    "    \n",
    "    return inner\n",
    "\n",
    "@makeBold\n",
    "@makeItalic \n",
    "def test(): # 等同于makeBold(makeItalic(test))\n",
    "    print('----c----')  \n",
    "    \n",
    "    return 'hello python decorator'\n",
    "    \n",
    "test()"
   ],
   "metadata": {
    "collapsed": false,
    "pycharm": {
     "name": "#%%\n"
    }
   }
  },
  {
   "cell_type": "code",
   "execution_count": 148,
   "outputs": [
    {
     "name": "stdout",
     "text": [
      "进入__init__方法\nb\n进入__init__方法\ni\n进入__call__方法\n<function hello at 0x000001F174617840>\n进入__call__方法\n<function makeHtmlTagClass.__call__.<locals>.wrapped at 0x000001F174617B70>\n进入wrapp方法\n进入wrapp方法\n进入hello方法\nnow is: Hello, duanchao\n进入hello方法\nnow is: <i class='italic_css'>Hello, duanchao</i>\n进入wrapp方法\n进入hello方法\nnow is: Hello, duanchao\n进入hello方法\n"
     ],
     "output_type": "stream"
    },
    {
     "data": {
      "text/plain": "\"<b class='bold_css'><i class='italic_css'>Hello, duanchao</i></b>\""
     },
     "metadata": {},
     "output_type": "execute_result",
     "execution_count": 148
    }
   ],
   "source": [
    "# 装饰器嵌套(类)\n",
    "class makeHtmlTagClass(object):\n",
    "    def __init__(self, tag, css_class=\"\"):\n",
    "        print('进入__init__方法')\n",
    "        print(tag)\n",
    "        self._tag = tag\n",
    "        self._css_class = \" class='{0}'\".format(css_class) if \\\n",
    "            css_class != \"\" else \"\"\n",
    "    \n",
    "    def __call__(self, fn):\n",
    "        print('进入__call__方法')\n",
    "        print(fn)\n",
    "        def wrapped(*args, **kwargs):\n",
    "            print('进入wrapp方法')\n",
    "            print('now is:', fn(*args, **kwargs))\n",
    "            return \"<\" + self._tag + self._css_class + \">\" \\\n",
    "\t\t\t\t   + fn(*args, **kwargs) + \"</\" + self._tag + \">\"\n",
    "    \n",
    "        return wrapped\n",
    "\n",
    "@makeHtmlTagClass(tag=\"b\", css_class=\"bold_css\")\n",
    "@makeHtmlTagClass(tag=\"i\", css_class=\"italic_css\")\n",
    "def hello(name):  \n",
    "    # 等同于:makeHtmlTagClass(tag=\"b\", css_class=\"bold_css\")(makeHtmlTagClass(tag=\"i\", css_class=\"italic_css\")(hello))\n",
    "    print('进入hello方法')\n",
    "    return \"Hello, {0}\".format(name)\n",
    "\n",
    "hello('duanchao') # 等同于:makeHtmlTagClass(tag=\"b\", css_class=\"bold_css\")(makeHtmlTagClass(tag=\"i\", css_class=\"italic_css\")(hello))('duanchao')('duanchao')"
   ],
   "metadata": {
    "pycharm": {
     "metadata": false,
     "name": "#%%\n",
     "is_executing": false
    }
   }
  },
  {
   "cell_type": "code",
   "execution_count": null,
   "outputs": [],
   "source": "\n",
   "metadata": {
    "pycharm": {
     "metadata": false,
     "name": "#%%\n"
    }
   }
  }
 ],
 "metadata": {
  "language_info": {
   "codemirror_mode": {
    "name": "ipython",
    "version": 2
   },
   "file_extension": ".py",
   "mimetype": "text/x-python",
   "name": "python",
   "nbconvert_exporter": "python",
   "pygments_lexer": "ipython2",
   "version": "2.7.6"
  },
  "kernelspec": {
   "name": "python3",
   "language": "python",
   "display_name": "Python 3"
  },
  "pycharm": {
   "stem_cell": {
    "cell_type": "raw",
    "source": [],
    "metadata": {
     "collapsed": false
    }
   }
  }
 },
 "nbformat": 4,
 "nbformat_minor": 0
}