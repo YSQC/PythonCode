{
 "cells": [
  {
   "cell_type": "code",
   "execution_count": 1,
   "metadata": {
    "collapsed": true,
    "pycharm": {
     "is_executing": false
    }
   },
   "outputs": [
    {
     "name": "stdout",
     "text": [
      "china\n",
      "china\n"
     ],
     "output_type": "stream"
    }
   ],
   "source": [
    "class People(object):\n",
    "    country = 'china'\n",
    "\n",
    "    # 类方法(使用classmethod作为装饰器)\n",
    "    @classmethod\n",
    "    # 对于类方法,第一个参数必须是类对象,一般以cls作为第一个参数\n",
    "    def getCountry(cls):\n",
    "        return cls.country\n",
    "\n",
    "p = People()\n",
    "print(p.getCountry())    # 可以用过实例对象引用\n",
    "print(People.getCountry()) # 可以通过类对象引用\n"
   ]
  },
  {
   "cell_type": "code",
   "execution_count": 2,
   "outputs": [
    {
     "name": "stdout",
     "text": [
      "china\n",
      "japan\n"
     ],
     "output_type": "stream"
    }
   ],
   "source": [
    "# 对类属性进行修改\n",
    "class People:\n",
    "    country = 'china'\n",
    "\n",
    "    @classmethod\n",
    "    def getCountry(cls):\n",
    "        return cls.country\n",
    "\n",
    "    @classmethod\n",
    "    def setCountry(cls,country):\n",
    "        cls.country = country\n",
    "\n",
    "print(People.getCountry())\n",
    "\n",
    "People.setCountry('japan')\n",
    "\n",
    "print(People.getCountry())\n",
    "\n",
    "\n",
    "\n"
   ],
   "metadata": {
    "collapsed": false,
    "pycharm": {
     "name": "#%%\n",
     "is_executing": false
    }
   }
  }
 ],
 "metadata": {
  "kernelspec": {
   "display_name": "Python 3",
   "language": "python",
   "name": "python3"
  },
  "language_info": {
   "codemirror_mode": {
    "name": "ipython",
    "version": 2
   },
   "file_extension": ".py",
   "mimetype": "text/x-python",
   "name": "python",
   "nbconvert_exporter": "python",
   "pygments_lexer": "ipython2",
   "version": "2.7.6"
  },
  "pycharm": {
   "stem_cell": {
    "cell_type": "raw",
    "source": [],
    "metadata": {
     "collapsed": false
    }
   }
  }
 },
 "nbformat": 4,
 "nbformat_minor": 0
}