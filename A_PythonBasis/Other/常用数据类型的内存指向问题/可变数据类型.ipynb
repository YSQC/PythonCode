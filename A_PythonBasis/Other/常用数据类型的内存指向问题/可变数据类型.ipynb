{
 "cells": [
  {
   "cell_type": "markdown",
   "source": [
    "### 可变数据类型:list,dict,set,Series,DataFrame,ndarray,tensor\n",
    "\n",
    "具体可参考:\n",
    "1. list的修改与内存存储问题.ipynb\n",
    "3. ndarray的存储结构.ipynb\n",
    "3. array的修改与共享内存.ipynb\n",
    "4. tensor的修改与共享内存.ipynb\n",
    "5. 深拷贝浅拷贝copy模块"
   ],
   "metadata": {
    "collapsed": false,
    "pycharm": {
     "name": "#%% md\n"
    }
   }
  },
  {
   "cell_type": "code",
   "execution_count": 22,
   "outputs": [],
   "source": [
    "\n"
   ],
   "metadata": {
    "collapsed": false,
    "pycharm": {
     "name": "#%%\n"
    }
   }
  }
 ],
 "metadata": {
  "kernelspec": {
   "display_name": "Python 3",
   "language": "python",
   "name": "python3"
  },
  "language_info": {
   "codemirror_mode": {
    "name": "ipython",
    "version": 2
   },
   "file_extension": ".py",
   "mimetype": "text/x-python",
   "name": "python",
   "nbconvert_exporter": "python",
   "pygments_lexer": "ipython2",
   "version": "2.7.6"
  }
 },
 "nbformat": 4,
 "nbformat_minor": 0
}