{
 "cells": [
  {
   "cell_type": "markdown",
   "metadata": {
    "pycharm": {
     "name": "#%% md\n"
    }
   },
   "source": [
    "### 可变数据类型:list,dict,set,Series,DataFrame,ndarray,tensor\n",
    "基本结构:\n",
    "1. 包含指针地址与值地址,指针地址指向值地址,定义时变量的地址为指针地址\n",
    "2. 变量赋值是将指针地址对其进行赋值\n",
    "\n",
    "\n",
    "具体可参考:\n",
    "1. list的修改与内存存储问题.ipynb\n",
    "3. ndarray的存储结构.ipynb\n",
    "3. array的修改与共享内存.ipynb\n",
    "4. tensor的修改与共享内存.ipynb\n",
    "5. 深拷贝浅拷贝copy模块"
   ]
  },
  {
   "cell_type": "code",
   "execution_count": 1,
   "metadata": {
    "pycharm": {
     "name": "#%%\n"
    }
   },
   "outputs": [
    {
     "name": "stdout",
     "output_type": "stream",
     "text": [
      "[1, 2, 3, 4, 5, 5]\n",
      "[1, 2, 3, 4, 5, 5]\n"
     ]
    }
   ],
   "source": [
    "lst = [1, 2, 3, 4, 5]\n",
    "lst1 = lst # lst,lst1指针地址相同\n",
    "\n",
    "lst1.append(5)\n",
    "\n",
    "print(lst)\n",
    "print(lst1)"
   ]
  },
  {
   "cell_type": "code",
   "execution_count": 2,
   "metadata": {
    "pycharm": {
     "name": "#%%\n"
    }
   },
   "outputs": [
    {
     "name": "stdout",
     "output_type": "stream",
     "text": [
      "[1000    2    3    4]\n",
      "[1000    2    3    4]\n"
     ]
    }
   ],
   "source": [
    "import numpy as np\n",
    "\n",
    "arr = np.array([1, 2, 3, 4])\n",
    "arr1 = arr # arr,arr1指针地址相同\n",
    "\n",
    "arr[0] = 1000\n",
    "\n",
    "print(arr)\n",
    "print(arr1)"
   ]
  },
  {
   "cell_type": "code",
   "execution_count": 8,
   "metadata": {
    "pycharm": {
     "name": "#%%\n"
    }
   },
   "outputs": [
    {
     "name": "stdout",
     "output_type": "stream",
     "text": [
      "      0  1\n",
      "A  1000  2\n",
      "B     3  4\n",
      "      0  1\n",
      "A  1000  2\n",
      "B     3  4\n"
     ]
    }
   ],
   "source": [
    "import pandas as pd\n",
    "\n",
    "df = pd.DataFrame([[1, 2], [3, 4]], index=['A', 'B'])\n",
    "df1 = df # arr,arr1指针地址相同\n",
    "\n",
    "df.iloc[0, 0] = 1000\n",
    "\n",
    "print(df)\n",
    "print(df1)"
   ]
  },
  {
   "cell_type": "code",
   "execution_count": 9,
   "metadata": {
    "pycharm": {
     "name": "#%%\n"
    }
   },
   "outputs": [
    {
     "name": "stdout",
     "output_type": "stream",
     "text": [
      "tensor([-1,  2,  3,  4])\n",
      "tensor([-1,  2,  3,  4])\n"
     ]
    }
   ],
   "source": [
    "import torch\n",
    "\n",
    "tor = torch.tensor([1, 2, 3, 4])\n",
    "tor1 = tor # tor,tor1指针地址相同\n",
    "\n",
    "tor[0] = -1\n",
    "\n",
    "print(tor)\n",
    "print(tor1)"
   ]
  },
  {
   "cell_type": "code",
   "execution_count": null,
   "metadata": {
    "pycharm": {
     "name": "#%%\n"
    }
   },
   "outputs": [],
   "source": [
    "\n"
   ]
  }
 ],
 "metadata": {
  "kernelspec": {
   "display_name": "Python 3",
   "language": "python",
   "name": "python3"
  },
  "language_info": {
   "codemirror_mode": {
    "name": "ipython",
    "version": 3
   },
   "file_extension": ".py",
   "mimetype": "text/x-python",
   "name": "python",
   "nbconvert_exporter": "python",
   "pygments_lexer": "ipython3",
   "version": "3.7.7"
  },
  "toc": {
   "base_numbering": 1,
   "nav_menu": {},
   "number_sections": true,
   "sideBar": true,
   "skip_h1_title": false,
   "title_cell": "Table of Contents",
   "title_sidebar": "Contents",
   "toc_cell": false,
   "toc_position": {},
   "toc_section_display": true,
   "toc_window_display": false
  }
 },
 "nbformat": 4,
 "nbformat_minor": 1
}
