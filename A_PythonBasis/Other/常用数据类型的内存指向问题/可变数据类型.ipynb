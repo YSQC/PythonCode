{
 "cells": [
  {
   "cell_type": "markdown",
   "source": [
    "### 可变数据类型:list,dict,set,Series,DataFrame,ndarray,tensor\n",
    "基本结构:\n",
    "1. 包含指针地址与值地址,指针地址指向值地址,定义时变量的地址为指针地址\n",
    "2. 变量赋值是将指针地址对其进行赋值\n",
    "\n",
    "\n",
    "具体可参考:\n",
    "1. list的修改与内存存储问题.ipynb\n",
    "3. ndarray的存储结构.ipynb\n",
    "3. array的修改与共享内存.ipynb\n",
    "4. tensor的修改与共享内存.ipynb\n",
    "5. 深拷贝浅拷贝copy模块"
   ],
   "metadata": {
    "collapsed": false,
    "pycharm": {
     "name": "#%% md\n"
    }
   }
  },
  {
   "cell_type": "code",
   "execution_count": 1,
   "outputs": [
    {
     "name": "stdout",
     "output_type": "stream",
     "text": [
      "[1, 2, 3, 4, 5, 5]\n",
      "[1, 2, 3, 4, 5, 5]\n"
     ]
    }
   ],
   "source": [
    "lst = [1, 2, 3, 4, 5]\n",
    "lst1 = lst # lst,lst1指针地址相同\n",
    "\n",
    "lst1.append(5)\n",
    "\n",
    "print(lst)\n",
    "print(lst1)"
   ],
   "metadata": {
    "collapsed": false,
    "pycharm": {
     "name": "#%%\n"
    }
   }
  },
  {
   "cell_type": "code",
   "execution_count": 2,
   "outputs": [
    {
     "name": "stdout",
     "output_type": "stream",
     "text": [
      "[1000    2    3    4]\n",
      "[1000    2    3    4]\n"
     ]
    }
   ],
   "source": [
    "import numpy as np\n",
    "\n",
    "arr = np.array([1, 2, 3, 4])\n",
    "arr1 = arr # arr,arr1指针地址相同\n",
    "\n",
    "arr[0] = 1000\n",
    "\n",
    "print(arr)\n",
    "print(arr1)"
   ],
   "metadata": {
    "collapsed": false,
    "pycharm": {
     "name": "#%%\n"
    }
   }
  },
  {
   "cell_type": "code",
   "execution_count": 8,
   "outputs": [
    {
     "name": "stdout",
     "output_type": "stream",
     "text": [
      "      0  1\n",
      "A  1000  2\n",
      "B     3  4\n",
      "      0  1\n",
      "A  1000  2\n",
      "B     3  4\n"
     ]
    }
   ],
   "source": [
    "import pandas as pd\n",
    "\n",
    "df = pd.DataFrame([[1, 2], [3, 4]], index=['A', 'B'])\n",
    "df1 = df # arr,arr1指针地址相同\n",
    "\n",
    "df.iloc[0, 0] = 1000\n",
    "\n",
    "print(df)\n",
    "print(df1)"
   ],
   "metadata": {
    "collapsed": false,
    "pycharm": {
     "name": "#%%\n"
    }
   }
  },
  {
   "cell_type": "code",
   "execution_count": 9,
   "outputs": [
    {
     "name": "stdout",
     "output_type": "stream",
     "text": [
      "tensor([-1,  2,  3,  4])\n",
      "tensor([-1,  2,  3,  4])\n"
     ]
    }
   ],
   "source": [
    "import torch\n",
    "\n",
    "tor = torch.tensor([1, 2, 3, 4])\n",
    "tor1 = tor # tor,tor1指针地址相同\n",
    "\n",
    "tor[0] = -1\n",
    "\n",
    "print(tor)\n",
    "print(tor1)"
   ],
   "metadata": {
    "collapsed": false,
    "pycharm": {
     "name": "#%%\n"
    }
   }
  },
  {
   "cell_type": "code",
   "execution_count": null,
   "outputs": [],
   "source": [
    "\n"
   ],
   "metadata": {
    "collapsed": false,
    "pycharm": {
     "name": "#%%\n"
    }
   }
  }
 ],
 "metadata": {
  "kernelspec": {
   "display_name": "Python 3",
   "language": "python",
   "name": "python3"
  },
  "language_info": {
   "codemirror_mode": {
    "name": "ipython",
    "version": 2
   },
   "file_extension": ".py",
   "mimetype": "text/x-python",
   "name": "python",
   "nbconvert_exporter": "python",
   "pygments_lexer": "ipython2",
   "version": "2.7.6"
  }
 },
 "nbformat": 4,
 "nbformat_minor": 0
}