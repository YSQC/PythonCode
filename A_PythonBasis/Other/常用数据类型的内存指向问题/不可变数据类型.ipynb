{
 "cells": [
  {
   "cell_type": "markdown",
   "metadata": {},
   "source": [
    "### 不可变数据类型:bool,int,float,string,tuple,frozenset"
   ]
  },
  {
   "cell_type": "code",
   "execution_count": 169,
   "metadata": {
    "pycharm": {
     "name": "#%%\n"
    }
   },
   "outputs": [
    {
     "name": "stdout",
     "output_type": "stream",
     "text": [
      "140719050695120 140719050695120 140719050695120\n"
     ]
    }
   ],
   "source": [
    "'''\n",
    "# 解析:\n",
    "1. 新建对象3(假设内存地址为3_id);新建变量a,并令其内存地址也为3_id;对象3引用计数+1\n",
    "2. 新建变量b,令其内内存地址也为3_id,通过变量b可直接访问对象3;对象3的引用计数+1\n",
    "3. 易知三者内存地址相同\n",
    "'''\n",
    "a = 3\n",
    "b = 3\n",
    "print(id(a), id(b), id(3)) # 相同的对象内存地址相同"
   ]
  },
  {
   "cell_type": "code",
   "execution_count": 170,
   "outputs": [
    {
     "name": "stdout",
     "output_type": "stream",
     "text": [
      "140719050695184\n",
      "140719050695120\n"
     ]
    }
   ],
   "source": [
    "'''\n",
    "# 解析:\n",
    "1. 新建对象5(假设内存地址为5_id);令变量a的内存地址为5_id;对象3的引用计数-1\n",
    "2. 变量b的内存地址仍为5_id\n",
    "3. 对象3没有变量引用,其内存空间被垃圾回收器自动回收\n",
    "'''\n",
    "a = 5\n",
    "print(id(a)) # 此时变量a储存的是对象5的内存地址\n",
    "print(id(b))"
   ],
   "metadata": {
    "collapsed": false,
    "pycharm": {
     "name": "#%%\n"
    }
   }
  },
  {
   "cell_type": "code",
   "execution_count": 171,
   "outputs": [
    {
     "name": "stdout",
     "output_type": "stream",
     "text": [
      "2929476912816 2929476912816 2929476912816\n"
     ]
    }
   ],
   "source": [
    "name1 = 'duan'\n",
    "name2 = 'duan'\n",
    "print(id(name1), id(name2), id('duan'))"
   ],
   "metadata": {
    "collapsed": false,
    "pycharm": {
     "name": "#%%\n"
    }
   }
  },
  {
   "cell_type": "code",
   "execution_count": 171,
   "outputs": [],
   "source": [
    "\n"
   ],
   "metadata": {
    "collapsed": false,
    "pycharm": {
     "name": "#%%\n"
    }
   }
  }
 ],
 "metadata": {
  "kernelspec": {
   "display_name": "Python 3",
   "language": "python",
   "name": "python3"
  },
  "language_info": {
   "codemirror_mode": {
    "name": "ipython",
    "version": 3
   },
   "file_extension": ".py",
   "mimetype": "text/x-python",
   "name": "python",
   "nbconvert_exporter": "python",
   "pygments_lexer": "ipython3",
   "version": "3.7.7"
  },
  "toc": {
   "base_numbering": 1,
   "nav_menu": {},
   "number_sections": true,
   "sideBar": true,
   "skip_h1_title": false,
   "title_cell": "Table of Contents",
   "title_sidebar": "Contents",
   "toc_cell": false,
   "toc_position": {},
   "toc_section_display": true,
   "toc_window_display": false
  }
 },
 "nbformat": 4,
 "nbformat_minor": 1
}