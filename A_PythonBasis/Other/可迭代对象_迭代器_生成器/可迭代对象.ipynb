{
 "cells": [
  {
   "cell_type": "markdown",
   "metadata": {
    "collapsed": true,
    "pycharm": {}
   },
   "source": [
    "* 可迭代对象(list，set，dict...)可以重复迭代,只能使用for循环\n",
    "* 可迭代对象包括  \n",
    "    * str / list / tuple / dict / set / numpy / panda   \n",
    "    * 迭代器(Iterator)  \n",
    "    * 生成器(generator)"
   ]
  },
  {
   "cell_type": "code",
   "execution_count": 5,
   "metadata": {
    "collapsed": true,
    "pycharm": {
     "is_executing": false
    }
   },
   "outputs": [
    {
     "name": "stdout",
     "text": [
      "True\nTrue\nTrue\nTrue\nTrue\nTrue\nsfd True\nTrue\n"
     ],
     "output_type": "stream"
    }
   ],
   "source": "from collections.abc import Iterable, Iterator\nimport  numpy as np\nimport  pandas as pd\n\nprint(isinstance('duanchao', Iterable)) # 字符串可迭代对象\nprint(isinstance([1, 2, 3], Iterable))    # 列表是可迭代对象\n\ndict1 = {'a': 1, 'b': 2}\nprint(isinstance(dict1, Iterable))    # 字典是可迭代对象\nprint(isinstance(dict1.keys(), Iterable)) # 字典的键是可迭代对象\nprint(isinstance(dict1.values(), Iterable)) # 字典的值是可迭代对象\n\nprint(isinstance({1, 2, 3, 4}, Iterable)) # 集合是可迭代对象\nprint(isinstance(range(6), Iterable)) # range对象是可迭代对象\nprint(isinstance((x for x in range(10)), Iterable)) # 列表生成器是可迭代对象"
  },
  {
   "cell_type": "code",
   "execution_count": 16,
   "outputs": [
    {
     "name": "stdout",
     "text": [
      "True\n数组作用于for循环:\n1\n2\n3\n"
     ],
     "output_type": "stream"
    }
   ],
   "source": "arr = np.array([1, 2, 3])\nprint(isinstance(arr, Iterable)) # 数组是可迭代对象\nprint('数组作用于for循环:')\nfor i in arr:\n    print(i)",
   "metadata": {
    "pycharm": {
     "metadata": false,
     "name": "#%%\n",
     "is_executing": false
    }
   }
  },
  {
   "cell_type": "code",
   "execution_count": 17,
   "outputs": [
    {
     "name": "stdout",
     "text": [
      "True\nTrue\nSeries作用于for循环:\n1\n2\n3\n"
     ],
     "output_type": "stream"
    }
   ],
   "source": "sr = pd.Series([1, 2, 3], index=['a', 'b', 'c'])\nprint(isinstance(sr, Iterable)) # Series是可迭代对象\nsr_index = sr.index\nprint(isinstance(sr_index, Iterable)) # Series.index是可迭代对象\nprint('Series作用于for循环:')\nfor j in sr: # 等价于for i in sr.values\n    print(j) ",
   "metadata": {
    "pycharm": {
     "metadata": false,
     "name": "#%%\n",
     "is_executing": false
    }
   }
  },
  {
   "cell_type": "code",
   "execution_count": 18,
   "outputs": [
    {
     "name": "stdout",
     "text": [
      "True\nTrue\nTrue\nDataFrame作用于for循环:\nA\nB\n[1 2]\n[3 4]\n"
     ],
     "output_type": "stream"
    }
   ],
   "source": "df = pd.DataFrame([[1,2 ], [3, 4]], \n                              index=list('ab'), \n                              columns=list('AB'))\nprint(isinstance(df, Iterable)) # DataFrame是可迭代对象\ndf_index = df.index \nprint(isinstance(df_index, Iterable)) # DataFrame.index是可迭代对象\ndf_columns = df.columns  \nprint(isinstance(df_columns, Iterable)) # DataFrame.columns是可迭代对象\nprint('DataFrame作用于for循环:')\nfor j in df: # 等价于for j in df.columns\n    print(j) \n\nfor k in df.values:\n    print(k)\n",
   "metadata": {
    "pycharm": {
     "metadata": false,
     "name": "#%%\n",
     "is_executing": false
    }
   }
  }
 ],
 "metadata": {
  "kernelspec": {
   "name": "python3",
   "language": "python",
   "display_name": "Python 3"
  },
  "language_info": {
   "codemirror_mode": {
    "name": "ipython",
    "version": 2
   },
   "file_extension": ".py",
   "mimetype": "text/x-python",
   "name": "python",
   "nbconvert_exporter": "python",
   "pygments_lexer": "ipython2",
   "version": "2.7.6"
  },
  "pycharm": {
   "stem_cell": {
    "cell_type": "raw",
    "source": [],
    "metadata": {
     "collapsed": false
    }
   }
  }
 },
 "nbformat": 4,
 "nbformat_minor": 0
}