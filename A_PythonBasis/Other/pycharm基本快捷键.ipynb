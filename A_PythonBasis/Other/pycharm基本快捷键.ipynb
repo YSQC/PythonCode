{
 "cells": [
  {
   "cell_type": "markdown",
   "source": [
    "|快捷键|作用|\n",
    "| :---: | :---: | \n",
    "|Ctrl + D  |                   向下复制当前行           |\n",
    "|Ctrl + Q  |                   快速查找文档              |   \n",
    "|Ctrl + 鼠标         |                查看源码   |\n",
    "|Ctrl + E |              查看或打开最近访问过的文件 |  \n",
    "|Ctrl + Shift + E   |　            查看或打开最近编辑过的文件   |\n",
    "|Alt + Enter        |           智能提示/导包   |\n",
    "|Ctrl + Enter         |         Run/Run Cell(py,ipynb) |   \n",
    "|Shift + Enter        |        Run Cell and Select Below(ipynb) |   \n",
    "|Home                 |       当前行行首  |\n",
    "|End                  |      当前行行尾   |\n",
    "|Ctrl + Shift + 上下箭头   |    将整个代码块向上或向下移动 | \n",
    "|Ctrl + Shift + +/-       |  展开/折叠全部代码块  |  \n",
    "|Ctrl + A                 |         全选    |\n",
    "|Ctrl + C                 |        复制   |\n",
    "|Ctrl + X                 |       剪切|\n",
    "|Ctrl + V                 |        粘贴|\n",
    "|Ctrl + F                 |        查找|\n",
    "|Ctrl + R                 |       替换|\n",
    "|Ctrl + Z                 |      撤销上一个命令|\n"
   ],
   "metadata": {
    "collapsed": false,
    "pycharm": {
     "name": "#%% md\n"
    }
   }
  }
 ],
 "metadata": {
  "language_info": {
   "codemirror_mode": {
    "name": "ipython",
    "version": 2
   },
   "file_extension": ".py",
   "mimetype": "text/x-python",
   "name": "python",
   "nbconvert_exporter": "python",
   "pygments_lexer": "ipython2",
   "version": "2.7.6"
  },
  "kernelspec": {
   "name": "python3",
   "language": "python",
   "display_name": "Python 3"
  },
  "pycharm": {
   "stem_cell": {
    "cell_type": "raw",
    "source": [],
    "metadata": {
     "collapsed": false
    }
   }
  }
 },
 "nbformat": 4,
 "nbformat_minor": 0
}