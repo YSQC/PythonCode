{
 "cells": [
  {
   "cell_type": "markdown",
   "metadata": {
    "collapsed": true,
    "pycharm": {
     "name": "#%% md\n"
    }
   },
   "source": [
    "* 一个.py文件就是一个模块(内置模块、第三方模块，自定义模块),如a.py\n",
    "* 一个目录中包含了\\_\\_init\\_\\_.py文件,那这个目录就叫做包"
   ]
  },
  {
   "cell_type": "code",
   "execution_count": 1,
   "metadata": {
    "pycharm": {
     "is_executing": false,
     "metadata": false,
     "name": "#%%\n"
    }
   },
   "outputs": [
    {
     "data": {
      "text/plain": "['D:\\\\PythonCode\\\\A_PythonBasis\\\\Other',\n 'D:\\\\CodeProgram\\\\anconda3\\\\python37.zip',\n 'D:\\\\CodeProgram\\\\anconda3\\\\DLLs',\n 'D:\\\\CodeProgram\\\\anconda3\\\\lib',\n 'D:\\\\CodeProgram\\\\anconda3',\n '',\n 'D:\\\\CodeProgram\\\\anconda3\\\\lib\\\\site-packages',\n 'D:\\\\PythonCode',\n 'D:\\\\CodeProgram\\\\anconda3\\\\lib\\\\site-packages\\\\win32',\n 'D:\\\\CodeProgram\\\\anconda3\\\\lib\\\\site-packages\\\\win32\\\\lib',\n 'D:\\\\CodeProgram\\\\anconda3\\\\lib\\\\site-packages\\\\Pythonwin',\n 'D:\\\\CodeProgram\\\\anconda3\\\\lib\\\\site-packages\\\\IPython\\\\extensions',\n 'C:\\\\Users\\\\duanm\\\\.ipython']"
     },
     "metadata": {},
     "output_type": "execute_result",
     "execution_count": 1
    }
   ],
   "source": [
    "\"\"\"\n",
    "Python添加默认模块搜索路径(作用:导入或打开文件时可直接从默认搜索路径读取):\n",
    "方法一：sys.path.append函数添加:\n",
    "import sys\n",
    "sys.path.append('D:\\Python Code') # 临时添加(退出python环境后添加的路径会自动消失)\n",
    "for i in sys.path: # sys.path是python的搜索模块的路径集,是一个list\n",
    "    print(i)\n",
    "    \n",
    "方法二：增加*.pth文件\n",
    "在Anaconda3\\Lib\\site-packages中添加一个路径文件.如my_module_path.pth(必须以.pth为后缀),写入你要加入的模块文件所在的目录名称\n",
    "\"\"\"\n",
    "\n",
    "import sys\n",
    "sys.path"
   ]
  },
  {
   "cell_type": "code",
   "execution_count": 2,
   "metadata": {
    "pycharm": {
     "is_executing": false,
     "metadata": false,
     "name": "#%%\n"
    }
   },
   "outputs": [
    {
     "data": {
      "text/plain": "<matplotlib.collections.PathCollection at 0x1f079be4088>"
     },
     "metadata": {},
     "output_type": "execute_result",
     "execution_count": 2
    }
   ],
   "source": [
    "# 导入模块方式一:导入整个模块(绝对导入)\n",
    "import  numpy as np\n",
    "import matplotlib.pyplot as plt\n",
    "\n",
    "x = np.linspace(0, 1, 100)\n",
    "y = np.random.normal(0, 1, 100)\n",
    "plt.scatter(x, y, color='b')\n"
   ]
  },
  {
   "cell_type": "code",
   "execution_count": 3,
   "metadata": {
    "pycharm": {
     "is_executing": false,
     "metadata": false,
     "name": "#%%\n"
    }
   },
   "outputs": [
    {
     "data": {
      "text/plain": "<matplotlib.collections.PathCollection at 0x1f07d0a28c8>"
     },
     "metadata": {},
     "output_type": "execute_result",
     "execution_count": 3
    },
    {
     "data": {
      "text/plain": "<Figure size 432x288 with 1 Axes>",
      "image/png": "[encoded data removed]"
     },
     "metadata": {
      "needs_background": "light"
     },
     "output_type": "display_data"
    }
   ],
   "source": [
    "# 导入模块方式二:导入模块中的属性,方法或类(绝对导入)\n",
    "from matplotlib.pyplot import scatter \n",
    "\n",
    "scatter(x, y, color='red')"
   ]
  },
  {
   "cell_type": "code",
   "execution_count": 7,
   "metadata": {
    "pycharm": {
     "metadata": false,
     "name": "#%%\n",
     "is_executing": false
    }
   },
   "outputs": [
    {
     "name": "stdout",
     "text": [
      "duanchao love java\n",
      "duanchao love python\n",
      "hello world\n"
     ],
     "output_type": "stream"
    }
   ],
   "source": [
    "# from import_modul_test.modul import print_hello, print_world # 不同目录结构下模块的相对导入\n",
    "from A_PythonBasis.Other.import_modul_test.modul import print_hello, print_world # 绝对导入(需将D:\\PythonCode设置为默认模块搜索路路径)\n",
    "\n",
    "a = print_hello('duanchao')\n",
    "a.java()\n",
    "a.python()\n",
    "\n",
    "print_world()"
   ]
  },
  {
   "cell_type": "code",
   "execution_count": null,
   "outputs": [],
   "source": [
    "\n"
   ],
   "metadata": {
    "collapsed": false,
    "pycharm": {
     "name": "#%%\n"
    }
   }
  }
 ],
 "metadata": {
  "kernelspec": {
   "display_name": "Python 3",
   "language": "python",
   "name": "python3"
  },
  "language_info": {
   "codemirror_mode": {
    "name": "ipython",
    "version": 3
   },
   "file_extension": ".py",
   "mimetype": "text/x-python",
   "name": "python",
   "nbconvert_exporter": "python",
   "pygments_lexer": "ipython3",
   "version": "3.7.3"
  },
  "pycharm": {
   "stem_cell": {
    "cell_type": "raw",
    "source": [],
    "metadata": {
     "collapsed": false
    }
   }
  }
 },
 "nbformat": 4,
 "nbformat_minor": 1
}