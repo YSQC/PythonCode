{
 "cells": [
  {
   "cell_type": "code",
   "execution_count": 65,
   "outputs": [],
   "source": [
    "import copy\n",
    "import  numpy as np\n",
    "import  pandas as pd"
   ],
   "metadata": {
    "collapsed": false,
    "pycharm": {
     "name": "#%%\n"
    }
   }
  },
  {
   "cell_type": "markdown",
   "source": [
    "## 列表的拷贝"
   ],
   "metadata": {
    "collapsed": false,
    "pycharm": {
     "name": "#%% md\n"
    }
   }
  },
  {
   "cell_type": "code",
   "execution_count": 66,
   "outputs": [],
   "source": [
    "a = [1, 2, 3, 4, ['A', 'B']]\n",
    " \n",
    "b = a                        # a,b指针地址相同,指向相同的值地址\n",
    "c = copy.copy(a)             # 浅拷贝\n",
    "d = copy.deepcopy(a)         # 深拷贝"
   ],
   "metadata": {
    "collapsed": false,
    "pycharm": {
     "name": "#%%\n"
    }
   }
  },
  {
   "cell_type": "code",
   "execution_count": 67,
   "outputs": [],
   "source": [
    "a.append(5) # 对a执行操作\n",
    "a[4].append('C')             # 对a中元素['A', 'B']执行操作"
   ],
   "metadata": {
    "collapsed": false,
    "pycharm": {
     "name": "#%%\n"
    }
   }
  },
  {
   "cell_type": "code",
   "execution_count": 68,
   "outputs": [
    {
     "name": "stdout",
     "output_type": "stream",
     "text": [
      "a =  [1, 2, 3, 4, ['A', 'B', 'C'], 5] 1881261336456\n",
      "b =  [1, 2, 3, 4, ['A', 'B', 'C'], 5] 1881261336456\n",
      "c =  [1, 2, 3, 4, ['A', 'B', 'C']] 1881247462600\n",
      "d =  [1, 2, 3, 4, ['A', 'B']] 1881266652296\n",
      "1881257711560 1881257711560\n",
      "1881257711560 1881253009480\n"
     ]
    }
   ],
   "source": [
    "print('a = ', a, id(a))\n",
    "print('b = ', b, id(b)) # 传对象的应用:a, b指向同一内存\n",
    "print('c = ', c, id(c)) # 浅拷贝:c开辟新的内存\n",
    "print('d = ', d, id(d)) # 深拷贝:d开辟新的内存\n",
    "print(id(a[4]), id(c[4])) # 浅拷贝:a[4], c[4]指向同一内存\n",
    "print(id(a[4]), id(d[4])) # 深拷贝:c[4]开辟新的内存"
   ],
   "metadata": {
    "collapsed": false,
    "pycharm": {
     "name": "#%%\n"
    }
   }
  },
  {
   "cell_type": "markdown",
   "source": [
    "## numpy数组拷贝"
   ],
   "metadata": {
    "collapsed": false,
    "pycharm": {
     "name": "#%% md\n"
    }
   }
  },
  {
   "cell_type": "code",
   "execution_count": 69,
   "outputs": [
    {
     "data": {
      "text/plain": "array([[list(['a', 'b']), 0],\n       [1, 2]], dtype=object)"
     },
     "execution_count": 69,
     "metadata": {},
     "output_type": "execute_result"
    }
   ],
   "source": [
    "arr_initial = np.array([[list('ab'), 0],\n",
    "                [1, 2]])\n",
    "\n",
    "arr_initial"
   ],
   "metadata": {
    "collapsed": false,
    "pycharm": {
     "name": "#%%\n"
    }
   }
  },
  {
   "cell_type": "code",
   "execution_count": 70,
   "outputs": [],
   "source": [
    "arr_copy0 = copy.copy(arr_initial) # 浅拷贝\n",
    "arr_copy1 = copy.copy(arr_initial)"
   ],
   "metadata": {
    "collapsed": false,
    "pycharm": {
     "name": "#%%\n"
    }
   }
  },
  {
   "cell_type": "code",
   "execution_count": 71,
   "outputs": [
    {
     "name": "stdout",
     "output_type": "stream",
     "text": [
      "[[list(['a', 'b']) 999]\n",
      " [1 2]]\n",
      "[[list(['a', 'b']) 0]\n",
      " [1 2]]\n",
      "1881256029840 1881259581072\n",
      "\n"
     ]
    }
   ],
   "source": [
    "arr_copy0[0][1] = 999\n",
    "print(arr_copy0)\n",
    "print(arr_initial) # arr_initia不变\n",
    "print(id(arr_copy0), id(arr_initial), end='\\n\\n') # 浅拷贝:arr_copy0指向新的内存地址"
   ],
   "metadata": {
    "collapsed": false,
    "pycharm": {
     "name": "#%%\n"
    }
   }
  },
  {
   "cell_type": "code",
   "execution_count": 72,
   "outputs": [
    {
     "name": "stdout",
     "output_type": "stream",
     "text": [
      "[[list(['A', 'b']) 0]\n",
      " [1 2]]\n",
      "[[list(['A', 'b']) 0]\n",
      " [1 2]]\n",
      "1881260837896 1881260837896\n"
     ]
    }
   ],
   "source": [
    "arr_copy1[0][0][0] = 'A' # arr_initia也发生改变(数组中包含python可变类型对象)\n",
    "print(arr_initial) \n",
    "print(arr_copy1)\n",
    "print(id(arr_copy1[0][0]),\n",
    "      id(arr_initial[0][0])) # 浅拷贝,arr_copy1[0][0], arr_initial[0][0]指向同一内存"
   ],
   "metadata": {
    "collapsed": false,
    "pycharm": {
     "name": "#%%\n"
    }
   }
  },
  {
   "cell_type": "code",
   "execution_count": 73,
   "metadata": {
    "pycharm": {
     "metadata": false,
     "name": "#%%\n"
    }
   },
   "outputs": [
    {
     "name": "stdout",
     "output_type": "stream",
     "text": [
      "[[list(['A', 'b']) 0]\n",
      " [1 2]]\n",
      "[[list(['a', 'b']) 0]\n",
      " [1 2]]\n",
      "1881255157448 1881252782536\n"
     ]
    }
   ],
   "source": [
    "arr_initial1 = np.array([[list('ab'), 0],\n",
    "                [1, 2]])\n",
    "arr_deepcopy = copy.deepcopy(arr_initial1) # 深拷贝\n",
    "\n",
    "arr_deepcopy[0][0][0] = 'A'\n",
    "print(arr_deepcopy)\n",
    "print(arr_initial1) # arr_initial1不变\n",
    "print(id(arr_deepcopy[0][0]), id(arr_initial1[0][0])) # 深拷贝:arr_initial1[0][0]指向新的内存地址"
   ]
  },
  {
   "cell_type": "markdown",
   "metadata": {
    "pycharm": {
     "is_executing": false,
     "metadata": false,
     "name": "#%% md\n"
    }
   },
   "source": [
    "## pandas数据类型拷贝"
   ]
  },
  {
   "cell_type": "code",
   "execution_count": 74,
   "outputs": [
    {
     "data": {
      "text/plain": "        C  D\nA  [a, b]  0\nB       1  2",
      "text/html": "<div>\n<style scoped>\n    .dataframe tbody tr th:only-of-type {\n        vertical-align: middle;\n    }\n\n    .dataframe tbody tr th {\n        vertical-align: top;\n    }\n\n    .dataframe thead th {\n        text-align: right;\n    }\n</style>\n<table border=\"1\" class=\"dataframe\">\n  <thead>\n    <tr style=\"text-align: right;\">\n      <th></th>\n      <th>C</th>\n      <th>D</th>\n    </tr>\n  </thead>\n  <tbody>\n    <tr>\n      <th>A</th>\n      <td>[a, b]</td>\n      <td>0</td>\n    </tr>\n    <tr>\n      <th>B</th>\n      <td>1</td>\n      <td>2</td>\n    </tr>\n  </tbody>\n</table>\n</div>"
     },
     "execution_count": 74,
     "metadata": {},
     "output_type": "execute_result"
    }
   ],
   "source": [
    "frame  = pd.DataFrame(np.array([[list('ab'), 0],\n",
    "                [1, 2]]), index=list('AB'), columns=list('CD'))\n",
    "frame"
   ],
   "metadata": {
    "collapsed": false,
    "pycharm": {
     "name": "#%%\n"
    }
   }
  },
  {
   "cell_type": "code",
   "execution_count": 75,
   "outputs": [],
   "source": [
    "frame_copy0 = copy.copy(frame)\n",
    "frame_copy1 = copy.copy(frame) # 浅拷贝"
   ],
   "metadata": {
    "collapsed": false,
    "pycharm": {
     "name": "#%%\n"
    }
   }
  },
  {
   "cell_type": "code",
   "execution_count": 76,
   "outputs": [
    {
     "name": "stdout",
     "output_type": "stream",
     "text": [
      "        C  D\n",
      "A  [a, b]  0\n",
      "B     999  2\n",
      "        C  D\n",
      "A  [a, b]  0\n",
      "B       1  2\n"
     ]
    }
   ],
   "source": [
    "frame_copy0.iloc[1, 0]= 999\n",
    "print(frame_copy0) \n",
    "print(frame) # frame不变(即不指向同一内存地址)"
   ],
   "metadata": {
    "collapsed": false,
    "pycharm": {
     "name": "#%%\n"
    }
   }
  },
  {
   "cell_type": "code",
   "execution_count": 77,
   "outputs": [
    {
     "name": "stdout",
     "output_type": "stream",
     "text": [
      "        C  D\n",
      "A  [A, b]  0\n",
      "B       1  2\n",
      "        C  D\n",
      "A  [A, b]  0\n",
      "B       1  2\n",
      "1881252784264 1881252784264\n"
     ]
    }
   ],
   "source": [
    "frame_copy1.iloc[0, 0][0] = 'A' # DataFrame中包含python可变类型 \n",
    "print(frame_copy1) \n",
    "print(frame) # frame发生改变\n",
    "print(id(frame.iloc[0, 0]), \n",
    "      id(frame_copy1.iloc[0, 0])) # 浅拷贝:frame.iloc[0, 0], frame_copy1.iloc[0, 0]指向同一内存"
   ],
   "metadata": {
    "collapsed": false,
    "pycharm": {
     "name": "#%%\n"
    }
   }
  },
  {
   "cell_type": "code",
   "execution_count": 78,
   "metadata": {
    "pycharm": {
     "metadata": false,
     "name": "#%%\n"
    }
   },
   "outputs": [],
   "source": [
    "frame1  = pd.DataFrame(np.array([[list('ab'), 0],\n",
    "                [1, 2]]), index=list('AB'), columns=list('CD'))\n",
    "frame_deepcopy = copy.deepcopy(frame1) # 深拷贝\n",
    "frame_deepcopy.iloc[0, 0][0] = 'AA' # DataFrame中包含python可变类型 "
   ]
  },
  {
   "cell_type": "code",
   "execution_count": 79,
   "outputs": [
    {
     "name": "stdout",
     "output_type": "stream",
     "text": [
      "         C  D\n",
      "A  [AA, b]  0\n",
      "B        1  2\n",
      "         C  D\n",
      "A  [AA, b]  0\n",
      "B        1  2\n",
      "\n",
      "1881265625480 1881265625480\n",
      "\n"
     ]
    }
   ],
   "source": [
    "print(frame_deepcopy) \n",
    "print(frame1, end='\\n\\n') # frame1依旧发生改变\n",
    "print(id(frame1.iloc[0, 0] ), \n",
    "      id(frame_deepcopy.iloc[0, 0] ),\n",
    "      end='\\n\\n') # 深拷贝:frame.iloc[0, 0],frame_copy1.iloc[0, 0]仍指向同一内存"
   ],
   "metadata": {
    "collapsed": false,
    "pycharm": {
     "name": "#%%\n"
    }
   }
  },
  {
   "cell_type": "code",
   "execution_count": 80,
   "outputs": [
    {
     "name": "stdout",
     "output_type": "stream",
     "text": [
      "          C  D\n",
      "A  [AAA, b]  0\n",
      "B         1  2\n",
      "        C  D\n",
      "A  [A, b]  0\n",
      "B       1  2\n",
      "1881252784264 1881253245128\n"
     ]
    }
   ],
   "source": [
    "'''\n",
    "如何解决???\n",
    "方法如下:\n",
    "'''\n",
    "frame_real_deepcopy =  pd.DataFrame(copy.deepcopy(frame1.values), # 深拷贝DataFrame.values\n",
    "                     index=frame.index, columns=frame.columns)\n",
    "frame_real_deepcopy.iloc[0, 0][0] = 'AAA'\n",
    "\n",
    "print(frame_real_deepcopy)\n",
    "print(frame) # frame不变\n",
    "print(id(frame.iloc[0, 0]), \n",
    "      id(frame_real_deepcopy.iloc[0, 0])) # 此时frame.iloc[0, 0],frame_real_deepcopy.iloc[0, 0]不再指向同一内存"
   ],
   "metadata": {
    "collapsed": false,
    "pycharm": {
     "name": "#%%\n"
    }
   }
  }
 ],
 "metadata": {
  "kernelspec": {
   "display_name": "Python 3",
   "language": "python",
   "name": "python3"
  },
  "language_info": {
   "codemirror_mode": {
    "name": "ipython",
    "version": 3
   },
   "file_extension": ".py",
   "mimetype": "text/x-python",
   "name": "python",
   "nbconvert_exporter": "python",
   "pygments_lexer": "ipython3",
   "version": "3.7.3"
  }
 },
 "nbformat": 4,
 "nbformat_minor": 1
}