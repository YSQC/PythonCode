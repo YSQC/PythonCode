{
 "cells": [
  {
   "cell_type": "code",
   "execution_count": 2,
   "outputs": [],
   "source": [
    "import copy\n",
    "import  numpy as np\n",
    "import  pandas as pd"
   ],
   "metadata": {
    "collapsed": false,
    "pycharm": {
     "name": "#%%\n",
     "is_executing": false
    }
   }
  },
  {
   "cell_type": "markdown",
   "source": [
    "## 列表的拷贝"
   ],
   "metadata": {
    "collapsed": false,
    "pycharm": {
     "name": "#%% md\n"
    }
   }
  },
  {
   "cell_type": "code",
   "execution_count": 5,
   "outputs": [],
   "source": [
    "a = [1, 2, 3, 4, ['A', 'B']]\n",
    " \n",
    "b = a                        # 赋值,传对象的引用\n",
    "c = copy.copy(a)             # 浅拷贝\n",
    "d = copy.deepcopy(a)         # 深拷贝\n",
    " "
   ],
   "metadata": {
    "collapsed": false,
    "pycharm": {
     "name": "#%%\n",
     "is_executing": false
    }
   }
  },
  {
   "cell_type": "code",
   "execution_count": 6,
   "outputs": [],
   "source": [
    "a.append(5) # 对a执行操作\n",
    "a[4].append('C')             # 对a中元素['A', 'B']执行操作\n",
    " "
   ],
   "metadata": {
    "collapsed": false,
    "pycharm": {
     "name": "#%%\n",
     "is_executing": false
    }
   }
  },
  {
   "cell_type": "code",
   "execution_count": 9,
   "outputs": [
    {
     "name": "stdout",
     "text": [
      "a =  [1, 2, 3, 4, ['A', 'B', 'C'], 5] 2267995981000\n",
      "b =  [1, 2, 3, 4, ['A', 'B', 'C'], 5] 2267995981000\n",
      "c =  [1, 2, 3, 4, ['A', 'B', 'C']] 2267996052104\n",
      "d =  [1, 2, 3, 4, ['A', 'B']] 2267995137096\n",
      "2267995937928 2267995937928\n",
      "2267995937928 2267995970568\n"
     ],
     "output_type": "stream"
    }
   ],
   "source": [
    " \n",
    "print('a = ', a, id(a))\n",
    "print('b = ', b, id(b)) # 传对象的应用:a, b指向同一内存\n",
    "print('c = ', c, id(c)) # 浅拷贝:c开辟新的内存\n",
    "print('d = ', d, id(d)) # 深拷贝:d开辟新的内存\n",
    "print(id(a[4]), id(c[4])) # 浅拷贝:a[4], c[4]指向同一内存\n",
    "print(id(a[4]), id(d[4])) # 深拷贝:c[4]开辟新的内存"
   ],
   "metadata": {
    "collapsed": false,
    "pycharm": {
     "name": "#%%\n",
     "is_executing": false
    }
   }
  },
  {
   "cell_type": "markdown",
   "source": [
    "## numpy数组拷贝"
   ],
   "metadata": {
    "collapsed": false,
    "pycharm": {
     "name": "#%% md\n"
    }
   }
  },
  {
   "cell_type": "code",
   "execution_count": 12,
   "outputs": [
    {
     "data": {
      "text/plain": "array([[list(['a', 'b']), 0],\n       [1, 2]], dtype=object)"
     },
     "metadata": {},
     "output_type": "execute_result",
     "execution_count": 12
    }
   ],
   "source": [
    "arr_initial = np.array([[list('ab'), 0],\n",
    "                [1, 2]])\n",
    "\n",
    "arr_initial"
   ],
   "metadata": {
    "collapsed": false,
    "pycharm": {
     "name": "#%%\n",
     "is_executing": false
    }
   }
  },
  {
   "cell_type": "code",
   "execution_count": 13,
   "outputs": [],
   "source": [
    "arr_copy0 = copy.copy(arr_initial) # 浅拷贝\n",
    "arr_copy1 = copy.copy(arr_initial)"
   ],
   "metadata": {
    "collapsed": false,
    "pycharm": {
     "name": "#%%\n",
     "is_executing": false
    }
   }
  },
  {
   "cell_type": "code",
   "execution_count": 21,
   "outputs": [
    {
     "name": "stdout",
     "text": [
      "[[list(['A', 'b']) 999]\n",
      " [1 2]]\n",
      "[[list(['A', 'b']) 0]\n",
      " [1 2]]\n",
      "2267994341584 2267994555216\n",
      "\n"
     ],
     "output_type": "stream"
    }
   ],
   "source": [
    "arr_copy0[0][1] = 999\n",
    "print(arr_copy0)\n",
    "print(arr_initial) # arr_initia不变\n",
    "print(id(arr_copy0), id(arr_initial), end='\\n\\n') # 浅拷贝:arr_copy0开辟新的内存"
   ],
   "metadata": {
    "collapsed": false,
    "pycharm": {
     "name": "#%%\n",
     "is_executing": false
    }
   }
  },
  {
   "cell_type": "code",
   "execution_count": 23,
   "outputs": [
    {
     "name": "stdout",
     "text": [
      "[[list(['A', 'b']) 0]\n",
      " [1 2]]\n",
      "[[list(['A', 'b']) 0]\n",
      " [1 2]]\n",
      "2267996311816 2267996311816\n"
     ],
     "output_type": "stream"
    }
   ],
   "source": [
    "arr_copy1[0][0][0] = 'A' # arr_initia也发生改变(数组中包含python可变类型)\n",
    "print(arr_initial) \n",
    "print(arr_copy1)\n",
    "print(id(arr_copy1[0][0]),\n",
    "      id(arr_initial[0][0])) # 浅拷贝,arr_copy1[0][0], arr_initial[0][0]指向同一内存"
   ],
   "metadata": {
    "collapsed": false,
    "pycharm": {
     "name": "#%%\n",
     "is_executing": false
    }
   }
  },
  {
   "cell_type": "code",
   "execution_count": 30,
   "metadata": {
    "pycharm": {
     "is_executing": false,
     "metadata": false,
     "name": "#%%\n"
    }
   },
   "outputs": [
    {
     "name": "stdout",
     "text": [
      "[[list(['A', 'b']) 0]\n",
      " [1 2]]\n",
      "[[list(['a', 'b']) 0]\n",
      " [1 2]]\n",
      "2268006819784 2268006724104\n"
     ],
     "output_type": "stream"
    }
   ],
   "source": [
    "arr_initial1 = np.array([[list('ab'), 0],\n",
    "                [1, 2]])\n",
    "arr_deepcopy = copy.deepcopy(arr_initial1) # 深拷贝\n",
    "\n",
    "arr_deepcopy[0][0][0] = 'A'\n",
    "print(arr_deepcopy)\n",
    "print(arr_initial1) # arr_initial1不变\n",
    "print(id(arr_deepcopy[0][0]), id(arr_initial1[0][0])) # 深拷贝:arr_initial1[0][0]开辟新的内存"
   ]
  },
  {
   "cell_type": "markdown",
   "metadata": {
    "pycharm": {
     "is_executing": false,
     "metadata": false,
     "name": "#%% md\n"
    }
   },
   "source": [
    "## pandas数据类型拷贝"
   ]
  },
  {
   "cell_type": "code",
   "execution_count": 31,
   "outputs": [
    {
     "data": {
      "text/plain": "        C  D\nA  [a, b]  0\nB       1  2",
      "text/html": "<div>\n<style scoped>\n    .dataframe tbody tr th:only-of-type {\n        vertical-align: middle;\n    }\n\n    .dataframe tbody tr th {\n        vertical-align: top;\n    }\n\n    .dataframe thead th {\n        text-align: right;\n    }\n</style>\n<table border=\"1\" class=\"dataframe\">\n  <thead>\n    <tr style=\"text-align: right;\">\n      <th></th>\n      <th>C</th>\n      <th>D</th>\n    </tr>\n  </thead>\n  <tbody>\n    <tr>\n      <td>A</td>\n      <td>[a, b]</td>\n      <td>0</td>\n    </tr>\n    <tr>\n      <td>B</td>\n      <td>1</td>\n      <td>2</td>\n    </tr>\n  </tbody>\n</table>\n</div>"
     },
     "metadata": {},
     "output_type": "execute_result",
     "execution_count": 31
    }
   ],
   "source": [
    "frame  = pd.DataFrame(np.array([[list('ab'), 0],\n",
    "                [1, 2]]), index=list('AB'), columns=list('CD'))\n",
    "frame"
   ],
   "metadata": {
    "collapsed": false,
    "pycharm": {
     "name": "#%%\n",
     "is_executing": false
    }
   }
  },
  {
   "cell_type": "code",
   "execution_count": 32,
   "outputs": [],
   "source": [
    "frame_copy0 = copy.copy(frame)\n",
    "frame_copy1 = copy.copy(frame) # 浅拷贝"
   ],
   "metadata": {
    "collapsed": false,
    "pycharm": {
     "name": "#%%\n",
     "is_executing": false
    }
   }
  },
  {
   "cell_type": "code",
   "execution_count": 33,
   "outputs": [
    {
     "name": "stdout",
     "text": [
      "        C  D\n",
      "A  [a, b]  0\n",
      "B     999  2\n",
      "        C  D\n",
      "A  [a, b]  0\n",
      "B       1  2\n"
     ],
     "output_type": "stream"
    }
   ],
   "source": [
    "frame_copy0.iloc[1, 0]= 999\n",
    "print(frame_copy0) \n",
    "print(frame) # frame不变(即不指向同一内存地址)"
   ],
   "metadata": {
    "collapsed": false,
    "pycharm": {
     "name": "#%%\n",
     "is_executing": false
    }
   }
  },
  {
   "cell_type": "code",
   "execution_count": 35,
   "outputs": [
    {
     "name": "stdout",
     "text": [
      "        C  D\n",
      "A  [A, b]  0\n",
      "B       1  2\n",
      "        C  D\n",
      "A  [A, b]  0\n",
      "B       1  2\n",
      "2268006963720 2268006963720\n"
     ],
     "output_type": "stream"
    }
   ],
   "source": [
    "frame_copy1.iloc[0, 0][0] = 'A' # DataFrame中包含python可变类型 \n",
    "print(frame_copy1) \n",
    "print(frame) # frame发生改变\n",
    "print(id(frame.iloc[0, 0]), \n",
    "      id(frame_copy1.iloc[0, 0])) # 浅拷贝:frame.iloc[0, 0], frame_copy1.iloc[0, 0]指向同一内存"
   ],
   "metadata": {
    "collapsed": false,
    "pycharm": {
     "name": "#%%\n",
     "is_executing": false
    }
   }
  },
  {
   "cell_type": "code",
   "execution_count": 37,
   "metadata": {
    "pycharm": {
     "is_executing": false,
     "metadata": false,
     "name": "#%%\n"
    }
   },
   "outputs": [],
   "source": [
    "frame1  = pd.DataFrame(np.array([[list('ab'), 0],\n",
    "                [1, 2]]), index=list('AB'), columns=list('CD'))\n",
    "frame_deepcopy = copy.deepcopy(frame1) # 深拷贝\n",
    "frame_deepcopy.iloc[0, 0][0] = 'AA' # DataFrame中包含python可变类型 "
   ]
  },
  {
   "cell_type": "code",
   "execution_count": 39,
   "outputs": [
    {
     "name": "stdout",
     "text": [
      "         C  D\n",
      "A  [AA, b]  0\n",
      "B        1  2\n",
      "         C  D\n",
      "A  [AA, b]  0\n",
      "B        1  2\n",
      "\n",
      "2268014413320 2268014413320\n",
      "\n"
     ],
     "output_type": "stream"
    }
   ],
   "source": [
    "print(frame_deepcopy) \n",
    "print(frame1, end='\\n\\n') # frame1依旧发生改变\n",
    "print(id(frame1.iloc[0, 0] ), \n",
    "      id(frame_deepcopy.iloc[0, 0] ),\n",
    "      end='\\n\\n') # 深拷贝:frame.iloc[0, 0],frame_copy1.iloc[0, 0]仍然指向同一内存"
   ],
   "metadata": {
    "collapsed": false,
    "pycharm": {
     "name": "#%%\n",
     "is_executing": false
    }
   }
  },
  {
   "cell_type": "code",
   "execution_count": 40,
   "outputs": [
    {
     "name": "stdout",
     "text": [
      "          C  D\n",
      "A  [AAA, b]  0\n",
      "B         1  2\n",
      "        C  D\n",
      "A  [A, b]  0\n",
      "B       1  2\n",
      "2268006963720 2268014980872\n"
     ],
     "output_type": "stream"
    }
   ],
   "source": [
    "'''\n",
    "如何解决???\n",
    "方法如下:\n",
    "'''\n",
    "frame_real_deepcopy =  pd.DataFrame(copy.deepcopy(frame1.values), # 深拷贝DataFrame.values\n",
    "                     index=frame.index, columns=frame.columns)\n",
    "frame_real_deepcopy.iloc[0, 0][0] = 'AAA'\n",
    "\n",
    "print(frame_real_deepcopy)\n",
    "print(frame) # frame不变\n",
    "print(id(frame.iloc[0, 0]), \n",
    "      id(frame_real_deepcopy.iloc[0, 0])) # 此时frame.iloc[0, 0],frame_real_deepcopy.iloc[0, 0]不再指向同一内存"
   ],
   "metadata": {
    "collapsed": false,
    "pycharm": {
     "name": "#%%\n",
     "is_executing": false
    }
   }
  },
  {
   "cell_type": "code",
   "execution_count": null,
   "outputs": [],
   "source": [
    "\n"
   ],
   "metadata": {
    "collapsed": false,
    "pycharm": {
     "name": "#%%\n"
    }
   }
  }
 ],
 "metadata": {
  "kernelspec": {
   "display_name": "Python 3",
   "language": "python",
   "name": "python3"
  },
  "language_info": {
   "codemirror_mode": {
    "name": "ipython",
    "version": 3
   },
   "file_extension": ".py",
   "mimetype": "text/x-python",
   "name": "python",
   "nbconvert_exporter": "python",
   "pygments_lexer": "ipython3",
   "version": "3.7.3"
  },
  "pycharm": {
   "stem_cell": {
    "cell_type": "raw",
    "source": [],
    "metadata": {
     "collapsed": false
    }
   }
  }
 },
 "nbformat": 4,
 "nbformat_minor": 1
}