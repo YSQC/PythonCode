{
 "cells": [
  {
   "cell_type": "markdown",
   "metadata": {
    "collapsed": true,
    "pycharm": {
     "name": "#%% md\n"
    }
   },
   "source": [
    "## 引用传递\n",
    "<img src=\"https://github.com/duanmengmengchongya/PythonCodePicture/blob/master/quote.png?raw=true\" style=\"width:500px;height:300px\">\n",
    "\n",
    "## 浅拷贝\n",
    "<img src=\"https://github.com/duanmengmengchongya/PythonCodePicture/blob/master/copy.png?raw=true\" style=\"width:500px;height:300px\">\n",
    "\n",
    "## 深拷贝\n",
    "<img src=\"https://github.com/duanmengmengchongya/PythonCodePicture/blob/master/deepcopy.png?raw=true\" style=\"width:500px;height:300px\">"
   ]
  },
  {
   "cell_type": "code",
   "execution_count": 13,
   "metadata": {
    "pycharm": {
     "is_executing": false,
     "name": "#%%\n"
    }
   },
   "outputs": [
    {
     "name": "stdout",
     "output_type": "stream",
     "text": [
      "2461667603208\n",
      "2461667603208\n",
      "\n",
      "2461668538632\n",
      "2461668538632\n",
      "\n",
      "2461629447792\n",
      "2461629447792\n"
     ]
    }
   ],
   "source": [
    "import copy\n",
    "\n",
    "warmtones= [['_red', '_green', '_blue'], ['_red', '_green', '_blue']]\n",
    "paltte_quote = warmtones # 赋值,传对象的引用\n",
    "\n",
    "print(id(warmtones))\n",
    "print(id(paltte_quote), end='\\n\\n') # 指向相同的内存地址\n",
    "\n",
    "print(id(warmtones[0]))\n",
    "print(id(paltte_quote[0]), end='\\n\\n') # 指向相同的内存地址\n",
    "\n",
    "print(id(warmtones[0][0]))\n",
    "print(id(paltte_quote[0][0])) # 指向相同的内存地址"
   ]
  },
  {
   "cell_type": "code",
   "execution_count": 14,
   "metadata": {
    "pycharm": {
     "is_executing": false,
     "name": "#%%\n"
    }
   },
   "outputs": [
    {
     "name": "stdout",
     "output_type": "stream",
     "text": [
      "2461667603208\n",
      "2461676458952\n",
      "\n",
      "2461668538632\n",
      "2461668538632\n",
      "\n",
      "2461629447792\n",
      "2461629447792\n"
     ]
    }
   ],
   "source": [
    "paltte_copy = copy.copy(warmtones) # 浅拷贝(修改最外层内存指向)\n",
    "\n",
    "print(id(warmtones))\n",
    "print(id(paltte_copy), end='\\n\\n') # 指向不同的内存地址\n",
    "\n",
    "print(id(warmtones[0]))\n",
    "print(id(paltte_copy[0]), end='\\n\\n') # 指向相同的内存地址\n",
    "\n",
    "print(id(warmtones[0][0]))\n",
    "print(id(paltte_copy[0][0])) # 指向相同的内存地址\n"
   ]
  },
  {
   "cell_type": "code",
   "execution_count": 15,
   "metadata": {
    "pycharm": {
     "is_executing": false,
     "name": "#%%\n"
    }
   },
   "outputs": [
    {
     "name": "stdout",
     "output_type": "stream",
     "text": [
      "2461667603208\n",
      "2461668677576\n",
      "\n",
      "2461668538632\n",
      "2461668305352\n",
      "\n",
      "2461629447792\n",
      "2461629447792\n"
     ]
    }
   ],
   "source": [
    "paltte_deep_copy = copy.deepcopy(warmtones) # 深拷贝(修改内部第一层内存指向)\n",
    "\n",
    "print(id(warmtones))\n",
    "print(id(paltte_deep_copy), end='\\n\\n') # 指向不同的内存地址\n",
    "\n",
    "print(id(warmtones[0]))\n",
    "print(id(paltte_deep_copy[0]), end='\\n\\n') # 指向不同的内存地址\n",
    "\n",
    "print(id(warmtones[0][0]))\n",
    "print(id(paltte_deep_copy[0][0])) # 指向相同的内存地址(第二层)\n",
    "\n"
   ]
  }
 ],
 "metadata": {
  "kernelspec": {
   "display_name": "Python 3",
   "language": "python",
   "name": "python3"
  },
  "language_info": {
   "codemirror_mode": {
    "name": "ipython",
    "version": 3
   },
   "file_extension": ".py",
   "mimetype": "text/x-python",
   "name": "python",
   "nbconvert_exporter": "python",
   "pygments_lexer": "ipython3",
   "version": "3.7.7"
  },
  "pycharm": {
   "stem_cell": {
    "cell_type": "raw",
    "metadata": {
     "collapsed": false
    },
    "source": []
   }
  },
  "toc": {
   "base_numbering": 1,
   "nav_menu": {},
   "number_sections": true,
   "sideBar": true,
   "skip_h1_title": false,
   "title_cell": "Table of Contents",
   "title_sidebar": "Contents",
   "toc_cell": false,
   "toc_position": {},
   "toc_section_display": true,
   "toc_window_display": false
  }
 },
 "nbformat": 4,
 "nbformat_minor": 1
}
