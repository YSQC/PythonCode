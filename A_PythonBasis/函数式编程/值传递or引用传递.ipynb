{
 "cells": [
  {
   "cell_type": "markdown",
   "source": [
    "原理请参考<<\"可变类型与不可变类型的内存指向\">>"
   ],
   "metadata": {
    "collapsed": false,
    "pycharm": {
     "name": "#%% md\n",
     "is_executing": false
    }
   }
  },
  {
   "cell_type": "code",
   "execution_count": null,
   "outputs": [],
   "source": [
    "l = [1, 2, 3]\n",
    "print(id(l))\n",
    "\n",
    "def a(x):\n",
    "  print(id(x))\n",
    "  x.pop()\n",
    "  print(x)\n",
    "  print(id(x)) # 内存指向不变\n",
    "  \n",
    "  x[0] = 'A'\n",
    "  print(x)\n",
    "  print(id(x)) # 内存指向不变\n",
    "  \n",
    "  x += ['q']\n",
    "  print(x)\n",
    "  print(id(x)) # 内存指向不变\n",
    "  \n",
    "  x = x + ['s']\n",
    "  print(x)\n",
    "  print(id(x)) # 内存指向改变\n",
    "  \n",
    "a(l)\n",
    "print(l)"
   ],
   "metadata": {
    "collapsed": false,
    "pycharm": {
     "name": "#%%\n"
    }
   }
  },
  {
   "cell_type": "code",
   "execution_count": 22,
   "outputs": [
    {
     "name": "stdout",
     "text": [
      "2273165591280\n2273165591280\n2273165576304\n2273167251544\n2273165591280\nduanchao\n"
     ],
     "output_type": "stream"
    }
   ],
   "source": [
    "m = 'duanchao'\n",
    "print(id(m))\n",
    "\n",
    "def b(y):\n",
    "    print(id(y))\n",
    "    m = 'duanmengmeng' # 创建了一个新对象\n",
    "    print(id(m))\n",
    "    m += ' chongya' # 创建了一个新对象   \n",
    "    print(id(m))\n",
    "    \n",
    "b(m)    \n",
    "print(id(m))\n",
    "print(m) # m(不可变对象)不变(内存指向发送了改变)"
   ],
   "metadata": {
    "collapsed": false,
    "pycharm": {
     "name": "#%%\n",
     "is_executing": false
    }
   }
  },
  {
   "cell_type": "code",
   "execution_count": null,
   "outputs": [],
   "source": [
    "\n"
   ],
   "metadata": {
    "collapsed": false,
    "pycharm": {
     "name": "#%%\n"
    }
   }
  }
 ],
 "metadata": {
  "kernelspec": {
   "display_name": "Python 3",
   "language": "python",
   "name": "python3"
  },
  "language_info": {
   "codemirror_mode": {
    "name": "ipython",
    "version": 2
   },
   "file_extension": ".py",
   "mimetype": "text/x-python",
   "name": "python",
   "nbconvert_exporter": "python",
   "pygments_lexer": "ipython2",
   "version": "2.7.6"
  },
  "pycharm": {
   "stem_cell": {
    "cell_type": "raw",
    "source": [],
    "metadata": {
     "collapsed": false
    }
   }
  }
 },
 "nbformat": 4,
 "nbformat_minor": 0
}