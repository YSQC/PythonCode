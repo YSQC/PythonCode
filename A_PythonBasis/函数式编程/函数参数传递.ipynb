{
 "cells": [
  {
   "cell_type": "code",
   "execution_count": 9,
   "outputs": [
    {
     "name": "stdout",
     "text": [
      "duanmengmeng my love sure\n",
      "None\n"
     ],
     "output_type": "stream"
    }
   ],
   "source": [
    "def my_function(name, word='very gooe'): # 默认参数\n",
    "    \"\"\"函数文档是为了让别人可以更好的理解你的函数(限定在三引号中)\"\"\"\n",
    "    print(name + \" my love \" + word)\n",
    "    return # 若没有return语句或return没有返回值,则返回None\n",
    "\n",
    "my_function('duanmengmeng', 'sure') # 位置参数\n",
    "my_function(word=\" sure\", name=\"duanmengmeng\") # 关键字参数\n",
    "my_function('duanchao') # 如果没有传递参数,则会使用默认参数\n",
    "print(my_function.__doc__) # 调用函数的默认属性__doc__查看函数文档"
   ],
   "metadata": {
    "collapsed": false,
    "pycharm": {
     "name": "#%%\n",
     "is_executing": false
    }
   }
  },
  {
   "cell_type": "code",
   "execution_count": 6,
   "metadata": {
    "pycharm": {
     "is_executing": false
    }
   },
   "outputs": [],
   "source": [
    "# 函数参数位置:1,一般参数2.默认参数3.打包参数\n",
    "def f(str1='duanchao', *args, **kwargs): # 打包参数\n",
    "    # 如果参数中带有可变参数,那么可将其他参数设置为默认参数,这样不易出错\n",
    "    print(str1)\n",
    "    print(args)\n",
    "    print(kwargs, end='\\n\\n')\n",
    " \n",
    "l = [1, 2, 3]\n",
    "t = [4, 5, 6]\n",
    "d = {\"a\":7, \"b\":8, \"c\":9}"
   ]
  },
  {
   "cell_type": "code",
   "execution_count": 3,
   "outputs": [
    {
     "name": "stdout",
     "text": [
      "duanchao\n()\n{}\n\n1\n(2,)\n{}\n\n1\n(2, 3, 'python')\n{}\n\npython\n()\n{'a': 1, 'b': 2, 'c': 3}\n\n"
     ],
     "output_type": "stream"
    }
   ],
   "source": "f()\nf(1, 2)\nf(1, 2, 3, \"python\")\nf(\"python\", a=1, b=2, c=3)",
   "metadata": {
    "pycharm": {
     "metadata": false,
     "name": "#%%\n",
     "is_executing": false
    }
   }
  },
  {
   "cell_type": "code",
   "execution_count": 4,
   "outputs": [
    {
     "name": "stdout",
     "text": [
      "python\n([1, 2, 3], {'a': 7, 'b': 8, 'c': 9})\n{}\n\npython\n(4, 5, 6)\n{}\n\npython\n(1, 2, 3)\n{'a': 7, 'b': 8, 'c': 9}\n\npython\n()\n{'q': 'winning', 'a': 7, 'b': 8, 'c': 9}\n\n"
     ],
     "output_type": "stream"
    }
   ],
   "source": "f(\"python\", l, d)\nf(\"python\", *t)\nf(\"python\", *l, **d) # 解包\nf(\"python\", q=\"winning\", **d)",
   "metadata": {
    "pycharm": {
     "metadata": false,
     "name": "#%%\n",
     "is_executing": false
    }
   }
  },
  {
   "cell_type": "code",
   "execution_count": null,
   "outputs": [],
   "source": "\n",
   "metadata": {
    "pycharm": {
     "metadata": false,
     "name": "#%%\n"
    }
   }
  }
 ],
 "metadata": {
  "kernelspec": {
   "name": "python3",
   "language": "python",
   "display_name": "Python 3"
  },
  "language_info": {
   "codemirror_mode": {
    "name": "ipython",
    "version": 2
   },
   "file_extension": ".py",
   "mimetype": "text/x-python",
   "name": "python",
   "nbconvert_exporter": "python",
   "pygments_lexer": "ipython2",
   "version": "2.7.6"
  },
  "pycharm": {
   "stem_cell": {
    "cell_type": "raw",
    "source": [],
    "metadata": {
     "collapsed": false
    }
   }
  }
 },
 "nbformat": 4,
 "nbformat_minor": 0
}