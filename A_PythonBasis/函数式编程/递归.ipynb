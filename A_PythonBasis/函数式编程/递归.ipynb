{
 "cells": [
  {
   "cell_type": "code",
   "execution_count": null,
   "outputs": [],
   "source": [
    "import sys\n",
    "sys.setrecursionlimit(300) # 设置递归深度"
   ],
   "metadata": {
    "collapsed": false,
    "pycharm": {
     "name": "#%%\n"
    }
   }
  },
  {
   "cell_type": "code",
   "execution_count": 10,
   "metadata": {
    "pycharm": {
     "is_executing": false
    }
   },
   "outputs": [
    {
     "name": "stdout",
     "text": [
      "5的阶乘是:120递归实现\n"
     ],
     "output_type": "stream"
    }
   ],
   "source": [
    "# 递归实现阶乘\n",
    "def recursion(n): \n",
    "    if n == 1:\n",
    "        return 1\n",
    "    \n",
    "    return n * recursion(n - 1)\n",
    "\n",
    "print('%d的阶乘是:%d递归实现' % (5, recursion(5)))"
   ]
  },
  {
   "cell_type": "code",
   "execution_count": 11,
   "outputs": [
    {
     "name": "stdout",
     "text": [
      "5的阶乘是:120非递归实现\n"
     ],
     "output_type": "stream"
    }
   ],
   "source": "# 非递归实现阶乘\ndef norecursion(n): \n    s = n\n    for i in range(1, n):\n        s = s*i\n        \n    return s\n\nprint('%d的阶乘是:%d非递归实现' % (5, norecursion(5)))",
   "metadata": {
    "pycharm": {
     "metadata": false,
     "name": "#%%\n",
     "is_executing": false
    }
   }
  },
  {
   "cell_type": "code",
   "execution_count": 12,
   "metadata": {
    "pycharm": {
     "is_executing": false
    }
   },
   "outputs": [
    {
     "name": "stdout",
     "text": [
      "12个月后小兔子的数量为: 3\n"
     ],
     "output_type": "stream"
    }
   ],
   "source": "# 斐波拉契数列的递归实现\ndef FibonaccRecursion(the_month):\n    if the_month < 1:\n        print(\"你的输入有误\")\n        return -1\n    if the_month == 1 or the_month ==2:\n        return 1\n    \n    return FibonaccRecursion(the_month-1) + \\\n           FibonaccRecursion(the_month-2)\n\nthis_numbers = FibonaccRecursion(4)\nprint(\"12个月后小兔子的数量为:\",this_numbers)"
  },
  {
   "cell_type": "code",
   "execution_count": 13,
   "metadata": {
    "pycharm": {
     "is_executing": false
    }
   },
   "outputs": [
    {
     "name": "stdout",
     "text": [
      "x",
      " --> z\nx --> y\nz --> y\nx --> z\ny --> x\ny --> z\nx --> z\n"
     ],
     "output_type": "stream"
    }
   ],
   "source": "# 汉诺塔的递归实现\ndef hanoi(n, x, y, z):\n\tif n == 1:\n\t\tprint(x,'-->',z)\n\telse:\n\t\thanoi(n - 1, x, z, y) # 将前n-1个盘子移动从x移动到y上\n\t\tprint(x, '-->', z) # 将最底下的盘子从x移动到z上\n\t\thanoi(n-1, y, x, z) # 将y上的n-1个盘子移动到z上\n\nn = 3\nhanoi(n, 'x', 'y', 'z')\n"
  },
  {
   "cell_type": "code",
   "execution_count": null,
   "outputs": [],
   "source": "\n",
   "metadata": {
    "pycharm": {
     "metadata": false,
     "name": "#%%\n"
    }
   }
  }
 ],
 "metadata": {
  "kernelspec": {
   "name": "python3",
   "language": "python",
   "display_name": "Python 3"
  },
  "language_info": {
   "codemirror_mode": {
    "name": "ipython",
    "version": 2
   },
   "file_extension": ".py",
   "mimetype": "text/x-python",
   "name": "python",
   "nbconvert_exporter": "python",
   "pygments_lexer": "ipython2",
   "version": "2.7.6"
  },
  "pycharm": {
   "stem_cell": {
    "cell_type": "raw",
    "source": [],
    "metadata": {
     "collapsed": false
    }
   }
  }
 },
 "nbformat": 4,
 "nbformat_minor": 0
}