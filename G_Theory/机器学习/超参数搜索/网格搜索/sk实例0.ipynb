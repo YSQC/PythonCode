{
 "cells": [
  {
   "cell_type": "code",
   "execution_count": 1,
   "metadata": {
    "collapsed": true,
    "pycharm": {
     "is_executing": false
    }
   },
   "outputs": [],
   "source": [
    "from sklearn import datasets\n",
    "from sklearn.model_selection import train_test_split\n",
    "from sklearn.neighbors import KNeighborsClassifier\n",
    "from sklearn.model_selection import GridSearchCV\n",
    "from sklearn.metrics import  mean_absolute_error\n",
    "from sklearn.metrics import  mean_squared_error\n",
    "from sklearn.metrics import  r2_score\n",
    "from sklearn.metrics import  make_scorer\n",
    "import numpy as np\n",
    "import warnings\n",
    "warnings.filterwarnings(\"ignore\")"
   ]
  },
  {
   "cell_type": "code",
   "execution_count": 2,
   "outputs": [],
   "source": [
    "digits = datasets.load_digits()\n",
    "X = digits.data\n",
    "y = digits.target\n",
    "X_train, X_test, y_train, y_test = train_test_split(X, y, test_size=0.2, random_state=666)"
   ],
   "metadata": {
    "collapsed": false,
    "pycharm": {
     "name": "#%%\n",
     "is_executing": false
    }
   }
  },
  {
   "cell_type": "code",
   "execution_count": 3,
   "outputs": [],
   "source": [
    "knn_clf = KNeighborsClassifier() # 对k近邻算法的超参数进行网格搜索"
   ],
   "metadata": {
    "collapsed": false,
    "pycharm": {
     "name": "#%%\n",
     "is_executing": false
    }
   }
  },
  {
   "cell_type": "code",
   "execution_count": 4,
   "outputs": [],
   "source": [
    "param_grid = [\n",
    "    {\n",
    "        'weights': ['uniform', 'distance'],\n",
    "        'n_neighbors': [i for i in range(1, 5)], \n",
    "        'p': [i for i in range(1, 3)]\n",
    "    }\n",
    "] # 共有2*5*3=30种组合方式"
   ],
   "metadata": {
    "collapsed": false,
    "pycharm": {
     "name": "#%%\n",
     "is_executing": false
    }
   }
  },
  {
   "cell_type": "code",
   "execution_count": 5,
   "outputs": [
    {
     "name": "stdout",
     "text": [
      "score: 训练器的score方法\n",
      "KNeighborsClassifier(algorithm='auto', leaf_size=30, metric='minkowski',\n",
      "                     metric_params=None, n_jobs=None, n_neighbors=1, p=2,\n",
      "                     weights='uniform')\n",
      "0.9853862212943633\n",
      "{'n_neighbors': 1, 'p': 2, 'weights': 'uniform'}\n",
      "\n",
      "score= mean_squared_error\n",
      "KNeighborsClassifier(algorithm='auto', leaf_size=30, metric='minkowski',\n",
      "                     metric_params=None, n_jobs=None, n_neighbors=2, p=1,\n",
      "                     weights='uniform')\n",
      "0.871955462769659\n",
      "{'n_neighbors': 2, 'p': 1, 'weights': 'uniform'}\n",
      "\n",
      "score= mean_absolute_error\n",
      "KNeighborsClassifier(algorithm='auto', leaf_size=30, metric='minkowski',\n",
      "                     metric_params=None, n_jobs=None, n_neighbors=2, p=1,\n",
      "                     weights='uniform')\n",
      "0.14683368128044538\n",
      "{'n_neighbors': 2, 'p': 1, 'weights': 'uniform'}\n",
      "\n",
      "score= r2_score\n",
      "KNeighborsClassifier(algorithm='auto', leaf_size=30, metric='minkowski',\n",
      "                     metric_params=None, n_jobs=None, n_neighbors=1, p=2,\n",
      "                     weights='uniform')\n",
      "0.9459394088390879\n",
      "{'n_neighbors': 1, 'p': 2, 'weights': 'uniform'}\n",
      "\n",
      "score= my_custom_loss_func\n",
      "KNeighborsClassifier(algorithm='auto', leaf_size=30, metric='minkowski',\n",
      "                     metric_params=None, n_jobs=None, n_neighbors=2, p=2,\n",
      "                     weights='uniform')\n",
      "2.1032112566000527\n",
      "{'n_neighbors': 2, 'p': 2, 'weights': 'uniform'}\n",
      "\n"
     ],
     "output_type": "stream"
    }
   ],
   "source": [
    "title = 'learning curve for LinearRegression'\n",
    "\n",
    "def my_custom_loss_func(y_true, y_pred):\n",
    "     diff = np.abs(y_true - y_pred).max()\n",
    "     return np.log1p(diff) # 必须返回一个浮点数\n",
    "\n",
    "score_list = [None, mean_squared_error, mean_absolute_error, r2_score,\n",
    "              my_custom_loss_func] # 自定义Score function or function function\n",
    "\n",
    "for i in score_list:\n",
    "    if i:\n",
    "        print('score=', i.__name__)\n",
    "        grid_search = GridSearchCV(knn_clf, param_grid, cv=5, n_jobs=-1, \n",
    "                           scoring=make_scorer(i))\n",
    "        grid_search.fit(X_train, y_train)\n",
    "        print(grid_search.best_estimator_)\n",
    "        print(grid_search.best_score_)\n",
    "        print(grid_search.best_params_, end='\\n\\n') \n",
    "    else:\n",
    "        print('score:', '训练器的score方法')\n",
    "        grid_search = GridSearchCV(knn_clf, # 训练器对象\n",
    "                           param_grid, # 字典或字典列表(需要优化超参数的取值)\n",
    "                           cv=5, # 使用几折交叉验证\n",
    "                           n_jobs=-1,  # 进行训练的CPU核心个数,默认n_jobs=1(n_jobs=-1:使用所有CPU核心进行训练)\n",
    "                           scoring=None)  # 默认为None,使用训练器的score方法(可使用make_score设定其他score function or loss function)\n",
    "        grid_search.fit(X_train, y_train) # 一般针对的是训练数据集\n",
    "        print(grid_search.best_estimator_) # 返回最优的训练器\n",
    "        print(grid_search.best_score_) # 输出最优训练器的score \n",
    "        print(grid_search.best_params_, end='\\n\\n') ## 返回最优化的超参数组合"
   ],
   "metadata": {
    "collapsed": false,
    "pycharm": {
     "name": "#%%\n",
     "is_executing": false
    }
   }
  },
  {
   "cell_type": "code",
   "execution_count": 5,
   "outputs": [],
   "source": [
    "\n"
   ],
   "metadata": {
    "collapsed": false,
    "pycharm": {
     "name": "#%%\n",
     "is_executing": false
    }
   }
  }
 ],
 "metadata": {
  "kernelspec": {
   "display_name": "Python 3",
   "language": "python",
   "name": "python3"
  },
  "language_info": {
   "codemirror_mode": {
    "name": "ipython",
    "version": 2
   },
   "file_extension": ".py",
   "mimetype": "text/x-python",
   "name": "python",
   "nbconvert_exporter": "python",
   "pygments_lexer": "ipython2",
   "version": "2.7.6"
  },
  "pycharm": {
   "stem_cell": {
    "cell_type": "raw",
    "source": [],
    "metadata": {
     "collapsed": false
    }
   }
  }
 },
 "nbformat": 4,
 "nbformat_minor": 0
}