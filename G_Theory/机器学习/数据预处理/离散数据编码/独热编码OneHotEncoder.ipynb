{
 "cells": [
  {
   "cell_type": "code",
   "execution_count": 31,
   "metadata": {
    "collapsed": true
   },
   "outputs": [
    {
     "data": {
      "text/plain": "array([['male', 'from US', 'uses Safari'],\n       ['female', 'from Europe', 'uses Firefox']], dtype='<U12')"
     },
     "execution_count": 31,
     "metadata": {},
     "output_type": "execute_result"
    }
   ],
   "source": [
    "from sklearn import preprocessing\n",
    "import numpy as np\n",
    "\n",
    "enc = preprocessing.OneHotEncoder()\n",
    "X = np.array([['male', 'from US', 'uses Safari'], ['female', 'from Europe', 'uses Firefox']])\n",
    "X"
   ]
  },
  {
   "cell_type": "code",
   "execution_count": 32,
   "outputs": [
    {
     "data": {
      "text/plain": "OneHotEncoder(categories='auto', drop=None, dtype=<class 'numpy.float64'>,\n              handle_unknown='error', sparse=True)"
     },
     "execution_count": 32,
     "metadata": {},
     "output_type": "execute_result"
    }
   ],
   "source": [
    "'''\n",
    "X : array-like, shape [n_samples, n_features]\n",
    "            The data to determine the categories of each feature.\n",
    "'''\n",
    "enc.fit(X)"
   ],
   "metadata": {
    "collapsed": false,
    "pycharm": {
     "name": "#%%\n"
    }
   }
  },
  {
   "cell_type": "code",
   "execution_count": 33,
   "outputs": [
    {
     "data": {
      "text/plain": "array([[1., 0., 0., 1., 0., 1.],\n       [0., 1., 1., 0., 0., 1.]])"
     },
     "execution_count": 33,
     "metadata": {},
     "output_type": "execute_result"
    }
   ],
   "source": [
    "enc.transform([['female', 'from US', 'uses Safari'],\n",
    "               ['male', 'from Europe', 'uses Safari']]).toarray()"
   ],
   "metadata": {
    "collapsed": false,
    "pycharm": {
     "name": "#%%\n"
    }
   }
  },
  {
   "cell_type": "code",
   "execution_count": 34,
   "outputs": [
    {
     "data": {
      "text/plain": "[array(['female', 'male'], dtype='<U12'),\n array(['from Europe', 'from US'], dtype='<U12'),\n array(['uses Firefox', 'uses Safari'], dtype='<U12')]"
     },
     "execution_count": 34,
     "metadata": {},
     "output_type": "execute_result"
    }
   ],
   "source": [
    "enc.categories_ # 默认情况下,从数据集中自动推断出来\n",
    "# 解析\n",
    "# female的编码是1, 0\n",
    "# male的编码是0, 1\n",
    "# from Europe的编码是1, 0\n",
    "# from US的编码是0, 1\n",
    "# users Firefox的编码是1, 0\n",
    "# users Safari的编码是0, 1"
   ],
   "metadata": {
    "collapsed": false,
    "pycharm": {
     "name": "#%%\n"
    }
   }
  },
  {
   "cell_type": "code",
   "execution_count": 35,
   "outputs": [],
   "source": [
    "genders = ['female', 'male']\n",
    "locations = ['from Africa', 'from Asia', 'from Europe', 'from US']\n",
    "browsers = ['uses Chrome', 'uses Firefox', 'uses IE', 'uses Safari']\n",
    "enc1 = preprocessing.OneHotEncoder(categories=[genders, locations, browsers]) # 使用参数明确指定categories"
   ],
   "metadata": {
    "collapsed": false,
    "pycharm": {
     "name": "#%%\n"
    }
   }
  },
  {
   "cell_type": "code",
   "execution_count": 36,
   "outputs": [
    {
     "data": {
      "text/plain": "OneHotEncoder(categories=[['female', 'male'],\n                          ['from Africa', 'from Asia', 'from Europe',\n                           'from US'],\n                          ['uses Chrome', 'uses Firefox', 'uses IE',\n                           'uses Safari']],\n              drop=None, dtype=<class 'numpy.float64'>, handle_unknown='error',\n              sparse=True)"
     },
     "execution_count": 36,
     "metadata": {},
     "output_type": "execute_result"
    }
   ],
   "source": [
    "X1 = np.array([['male', 'from US', 'uses Safari'],\n",
    "               ['female', 'from Europe', 'uses Firefox']])\n",
    "enc1.fit(X1)"
   ],
   "metadata": {
    "collapsed": false,
    "pycharm": {
     "name": "#%%\n"
    }
   }
  },
  {
   "cell_type": "code",
   "execution_count": 37,
   "outputs": [
    {
     "data": {
      "text/plain": "array([[1., 0., 0., 0., 0., 1., 0., 0., 0., 1.],\n       [0., 1., 0., 0., 1., 0., 0., 0., 0., 1.]])"
     },
     "execution_count": 37,
     "metadata": {},
     "output_type": "execute_result"
    }
   ],
   "source": [
    "enc1.transform([['female', 'from US', 'uses Safari'],\n",
    "               ['male', 'from Europe', 'uses Safari']]).toarray()"
   ],
   "metadata": {
    "collapsed": false,
    "pycharm": {
     "name": "#%%\n"
    }
   }
  },
  {
   "cell_type": "code",
   "execution_count": 38,
   "outputs": [
    {
     "data": {
      "text/plain": "[array(['female', 'male'], dtype='<U12'),\n array(['from Africa', 'from Asia', 'from Europe', 'from US'], dtype='<U12'),\n array(['uses Chrome', 'uses Firefox', 'uses IE', 'uses Safari'],\n       dtype='<U12')]"
     },
     "execution_count": 38,
     "metadata": {},
     "output_type": "execute_result"
    }
   ],
   "source": [
    "enc1.categories_\n",
    "# 解析\n",
    "# female的编码是1, 0\n",
    "# male的编码是0, 1\n",
    "# from Africal的编码是1, 0, 0, 0\n",
    "# from Asia的编码是0, 1, 0, 0\n",
    "# from Europe的编码是0, 0, 1, 0\n",
    "# from US的编码是0, 0, 0, 1\n",
    "# user Chrome的编码是1, 0, 0, 0\n",
    "# users Firefox的编码是0, 1, 0, 0\n",
    "# users IE的编码是0, 0, 1, 0\n",
    "# users Safari的编码是0, 0, 0, 1"
   ],
   "metadata": {
    "collapsed": false,
    "pycharm": {
     "name": "#%%\n"
    }
   }
  },
  {
   "cell_type": "code",
   "execution_count": 39,
   "outputs": [
    {
     "data": {
      "text/plain": "array([[1., 0., 0., 0., 0., 0.]])"
     },
     "execution_count": 39,
     "metadata": {},
     "output_type": "execute_result"
    }
   ],
   "source": [
    "enc2 = preprocessing.OneHotEncoder(handle_unknown='ignore') # 如果训练数据有可能缺少分类特征,则通常最好指定handle_unknown='ignore',否则将报错\n",
    "X2 = [['male', 'from US', 'uses Safari'], ['female', 'from Europe', 'uses Firefox']]\n",
    "enc2.fit(X)\n",
    "\n",
    "# 不含from Asia, uses Chrome,故其编码为0, 0;0, 0\n",
    "enc_output = enc2.transform([['female', 'from Asia', 'uses Chrome']]).toarray()\n",
    "enc_output"
   ],
   "metadata": {
    "collapsed": false,
    "pycharm": {
     "name": "#%%\n"
    }
   }
  },
  {
   "cell_type": "code",
   "execution_count": 40,
   "outputs": [
    {
     "data": {
      "text/plain": "[array(['female', 'male'], dtype='<U12'),\n array(['from Europe', 'from US'], dtype='<U12'),\n array(['uses Firefox', 'uses Safari'], dtype='<U12')]"
     },
     "execution_count": 40,
     "metadata": {},
     "output_type": "execute_result"
    }
   ],
   "source": [
    "enc2.categories_"
   ],
   "metadata": {
    "collapsed": false,
    "pycharm": {
     "name": "#%%\n"
    }
   }
  },
  {
   "cell_type": "code",
   "execution_count": 41,
   "outputs": [
    {
     "data": {
      "text/plain": "array([['female', None, None]], dtype=object)"
     },
     "execution_count": 41,
     "metadata": {},
     "output_type": "execute_result"
    }
   ],
   "source": [
    "enc2.inverse_transform(enc_output) # 将数据转换回原始表示形式"
   ],
   "metadata": {
    "collapsed": false,
    "pycharm": {
     "name": "#%%\n"
    }
   }
  },
  {
   "cell_type": "code",
   "execution_count": 41,
   "outputs": [],
   "source": [
    "\n"
   ],
   "metadata": {
    "collapsed": false,
    "pycharm": {
     "name": "#%%\n"
    }
   }
  }
 ],
 "metadata": {
  "kernelspec": {
   "display_name": "Python 3",
   "language": "python",
   "name": "python3"
  },
  "language_info": {
   "codemirror_mode": {
    "name": "ipython",
    "version": 2
   },
   "file_extension": ".py",
   "mimetype": "text/x-python",
   "name": "python",
   "nbconvert_exporter": "python",
   "pygments_lexer": "ipython2",
   "version": "2.7.6"
  }
 },
 "nbformat": 4,
 "nbformat_minor": 0
}