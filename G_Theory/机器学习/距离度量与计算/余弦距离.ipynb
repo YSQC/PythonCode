{
 "cells": [
  {
   "cell_type": "markdown",
   "metadata": {
    "collapsed": true,
    "pycharm": {
     "name": "#%% md\n"
    }
   },
   "source": [
    "&emsp;&emsp;样本之间的相似度也可以用夹角余弦(cosine)来表示.\n",
    "夹角余弦越接近于1,表示样本越相似;越接近于0,表示样本越不相似.       \n",
    "\n",
    "&emsp;&emsp;向量$ \\mathbf{x}$与$\\mathbf{y}$之间的余弦相似度定义为    \n",
    "$$ \\cos \\theta \\mathop  = \\limits^{{\\rm{ def }}} \\frac{{ {\\bf{x}} \\cdot {\\bf{y}} }}{||\\mathbf{x}||_2  ||\\mathbf{x}||_2}  $$      \n",
    "余弦距离为\n",
    "$$ 1 - \\theta $$"
   ]
  },
  {
   "cell_type": "code",
   "execution_count": 2,
   "outputs": [
    {
     "data": {
      "text/plain": "1.0"
     },
     "metadata": {},
     "output_type": "execute_result",
     "execution_count": 2
    }
   ],
   "source": [
    "from scipy.spatial import distance\n",
    "distance.cosine([1, 0, 0], [0, 1, 0])"
   ],
   "metadata": {
    "collapsed": false,
    "pycharm": {
     "name": "#%%\n",
     "is_executing": false
    }
   }
  },
  {
   "cell_type": "code",
   "execution_count": 3,
   "outputs": [
    {
     "data": {
      "text/plain": "0.29289321881345254"
     },
     "metadata": {},
     "output_type": "execute_result",
     "execution_count": 3
    }
   ],
   "source": [
    "\n",
    "distance.cosine([1, 1, 0], [0, 1, 0])"
   ],
   "metadata": {
    "collapsed": false,
    "pycharm": {
     "name": "#%%\n",
     "is_executing": false
    }
   }
  }
 ],
 "metadata": {
  "kernelspec": {
   "display_name": "Python 3",
   "language": "python",
   "name": "python3"
  },
  "language_info": {
   "codemirror_mode": {
    "name": "ipython",
    "version": 2
   },
   "file_extension": ".py",
   "mimetype": "text/x-python",
   "name": "python",
   "nbconvert_exporter": "python",
   "pygments_lexer": "ipython2",
   "version": "2.7.6"
  },
  "pycharm": {
   "stem_cell": {
    "cell_type": "raw",
    "source": [],
    "metadata": {
     "collapsed": false
    }
   }
  }
 },
 "nbformat": 4,
 "nbformat_minor": 0
}