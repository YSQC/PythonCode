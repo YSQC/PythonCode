{
 "cells": [
  {
   "cell_type": "markdown",
   "source": [
    "<center>Two-way Analysis of Variance (ANOVA)</center>     \n",
    "&emsp;&emsp;The model is formulated using the \"patsy\" formula description. This is very\n",
    "similar to the way models are expressed in R."
   ],
   "metadata": {
    "collapsed": false,
    "pycharm": {
     "name": "#%% md\n"
    }
   }
  },
  {
   "cell_type": "code",
   "execution_count": 3,
   "outputs": [],
   "source": [
    "import numpy as np\n",
    "import pandas as pd\n",
    "from statsmodels.formula.api import ols\n",
    "from statsmodels.stats.anova import anova_lm\n",
    "\n",
    "def anova_interaction():\n",
    "    \"\"\"ANOVA with interaction: Measurement of fetal head circumference,\n",
    "    by four observers in three fetuses, from a study investigating the\n",
    "    reproducibility of ultrasonic fetal head circumference data.\n",
    "    \"\"\"\n",
    "\n",
    "    inFile = 'altman_12_6.txt'\n",
    "    data = np.genfromtxt(inFile, delimiter=',')\n",
    "    \n",
    "    # Bring them in DataFrame-format\n",
    "    df = pd.DataFrame(data, columns=['hs', 'fetus', 'observer'])\n",
    "    \n",
    "    # Determine the ANOVA with interaction\n",
    "    formula = 'hs ~ C(fetus) + C(observer) + C(fetus):C(observer)'\n",
    "    lm = ols(formula, df).fit()\n",
    "    anovaResults = anova_lm(lm)\n",
    "    print(anovaResults, end='\\n\\n')\n",
    "    later_anovaResults = pd.DataFrame(anovaResults.values, index=['因素fetus', '因素observer', '交互效应', '误差(处理组内)'], \n",
    "                                      columns=['自由度', '离差平方和', '均方', 'F值', 'P值'])\n",
    "    \n",
    "    return  later_anovaResults"
   ],
   "metadata": {
    "collapsed": false,
    "pycharm": {
     "name": "#%%\n",
     "is_executing": false
    }
   }
  },
  {
   "cell_type": "code",
   "execution_count": 4,
   "outputs": [
    {
     "name": "stdout",
     "text": [
      "                        df      sum_sq     mean_sq            F        PR(>F)\n",
      "C(fetus)               2.0  324.008889  162.004444  2113.101449  1.051039e-27\n",
      "C(observer)            3.0    1.198611    0.399537     5.211353  6.497055e-03\n",
      "C(fetus):C(observer)   6.0    0.562222    0.093704     1.222222  3.295509e-01\n",
      "Residual              24.0    1.840000    0.076667          NaN           NaN\n",
      "\n"
     ],
     "output_type": "stream"
    },
    {
     "data": {
      "text/plain": "             自由度       离差平方和          均方           F值            P值\n因素fetus      2.0  324.008889  162.004444  2113.101449  1.051039e-27\n因素observer   3.0    1.198611    0.399537     5.211353  6.497055e-03\n交互效应         6.0    0.562222    0.093704     1.222222  3.295509e-01\n误差(处理组内)    24.0    1.840000    0.076667          NaN           NaN",
      "text/html": "<div>\n<style scoped>\n    .dataframe tbody tr th:only-of-type {\n        vertical-align: middle;\n    }\n\n    .dataframe tbody tr th {\n        vertical-align: top;\n    }\n\n    .dataframe thead th {\n        text-align: right;\n    }\n</style>\n<table border=\"1\" class=\"dataframe\">\n  <thead>\n    <tr style=\"text-align: right;\">\n      <th></th>\n      <th>自由度</th>\n      <th>离差平方和</th>\n      <th>均方</th>\n      <th>F值</th>\n      <th>P值</th>\n    </tr>\n  </thead>\n  <tbody>\n    <tr>\n      <th>因素fetus</th>\n      <td>2.0</td>\n      <td>324.008889</td>\n      <td>162.004444</td>\n      <td>2113.101449</td>\n      <td>1.051039e-27</td>\n    </tr>\n    <tr>\n      <th>因素observer</th>\n      <td>3.0</td>\n      <td>1.198611</td>\n      <td>0.399537</td>\n      <td>5.211353</td>\n      <td>6.497055e-03</td>\n    </tr>\n    <tr>\n      <th>交互效应</th>\n      <td>6.0</td>\n      <td>0.562222</td>\n      <td>0.093704</td>\n      <td>1.222222</td>\n      <td>3.295509e-01</td>\n    </tr>\n    <tr>\n      <th>误差(处理组内)</th>\n      <td>24.0</td>\n      <td>1.840000</td>\n      <td>0.076667</td>\n      <td>NaN</td>\n      <td>NaN</td>\n    </tr>\n  </tbody>\n</table>\n</div>"
     },
     "metadata": {},
     "output_type": "execute_result",
     "execution_count": 4
    }
   ],
   "source": [
    "anova_interaction()"
   ],
   "metadata": {
    "pycharm": {
     "metadata": false,
     "name": "#%%\n",
     "is_executing": false
    }
   }
  }
 ],
 "metadata": {
  "language_info": {
   "codemirror_mode": {
    "name": "ipython",
    "version": 2
   },
   "file_extension": ".py",
   "mimetype": "text/x-python",
   "name": "python",
   "nbconvert_exporter": "python",
   "pygments_lexer": "ipython2",
   "version": "2.7.6"
  },
  "kernelspec": {
   "name": "python3",
   "language": "python",
   "display_name": "Python 3"
  },
  "pycharm": {
   "stem_cell": {
    "cell_type": "raw",
    "source": [],
    "metadata": {
     "collapsed": false
    }
   }
  }
 },
 "nbformat": 4,
 "nbformat_minor": 0
}